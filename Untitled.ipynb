{
 "cells": [
  {
   "cell_type": "code",
   "execution_count": 3,
   "id": "6840a246",
   "metadata": {},
   "outputs": [],
   "source": [
    "import seaborn as sns\n",
    "import pandas as pd\n",
    "import numpy as np\n",
    "import matplotlib.pyplot as plt\n",
    "import glob\n",
    "import os\n",
    "import plotly.express as px\n",
    "from scipy import stats\n",
    "import datetime\n"
   ]
  },
  {
   "cell_type": "code",
   "execution_count": 7,
   "id": "fedd06fc",
   "metadata": {},
   "outputs": [],
   "source": [
    "df = pd.read_csv(\"https://github.com/5htplife/firstproject/raw/master/Food_Supply_kcal_Data.csv\")"
   ]
  },
  {
   "cell_type": "code",
   "execution_count": 8,
   "id": "dcb5c34b",
   "metadata": {},
   "outputs": [
    {
     "data": {
      "text/plain": [
       "Country                         170\n",
       "Alcoholic Beverages             170\n",
       "Animal Products                 170\n",
       "Animal fats                     170\n",
       "Aquatic Products, Other         170\n",
       "Cereals - Excluding Beer        170\n",
       "Eggs                            170\n",
       "Fish, Seafood                   170\n",
       "Fruits - Excluding Wine         170\n",
       "Meat                            170\n",
       "Milk - Excluding Butter         170\n",
       "Miscellaneous                   170\n",
       "Offals                          170\n",
       "Oilcrops                        170\n",
       "Pulses                          170\n",
       "Spices                          170\n",
       "Starchy Roots                   170\n",
       "Stimulants                      170\n",
       "Sugar Crops                     170\n",
       "Sugar & Sweeteners              170\n",
       "Treenuts                        170\n",
       "Vegetal Products                170\n",
       "Vegetable Oils                  170\n",
       "Vegetables                      170\n",
       "Obesity                         167\n",
       "Undernourished                  163\n",
       "Confirmed                       164\n",
       "Deaths                          164\n",
       "Recovered                       164\n",
       "Active                          162\n",
       "Population                      170\n",
       "Unit (all except Population)    170\n",
       "dtype: int64"
      ]
     },
     "execution_count": 8,
     "metadata": {},
     "output_type": "execute_result"
    }
   ],
   "source": [
    "df.count()"
   ]
  },
  {
   "cell_type": "code",
   "execution_count": 13,
   "id": "e356011a",
   "metadata": {},
   "outputs": [],
   "source": [
    "df['Confirmed'] = df['Confirmed'].astype(float)"
   ]
  },
  {
   "cell_type": "code",
   "execution_count": 21,
   "id": "6f7a6dd3",
   "metadata": {},
   "outputs": [],
   "source": [
    "confirmed = df[['Country', 'Confirmed']]"
   ]
  },
  {
   "cell_type": "code",
   "execution_count": 25,
   "id": "dfb369d7",
   "metadata": {},
   "outputs": [
    {
     "data": {
      "text/html": [
       "<div>\n",
       "<style scoped>\n",
       "    .dataframe tbody tr th:only-of-type {\n",
       "        vertical-align: middle;\n",
       "    }\n",
       "\n",
       "    .dataframe tbody tr th {\n",
       "        vertical-align: top;\n",
       "    }\n",
       "\n",
       "    .dataframe thead th {\n",
       "        text-align: right;\n",
       "    }\n",
       "</style>\n",
       "<table border=\"1\" class=\"dataframe\">\n",
       "  <thead>\n",
       "    <tr style=\"text-align: right;\">\n",
       "      <th></th>\n",
       "      <th>Country</th>\n",
       "      <th>Confirmed</th>\n",
       "    </tr>\n",
       "  </thead>\n",
       "  <tbody>\n",
       "    <tr>\n",
       "      <th>102</th>\n",
       "      <td>Montenegro</td>\n",
       "      <td>10.408199</td>\n",
       "    </tr>\n",
       "    <tr>\n",
       "      <th>38</th>\n",
       "      <td>Czechia</td>\n",
       "      <td>9.612841</td>\n",
       "    </tr>\n",
       "    <tr>\n",
       "      <th>138</th>\n",
       "      <td>Slovenia</td>\n",
       "      <td>8.235901</td>\n",
       "    </tr>\n",
       "    <tr>\n",
       "      <th>161</th>\n",
       "      <td>United States of America</td>\n",
       "      <td>8.159922</td>\n",
       "    </tr>\n",
       "    <tr>\n",
       "      <th>91</th>\n",
       "      <td>Luxembourg</td>\n",
       "      <td>8.150633</td>\n",
       "    </tr>\n",
       "    <tr>\n",
       "      <th>118</th>\n",
       "      <td>Panama</td>\n",
       "      <td>7.622321</td>\n",
       "    </tr>\n",
       "    <tr>\n",
       "      <th>73</th>\n",
       "      <td>Israel</td>\n",
       "      <td>7.439052</td>\n",
       "    </tr>\n",
       "    <tr>\n",
       "      <th>123</th>\n",
       "      <td>Portugal</td>\n",
       "      <td>7.429605</td>\n",
       "    </tr>\n",
       "    <tr>\n",
       "      <th>55</th>\n",
       "      <td>Georgia</td>\n",
       "      <td>7.042261</td>\n",
       "    </tr>\n",
       "    <tr>\n",
       "      <th>90</th>\n",
       "      <td>Lithuania</td>\n",
       "      <td>6.667072</td>\n",
       "    </tr>\n",
       "  </tbody>\n",
       "</table>\n",
       "</div>"
      ],
      "text/plain": [
       "                      Country  Confirmed\n",
       "102                Montenegro  10.408199\n",
       "38                    Czechia   9.612841\n",
       "138                  Slovenia   8.235901\n",
       "161  United States of America   8.159922\n",
       "91                 Luxembourg   8.150633\n",
       "118                    Panama   7.622321\n",
       "73                     Israel   7.439052\n",
       "123                  Portugal   7.429605\n",
       "55                    Georgia   7.042261\n",
       "90                  Lithuania   6.667072"
      ]
     },
     "execution_count": 25,
     "metadata": {},
     "output_type": "execute_result"
    }
   ],
   "source": [
    "confirmed.sort_values(by = 'Confirmed', ascending = False)[:10]"
   ]
  },
  {
   "cell_type": "code",
   "execution_count": 33,
   "id": "d28e7b1b",
   "metadata": {},
   "outputs": [
    {
     "data": {
      "text/html": [
       "<div>\n",
       "<style scoped>\n",
       "    .dataframe tbody tr th:only-of-type {\n",
       "        vertical-align: middle;\n",
       "    }\n",
       "\n",
       "    .dataframe tbody tr th {\n",
       "        vertical-align: top;\n",
       "    }\n",
       "\n",
       "    .dataframe thead th {\n",
       "        text-align: right;\n",
       "    }\n",
       "</style>\n",
       "<table border=\"1\" class=\"dataframe\">\n",
       "  <thead>\n",
       "    <tr style=\"text-align: right;\">\n",
       "      <th></th>\n",
       "      <th>&lt;!DOCTYPE html&gt;</th>\n",
       "    </tr>\n",
       "  </thead>\n",
       "  <tbody>\n",
       "    <tr>\n",
       "      <th>0</th>\n",
       "      <td>&lt;html lang=\"en\" data-color-mode=\"auto\" data-li...</td>\n",
       "    </tr>\n",
       "    <tr>\n",
       "      <th>1</th>\n",
       "      <td>&lt;head&gt;</td>\n",
       "    </tr>\n",
       "    <tr>\n",
       "      <th>2</th>\n",
       "      <td>&lt;meta charset=\"utf-8\"&gt;</td>\n",
       "    </tr>\n",
       "    <tr>\n",
       "      <th>3</th>\n",
       "      <td>&lt;link rel=\"dns-prefetch\" href=\"https://githu...</td>\n",
       "    </tr>\n",
       "    <tr>\n",
       "      <th>4</th>\n",
       "      <td>&lt;link rel=\"dns-prefetch\" href=\"https://avata...</td>\n",
       "    </tr>\n",
       "    <tr>\n",
       "      <th>...</th>\n",
       "      <td>...</td>\n",
       "    </tr>\n",
       "    <tr>\n",
       "      <th>2768</th>\n",
       "      <td>&lt;/template&gt;</td>\n",
       "    </tr>\n",
       "    <tr>\n",
       "      <th>2769</th>\n",
       "      <td>&lt;/div&gt;</td>\n",
       "    </tr>\n",
       "    <tr>\n",
       "      <th>2770</th>\n",
       "      <td>&lt;div id=\"js-global-screen-reader-notice\" c...</td>\n",
       "    </tr>\n",
       "    <tr>\n",
       "      <th>2771</th>\n",
       "      <td>&lt;/body&gt;</td>\n",
       "    </tr>\n",
       "    <tr>\n",
       "      <th>2772</th>\n",
       "      <td>&lt;/html&gt;</td>\n",
       "    </tr>\n",
       "  </tbody>\n",
       "</table>\n",
       "<p>2773 rows × 1 columns</p>\n",
       "</div>"
      ],
      "text/plain": [
       "                                        <!DOCTYPE html>\n",
       "0     <html lang=\"en\" data-color-mode=\"auto\" data-li...\n",
       "1                                                <head>\n",
       "2                                <meta charset=\"utf-8\">\n",
       "3       <link rel=\"dns-prefetch\" href=\"https://githu...\n",
       "4       <link rel=\"dns-prefetch\" href=\"https://avata...\n",
       "...                                                 ...\n",
       "2768                                        </template>\n",
       "2769                                             </div>\n",
       "2770      <div id=\"js-global-screen-reader-notice\" c...\n",
       "2771                                            </body>\n",
       "2772                                            </html>\n",
       "\n",
       "[2773 rows x 1 columns]"
      ]
     },
     "execution_count": 33,
     "metadata": {},
     "output_type": "execute_result"
    }
   ],
   "source": [
    "mortality_data"
   ]
  }
 ],
 "metadata": {
  "kernelspec": {
   "display_name": "Python 3 (ipykernel)",
   "language": "python",
   "name": "python3"
  },
  "language_info": {
   "codemirror_mode": {
    "name": "ipython",
    "version": 3
   },
   "file_extension": ".py",
   "mimetype": "text/x-python",
   "name": "python",
   "nbconvert_exporter": "python",
   "pygments_lexer": "ipython3",
   "version": "3.9.7"
  }
 },
 "nbformat": 4,
 "nbformat_minor": 5
}
