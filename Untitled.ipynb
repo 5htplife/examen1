{
 "cells": [
  {
   "cell_type": "code",
   "execution_count": 3,
   "id": "cfb7f5ef",
   "metadata": {},
   "outputs": [],
   "source": [
    "import seaborn as sns\n",
    "import pandas as pd\n",
    "import numpy as np\n",
    "import matplotlib.pyplot as plt\n",
    "import glob\n",
    "import os\n",
    "import plotly.express as px\n",
    "from scipy import stats\n",
    "import datetime\n"
   ]
  },
  {
   "cell_type": "code",
   "execution_count": 4,
   "id": "257ff6c7",
   "metadata": {},
   "outputs": [],
   "source": [
    "kcal = pd.read_csv(\"https://github.com/5htplife/firstproject/raw/master/Food_Supply_kcal_Data.csv\")"
   ]
  },
  {
   "cell_type": "code",
   "execution_count": 6,
   "id": "e0ce6d64",
   "metadata": {},
   "outputs": [
    {
     "data": {
      "text/plain": [
       "Country                         170\n",
       "Alcoholic Beverages             170\n",
       "Animal Products                 170\n",
       "Animal fats                     170\n",
       "Aquatic Products, Other         170\n",
       "Cereals - Excluding Beer        170\n",
       "Eggs                            170\n",
       "Fish, Seafood                   170\n",
       "Fruits - Excluding Wine         170\n",
       "Meat                            170\n",
       "Milk - Excluding Butter         170\n",
       "Miscellaneous                   170\n",
       "Offals                          170\n",
       "Oilcrops                        170\n",
       "Pulses                          170\n",
       "Spices                          170\n",
       "Starchy Roots                   170\n",
       "Stimulants                      170\n",
       "Sugar Crops                     170\n",
       "Sugar & Sweeteners              170\n",
       "Treenuts                        170\n",
       "Vegetal Products                170\n",
       "Vegetable Oils                  170\n",
       "Vegetables                      170\n",
       "Obesity                         167\n",
       "Undernourished                  163\n",
       "Confirmed                       164\n",
       "Deaths                          164\n",
       "Recovered                       164\n",
       "Active                          162\n",
       "Population                      170\n",
       "Unit (all except Population)    170\n",
       "dtype: int64"
      ]
     },
     "execution_count": 6,
     "metadata": {},
     "output_type": "execute_result"
    }
   ],
   "source": [
    "kcal.count()"
   ]
  }
 ],
 "metadata": {
  "kernelspec": {
   "display_name": "Python 3 (ipykernel)",
   "language": "python",
   "name": "python3"
  },
  "language_info": {
   "codemirror_mode": {
    "name": "ipython",
    "version": 3
   },
   "file_extension": ".py",
   "mimetype": "text/x-python",
   "name": "python",
   "nbconvert_exporter": "python",
   "pygments_lexer": "ipython3",
   "version": "3.9.7"
  }
 },
 "nbformat": 4,
 "nbformat_minor": 5
}
