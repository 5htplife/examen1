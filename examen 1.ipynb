{
 "cells": [
  {
   "cell_type": "code",
   "execution_count": 38,
   "id": "c3745a94",
   "metadata": {},
   "outputs": [],
   "source": [
    "import pandas as pd\n",
    "import plotly.express as px\n"
   ]
  },
  {
   "cell_type": "code",
   "execution_count": 82,
   "id": "a590bd78",
   "metadata": {},
   "outputs": [],
   "source": [
    "nutrition = pd.read_csv(\"/Users/irina/Downloads/nutrition_by_country.csv\")\n",
    "excess_mortality = pd.read_csv(\"https://github.com/dkobak/excess-mortality/raw/main/excess-mortality.csv\")\n",
    "mortality = pd.read_csv(\"https://github.com/akarlinsky/world_mortality/raw/main/world_mortality.csv\")"
   ]
  },
  {
   "cell_type": "code",
   "execution_count": 89,
   "id": "22f903e0",
   "metadata": {},
   "outputs": [],
   "source": [
    "mortality_iso = mortality[['iso3c', 'country_name']].drop_duplicates()"
   ]
  },
  {
   "cell_type": "code",
   "execution_count": 90,
   "id": "c2c7dcb0",
   "metadata": {},
   "outputs": [
    {
     "data": {
      "text/html": [
       "<div>\n",
       "<style scoped>\n",
       "    .dataframe tbody tr th:only-of-type {\n",
       "        vertical-align: middle;\n",
       "    }\n",
       "\n",
       "    .dataframe tbody tr th {\n",
       "        vertical-align: top;\n",
       "    }\n",
       "\n",
       "    .dataframe thead th {\n",
       "        text-align: right;\n",
       "    }\n",
       "</style>\n",
       "<table border=\"1\" class=\"dataframe\">\n",
       "  <thead>\n",
       "    <tr style=\"text-align: right;\">\n",
       "      <th></th>\n",
       "      <th>iso3c</th>\n",
       "      <th>country_name</th>\n",
       "    </tr>\n",
       "  </thead>\n",
       "  <tbody>\n",
       "    <tr>\n",
       "      <th>0</th>\n",
       "      <td>ALB</td>\n",
       "      <td>Albania</td>\n",
       "    </tr>\n",
       "    <tr>\n",
       "      <th>93</th>\n",
       "      <td>DZA</td>\n",
       "      <td>Algeria</td>\n",
       "    </tr>\n",
       "    <tr>\n",
       "      <th>129</th>\n",
       "      <td>AND</td>\n",
       "      <td>Andorra</td>\n",
       "    </tr>\n",
       "    <tr>\n",
       "      <th>213</th>\n",
       "      <td>ATG</td>\n",
       "      <td>Antigua and Barbuda</td>\n",
       "    </tr>\n",
       "    <tr>\n",
       "      <th>297</th>\n",
       "      <td>ARG</td>\n",
       "      <td>Argentina</td>\n",
       "    </tr>\n",
       "    <tr>\n",
       "      <th>...</th>\n",
       "      <td>...</td>\n",
       "      <td>...</td>\n",
       "    </tr>\n",
       "    <tr>\n",
       "      <th>26133</th>\n",
       "      <td>UKR</td>\n",
       "      <td>Ukraine</td>\n",
       "    </tr>\n",
       "    <tr>\n",
       "      <th>26218</th>\n",
       "      <td>GBR</td>\n",
       "      <td>United Kingdom</td>\n",
       "    </tr>\n",
       "    <tr>\n",
       "      <th>26639</th>\n",
       "      <td>USA</td>\n",
       "      <td>United States</td>\n",
       "    </tr>\n",
       "    <tr>\n",
       "      <th>27057</th>\n",
       "      <td>URY</td>\n",
       "      <td>Uruguay</td>\n",
       "    </tr>\n",
       "    <tr>\n",
       "      <th>27152</th>\n",
       "      <td>UZB</td>\n",
       "      <td>Uzbekistan</td>\n",
       "    </tr>\n",
       "  </tbody>\n",
       "</table>\n",
       "<p>122 rows × 2 columns</p>\n",
       "</div>"
      ],
      "text/plain": [
       "      iso3c         country_name\n",
       "0       ALB              Albania\n",
       "93      DZA              Algeria\n",
       "129     AND              Andorra\n",
       "213     ATG  Antigua and Barbuda\n",
       "297     ARG            Argentina\n",
       "...     ...                  ...\n",
       "26133   UKR              Ukraine\n",
       "26218   GBR       United Kingdom\n",
       "26639   USA        United States\n",
       "27057   URY              Uruguay\n",
       "27152   UZB           Uzbekistan\n",
       "\n",
       "[122 rows x 2 columns]"
      ]
     },
     "execution_count": 90,
     "metadata": {},
     "output_type": "execute_result"
    }
   ],
   "source": [
    "mortality_iso"
   ]
  },
  {
   "cell_type": "code",
   "execution_count": 91,
   "id": "aa3a7d79",
   "metadata": {},
   "outputs": [],
   "source": [
    "excess_mortality = excess_mortality.merge(mortality_iso, left_on = 'Country'\n",
    "                                          , right_on = 'country_name', how = 'inner').drop(columns = ['country_name'])"
   ]
  },
  {
   "cell_type": "code",
   "execution_count": 92,
   "id": "c342dd60",
   "metadata": {},
   "outputs": [],
   "source": [
    "excess_mortality = excess_mortality.to_csv(\"/Users/irina/Downloads/excess_mortality.csv\")"
   ]
  },
  {
   "cell_type": "code",
   "execution_count": 65,
   "id": "ebb108b2",
   "metadata": {},
   "outputs": [
    {
     "data": {
      "text/html": [
       "<div>\n",
       "<style scoped>\n",
       "    .dataframe tbody tr th:only-of-type {\n",
       "        vertical-align: middle;\n",
       "    }\n",
       "\n",
       "    .dataframe tbody tr th {\n",
       "        vertical-align: top;\n",
       "    }\n",
       "\n",
       "    .dataframe thead th {\n",
       "        text-align: right;\n",
       "    }\n",
       "</style>\n",
       "<table border=\"1\" class=\"dataframe\">\n",
       "  <thead>\n",
       "    <tr style=\"text-align: right;\">\n",
       "      <th></th>\n",
       "      <th>Unnamed: 0</th>\n",
       "      <th>iso3</th>\n",
       "      <th>age</th>\n",
       "      <th>female</th>\n",
       "      <th>urban</th>\n",
       "      <th>edu</th>\n",
       "      <th>year</th>\n",
       "      <th>Vitamin B9</th>\n",
       "      <th>Vitamin B3</th>\n",
       "      <th>Vitamin B2</th>\n",
       "      <th>...</th>\n",
       "      <th>Total seafoods</th>\n",
       "      <th>Unprocessed red meats</th>\n",
       "      <th>Total processed meats</th>\n",
       "      <th>Whole grains</th>\n",
       "      <th>Refined grains</th>\n",
       "      <th>nuts and seeds</th>\n",
       "      <th>beans and legumes</th>\n",
       "      <th>potatoes</th>\n",
       "      <th>non-starchy vegetables</th>\n",
       "      <th>fruits</th>\n",
       "    </tr>\n",
       "  </thead>\n",
       "  <tbody>\n",
       "    <tr>\n",
       "      <th>0</th>\n",
       "      <td>0</td>\n",
       "      <td>AFG</td>\n",
       "      <td>0.5</td>\n",
       "      <td>0</td>\n",
       "      <td>0</td>\n",
       "      <td>999</td>\n",
       "      <td>2018</td>\n",
       "      <td>0.346067</td>\n",
       "      <td>3.445685</td>\n",
       "      <td>0.549927</td>\n",
       "      <td>...</td>\n",
       "      <td>0.139178</td>\n",
       "      <td>0.320151</td>\n",
       "      <td>0.530435</td>\n",
       "      <td>10.333232</td>\n",
       "      <td>9.731562</td>\n",
       "      <td>6.356661</td>\n",
       "      <td>1.780938</td>\n",
       "      <td>4.030040</td>\n",
       "      <td>3.522067</td>\n",
       "      <td>9.376535</td>\n",
       "    </tr>\n",
       "    <tr>\n",
       "      <th>1</th>\n",
       "      <td>1</td>\n",
       "      <td>AFG</td>\n",
       "      <td>0.5</td>\n",
       "      <td>0</td>\n",
       "      <td>1</td>\n",
       "      <td>999</td>\n",
       "      <td>2018</td>\n",
       "      <td>0.294704</td>\n",
       "      <td>3.596722</td>\n",
       "      <td>0.453794</td>\n",
       "      <td>...</td>\n",
       "      <td>0.166116</td>\n",
       "      <td>0.599887</td>\n",
       "      <td>0.117621</td>\n",
       "      <td>18.783915</td>\n",
       "      <td>8.087612</td>\n",
       "      <td>12.066657</td>\n",
       "      <td>1.713538</td>\n",
       "      <td>4.034281</td>\n",
       "      <td>3.627586</td>\n",
       "      <td>12.762000</td>\n",
       "    </tr>\n",
       "    <tr>\n",
       "      <th>2</th>\n",
       "      <td>2</td>\n",
       "      <td>AFG</td>\n",
       "      <td>0.5</td>\n",
       "      <td>0</td>\n",
       "      <td>999</td>\n",
       "      <td>1</td>\n",
       "      <td>2018</td>\n",
       "      <td>0.334538</td>\n",
       "      <td>3.514851</td>\n",
       "      <td>0.523080</td>\n",
       "      <td>...</td>\n",
       "      <td>0.143506</td>\n",
       "      <td>0.377286</td>\n",
       "      <td>0.396485</td>\n",
       "      <td>13.231392</td>\n",
       "      <td>9.417365</td>\n",
       "      <td>8.106881</td>\n",
       "      <td>1.743985</td>\n",
       "      <td>4.252232</td>\n",
       "      <td>3.502545</td>\n",
       "      <td>9.403650</td>\n",
       "    </tr>\n",
       "    <tr>\n",
       "      <th>3</th>\n",
       "      <td>3</td>\n",
       "      <td>AFG</td>\n",
       "      <td>0.5</td>\n",
       "      <td>0</td>\n",
       "      <td>999</td>\n",
       "      <td>2</td>\n",
       "      <td>2018</td>\n",
       "      <td>0.335269</td>\n",
       "      <td>3.548202</td>\n",
       "      <td>0.550811</td>\n",
       "      <td>...</td>\n",
       "      <td>0.166116</td>\n",
       "      <td>0.493726</td>\n",
       "      <td>0.433566</td>\n",
       "      <td>14.410217</td>\n",
       "      <td>9.560537</td>\n",
       "      <td>8.318829</td>\n",
       "      <td>2.075015</td>\n",
       "      <td>4.240467</td>\n",
       "      <td>3.693273</td>\n",
       "      <td>13.724250</td>\n",
       "    </tr>\n",
       "    <tr>\n",
       "      <th>4</th>\n",
       "      <td>4</td>\n",
       "      <td>AFG</td>\n",
       "      <td>0.5</td>\n",
       "      <td>0</td>\n",
       "      <td>999</td>\n",
       "      <td>3</td>\n",
       "      <td>2018</td>\n",
       "      <td>0.344416</td>\n",
       "      <td>3.632586</td>\n",
       "      <td>0.575763</td>\n",
       "      <td>...</td>\n",
       "      <td>0.197132</td>\n",
       "      <td>0.623138</td>\n",
       "      <td>0.466840</td>\n",
       "      <td>16.681744</td>\n",
       "      <td>10.912758</td>\n",
       "      <td>11.201346</td>\n",
       "      <td>2.602448</td>\n",
       "      <td>3.779100</td>\n",
       "      <td>4.134073</td>\n",
       "      <td>17.987204</td>\n",
       "    </tr>\n",
       "    <tr>\n",
       "      <th>...</th>\n",
       "      <td>...</td>\n",
       "      <td>...</td>\n",
       "      <td>...</td>\n",
       "      <td>...</td>\n",
       "      <td>...</td>\n",
       "      <td>...</td>\n",
       "      <td>...</td>\n",
       "      <td>...</td>\n",
       "      <td>...</td>\n",
       "      <td>...</td>\n",
       "      <td>...</td>\n",
       "      <td>...</td>\n",
       "      <td>...</td>\n",
       "      <td>...</td>\n",
       "      <td>...</td>\n",
       "      <td>...</td>\n",
       "      <td>...</td>\n",
       "      <td>...</td>\n",
       "      <td>...</td>\n",
       "      <td>...</td>\n",
       "      <td>...</td>\n",
       "    </tr>\n",
       "    <tr>\n",
       "      <th>104335</th>\n",
       "      <td>104335</td>\n",
       "      <td>ZWE</td>\n",
       "      <td>999.0</td>\n",
       "      <td>999</td>\n",
       "      <td>1</td>\n",
       "      <td>999</td>\n",
       "      <td>2018</td>\n",
       "      <td>1.499906</td>\n",
       "      <td>16.305069</td>\n",
       "      <td>1.089616</td>\n",
       "      <td>...</td>\n",
       "      <td>19.749633</td>\n",
       "      <td>36.959873</td>\n",
       "      <td>9.146881</td>\n",
       "      <td>162.373723</td>\n",
       "      <td>206.708640</td>\n",
       "      <td>4.410048</td>\n",
       "      <td>19.649825</td>\n",
       "      <td>57.401845</td>\n",
       "      <td>138.124881</td>\n",
       "      <td>96.531649</td>\n",
       "    </tr>\n",
       "    <tr>\n",
       "      <th>104336</th>\n",
       "      <td>104336</td>\n",
       "      <td>ZWE</td>\n",
       "      <td>999.0</td>\n",
       "      <td>999</td>\n",
       "      <td>999</td>\n",
       "      <td>1</td>\n",
       "      <td>2018</td>\n",
       "      <td>1.507762</td>\n",
       "      <td>15.493286</td>\n",
       "      <td>1.098965</td>\n",
       "      <td>...</td>\n",
       "      <td>15.381270</td>\n",
       "      <td>19.767491</td>\n",
       "      <td>7.303607</td>\n",
       "      <td>136.297877</td>\n",
       "      <td>177.309661</td>\n",
       "      <td>2.340607</td>\n",
       "      <td>16.023400</td>\n",
       "      <td>43.457593</td>\n",
       "      <td>129.133868</td>\n",
       "      <td>64.691141</td>\n",
       "    </tr>\n",
       "    <tr>\n",
       "      <th>104337</th>\n",
       "      <td>104337</td>\n",
       "      <td>ZWE</td>\n",
       "      <td>999.0</td>\n",
       "      <td>999</td>\n",
       "      <td>999</td>\n",
       "      <td>2</td>\n",
       "      <td>2018</td>\n",
       "      <td>1.494387</td>\n",
       "      <td>15.928116</td>\n",
       "      <td>0.923139</td>\n",
       "      <td>...</td>\n",
       "      <td>18.515171</td>\n",
       "      <td>28.482387</td>\n",
       "      <td>8.425752</td>\n",
       "      <td>157.207623</td>\n",
       "      <td>191.710470</td>\n",
       "      <td>3.007603</td>\n",
       "      <td>18.813260</td>\n",
       "      <td>45.981225</td>\n",
       "      <td>139.050109</td>\n",
       "      <td>84.075382</td>\n",
       "    </tr>\n",
       "    <tr>\n",
       "      <th>104338</th>\n",
       "      <td>104338</td>\n",
       "      <td>ZWE</td>\n",
       "      <td>999.0</td>\n",
       "      <td>999</td>\n",
       "      <td>999</td>\n",
       "      <td>3</td>\n",
       "      <td>2018</td>\n",
       "      <td>1.520831</td>\n",
       "      <td>16.193286</td>\n",
       "      <td>0.962904</td>\n",
       "      <td>...</td>\n",
       "      <td>24.092781</td>\n",
       "      <td>43.194637</td>\n",
       "      <td>8.374759</td>\n",
       "      <td>174.955413</td>\n",
       "      <td>230.877819</td>\n",
       "      <td>4.615301</td>\n",
       "      <td>24.092966</td>\n",
       "      <td>45.810081</td>\n",
       "      <td>165.455230</td>\n",
       "      <td>114.820538</td>\n",
       "    </tr>\n",
       "    <tr>\n",
       "      <th>104339</th>\n",
       "      <td>104339</td>\n",
       "      <td>ZWE</td>\n",
       "      <td>999.0</td>\n",
       "      <td>999</td>\n",
       "      <td>999</td>\n",
       "      <td>999</td>\n",
       "      <td>2018</td>\n",
       "      <td>1.510986</td>\n",
       "      <td>15.817289</td>\n",
       "      <td>1.008239</td>\n",
       "      <td>...</td>\n",
       "      <td>18.550156</td>\n",
       "      <td>28.400740</td>\n",
       "      <td>8.067674</td>\n",
       "      <td>152.403583</td>\n",
       "      <td>195.097715</td>\n",
       "      <td>3.126727</td>\n",
       "      <td>18.917248</td>\n",
       "      <td>44.911503</td>\n",
       "      <td>141.235245</td>\n",
       "      <td>83.372898</td>\n",
       "    </tr>\n",
       "  </tbody>\n",
       "</table>\n",
       "<p>104340 rows × 52 columns</p>\n",
       "</div>"
      ],
      "text/plain": [
       "        Unnamed: 0 iso3    age  female  urban  edu  year  Vitamin B9  \\\n",
       "0                0  AFG    0.5       0      0  999  2018    0.346067   \n",
       "1                1  AFG    0.5       0      1  999  2018    0.294704   \n",
       "2                2  AFG    0.5       0    999    1  2018    0.334538   \n",
       "3                3  AFG    0.5       0    999    2  2018    0.335269   \n",
       "4                4  AFG    0.5       0    999    3  2018    0.344416   \n",
       "...            ...  ...    ...     ...    ...  ...   ...         ...   \n",
       "104335      104335  ZWE  999.0     999      1  999  2018    1.499906   \n",
       "104336      104336  ZWE  999.0     999    999    1  2018    1.507762   \n",
       "104337      104337  ZWE  999.0     999    999    2  2018    1.494387   \n",
       "104338      104338  ZWE  999.0     999    999    3  2018    1.520831   \n",
       "104339      104339  ZWE  999.0     999    999  999  2018    1.510986   \n",
       "\n",
       "        Vitamin B3  Vitamin B2  ...  Total seafoods  Unprocessed red meats  \\\n",
       "0         3.445685    0.549927  ...        0.139178               0.320151   \n",
       "1         3.596722    0.453794  ...        0.166116               0.599887   \n",
       "2         3.514851    0.523080  ...        0.143506               0.377286   \n",
       "3         3.548202    0.550811  ...        0.166116               0.493726   \n",
       "4         3.632586    0.575763  ...        0.197132               0.623138   \n",
       "...            ...         ...  ...             ...                    ...   \n",
       "104335   16.305069    1.089616  ...       19.749633              36.959873   \n",
       "104336   15.493286    1.098965  ...       15.381270              19.767491   \n",
       "104337   15.928116    0.923139  ...       18.515171              28.482387   \n",
       "104338   16.193286    0.962904  ...       24.092781              43.194637   \n",
       "104339   15.817289    1.008239  ...       18.550156              28.400740   \n",
       "\n",
       "        Total processed meats  Whole grains  Refined grains  nuts and seeds  \\\n",
       "0                    0.530435     10.333232        9.731562        6.356661   \n",
       "1                    0.117621     18.783915        8.087612       12.066657   \n",
       "2                    0.396485     13.231392        9.417365        8.106881   \n",
       "3                    0.433566     14.410217        9.560537        8.318829   \n",
       "4                    0.466840     16.681744       10.912758       11.201346   \n",
       "...                       ...           ...             ...             ...   \n",
       "104335               9.146881    162.373723      206.708640        4.410048   \n",
       "104336               7.303607    136.297877      177.309661        2.340607   \n",
       "104337               8.425752    157.207623      191.710470        3.007603   \n",
       "104338               8.374759    174.955413      230.877819        4.615301   \n",
       "104339               8.067674    152.403583      195.097715        3.126727   \n",
       "\n",
       "        beans and legumes   potatoes  non-starchy vegetables      fruits  \n",
       "0                1.780938   4.030040                3.522067    9.376535  \n",
       "1                1.713538   4.034281                3.627586   12.762000  \n",
       "2                1.743985   4.252232                3.502545    9.403650  \n",
       "3                2.075015   4.240467                3.693273   13.724250  \n",
       "4                2.602448   3.779100                4.134073   17.987204  \n",
       "...                   ...        ...                     ...         ...  \n",
       "104335          19.649825  57.401845              138.124881   96.531649  \n",
       "104336          16.023400  43.457593              129.133868   64.691141  \n",
       "104337          18.813260  45.981225              139.050109   84.075382  \n",
       "104338          24.092966  45.810081              165.455230  114.820538  \n",
       "104339          18.917248  44.911503              141.235245   83.372898  \n",
       "\n",
       "[104340 rows x 52 columns]"
      ]
     },
     "execution_count": 65,
     "metadata": {},
     "output_type": "execute_result"
    }
   ],
   "source": [
    "nutrition"
   ]
  },
  {
   "cell_type": "code",
   "execution_count": 26,
   "id": "555f5a3b",
   "metadata": {},
   "outputs": [],
   "source": [
    "#analysis of food habits"
   ]
  },
  {
   "cell_type": "code",
   "execution_count": 72,
   "id": "c66e1c8e",
   "metadata": {},
   "outputs": [],
   "source": [
    "#see by different education level\n",
    "nutrition = nutrition.loc[nutrition['age'] == 999] #no interest in age"
   ]
  },
  {
   "cell_type": "code",
   "execution_count": 73,
   "id": "0937569c",
   "metadata": {},
   "outputs": [],
   "source": [
    "nutrition_by_education = nutrition.loc[(nutrition['female'] == 999) & (nutrition['urban'] == 999)]\n",
    "nutrition_by_education = nutrition_by_education.loc[nutrition['edu'] != 999]"
   ]
  },
  {
   "cell_type": "code",
   "execution_count": 33,
   "id": "0eb0c607",
   "metadata": {},
   "outputs": [],
   "source": [
    "#mexico\n",
    "nutrition_by_education_mexico = nutrition_by_education.loc[nutrition_by_education['iso3'] == 'MEX']"
   ]
  },
  {
   "cell_type": "code",
   "execution_count": 34,
   "id": "adffce8b",
   "metadata": {},
   "outputs": [
    {
     "data": {
      "text/html": [
       "<div>\n",
       "<style scoped>\n",
       "    .dataframe tbody tr th:only-of-type {\n",
       "        vertical-align: middle;\n",
       "    }\n",
       "\n",
       "    .dataframe tbody tr th {\n",
       "        vertical-align: top;\n",
       "    }\n",
       "\n",
       "    .dataframe thead th {\n",
       "        text-align: right;\n",
       "    }\n",
       "</style>\n",
       "<table border=\"1\" class=\"dataframe\">\n",
       "  <thead>\n",
       "    <tr style=\"text-align: right;\">\n",
       "      <th></th>\n",
       "      <th>Unnamed: 0</th>\n",
       "      <th>iso3</th>\n",
       "      <th>age</th>\n",
       "      <th>female</th>\n",
       "      <th>urban</th>\n",
       "      <th>edu</th>\n",
       "      <th>year</th>\n",
       "      <th>Vitamin B9</th>\n",
       "      <th>Vitamin B3</th>\n",
       "      <th>Vitamin B2</th>\n",
       "      <th>...</th>\n",
       "      <th>Total seafoods</th>\n",
       "      <th>Unprocessed red meats</th>\n",
       "      <th>Total processed meats</th>\n",
       "      <th>Whole grains</th>\n",
       "      <th>Refined grains</th>\n",
       "      <th>nuts and seeds</th>\n",
       "      <th>beans and legumes</th>\n",
       "      <th>potatoes</th>\n",
       "      <th>non-starchy vegetables</th>\n",
       "      <th>fruits</th>\n",
       "    </tr>\n",
       "  </thead>\n",
       "  <tbody>\n",
       "    <tr>\n",
       "      <th>60908</th>\n",
       "      <td>60908</td>\n",
       "      <td>MEX</td>\n",
       "      <td>999.0</td>\n",
       "      <td>999</td>\n",
       "      <td>999</td>\n",
       "      <td>1</td>\n",
       "      <td>2018</td>\n",
       "      <td>1.181625</td>\n",
       "      <td>13.290739</td>\n",
       "      <td>1.282515</td>\n",
       "      <td>...</td>\n",
       "      <td>7.256634</td>\n",
       "      <td>40.423673</td>\n",
       "      <td>16.847689</td>\n",
       "      <td>3.640336</td>\n",
       "      <td>77.850088</td>\n",
       "      <td>1.335481</td>\n",
       "      <td>39.748430</td>\n",
       "      <td>18.227355</td>\n",
       "      <td>173.191680</td>\n",
       "      <td>129.952116</td>\n",
       "    </tr>\n",
       "    <tr>\n",
       "      <th>60909</th>\n",
       "      <td>60909</td>\n",
       "      <td>MEX</td>\n",
       "      <td>999.0</td>\n",
       "      <td>999</td>\n",
       "      <td>999</td>\n",
       "      <td>2</td>\n",
       "      <td>2018</td>\n",
       "      <td>1.282669</td>\n",
       "      <td>13.549747</td>\n",
       "      <td>1.394174</td>\n",
       "      <td>...</td>\n",
       "      <td>7.774383</td>\n",
       "      <td>49.046821</td>\n",
       "      <td>18.252229</td>\n",
       "      <td>4.157244</td>\n",
       "      <td>83.597237</td>\n",
       "      <td>1.805840</td>\n",
       "      <td>40.346004</td>\n",
       "      <td>18.815188</td>\n",
       "      <td>192.077497</td>\n",
       "      <td>153.684656</td>\n",
       "    </tr>\n",
       "    <tr>\n",
       "      <th>60910</th>\n",
       "      <td>60910</td>\n",
       "      <td>MEX</td>\n",
       "      <td>999.0</td>\n",
       "      <td>999</td>\n",
       "      <td>999</td>\n",
       "      <td>3</td>\n",
       "      <td>2018</td>\n",
       "      <td>1.390438</td>\n",
       "      <td>14.228609</td>\n",
       "      <td>1.480631</td>\n",
       "      <td>...</td>\n",
       "      <td>9.162507</td>\n",
       "      <td>56.221374</td>\n",
       "      <td>21.229069</td>\n",
       "      <td>7.553634</td>\n",
       "      <td>94.356991</td>\n",
       "      <td>3.004344</td>\n",
       "      <td>42.391723</td>\n",
       "      <td>11.074558</td>\n",
       "      <td>237.012518</td>\n",
       "      <td>180.158333</td>\n",
       "    </tr>\n",
       "    <tr>\n",
       "      <th>60911</th>\n",
       "      <td>60911</td>\n",
       "      <td>MEX</td>\n",
       "      <td>999.0</td>\n",
       "      <td>999</td>\n",
       "      <td>999</td>\n",
       "      <td>999</td>\n",
       "      <td>2018</td>\n",
       "      <td>1.265497</td>\n",
       "      <td>13.591409</td>\n",
       "      <td>1.368467</td>\n",
       "      <td>...</td>\n",
       "      <td>7.865560</td>\n",
       "      <td>47.125918</td>\n",
       "      <td>18.339423</td>\n",
       "      <td>4.660909</td>\n",
       "      <td>83.601094</td>\n",
       "      <td>1.873770</td>\n",
       "      <td>40.557120</td>\n",
       "      <td>17.022394</td>\n",
       "      <td>194.049018</td>\n",
       "      <td>149.842306</td>\n",
       "    </tr>\n",
       "  </tbody>\n",
       "</table>\n",
       "<p>4 rows × 52 columns</p>\n",
       "</div>"
      ],
      "text/plain": [
       "       Unnamed: 0 iso3    age  female  urban  edu  year  Vitamin B9  \\\n",
       "60908       60908  MEX  999.0     999    999    1  2018    1.181625   \n",
       "60909       60909  MEX  999.0     999    999    2  2018    1.282669   \n",
       "60910       60910  MEX  999.0     999    999    3  2018    1.390438   \n",
       "60911       60911  MEX  999.0     999    999  999  2018    1.265497   \n",
       "\n",
       "       Vitamin B3  Vitamin B2  ...  Total seafoods  Unprocessed red meats  \\\n",
       "60908   13.290739    1.282515  ...        7.256634              40.423673   \n",
       "60909   13.549747    1.394174  ...        7.774383              49.046821   \n",
       "60910   14.228609    1.480631  ...        9.162507              56.221374   \n",
       "60911   13.591409    1.368467  ...        7.865560              47.125918   \n",
       "\n",
       "       Total processed meats  Whole grains  Refined grains  nuts and seeds  \\\n",
       "60908              16.847689      3.640336       77.850088        1.335481   \n",
       "60909              18.252229      4.157244       83.597237        1.805840   \n",
       "60910              21.229069      7.553634       94.356991        3.004344   \n",
       "60911              18.339423      4.660909       83.601094        1.873770   \n",
       "\n",
       "       beans and legumes   potatoes  non-starchy vegetables      fruits  \n",
       "60908          39.748430  18.227355              173.191680  129.952116  \n",
       "60909          40.346004  18.815188              192.077497  153.684656  \n",
       "60910          42.391723  11.074558              237.012518  180.158333  \n",
       "60911          40.557120  17.022394              194.049018  149.842306  \n",
       "\n",
       "[4 rows x 52 columns]"
      ]
     },
     "execution_count": 34,
     "metadata": {},
     "output_type": "execute_result"
    }
   ],
   "source": [
    "nutrition_by_education_mexico"
   ]
  },
  {
   "cell_type": "code",
   "execution_count": null,
   "id": "c14e58a9",
   "metadata": {},
   "outputs": [],
   "source": []
  },
  {
   "cell_type": "code",
   "execution_count": 35,
   "id": "1cb1fb26",
   "metadata": {},
   "outputs": [],
   "source": [
    "nutrition_by_education_russia = nutrition_by_education.loc[nutrition_by_education['iso3'] == 'RUS']"
   ]
  },
  {
   "cell_type": "code",
   "execution_count": 36,
   "id": "20a891ff",
   "metadata": {},
   "outputs": [
    {
     "data": {
      "text/html": [
       "<div>\n",
       "<style scoped>\n",
       "    .dataframe tbody tr th:only-of-type {\n",
       "        vertical-align: middle;\n",
       "    }\n",
       "\n",
       "    .dataframe tbody tr th {\n",
       "        vertical-align: top;\n",
       "    }\n",
       "\n",
       "    .dataframe thead th {\n",
       "        text-align: right;\n",
       "    }\n",
       "</style>\n",
       "<table border=\"1\" class=\"dataframe\">\n",
       "  <thead>\n",
       "    <tr style=\"text-align: right;\">\n",
       "      <th></th>\n",
       "      <th>Unnamed: 0</th>\n",
       "      <th>iso3</th>\n",
       "      <th>age</th>\n",
       "      <th>female</th>\n",
       "      <th>urban</th>\n",
       "      <th>edu</th>\n",
       "      <th>year</th>\n",
       "      <th>Vitamin B9</th>\n",
       "      <th>Vitamin B3</th>\n",
       "      <th>Vitamin B2</th>\n",
       "      <th>...</th>\n",
       "      <th>Total seafoods</th>\n",
       "      <th>Unprocessed red meats</th>\n",
       "      <th>Total processed meats</th>\n",
       "      <th>Whole grains</th>\n",
       "      <th>Refined grains</th>\n",
       "      <th>nuts and seeds</th>\n",
       "      <th>beans and legumes</th>\n",
       "      <th>potatoes</th>\n",
       "      <th>non-starchy vegetables</th>\n",
       "      <th>fruits</th>\n",
       "    </tr>\n",
       "  </thead>\n",
       "  <tbody>\n",
       "    <tr>\n",
       "      <th>79520</th>\n",
       "      <td>79520</td>\n",
       "      <td>RUS</td>\n",
       "      <td>999.0</td>\n",
       "      <td>999</td>\n",
       "      <td>999</td>\n",
       "      <td>1</td>\n",
       "      <td>2018</td>\n",
       "      <td>1.990422</td>\n",
       "      <td>27.493772</td>\n",
       "      <td>1.422474</td>\n",
       "      <td>...</td>\n",
       "      <td>30.769061</td>\n",
       "      <td>188.411420</td>\n",
       "      <td>61.851944</td>\n",
       "      <td>62.387305</td>\n",
       "      <td>45.489259</td>\n",
       "      <td>10.847003</td>\n",
       "      <td>1.013515</td>\n",
       "      <td>113.867061</td>\n",
       "      <td>183.363200</td>\n",
       "      <td>88.845979</td>\n",
       "    </tr>\n",
       "    <tr>\n",
       "      <th>79521</th>\n",
       "      <td>79521</td>\n",
       "      <td>RUS</td>\n",
       "      <td>999.0</td>\n",
       "      <td>999</td>\n",
       "      <td>999</td>\n",
       "      <td>2</td>\n",
       "      <td>2018</td>\n",
       "      <td>1.944589</td>\n",
       "      <td>27.698558</td>\n",
       "      <td>1.414244</td>\n",
       "      <td>...</td>\n",
       "      <td>29.563324</td>\n",
       "      <td>183.168649</td>\n",
       "      <td>57.095094</td>\n",
       "      <td>70.124674</td>\n",
       "      <td>42.108045</td>\n",
       "      <td>13.640279</td>\n",
       "      <td>1.018421</td>\n",
       "      <td>107.537832</td>\n",
       "      <td>188.582973</td>\n",
       "      <td>93.398290</td>\n",
       "    </tr>\n",
       "    <tr>\n",
       "      <th>79522</th>\n",
       "      <td>79522</td>\n",
       "      <td>RUS</td>\n",
       "      <td>999.0</td>\n",
       "      <td>999</td>\n",
       "      <td>999</td>\n",
       "      <td>3</td>\n",
       "      <td>2018</td>\n",
       "      <td>1.953968</td>\n",
       "      <td>26.880322</td>\n",
       "      <td>1.451557</td>\n",
       "      <td>...</td>\n",
       "      <td>37.447482</td>\n",
       "      <td>189.683962</td>\n",
       "      <td>48.358286</td>\n",
       "      <td>101.362553</td>\n",
       "      <td>40.838685</td>\n",
       "      <td>18.792743</td>\n",
       "      <td>1.052725</td>\n",
       "      <td>91.054082</td>\n",
       "      <td>177.499483</td>\n",
       "      <td>89.584485</td>\n",
       "    </tr>\n",
       "    <tr>\n",
       "      <th>79523</th>\n",
       "      <td>79523</td>\n",
       "      <td>RUS</td>\n",
       "      <td>999.0</td>\n",
       "      <td>999</td>\n",
       "      <td>999</td>\n",
       "      <td>999</td>\n",
       "      <td>2018</td>\n",
       "      <td>1.957393</td>\n",
       "      <td>27.187666</td>\n",
       "      <td>1.437698</td>\n",
       "      <td>...</td>\n",
       "      <td>34.720146</td>\n",
       "      <td>188.040493</td>\n",
       "      <td>52.243845</td>\n",
       "      <td>88.780069</td>\n",
       "      <td>41.826544</td>\n",
       "      <td>16.582001</td>\n",
       "      <td>1.042146</td>\n",
       "      <td>97.895672</td>\n",
       "      <td>180.927847</td>\n",
       "      <td>90.412228</td>\n",
       "    </tr>\n",
       "  </tbody>\n",
       "</table>\n",
       "<p>4 rows × 52 columns</p>\n",
       "</div>"
      ],
      "text/plain": [
       "       Unnamed: 0 iso3    age  female  urban  edu  year  Vitamin B9  \\\n",
       "79520       79520  RUS  999.0     999    999    1  2018    1.990422   \n",
       "79521       79521  RUS  999.0     999    999    2  2018    1.944589   \n",
       "79522       79522  RUS  999.0     999    999    3  2018    1.953968   \n",
       "79523       79523  RUS  999.0     999    999  999  2018    1.957393   \n",
       "\n",
       "       Vitamin B3  Vitamin B2  ...  Total seafoods  Unprocessed red meats  \\\n",
       "79520   27.493772    1.422474  ...       30.769061             188.411420   \n",
       "79521   27.698558    1.414244  ...       29.563324             183.168649   \n",
       "79522   26.880322    1.451557  ...       37.447482             189.683962   \n",
       "79523   27.187666    1.437698  ...       34.720146             188.040493   \n",
       "\n",
       "       Total processed meats  Whole grains  Refined grains  nuts and seeds  \\\n",
       "79520              61.851944     62.387305       45.489259       10.847003   \n",
       "79521              57.095094     70.124674       42.108045       13.640279   \n",
       "79522              48.358286    101.362553       40.838685       18.792743   \n",
       "79523              52.243845     88.780069       41.826544       16.582001   \n",
       "\n",
       "       beans and legumes    potatoes  non-starchy vegetables     fruits  \n",
       "79520           1.013515  113.867061              183.363200  88.845979  \n",
       "79521           1.018421  107.537832              188.582973  93.398290  \n",
       "79522           1.052725   91.054082              177.499483  89.584485  \n",
       "79523           1.042146   97.895672              180.927847  90.412228  \n",
       "\n",
       "[4 rows x 52 columns]"
      ]
     },
     "execution_count": 36,
     "metadata": {},
     "output_type": "execute_result"
    }
   ],
   "source": [
    "nutrition_by_education_russia"
   ]
  },
  {
   "cell_type": "code",
   "execution_count": 74,
   "id": "6a0dfab3",
   "metadata": {},
   "outputs": [
    {
     "data": {
      "text/html": [
       "<div>\n",
       "<style scoped>\n",
       "    .dataframe tbody tr th:only-of-type {\n",
       "        vertical-align: middle;\n",
       "    }\n",
       "\n",
       "    .dataframe tbody tr th {\n",
       "        vertical-align: top;\n",
       "    }\n",
       "\n",
       "    .dataframe thead th {\n",
       "        text-align: right;\n",
       "    }\n",
       "</style>\n",
       "<table border=\"1\" class=\"dataframe\">\n",
       "  <thead>\n",
       "    <tr style=\"text-align: right;\">\n",
       "      <th></th>\n",
       "      <th>Unnamed: 0</th>\n",
       "      <th>iso3</th>\n",
       "      <th>age</th>\n",
       "      <th>female</th>\n",
       "      <th>urban</th>\n",
       "      <th>edu</th>\n",
       "      <th>year</th>\n",
       "      <th>Vitamin B9</th>\n",
       "      <th>Vitamin B3</th>\n",
       "      <th>Vitamin B2</th>\n",
       "      <th>...</th>\n",
       "      <th>Unprocessed red meats</th>\n",
       "      <th>Total processed meats</th>\n",
       "      <th>Whole grains</th>\n",
       "      <th>Refined grains</th>\n",
       "      <th>nuts and seeds</th>\n",
       "      <th>beans and legumes</th>\n",
       "      <th>potatoes</th>\n",
       "      <th>non-starchy vegetables</th>\n",
       "      <th>fruits</th>\n",
       "      <th>sum_food</th>\n",
       "    </tr>\n",
       "  </thead>\n",
       "  <tbody>\n",
       "    <tr>\n",
       "      <th>98696</th>\n",
       "      <td>98696</td>\n",
       "      <td>USA</td>\n",
       "      <td>999.0</td>\n",
       "      <td>999</td>\n",
       "      <td>999</td>\n",
       "      <td>1</td>\n",
       "      <td>2018</td>\n",
       "      <td>1.818491</td>\n",
       "      <td>22.406336</td>\n",
       "      <td>1.895419</td>\n",
       "      <td>...</td>\n",
       "      <td>0.036628</td>\n",
       "      <td>0.021424</td>\n",
       "      <td>0.014126</td>\n",
       "      <td>0.098651</td>\n",
       "      <td>0.006232</td>\n",
       "      <td>0.033732</td>\n",
       "      <td>0.028237</td>\n",
       "      <td>0.114413</td>\n",
       "      <td>0.087716</td>\n",
       "      <td>1015.757493</td>\n",
       "    </tr>\n",
       "    <tr>\n",
       "      <th>98697</th>\n",
       "      <td>98697</td>\n",
       "      <td>USA</td>\n",
       "      <td>999.0</td>\n",
       "      <td>999</td>\n",
       "      <td>999</td>\n",
       "      <td>2</td>\n",
       "      <td>2018</td>\n",
       "      <td>1.847686</td>\n",
       "      <td>22.859152</td>\n",
       "      <td>1.970027</td>\n",
       "      <td>...</td>\n",
       "      <td>0.037512</td>\n",
       "      <td>0.025898</td>\n",
       "      <td>0.016395</td>\n",
       "      <td>0.091418</td>\n",
       "      <td>0.009686</td>\n",
       "      <td>0.019716</td>\n",
       "      <td>0.032851</td>\n",
       "      <td>0.119429</td>\n",
       "      <td>0.081618</td>\n",
       "      <td>986.675417</td>\n",
       "    </tr>\n",
       "    <tr>\n",
       "      <th>98698</th>\n",
       "      <td>98698</td>\n",
       "      <td>USA</td>\n",
       "      <td>999.0</td>\n",
       "      <td>999</td>\n",
       "      <td>999</td>\n",
       "      <td>3</td>\n",
       "      <td>2018</td>\n",
       "      <td>1.893489</td>\n",
       "      <td>23.189294</td>\n",
       "      <td>2.041592</td>\n",
       "      <td>...</td>\n",
       "      <td>0.034860</td>\n",
       "      <td>0.024613</td>\n",
       "      <td>0.021200</td>\n",
       "      <td>0.090573</td>\n",
       "      <td>0.012503</td>\n",
       "      <td>0.019268</td>\n",
       "      <td>0.030818</td>\n",
       "      <td>0.135638</td>\n",
       "      <td>0.090739</td>\n",
       "      <td>969.730733</td>\n",
       "    </tr>\n",
       "  </tbody>\n",
       "</table>\n",
       "<p>3 rows × 53 columns</p>\n",
       "</div>"
      ],
      "text/plain": [
       "       Unnamed: 0 iso3    age  female  urban  edu  year  Vitamin B9  \\\n",
       "98696       98696  USA  999.0     999    999    1  2018    1.818491   \n",
       "98697       98697  USA  999.0     999    999    2  2018    1.847686   \n",
       "98698       98698  USA  999.0     999    999    3  2018    1.893489   \n",
       "\n",
       "       Vitamin B3  Vitamin B2  ...  Unprocessed red meats  \\\n",
       "98696   22.406336    1.895419  ...               0.036628   \n",
       "98697   22.859152    1.970027  ...               0.037512   \n",
       "98698   23.189294    2.041592  ...               0.034860   \n",
       "\n",
       "       Total processed meats  Whole grains  Refined grains  nuts and seeds  \\\n",
       "98696               0.021424      0.014126        0.098651        0.006232   \n",
       "98697               0.025898      0.016395        0.091418        0.009686   \n",
       "98698               0.024613      0.021200        0.090573        0.012503   \n",
       "\n",
       "       beans and legumes  potatoes  non-starchy vegetables    fruits  \\\n",
       "98696           0.033732  0.028237                0.114413  0.087716   \n",
       "98697           0.019716  0.032851                0.119429  0.081618   \n",
       "98698           0.019268  0.030818                0.135638  0.090739   \n",
       "\n",
       "          sum_food  \n",
       "98696  1015.757493  \n",
       "98697   986.675417  \n",
       "98698   969.730733  \n",
       "\n",
       "[3 rows x 53 columns]"
      ]
     },
     "execution_count": 74,
     "metadata": {},
     "output_type": "execute_result"
    }
   ],
   "source": [
    "nutrition_by_education_us =  nutrition_by_education.loc[nutrition_by_education['iso3'] == 'USA']\n",
    "nutrition_by_education_us"
   ]
  },
  {
   "cell_type": "code",
   "execution_count": 44,
   "id": "fbf37ce7",
   "metadata": {},
   "outputs": [
    {
     "data": {
      "text/plain": [
       "Index(['Unnamed: 0', 'iso3', 'age', 'female', 'urban', 'edu', 'year',\n",
       "       'Vitamin B9', 'Vitamin B3', 'Vitamin B2', 'Total Milk', 'Zinc',\n",
       "       'Vitamin E', 'Vitamin D', 'Vitamin C', 'Vitamin B12', 'Vitamin B6',\n",
       "       'Vitamin A', 'Selenium', 'Potassium', 'Magnesium', 'Iron', 'Iodine',\n",
       "       'Dietary Sodium', 'Calcium', 'Added sugars', 'Dietary fiber',\n",
       "       'Dietary cholesterol', 'Plant omega-3 fat', 'Seafood omega-3 fat',\n",
       "       'Total omega-6 fat', 'Monounsaturated fatty acids', 'Saturated fat',\n",
       "       'Total protein', 'Total carbohydrates', 'Tea', 'Coffee', 'Fruit juices',\n",
       "       'Sugar-sweetened beverages', 'Yoghurt (including fermented milk)',\n",
       "       'Cheese', 'Eggs', 'Total seafoods', 'Unprocessed red meats',\n",
       "       'Total processed meats', 'Whole grains', 'Refined grains',\n",
       "       'nuts and seeds', 'beans and legumes', 'potatoes',\n",
       "       'non-starchy vegetables', 'fruits'],\n",
       "      dtype='object')"
      ]
     },
     "execution_count": 44,
     "metadata": {},
     "output_type": "execute_result"
    }
   ],
   "source": [
    "nutrition_by_education_us.columns"
   ]
  },
  {
   "cell_type": "code",
   "execution_count": 43,
   "id": "56443f97",
   "metadata": {},
   "outputs": [
    {
     "data": {
      "text/html": [
       "<div>\n",
       "<style scoped>\n",
       "    .dataframe tbody tr th:only-of-type {\n",
       "        vertical-align: middle;\n",
       "    }\n",
       "\n",
       "    .dataframe tbody tr th {\n",
       "        vertical-align: top;\n",
       "    }\n",
       "\n",
       "    .dataframe thead th {\n",
       "        text-align: right;\n",
       "    }\n",
       "</style>\n",
       "<table border=\"1\" class=\"dataframe\">\n",
       "  <thead>\n",
       "    <tr style=\"text-align: right;\">\n",
       "      <th></th>\n",
       "      <th>Unnamed: 0</th>\n",
       "      <th>iso3</th>\n",
       "      <th>age</th>\n",
       "      <th>female</th>\n",
       "      <th>urban</th>\n",
       "      <th>edu</th>\n",
       "      <th>year</th>\n",
       "      <th>Vitamin B9</th>\n",
       "      <th>Vitamin B3</th>\n",
       "      <th>Vitamin B2</th>\n",
       "      <th>...</th>\n",
       "      <th>Total seafoods</th>\n",
       "      <th>Unprocessed red meats</th>\n",
       "      <th>Total processed meats</th>\n",
       "      <th>Whole grains</th>\n",
       "      <th>Refined grains</th>\n",
       "      <th>nuts and seeds</th>\n",
       "      <th>beans and legumes</th>\n",
       "      <th>potatoes</th>\n",
       "      <th>non-starchy vegetables</th>\n",
       "      <th>fruits</th>\n",
       "    </tr>\n",
       "  </thead>\n",
       "  <tbody>\n",
       "    <tr>\n",
       "      <th>560</th>\n",
       "      <td>560</td>\n",
       "      <td>AFG</td>\n",
       "      <td>999.0</td>\n",
       "      <td>999</td>\n",
       "      <td>999</td>\n",
       "      <td>1</td>\n",
       "      <td>2018</td>\n",
       "      <td>1.100459</td>\n",
       "      <td>13.441699</td>\n",
       "      <td>0.949941</td>\n",
       "      <td>...</td>\n",
       "      <td>3.111098</td>\n",
       "      <td>8.180934</td>\n",
       "      <td>2.189403</td>\n",
       "      <td>40.512745</td>\n",
       "      <td>220.484093</td>\n",
       "      <td>30.245888</td>\n",
       "      <td>99.794112</td>\n",
       "      <td>21.216377</td>\n",
       "      <td>96.428412</td>\n",
       "      <td>60.034322</td>\n",
       "    </tr>\n",
       "    <tr>\n",
       "      <th>561</th>\n",
       "      <td>561</td>\n",
       "      <td>AFG</td>\n",
       "      <td>999.0</td>\n",
       "      <td>999</td>\n",
       "      <td>999</td>\n",
       "      <td>2</td>\n",
       "      <td>2018</td>\n",
       "      <td>1.108002</td>\n",
       "      <td>13.586405</td>\n",
       "      <td>0.998038</td>\n",
       "      <td>...</td>\n",
       "      <td>3.579037</td>\n",
       "      <td>10.565726</td>\n",
       "      <td>2.353416</td>\n",
       "      <td>44.688379</td>\n",
       "      <td>224.562086</td>\n",
       "      <td>31.713320</td>\n",
       "      <td>116.807695</td>\n",
       "      <td>21.487467</td>\n",
       "      <td>101.535268</td>\n",
       "      <td>88.079960</td>\n",
       "    </tr>\n",
       "    <tr>\n",
       "      <th>562</th>\n",
       "      <td>562</td>\n",
       "      <td>AFG</td>\n",
       "      <td>999.0</td>\n",
       "      <td>999</td>\n",
       "      <td>999</td>\n",
       "      <td>3</td>\n",
       "      <td>2018</td>\n",
       "      <td>1.142702</td>\n",
       "      <td>13.999041</td>\n",
       "      <td>1.039597</td>\n",
       "      <td>...</td>\n",
       "      <td>4.277167</td>\n",
       "      <td>13.197412</td>\n",
       "      <td>2.492891</td>\n",
       "      <td>51.246738</td>\n",
       "      <td>250.242791</td>\n",
       "      <td>39.903379</td>\n",
       "      <td>139.336948</td>\n",
       "      <td>18.958748</td>\n",
       "      <td>114.150173</td>\n",
       "      <td>115.261138</td>\n",
       "    </tr>\n",
       "    <tr>\n",
       "      <th>1124</th>\n",
       "      <td>1124</td>\n",
       "      <td>AGO</td>\n",
       "      <td>999.0</td>\n",
       "      <td>999</td>\n",
       "      <td>999</td>\n",
       "      <td>1</td>\n",
       "      <td>2018</td>\n",
       "      <td>1.673317</td>\n",
       "      <td>13.306746</td>\n",
       "      <td>1.370488</td>\n",
       "      <td>...</td>\n",
       "      <td>33.766597</td>\n",
       "      <td>14.298138</td>\n",
       "      <td>1.722501</td>\n",
       "      <td>52.872936</td>\n",
       "      <td>211.964980</td>\n",
       "      <td>9.728608</td>\n",
       "      <td>33.920226</td>\n",
       "      <td>340.951198</td>\n",
       "      <td>297.490255</td>\n",
       "      <td>102.413793</td>\n",
       "    </tr>\n",
       "    <tr>\n",
       "      <th>1125</th>\n",
       "      <td>1125</td>\n",
       "      <td>AGO</td>\n",
       "      <td>999.0</td>\n",
       "      <td>999</td>\n",
       "      <td>999</td>\n",
       "      <td>2</td>\n",
       "      <td>2018</td>\n",
       "      <td>1.664627</td>\n",
       "      <td>13.617268</td>\n",
       "      <td>1.151769</td>\n",
       "      <td>...</td>\n",
       "      <td>40.597449</td>\n",
       "      <td>20.602212</td>\n",
       "      <td>1.957206</td>\n",
       "      <td>60.963452</td>\n",
       "      <td>228.457882</td>\n",
       "      <td>12.386082</td>\n",
       "      <td>39.903841</td>\n",
       "      <td>356.766487</td>\n",
       "      <td>314.554245</td>\n",
       "      <td>133.353711</td>\n",
       "    </tr>\n",
       "    <tr>\n",
       "      <th>...</th>\n",
       "      <td>...</td>\n",
       "      <td>...</td>\n",
       "      <td>...</td>\n",
       "      <td>...</td>\n",
       "      <td>...</td>\n",
       "      <td>...</td>\n",
       "      <td>...</td>\n",
       "      <td>...</td>\n",
       "      <td>...</td>\n",
       "      <td>...</td>\n",
       "      <td>...</td>\n",
       "      <td>...</td>\n",
       "      <td>...</td>\n",
       "      <td>...</td>\n",
       "      <td>...</td>\n",
       "      <td>...</td>\n",
       "      <td>...</td>\n",
       "      <td>...</td>\n",
       "      <td>...</td>\n",
       "      <td>...</td>\n",
       "      <td>...</td>\n",
       "    </tr>\n",
       "    <tr>\n",
       "      <th>103773</th>\n",
       "      <td>103773</td>\n",
       "      <td>ZMB</td>\n",
       "      <td>999.0</td>\n",
       "      <td>999</td>\n",
       "      <td>999</td>\n",
       "      <td>2</td>\n",
       "      <td>2018</td>\n",
       "      <td>1.408334</td>\n",
       "      <td>13.595280</td>\n",
       "      <td>1.179310</td>\n",
       "      <td>...</td>\n",
       "      <td>46.585926</td>\n",
       "      <td>48.961951</td>\n",
       "      <td>13.930328</td>\n",
       "      <td>58.565425</td>\n",
       "      <td>242.445882</td>\n",
       "      <td>20.876099</td>\n",
       "      <td>21.632901</td>\n",
       "      <td>23.538204</td>\n",
       "      <td>199.070470</td>\n",
       "      <td>55.955109</td>\n",
       "    </tr>\n",
       "    <tr>\n",
       "      <th>103774</th>\n",
       "      <td>103774</td>\n",
       "      <td>ZMB</td>\n",
       "      <td>999.0</td>\n",
       "      <td>999</td>\n",
       "      <td>999</td>\n",
       "      <td>3</td>\n",
       "      <td>2018</td>\n",
       "      <td>1.429038</td>\n",
       "      <td>13.792019</td>\n",
       "      <td>1.225188</td>\n",
       "      <td>...</td>\n",
       "      <td>60.452990</td>\n",
       "      <td>74.212239</td>\n",
       "      <td>13.793494</td>\n",
       "      <td>70.881833</td>\n",
       "      <td>291.716550</td>\n",
       "      <td>30.482026</td>\n",
       "      <td>27.717817</td>\n",
       "      <td>23.634769</td>\n",
       "      <td>236.667169</td>\n",
       "      <td>76.342674</td>\n",
       "    </tr>\n",
       "    <tr>\n",
       "      <th>104336</th>\n",
       "      <td>104336</td>\n",
       "      <td>ZWE</td>\n",
       "      <td>999.0</td>\n",
       "      <td>999</td>\n",
       "      <td>999</td>\n",
       "      <td>1</td>\n",
       "      <td>2018</td>\n",
       "      <td>1.507762</td>\n",
       "      <td>15.493286</td>\n",
       "      <td>1.098965</td>\n",
       "      <td>...</td>\n",
       "      <td>15.381270</td>\n",
       "      <td>19.767491</td>\n",
       "      <td>7.303607</td>\n",
       "      <td>136.297877</td>\n",
       "      <td>177.309661</td>\n",
       "      <td>2.340607</td>\n",
       "      <td>16.023400</td>\n",
       "      <td>43.457593</td>\n",
       "      <td>129.133868</td>\n",
       "      <td>64.691141</td>\n",
       "    </tr>\n",
       "    <tr>\n",
       "      <th>104337</th>\n",
       "      <td>104337</td>\n",
       "      <td>ZWE</td>\n",
       "      <td>999.0</td>\n",
       "      <td>999</td>\n",
       "      <td>999</td>\n",
       "      <td>2</td>\n",
       "      <td>2018</td>\n",
       "      <td>1.494387</td>\n",
       "      <td>15.928116</td>\n",
       "      <td>0.923139</td>\n",
       "      <td>...</td>\n",
       "      <td>18.515171</td>\n",
       "      <td>28.482387</td>\n",
       "      <td>8.425752</td>\n",
       "      <td>157.207623</td>\n",
       "      <td>191.710470</td>\n",
       "      <td>3.007603</td>\n",
       "      <td>18.813260</td>\n",
       "      <td>45.981225</td>\n",
       "      <td>139.050109</td>\n",
       "      <td>84.075382</td>\n",
       "    </tr>\n",
       "    <tr>\n",
       "      <th>104338</th>\n",
       "      <td>104338</td>\n",
       "      <td>ZWE</td>\n",
       "      <td>999.0</td>\n",
       "      <td>999</td>\n",
       "      <td>999</td>\n",
       "      <td>3</td>\n",
       "      <td>2018</td>\n",
       "      <td>1.520831</td>\n",
       "      <td>16.193286</td>\n",
       "      <td>0.962904</td>\n",
       "      <td>...</td>\n",
       "      <td>24.092781</td>\n",
       "      <td>43.194637</td>\n",
       "      <td>8.374759</td>\n",
       "      <td>174.955413</td>\n",
       "      <td>230.877819</td>\n",
       "      <td>4.615301</td>\n",
       "      <td>24.092966</td>\n",
       "      <td>45.810081</td>\n",
       "      <td>165.455230</td>\n",
       "      <td>114.820538</td>\n",
       "    </tr>\n",
       "  </tbody>\n",
       "</table>\n",
       "<p>555 rows × 52 columns</p>\n",
       "</div>"
      ],
      "text/plain": [
       "        Unnamed: 0 iso3    age  female  urban  edu  year  Vitamin B9  \\\n",
       "560            560  AFG  999.0     999    999    1  2018    1.100459   \n",
       "561            561  AFG  999.0     999    999    2  2018    1.108002   \n",
       "562            562  AFG  999.0     999    999    3  2018    1.142702   \n",
       "1124          1124  AGO  999.0     999    999    1  2018    1.673317   \n",
       "1125          1125  AGO  999.0     999    999    2  2018    1.664627   \n",
       "...            ...  ...    ...     ...    ...  ...   ...         ...   \n",
       "103773      103773  ZMB  999.0     999    999    2  2018    1.408334   \n",
       "103774      103774  ZMB  999.0     999    999    3  2018    1.429038   \n",
       "104336      104336  ZWE  999.0     999    999    1  2018    1.507762   \n",
       "104337      104337  ZWE  999.0     999    999    2  2018    1.494387   \n",
       "104338      104338  ZWE  999.0     999    999    3  2018    1.520831   \n",
       "\n",
       "        Vitamin B3  Vitamin B2  ...  Total seafoods  Unprocessed red meats  \\\n",
       "560      13.441699    0.949941  ...        3.111098               8.180934   \n",
       "561      13.586405    0.998038  ...        3.579037              10.565726   \n",
       "562      13.999041    1.039597  ...        4.277167              13.197412   \n",
       "1124     13.306746    1.370488  ...       33.766597              14.298138   \n",
       "1125     13.617268    1.151769  ...       40.597449              20.602212   \n",
       "...            ...         ...  ...             ...                    ...   \n",
       "103773   13.595280    1.179310  ...       46.585926              48.961951   \n",
       "103774   13.792019    1.225188  ...       60.452990              74.212239   \n",
       "104336   15.493286    1.098965  ...       15.381270              19.767491   \n",
       "104337   15.928116    0.923139  ...       18.515171              28.482387   \n",
       "104338   16.193286    0.962904  ...       24.092781              43.194637   \n",
       "\n",
       "        Total processed meats  Whole grains  Refined grains  nuts and seeds  \\\n",
       "560                  2.189403     40.512745      220.484093       30.245888   \n",
       "561                  2.353416     44.688379      224.562086       31.713320   \n",
       "562                  2.492891     51.246738      250.242791       39.903379   \n",
       "1124                 1.722501     52.872936      211.964980        9.728608   \n",
       "1125                 1.957206     60.963452      228.457882       12.386082   \n",
       "...                       ...           ...             ...             ...   \n",
       "103773              13.930328     58.565425      242.445882       20.876099   \n",
       "103774              13.793494     70.881833      291.716550       30.482026   \n",
       "104336               7.303607    136.297877      177.309661        2.340607   \n",
       "104337               8.425752    157.207623      191.710470        3.007603   \n",
       "104338               8.374759    174.955413      230.877819        4.615301   \n",
       "\n",
       "        beans and legumes    potatoes  non-starchy vegetables      fruits  \n",
       "560             99.794112   21.216377               96.428412   60.034322  \n",
       "561            116.807695   21.487467              101.535268   88.079960  \n",
       "562            139.336948   18.958748              114.150173  115.261138  \n",
       "1124            33.920226  340.951198              297.490255  102.413793  \n",
       "1125            39.903841  356.766487              314.554245  133.353711  \n",
       "...                   ...         ...                     ...         ...  \n",
       "103773          21.632901   23.538204              199.070470   55.955109  \n",
       "103774          27.717817   23.634769              236.667169   76.342674  \n",
       "104336          16.023400   43.457593              129.133868   64.691141  \n",
       "104337          18.813260   45.981225              139.050109   84.075382  \n",
       "104338          24.092966   45.810081              165.455230  114.820538  \n",
       "\n",
       "[555 rows x 52 columns]"
      ]
     },
     "execution_count": 43,
     "metadata": {},
     "output_type": "execute_result"
    }
   ],
   "source": [
    "nutrition_by_education"
   ]
  },
  {
   "cell_type": "code",
   "execution_count": 75,
   "id": "21b20a40",
   "metadata": {},
   "outputs": [
    {
     "data": {
      "application/vnd.plotly.v1+json": {
       "config": {
        "plotlyServerURL": "https://plot.ly"
       },
       "data": [
        {
         "alignmentgroup": "True",
         "hovertemplate": "variable=Total Milk<br>edu=%{x}<br>value=%{y}<extra></extra>",
         "legendgroup": "Total Milk",
         "marker": {
          "color": "#636efa",
          "pattern": {
           "shape": ""
          }
         },
         "name": "Total Milk",
         "offsetgroup": "Total Milk",
         "orientation": "v",
         "showlegend": true,
         "textposition": "auto",
         "type": "bar",
         "x": [
          1,
          2,
          3
         ],
         "xaxis": "x",
         "y": [
          0.1849182522754144,
          0.1846752604221115,
          0.19640545342514856
         ],
         "yaxis": "y"
        },
        {
         "alignmentgroup": "True",
         "hovertemplate": "variable=Tea<br>edu=%{x}<br>value=%{y}<extra></extra>",
         "legendgroup": "Tea",
         "marker": {
          "color": "#EF553B",
          "pattern": {
           "shape": ""
          }
         },
         "name": "Tea",
         "offsetgroup": "Tea",
         "orientation": "v",
         "showlegend": true,
         "textposition": "auto",
         "type": "bar",
         "x": [
          1,
          2,
          3
         ],
         "xaxis": "x",
         "y": [
          0.0005881244084407467,
          0.000661724861127823,
          0.0006723024876890223
         ],
         "yaxis": "y"
        },
        {
         "alignmentgroup": "True",
         "hovertemplate": "variable=Coffee<br>edu=%{x}<br>value=%{y}<extra></extra>",
         "legendgroup": "Coffee",
         "marker": {
          "color": "#00cc96",
          "pattern": {
           "shape": ""
          }
         },
         "name": "Coffee",
         "offsetgroup": "Coffee",
         "orientation": "v",
         "showlegend": true,
         "textposition": "auto",
         "type": "bar",
         "x": [
          1,
          2,
          3
         ],
         "xaxis": "x",
         "y": [
          0.0008800328883212411,
          0.0009855758983623405,
          0.0009773872792099103
         ],
         "yaxis": "y"
        },
        {
         "alignmentgroup": "True",
         "hovertemplate": "variable=Fruit juices<br>edu=%{x}<br>value=%{y}<extra></extra>",
         "legendgroup": "Fruit juices",
         "marker": {
          "color": "#ab63fa",
          "pattern": {
           "shape": ""
          }
         },
         "name": "Fruit juices",
         "offsetgroup": "Fruit juices",
         "orientation": "v",
         "showlegend": true,
         "textposition": "auto",
         "type": "bar",
         "x": [
          1,
          2,
          3
         ],
         "xaxis": "x",
         "y": [
          0.08103975549774697,
          0.07933647963184354,
          0.09055914494313122
         ],
         "yaxis": "y"
        },
        {
         "alignmentgroup": "True",
         "hovertemplate": "variable=Sugar-sweetened beverages<br>edu=%{x}<br>value=%{y}<extra></extra>",
         "legendgroup": "Sugar-sweetened beverages",
         "marker": {
          "color": "#FFA15A",
          "pattern": {
           "shape": ""
          }
         },
         "name": "Sugar-sweetened beverages",
         "offsetgroup": "Sugar-sweetened beverages",
         "orientation": "v",
         "showlegend": true,
         "textposition": "auto",
         "type": "bar",
         "x": [
          1,
          2,
          3
         ],
         "xaxis": "x",
         "y": [
          0.22705095758173238,
          0.22994958412222302,
          0.1718592235095642
         ],
         "yaxis": "y"
        },
        {
         "alignmentgroup": "True",
         "hovertemplate": "variable=Yoghurt (including fermented milk)<br>edu=%{x}<br>value=%{y}<extra></extra>",
         "legendgroup": "Yoghurt (including fermented milk)",
         "marker": {
          "color": "#19d3f3",
          "pattern": {
           "shape": ""
          }
         },
         "name": "Yoghurt (including fermented milk)",
         "offsetgroup": "Yoghurt (including fermented milk)",
         "orientation": "v",
         "showlegend": true,
         "textposition": "auto",
         "type": "bar",
         "x": [
          1,
          2,
          3
         ],
         "xaxis": "x",
         "y": [
          0.010324757831742259,
          0.011258551886835503,
          0.015862400141661362
         ],
         "yaxis": "y"
        },
        {
         "alignmentgroup": "True",
         "hovertemplate": "variable=Cheese<br>edu=%{x}<br>value=%{y}<extra></extra>",
         "legendgroup": "Cheese",
         "marker": {
          "color": "#FF6692",
          "pattern": {
           "shape": ""
          }
         },
         "name": "Cheese",
         "offsetgroup": "Cheese",
         "orientation": "v",
         "showlegend": true,
         "textposition": "auto",
         "type": "bar",
         "x": [
          1,
          2,
          3
         ],
         "xaxis": "x",
         "y": [
          0.024451405959121958,
          0.02856554307002836,
          0.03194021376984723
         ],
         "yaxis": "y"
        },
        {
         "alignmentgroup": "True",
         "hovertemplate": "variable=Eggs<br>edu=%{x}<br>value=%{y}<extra></extra>",
         "legendgroup": "Eggs",
         "marker": {
          "color": "#B6E880",
          "pattern": {
           "shape": ""
          }
         },
         "name": "Eggs",
         "offsetgroup": "Eggs",
         "orientation": "v",
         "showlegend": true,
         "textposition": "auto",
         "type": "bar",
         "x": [
          1,
          2,
          3
         ],
         "xaxis": "x",
         "y": [
          0.0193135945322833,
          0.01960749928534766,
          0.019729846541619953
         ],
         "yaxis": "y"
        },
        {
         "alignmentgroup": "True",
         "hovertemplate": "variable=Total seafoods<br>edu=%{x}<br>value=%{y}<extra></extra>",
         "legendgroup": "Total seafoods",
         "marker": {
          "color": "#FF97FF",
          "pattern": {
           "shape": ""
          }
         },
         "name": "Total seafoods",
         "offsetgroup": "Total seafoods",
         "orientation": "v",
         "showlegend": true,
         "textposition": "auto",
         "type": "bar",
         "x": [
          1,
          2,
          3
         ],
         "xaxis": "x",
         "y": [
          0.010272980021466581,
          0.010436728085671185,
          0.011781512333617879
         ],
         "yaxis": "y"
        },
        {
         "alignmentgroup": "True",
         "hovertemplate": "variable=Unprocessed red meats<br>edu=%{x}<br>value=%{y}<extra></extra>",
         "legendgroup": "Unprocessed red meats",
         "marker": {
          "color": "#FECB52",
          "pattern": {
           "shape": ""
          }
         },
         "name": "Unprocessed red meats",
         "offsetgroup": "Unprocessed red meats",
         "orientation": "v",
         "showlegend": true,
         "textposition": "auto",
         "type": "bar",
         "x": [
          1,
          2,
          3
         ],
         "xaxis": "x",
         "y": [
          0.03662789391473877,
          0.03751213903663414,
          0.03486034963812545
         ],
         "yaxis": "y"
        },
        {
         "alignmentgroup": "True",
         "hovertemplate": "variable=Total processed meats<br>edu=%{x}<br>value=%{y}<extra></extra>",
         "legendgroup": "Total processed meats",
         "marker": {
          "color": "#636efa",
          "pattern": {
           "shape": ""
          }
         },
         "name": "Total processed meats",
         "offsetgroup": "Total processed meats",
         "orientation": "v",
         "showlegend": true,
         "textposition": "auto",
         "type": "bar",
         "x": [
          1,
          2,
          3
         ],
         "xaxis": "x",
         "y": [
          0.02142442760903202,
          0.0258980167928141,
          0.024613230148583586
         ],
         "yaxis": "y"
        },
        {
         "alignmentgroup": "True",
         "hovertemplate": "variable=Whole grains<br>edu=%{x}<br>value=%{y}<extra></extra>",
         "legendgroup": "Whole grains",
         "marker": {
          "color": "#EF553B",
          "pattern": {
           "shape": ""
          }
         },
         "name": "Whole grains",
         "offsetgroup": "Whole grains",
         "orientation": "v",
         "showlegend": true,
         "textposition": "auto",
         "type": "bar",
         "x": [
          1,
          2,
          3
         ],
         "xaxis": "x",
         "y": [
          0.014126310037024898,
          0.016395416222602464,
          0.02120043426796305
         ],
         "yaxis": "y"
        },
        {
         "alignmentgroup": "True",
         "hovertemplate": "variable=Refined grains<br>edu=%{x}<br>value=%{y}<extra></extra>",
         "legendgroup": "Refined grains",
         "marker": {
          "color": "#00cc96",
          "pattern": {
           "shape": ""
          }
         },
         "name": "Refined grains",
         "offsetgroup": "Refined grains",
         "orientation": "v",
         "showlegend": true,
         "textposition": "auto",
         "type": "bar",
         "x": [
          1,
          2,
          3
         ],
         "xaxis": "x",
         "y": [
          0.0986510744630702,
          0.09141798079915575,
          0.09057273837707619
         ],
         "yaxis": "y"
        },
        {
         "alignmentgroup": "True",
         "hovertemplate": "variable=nuts and seeds<br>edu=%{x}<br>value=%{y}<extra></extra>",
         "legendgroup": "nuts and seeds",
         "marker": {
          "color": "#ab63fa",
          "pattern": {
           "shape": ""
          }
         },
         "name": "nuts and seeds",
         "offsetgroup": "nuts and seeds",
         "orientation": "v",
         "showlegend": true,
         "textposition": "auto",
         "type": "bar",
         "x": [
          1,
          2,
          3
         ],
         "xaxis": "x",
         "y": [
          0.006232328158326422,
          0.00968566911959998,
          0.012502774937693788
         ],
         "yaxis": "y"
        },
        {
         "alignmentgroup": "True",
         "hovertemplate": "variable=beans and legumes<br>edu=%{x}<br>value=%{y}<extra></extra>",
         "legendgroup": "beans and legumes",
         "marker": {
          "color": "#FFA15A",
          "pattern": {
           "shape": ""
          }
         },
         "name": "beans and legumes",
         "offsetgroup": "beans and legumes",
         "orientation": "v",
         "showlegend": true,
         "textposition": "auto",
         "type": "bar",
         "x": [
          1,
          2,
          3
         ],
         "xaxis": "x",
         "y": [
          0.03373184106229744,
          0.019715929271520428,
          0.019268327961819164
         ],
         "yaxis": "y"
        },
        {
         "alignmentgroup": "True",
         "hovertemplate": "variable=potatoes<br>edu=%{x}<br>value=%{y}<extra></extra>",
         "legendgroup": "potatoes",
         "marker": {
          "color": "#19d3f3",
          "pattern": {
           "shape": ""
          }
         },
         "name": "potatoes",
         "offsetgroup": "potatoes",
         "orientation": "v",
         "showlegend": true,
         "textposition": "auto",
         "type": "bar",
         "x": [
          1,
          2,
          3
         ],
         "xaxis": "x",
         "y": [
          0.028237388004523967,
          0.03285117260357828,
          0.03081817799153208
         ],
         "yaxis": "y"
        },
        {
         "alignmentgroup": "True",
         "hovertemplate": "variable=non-starchy vegetables<br>edu=%{x}<br>value=%{y}<extra></extra>",
         "legendgroup": "non-starchy vegetables",
         "marker": {
          "color": "#FF6692",
          "pattern": {
           "shape": ""
          }
         },
         "name": "non-starchy vegetables",
         "offsetgroup": "non-starchy vegetables",
         "orientation": "v",
         "showlegend": true,
         "textposition": "auto",
         "type": "bar",
         "x": [
          1,
          2,
          3
         ],
         "xaxis": "x",
         "y": [
          0.11441259339060703,
          0.11942904249774641,
          0.135637664317751
         ],
         "yaxis": "y"
        },
        {
         "alignmentgroup": "True",
         "hovertemplate": "variable=fruits<br>edu=%{x}<br>value=%{y}<extra></extra>",
         "legendgroup": "fruits",
         "marker": {
          "color": "#B6E880",
          "pattern": {
           "shape": ""
          }
         },
         "name": "fruits",
         "offsetgroup": "fruits",
         "orientation": "v",
         "showlegend": true,
         "textposition": "auto",
         "type": "bar",
         "x": [
          1,
          2,
          3
         ],
         "xaxis": "x",
         "y": [
          0.08771628236410954,
          0.08161768639279753,
          0.09073881792796623
         ],
         "yaxis": "y"
        }
       ],
       "layout": {
        "barmode": "relative",
        "legend": {
         "title": {
          "text": "variable"
         },
         "tracegroupgap": 0
        },
        "margin": {
         "t": 60
        },
        "template": {
         "data": {
          "bar": [
           {
            "error_x": {
             "color": "#2a3f5f"
            },
            "error_y": {
             "color": "#2a3f5f"
            },
            "marker": {
             "line": {
              "color": "#E5ECF6",
              "width": 0.5
             },
             "pattern": {
              "fillmode": "overlay",
              "size": 10,
              "solidity": 0.2
             }
            },
            "type": "bar"
           }
          ],
          "barpolar": [
           {
            "marker": {
             "line": {
              "color": "#E5ECF6",
              "width": 0.5
             },
             "pattern": {
              "fillmode": "overlay",
              "size": 10,
              "solidity": 0.2
             }
            },
            "type": "barpolar"
           }
          ],
          "carpet": [
           {
            "aaxis": {
             "endlinecolor": "#2a3f5f",
             "gridcolor": "white",
             "linecolor": "white",
             "minorgridcolor": "white",
             "startlinecolor": "#2a3f5f"
            },
            "baxis": {
             "endlinecolor": "#2a3f5f",
             "gridcolor": "white",
             "linecolor": "white",
             "minorgridcolor": "white",
             "startlinecolor": "#2a3f5f"
            },
            "type": "carpet"
           }
          ],
          "choropleth": [
           {
            "colorbar": {
             "outlinewidth": 0,
             "ticks": ""
            },
            "type": "choropleth"
           }
          ],
          "contour": [
           {
            "colorbar": {
             "outlinewidth": 0,
             "ticks": ""
            },
            "colorscale": [
             [
              0,
              "#0d0887"
             ],
             [
              0.1111111111111111,
              "#46039f"
             ],
             [
              0.2222222222222222,
              "#7201a8"
             ],
             [
              0.3333333333333333,
              "#9c179e"
             ],
             [
              0.4444444444444444,
              "#bd3786"
             ],
             [
              0.5555555555555556,
              "#d8576b"
             ],
             [
              0.6666666666666666,
              "#ed7953"
             ],
             [
              0.7777777777777778,
              "#fb9f3a"
             ],
             [
              0.8888888888888888,
              "#fdca26"
             ],
             [
              1,
              "#f0f921"
             ]
            ],
            "type": "contour"
           }
          ],
          "contourcarpet": [
           {
            "colorbar": {
             "outlinewidth": 0,
             "ticks": ""
            },
            "type": "contourcarpet"
           }
          ],
          "heatmap": [
           {
            "colorbar": {
             "outlinewidth": 0,
             "ticks": ""
            },
            "colorscale": [
             [
              0,
              "#0d0887"
             ],
             [
              0.1111111111111111,
              "#46039f"
             ],
             [
              0.2222222222222222,
              "#7201a8"
             ],
             [
              0.3333333333333333,
              "#9c179e"
             ],
             [
              0.4444444444444444,
              "#bd3786"
             ],
             [
              0.5555555555555556,
              "#d8576b"
             ],
             [
              0.6666666666666666,
              "#ed7953"
             ],
             [
              0.7777777777777778,
              "#fb9f3a"
             ],
             [
              0.8888888888888888,
              "#fdca26"
             ],
             [
              1,
              "#f0f921"
             ]
            ],
            "type": "heatmap"
           }
          ],
          "heatmapgl": [
           {
            "colorbar": {
             "outlinewidth": 0,
             "ticks": ""
            },
            "colorscale": [
             [
              0,
              "#0d0887"
             ],
             [
              0.1111111111111111,
              "#46039f"
             ],
             [
              0.2222222222222222,
              "#7201a8"
             ],
             [
              0.3333333333333333,
              "#9c179e"
             ],
             [
              0.4444444444444444,
              "#bd3786"
             ],
             [
              0.5555555555555556,
              "#d8576b"
             ],
             [
              0.6666666666666666,
              "#ed7953"
             ],
             [
              0.7777777777777778,
              "#fb9f3a"
             ],
             [
              0.8888888888888888,
              "#fdca26"
             ],
             [
              1,
              "#f0f921"
             ]
            ],
            "type": "heatmapgl"
           }
          ],
          "histogram": [
           {
            "marker": {
             "pattern": {
              "fillmode": "overlay",
              "size": 10,
              "solidity": 0.2
             }
            },
            "type": "histogram"
           }
          ],
          "histogram2d": [
           {
            "colorbar": {
             "outlinewidth": 0,
             "ticks": ""
            },
            "colorscale": [
             [
              0,
              "#0d0887"
             ],
             [
              0.1111111111111111,
              "#46039f"
             ],
             [
              0.2222222222222222,
              "#7201a8"
             ],
             [
              0.3333333333333333,
              "#9c179e"
             ],
             [
              0.4444444444444444,
              "#bd3786"
             ],
             [
              0.5555555555555556,
              "#d8576b"
             ],
             [
              0.6666666666666666,
              "#ed7953"
             ],
             [
              0.7777777777777778,
              "#fb9f3a"
             ],
             [
              0.8888888888888888,
              "#fdca26"
             ],
             [
              1,
              "#f0f921"
             ]
            ],
            "type": "histogram2d"
           }
          ],
          "histogram2dcontour": [
           {
            "colorbar": {
             "outlinewidth": 0,
             "ticks": ""
            },
            "colorscale": [
             [
              0,
              "#0d0887"
             ],
             [
              0.1111111111111111,
              "#46039f"
             ],
             [
              0.2222222222222222,
              "#7201a8"
             ],
             [
              0.3333333333333333,
              "#9c179e"
             ],
             [
              0.4444444444444444,
              "#bd3786"
             ],
             [
              0.5555555555555556,
              "#d8576b"
             ],
             [
              0.6666666666666666,
              "#ed7953"
             ],
             [
              0.7777777777777778,
              "#fb9f3a"
             ],
             [
              0.8888888888888888,
              "#fdca26"
             ],
             [
              1,
              "#f0f921"
             ]
            ],
            "type": "histogram2dcontour"
           }
          ],
          "mesh3d": [
           {
            "colorbar": {
             "outlinewidth": 0,
             "ticks": ""
            },
            "type": "mesh3d"
           }
          ],
          "parcoords": [
           {
            "line": {
             "colorbar": {
              "outlinewidth": 0,
              "ticks": ""
             }
            },
            "type": "parcoords"
           }
          ],
          "pie": [
           {
            "automargin": true,
            "type": "pie"
           }
          ],
          "scatter": [
           {
            "fillpattern": {
             "fillmode": "overlay",
             "size": 10,
             "solidity": 0.2
            },
            "type": "scatter"
           }
          ],
          "scatter3d": [
           {
            "line": {
             "colorbar": {
              "outlinewidth": 0,
              "ticks": ""
             }
            },
            "marker": {
             "colorbar": {
              "outlinewidth": 0,
              "ticks": ""
             }
            },
            "type": "scatter3d"
           }
          ],
          "scattercarpet": [
           {
            "marker": {
             "colorbar": {
              "outlinewidth": 0,
              "ticks": ""
             }
            },
            "type": "scattercarpet"
           }
          ],
          "scattergeo": [
           {
            "marker": {
             "colorbar": {
              "outlinewidth": 0,
              "ticks": ""
             }
            },
            "type": "scattergeo"
           }
          ],
          "scattergl": [
           {
            "marker": {
             "colorbar": {
              "outlinewidth": 0,
              "ticks": ""
             }
            },
            "type": "scattergl"
           }
          ],
          "scattermapbox": [
           {
            "marker": {
             "colorbar": {
              "outlinewidth": 0,
              "ticks": ""
             }
            },
            "type": "scattermapbox"
           }
          ],
          "scatterpolar": [
           {
            "marker": {
             "colorbar": {
              "outlinewidth": 0,
              "ticks": ""
             }
            },
            "type": "scatterpolar"
           }
          ],
          "scatterpolargl": [
           {
            "marker": {
             "colorbar": {
              "outlinewidth": 0,
              "ticks": ""
             }
            },
            "type": "scatterpolargl"
           }
          ],
          "scatterternary": [
           {
            "marker": {
             "colorbar": {
              "outlinewidth": 0,
              "ticks": ""
             }
            },
            "type": "scatterternary"
           }
          ],
          "surface": [
           {
            "colorbar": {
             "outlinewidth": 0,
             "ticks": ""
            },
            "colorscale": [
             [
              0,
              "#0d0887"
             ],
             [
              0.1111111111111111,
              "#46039f"
             ],
             [
              0.2222222222222222,
              "#7201a8"
             ],
             [
              0.3333333333333333,
              "#9c179e"
             ],
             [
              0.4444444444444444,
              "#bd3786"
             ],
             [
              0.5555555555555556,
              "#d8576b"
             ],
             [
              0.6666666666666666,
              "#ed7953"
             ],
             [
              0.7777777777777778,
              "#fb9f3a"
             ],
             [
              0.8888888888888888,
              "#fdca26"
             ],
             [
              1,
              "#f0f921"
             ]
            ],
            "type": "surface"
           }
          ],
          "table": [
           {
            "cells": {
             "fill": {
              "color": "#EBF0F8"
             },
             "line": {
              "color": "white"
             }
            },
            "header": {
             "fill": {
              "color": "#C8D4E3"
             },
             "line": {
              "color": "white"
             }
            },
            "type": "table"
           }
          ]
         },
         "layout": {
          "annotationdefaults": {
           "arrowcolor": "#2a3f5f",
           "arrowhead": 0,
           "arrowwidth": 1
          },
          "autotypenumbers": "strict",
          "coloraxis": {
           "colorbar": {
            "outlinewidth": 0,
            "ticks": ""
           }
          },
          "colorscale": {
           "diverging": [
            [
             0,
             "#8e0152"
            ],
            [
             0.1,
             "#c51b7d"
            ],
            [
             0.2,
             "#de77ae"
            ],
            [
             0.3,
             "#f1b6da"
            ],
            [
             0.4,
             "#fde0ef"
            ],
            [
             0.5,
             "#f7f7f7"
            ],
            [
             0.6,
             "#e6f5d0"
            ],
            [
             0.7,
             "#b8e186"
            ],
            [
             0.8,
             "#7fbc41"
            ],
            [
             0.9,
             "#4d9221"
            ],
            [
             1,
             "#276419"
            ]
           ],
           "sequential": [
            [
             0,
             "#0d0887"
            ],
            [
             0.1111111111111111,
             "#46039f"
            ],
            [
             0.2222222222222222,
             "#7201a8"
            ],
            [
             0.3333333333333333,
             "#9c179e"
            ],
            [
             0.4444444444444444,
             "#bd3786"
            ],
            [
             0.5555555555555556,
             "#d8576b"
            ],
            [
             0.6666666666666666,
             "#ed7953"
            ],
            [
             0.7777777777777778,
             "#fb9f3a"
            ],
            [
             0.8888888888888888,
             "#fdca26"
            ],
            [
             1,
             "#f0f921"
            ]
           ],
           "sequentialminus": [
            [
             0,
             "#0d0887"
            ],
            [
             0.1111111111111111,
             "#46039f"
            ],
            [
             0.2222222222222222,
             "#7201a8"
            ],
            [
             0.3333333333333333,
             "#9c179e"
            ],
            [
             0.4444444444444444,
             "#bd3786"
            ],
            [
             0.5555555555555556,
             "#d8576b"
            ],
            [
             0.6666666666666666,
             "#ed7953"
            ],
            [
             0.7777777777777778,
             "#fb9f3a"
            ],
            [
             0.8888888888888888,
             "#fdca26"
            ],
            [
             1,
             "#f0f921"
            ]
           ]
          },
          "colorway": [
           "#636efa",
           "#EF553B",
           "#00cc96",
           "#ab63fa",
           "#FFA15A",
           "#19d3f3",
           "#FF6692",
           "#B6E880",
           "#FF97FF",
           "#FECB52"
          ],
          "font": {
           "color": "#2a3f5f"
          },
          "geo": {
           "bgcolor": "white",
           "lakecolor": "white",
           "landcolor": "#E5ECF6",
           "showlakes": true,
           "showland": true,
           "subunitcolor": "white"
          },
          "hoverlabel": {
           "align": "left"
          },
          "hovermode": "closest",
          "mapbox": {
           "style": "light"
          },
          "paper_bgcolor": "white",
          "plot_bgcolor": "#E5ECF6",
          "polar": {
           "angularaxis": {
            "gridcolor": "white",
            "linecolor": "white",
            "ticks": ""
           },
           "bgcolor": "#E5ECF6",
           "radialaxis": {
            "gridcolor": "white",
            "linecolor": "white",
            "ticks": ""
           }
          },
          "scene": {
           "xaxis": {
            "backgroundcolor": "#E5ECF6",
            "gridcolor": "white",
            "gridwidth": 2,
            "linecolor": "white",
            "showbackground": true,
            "ticks": "",
            "zerolinecolor": "white"
           },
           "yaxis": {
            "backgroundcolor": "#E5ECF6",
            "gridcolor": "white",
            "gridwidth": 2,
            "linecolor": "white",
            "showbackground": true,
            "ticks": "",
            "zerolinecolor": "white"
           },
           "zaxis": {
            "backgroundcolor": "#E5ECF6",
            "gridcolor": "white",
            "gridwidth": 2,
            "linecolor": "white",
            "showbackground": true,
            "ticks": "",
            "zerolinecolor": "white"
           }
          },
          "shapedefaults": {
           "line": {
            "color": "#2a3f5f"
           }
          },
          "ternary": {
           "aaxis": {
            "gridcolor": "white",
            "linecolor": "white",
            "ticks": ""
           },
           "baxis": {
            "gridcolor": "white",
            "linecolor": "white",
            "ticks": ""
           },
           "bgcolor": "#E5ECF6",
           "caxis": {
            "gridcolor": "white",
            "linecolor": "white",
            "ticks": ""
           }
          },
          "title": {
           "x": 0.05
          },
          "xaxis": {
           "automargin": true,
           "gridcolor": "white",
           "linecolor": "white",
           "ticks": "",
           "title": {
            "standoff": 15
           },
           "zerolinecolor": "white",
           "zerolinewidth": 2
          },
          "yaxis": {
           "automargin": true,
           "gridcolor": "white",
           "linecolor": "white",
           "ticks": "",
           "title": {
            "standoff": 15
           },
           "zerolinecolor": "white",
           "zerolinewidth": 2
          }
         }
        },
        "xaxis": {
         "anchor": "y",
         "domain": [
          0,
          1
         ],
         "title": {
          "text": "edu"
         }
        },
        "yaxis": {
         "anchor": "x",
         "domain": [
          0,
          1
         ],
         "title": {
          "text": "value"
         }
        }
       }
      },
      "text/html": [
       "<div>                            <div id=\"afdef90c-d845-488f-b99d-eb88ebd18a52\" class=\"plotly-graph-div\" style=\"height:525px; width:100%;\"></div>            <script type=\"text/javascript\">                require([\"plotly\"], function(Plotly) {                    window.PLOTLYENV=window.PLOTLYENV || {};                                    if (document.getElementById(\"afdef90c-d845-488f-b99d-eb88ebd18a52\")) {                    Plotly.newPlot(                        \"afdef90c-d845-488f-b99d-eb88ebd18a52\",                        [{\"alignmentgroup\":\"True\",\"hovertemplate\":\"variable=Total Milk<br>edu=%{x}<br>value=%{y}<extra></extra>\",\"legendgroup\":\"Total Milk\",\"marker\":{\"color\":\"#636efa\",\"pattern\":{\"shape\":\"\"}},\"name\":\"Total Milk\",\"offsetgroup\":\"Total Milk\",\"orientation\":\"v\",\"showlegend\":true,\"textposition\":\"auto\",\"x\":[1,2,3],\"xaxis\":\"x\",\"y\":[0.1849182522754144,0.1846752604221115,0.19640545342514856],\"yaxis\":\"y\",\"type\":\"bar\"},{\"alignmentgroup\":\"True\",\"hovertemplate\":\"variable=Tea<br>edu=%{x}<br>value=%{y}<extra></extra>\",\"legendgroup\":\"Tea\",\"marker\":{\"color\":\"#EF553B\",\"pattern\":{\"shape\":\"\"}},\"name\":\"Tea\",\"offsetgroup\":\"Tea\",\"orientation\":\"v\",\"showlegend\":true,\"textposition\":\"auto\",\"x\":[1,2,3],\"xaxis\":\"x\",\"y\":[0.0005881244084407467,0.000661724861127823,0.0006723024876890223],\"yaxis\":\"y\",\"type\":\"bar\"},{\"alignmentgroup\":\"True\",\"hovertemplate\":\"variable=Coffee<br>edu=%{x}<br>value=%{y}<extra></extra>\",\"legendgroup\":\"Coffee\",\"marker\":{\"color\":\"#00cc96\",\"pattern\":{\"shape\":\"\"}},\"name\":\"Coffee\",\"offsetgroup\":\"Coffee\",\"orientation\":\"v\",\"showlegend\":true,\"textposition\":\"auto\",\"x\":[1,2,3],\"xaxis\":\"x\",\"y\":[0.0008800328883212411,0.0009855758983623405,0.0009773872792099103],\"yaxis\":\"y\",\"type\":\"bar\"},{\"alignmentgroup\":\"True\",\"hovertemplate\":\"variable=Fruit juices<br>edu=%{x}<br>value=%{y}<extra></extra>\",\"legendgroup\":\"Fruit juices\",\"marker\":{\"color\":\"#ab63fa\",\"pattern\":{\"shape\":\"\"}},\"name\":\"Fruit juices\",\"offsetgroup\":\"Fruit juices\",\"orientation\":\"v\",\"showlegend\":true,\"textposition\":\"auto\",\"x\":[1,2,3],\"xaxis\":\"x\",\"y\":[0.08103975549774697,0.07933647963184354,0.09055914494313122],\"yaxis\":\"y\",\"type\":\"bar\"},{\"alignmentgroup\":\"True\",\"hovertemplate\":\"variable=Sugar-sweetened beverages<br>edu=%{x}<br>value=%{y}<extra></extra>\",\"legendgroup\":\"Sugar-sweetened beverages\",\"marker\":{\"color\":\"#FFA15A\",\"pattern\":{\"shape\":\"\"}},\"name\":\"Sugar-sweetened beverages\",\"offsetgroup\":\"Sugar-sweetened beverages\",\"orientation\":\"v\",\"showlegend\":true,\"textposition\":\"auto\",\"x\":[1,2,3],\"xaxis\":\"x\",\"y\":[0.22705095758173238,0.22994958412222302,0.1718592235095642],\"yaxis\":\"y\",\"type\":\"bar\"},{\"alignmentgroup\":\"True\",\"hovertemplate\":\"variable=Yoghurt (including fermented milk)<br>edu=%{x}<br>value=%{y}<extra></extra>\",\"legendgroup\":\"Yoghurt (including fermented milk)\",\"marker\":{\"color\":\"#19d3f3\",\"pattern\":{\"shape\":\"\"}},\"name\":\"Yoghurt (including fermented milk)\",\"offsetgroup\":\"Yoghurt (including fermented milk)\",\"orientation\":\"v\",\"showlegend\":true,\"textposition\":\"auto\",\"x\":[1,2,3],\"xaxis\":\"x\",\"y\":[0.010324757831742259,0.011258551886835503,0.015862400141661362],\"yaxis\":\"y\",\"type\":\"bar\"},{\"alignmentgroup\":\"True\",\"hovertemplate\":\"variable=Cheese<br>edu=%{x}<br>value=%{y}<extra></extra>\",\"legendgroup\":\"Cheese\",\"marker\":{\"color\":\"#FF6692\",\"pattern\":{\"shape\":\"\"}},\"name\":\"Cheese\",\"offsetgroup\":\"Cheese\",\"orientation\":\"v\",\"showlegend\":true,\"textposition\":\"auto\",\"x\":[1,2,3],\"xaxis\":\"x\",\"y\":[0.024451405959121958,0.02856554307002836,0.03194021376984723],\"yaxis\":\"y\",\"type\":\"bar\"},{\"alignmentgroup\":\"True\",\"hovertemplate\":\"variable=Eggs<br>edu=%{x}<br>value=%{y}<extra></extra>\",\"legendgroup\":\"Eggs\",\"marker\":{\"color\":\"#B6E880\",\"pattern\":{\"shape\":\"\"}},\"name\":\"Eggs\",\"offsetgroup\":\"Eggs\",\"orientation\":\"v\",\"showlegend\":true,\"textposition\":\"auto\",\"x\":[1,2,3],\"xaxis\":\"x\",\"y\":[0.0193135945322833,0.01960749928534766,0.019729846541619953],\"yaxis\":\"y\",\"type\":\"bar\"},{\"alignmentgroup\":\"True\",\"hovertemplate\":\"variable=Total seafoods<br>edu=%{x}<br>value=%{y}<extra></extra>\",\"legendgroup\":\"Total seafoods\",\"marker\":{\"color\":\"#FF97FF\",\"pattern\":{\"shape\":\"\"}},\"name\":\"Total seafoods\",\"offsetgroup\":\"Total seafoods\",\"orientation\":\"v\",\"showlegend\":true,\"textposition\":\"auto\",\"x\":[1,2,3],\"xaxis\":\"x\",\"y\":[0.010272980021466581,0.010436728085671185,0.011781512333617879],\"yaxis\":\"y\",\"type\":\"bar\"},{\"alignmentgroup\":\"True\",\"hovertemplate\":\"variable=Unprocessed red meats<br>edu=%{x}<br>value=%{y}<extra></extra>\",\"legendgroup\":\"Unprocessed red meats\",\"marker\":{\"color\":\"#FECB52\",\"pattern\":{\"shape\":\"\"}},\"name\":\"Unprocessed red meats\",\"offsetgroup\":\"Unprocessed red meats\",\"orientation\":\"v\",\"showlegend\":true,\"textposition\":\"auto\",\"x\":[1,2,3],\"xaxis\":\"x\",\"y\":[0.03662789391473877,0.03751213903663414,0.03486034963812545],\"yaxis\":\"y\",\"type\":\"bar\"},{\"alignmentgroup\":\"True\",\"hovertemplate\":\"variable=Total processed meats<br>edu=%{x}<br>value=%{y}<extra></extra>\",\"legendgroup\":\"Total processed meats\",\"marker\":{\"color\":\"#636efa\",\"pattern\":{\"shape\":\"\"}},\"name\":\"Total processed meats\",\"offsetgroup\":\"Total processed meats\",\"orientation\":\"v\",\"showlegend\":true,\"textposition\":\"auto\",\"x\":[1,2,3],\"xaxis\":\"x\",\"y\":[0.02142442760903202,0.0258980167928141,0.024613230148583586],\"yaxis\":\"y\",\"type\":\"bar\"},{\"alignmentgroup\":\"True\",\"hovertemplate\":\"variable=Whole grains<br>edu=%{x}<br>value=%{y}<extra></extra>\",\"legendgroup\":\"Whole grains\",\"marker\":{\"color\":\"#EF553B\",\"pattern\":{\"shape\":\"\"}},\"name\":\"Whole grains\",\"offsetgroup\":\"Whole grains\",\"orientation\":\"v\",\"showlegend\":true,\"textposition\":\"auto\",\"x\":[1,2,3],\"xaxis\":\"x\",\"y\":[0.014126310037024898,0.016395416222602464,0.02120043426796305],\"yaxis\":\"y\",\"type\":\"bar\"},{\"alignmentgroup\":\"True\",\"hovertemplate\":\"variable=Refined grains<br>edu=%{x}<br>value=%{y}<extra></extra>\",\"legendgroup\":\"Refined grains\",\"marker\":{\"color\":\"#00cc96\",\"pattern\":{\"shape\":\"\"}},\"name\":\"Refined grains\",\"offsetgroup\":\"Refined grains\",\"orientation\":\"v\",\"showlegend\":true,\"textposition\":\"auto\",\"x\":[1,2,3],\"xaxis\":\"x\",\"y\":[0.0986510744630702,0.09141798079915575,0.09057273837707619],\"yaxis\":\"y\",\"type\":\"bar\"},{\"alignmentgroup\":\"True\",\"hovertemplate\":\"variable=nuts and seeds<br>edu=%{x}<br>value=%{y}<extra></extra>\",\"legendgroup\":\"nuts and seeds\",\"marker\":{\"color\":\"#ab63fa\",\"pattern\":{\"shape\":\"\"}},\"name\":\"nuts and seeds\",\"offsetgroup\":\"nuts and seeds\",\"orientation\":\"v\",\"showlegend\":true,\"textposition\":\"auto\",\"x\":[1,2,3],\"xaxis\":\"x\",\"y\":[0.006232328158326422,0.00968566911959998,0.012502774937693788],\"yaxis\":\"y\",\"type\":\"bar\"},{\"alignmentgroup\":\"True\",\"hovertemplate\":\"variable=beans and legumes<br>edu=%{x}<br>value=%{y}<extra></extra>\",\"legendgroup\":\"beans and legumes\",\"marker\":{\"color\":\"#FFA15A\",\"pattern\":{\"shape\":\"\"}},\"name\":\"beans and legumes\",\"offsetgroup\":\"beans and legumes\",\"orientation\":\"v\",\"showlegend\":true,\"textposition\":\"auto\",\"x\":[1,2,3],\"xaxis\":\"x\",\"y\":[0.03373184106229744,0.019715929271520428,0.019268327961819164],\"yaxis\":\"y\",\"type\":\"bar\"},{\"alignmentgroup\":\"True\",\"hovertemplate\":\"variable=potatoes<br>edu=%{x}<br>value=%{y}<extra></extra>\",\"legendgroup\":\"potatoes\",\"marker\":{\"color\":\"#19d3f3\",\"pattern\":{\"shape\":\"\"}},\"name\":\"potatoes\",\"offsetgroup\":\"potatoes\",\"orientation\":\"v\",\"showlegend\":true,\"textposition\":\"auto\",\"x\":[1,2,3],\"xaxis\":\"x\",\"y\":[0.028237388004523967,0.03285117260357828,0.03081817799153208],\"yaxis\":\"y\",\"type\":\"bar\"},{\"alignmentgroup\":\"True\",\"hovertemplate\":\"variable=non-starchy vegetables<br>edu=%{x}<br>value=%{y}<extra></extra>\",\"legendgroup\":\"non-starchy vegetables\",\"marker\":{\"color\":\"#FF6692\",\"pattern\":{\"shape\":\"\"}},\"name\":\"non-starchy vegetables\",\"offsetgroup\":\"non-starchy vegetables\",\"orientation\":\"v\",\"showlegend\":true,\"textposition\":\"auto\",\"x\":[1,2,3],\"xaxis\":\"x\",\"y\":[0.11441259339060703,0.11942904249774641,0.135637664317751],\"yaxis\":\"y\",\"type\":\"bar\"},{\"alignmentgroup\":\"True\",\"hovertemplate\":\"variable=fruits<br>edu=%{x}<br>value=%{y}<extra></extra>\",\"legendgroup\":\"fruits\",\"marker\":{\"color\":\"#B6E880\",\"pattern\":{\"shape\":\"\"}},\"name\":\"fruits\",\"offsetgroup\":\"fruits\",\"orientation\":\"v\",\"showlegend\":true,\"textposition\":\"auto\",\"x\":[1,2,3],\"xaxis\":\"x\",\"y\":[0.08771628236410954,0.08161768639279753,0.09073881792796623],\"yaxis\":\"y\",\"type\":\"bar\"}],                        {\"template\":{\"data\":{\"histogram2dcontour\":[{\"type\":\"histogram2dcontour\",\"colorbar\":{\"outlinewidth\":0,\"ticks\":\"\"},\"colorscale\":[[0.0,\"#0d0887\"],[0.1111111111111111,\"#46039f\"],[0.2222222222222222,\"#7201a8\"],[0.3333333333333333,\"#9c179e\"],[0.4444444444444444,\"#bd3786\"],[0.5555555555555556,\"#d8576b\"],[0.6666666666666666,\"#ed7953\"],[0.7777777777777778,\"#fb9f3a\"],[0.8888888888888888,\"#fdca26\"],[1.0,\"#f0f921\"]]}],\"choropleth\":[{\"type\":\"choropleth\",\"colorbar\":{\"outlinewidth\":0,\"ticks\":\"\"}}],\"histogram2d\":[{\"type\":\"histogram2d\",\"colorbar\":{\"outlinewidth\":0,\"ticks\":\"\"},\"colorscale\":[[0.0,\"#0d0887\"],[0.1111111111111111,\"#46039f\"],[0.2222222222222222,\"#7201a8\"],[0.3333333333333333,\"#9c179e\"],[0.4444444444444444,\"#bd3786\"],[0.5555555555555556,\"#d8576b\"],[0.6666666666666666,\"#ed7953\"],[0.7777777777777778,\"#fb9f3a\"],[0.8888888888888888,\"#fdca26\"],[1.0,\"#f0f921\"]]}],\"heatmap\":[{\"type\":\"heatmap\",\"colorbar\":{\"outlinewidth\":0,\"ticks\":\"\"},\"colorscale\":[[0.0,\"#0d0887\"],[0.1111111111111111,\"#46039f\"],[0.2222222222222222,\"#7201a8\"],[0.3333333333333333,\"#9c179e\"],[0.4444444444444444,\"#bd3786\"],[0.5555555555555556,\"#d8576b\"],[0.6666666666666666,\"#ed7953\"],[0.7777777777777778,\"#fb9f3a\"],[0.8888888888888888,\"#fdca26\"],[1.0,\"#f0f921\"]]}],\"heatmapgl\":[{\"type\":\"heatmapgl\",\"colorbar\":{\"outlinewidth\":0,\"ticks\":\"\"},\"colorscale\":[[0.0,\"#0d0887\"],[0.1111111111111111,\"#46039f\"],[0.2222222222222222,\"#7201a8\"],[0.3333333333333333,\"#9c179e\"],[0.4444444444444444,\"#bd3786\"],[0.5555555555555556,\"#d8576b\"],[0.6666666666666666,\"#ed7953\"],[0.7777777777777778,\"#fb9f3a\"],[0.8888888888888888,\"#fdca26\"],[1.0,\"#f0f921\"]]}],\"contourcarpet\":[{\"type\":\"contourcarpet\",\"colorbar\":{\"outlinewidth\":0,\"ticks\":\"\"}}],\"contour\":[{\"type\":\"contour\",\"colorbar\":{\"outlinewidth\":0,\"ticks\":\"\"},\"colorscale\":[[0.0,\"#0d0887\"],[0.1111111111111111,\"#46039f\"],[0.2222222222222222,\"#7201a8\"],[0.3333333333333333,\"#9c179e\"],[0.4444444444444444,\"#bd3786\"],[0.5555555555555556,\"#d8576b\"],[0.6666666666666666,\"#ed7953\"],[0.7777777777777778,\"#fb9f3a\"],[0.8888888888888888,\"#fdca26\"],[1.0,\"#f0f921\"]]}],\"surface\":[{\"type\":\"surface\",\"colorbar\":{\"outlinewidth\":0,\"ticks\":\"\"},\"colorscale\":[[0.0,\"#0d0887\"],[0.1111111111111111,\"#46039f\"],[0.2222222222222222,\"#7201a8\"],[0.3333333333333333,\"#9c179e\"],[0.4444444444444444,\"#bd3786\"],[0.5555555555555556,\"#d8576b\"],[0.6666666666666666,\"#ed7953\"],[0.7777777777777778,\"#fb9f3a\"],[0.8888888888888888,\"#fdca26\"],[1.0,\"#f0f921\"]]}],\"mesh3d\":[{\"type\":\"mesh3d\",\"colorbar\":{\"outlinewidth\":0,\"ticks\":\"\"}}],\"scatter\":[{\"fillpattern\":{\"fillmode\":\"overlay\",\"size\":10,\"solidity\":0.2},\"type\":\"scatter\"}],\"parcoords\":[{\"type\":\"parcoords\",\"line\":{\"colorbar\":{\"outlinewidth\":0,\"ticks\":\"\"}}}],\"scatterpolargl\":[{\"type\":\"scatterpolargl\",\"marker\":{\"colorbar\":{\"outlinewidth\":0,\"ticks\":\"\"}}}],\"bar\":[{\"error_x\":{\"color\":\"#2a3f5f\"},\"error_y\":{\"color\":\"#2a3f5f\"},\"marker\":{\"line\":{\"color\":\"#E5ECF6\",\"width\":0.5},\"pattern\":{\"fillmode\":\"overlay\",\"size\":10,\"solidity\":0.2}},\"type\":\"bar\"}],\"scattergeo\":[{\"type\":\"scattergeo\",\"marker\":{\"colorbar\":{\"outlinewidth\":0,\"ticks\":\"\"}}}],\"scatterpolar\":[{\"type\":\"scatterpolar\",\"marker\":{\"colorbar\":{\"outlinewidth\":0,\"ticks\":\"\"}}}],\"histogram\":[{\"marker\":{\"pattern\":{\"fillmode\":\"overlay\",\"size\":10,\"solidity\":0.2}},\"type\":\"histogram\"}],\"scattergl\":[{\"type\":\"scattergl\",\"marker\":{\"colorbar\":{\"outlinewidth\":0,\"ticks\":\"\"}}}],\"scatter3d\":[{\"type\":\"scatter3d\",\"line\":{\"colorbar\":{\"outlinewidth\":0,\"ticks\":\"\"}},\"marker\":{\"colorbar\":{\"outlinewidth\":0,\"ticks\":\"\"}}}],\"scattermapbox\":[{\"type\":\"scattermapbox\",\"marker\":{\"colorbar\":{\"outlinewidth\":0,\"ticks\":\"\"}}}],\"scatterternary\":[{\"type\":\"scatterternary\",\"marker\":{\"colorbar\":{\"outlinewidth\":0,\"ticks\":\"\"}}}],\"scattercarpet\":[{\"type\":\"scattercarpet\",\"marker\":{\"colorbar\":{\"outlinewidth\":0,\"ticks\":\"\"}}}],\"carpet\":[{\"aaxis\":{\"endlinecolor\":\"#2a3f5f\",\"gridcolor\":\"white\",\"linecolor\":\"white\",\"minorgridcolor\":\"white\",\"startlinecolor\":\"#2a3f5f\"},\"baxis\":{\"endlinecolor\":\"#2a3f5f\",\"gridcolor\":\"white\",\"linecolor\":\"white\",\"minorgridcolor\":\"white\",\"startlinecolor\":\"#2a3f5f\"},\"type\":\"carpet\"}],\"table\":[{\"cells\":{\"fill\":{\"color\":\"#EBF0F8\"},\"line\":{\"color\":\"white\"}},\"header\":{\"fill\":{\"color\":\"#C8D4E3\"},\"line\":{\"color\":\"white\"}},\"type\":\"table\"}],\"barpolar\":[{\"marker\":{\"line\":{\"color\":\"#E5ECF6\",\"width\":0.5},\"pattern\":{\"fillmode\":\"overlay\",\"size\":10,\"solidity\":0.2}},\"type\":\"barpolar\"}],\"pie\":[{\"automargin\":true,\"type\":\"pie\"}]},\"layout\":{\"autotypenumbers\":\"strict\",\"colorway\":[\"#636efa\",\"#EF553B\",\"#00cc96\",\"#ab63fa\",\"#FFA15A\",\"#19d3f3\",\"#FF6692\",\"#B6E880\",\"#FF97FF\",\"#FECB52\"],\"font\":{\"color\":\"#2a3f5f\"},\"hovermode\":\"closest\",\"hoverlabel\":{\"align\":\"left\"},\"paper_bgcolor\":\"white\",\"plot_bgcolor\":\"#E5ECF6\",\"polar\":{\"bgcolor\":\"#E5ECF6\",\"angularaxis\":{\"gridcolor\":\"white\",\"linecolor\":\"white\",\"ticks\":\"\"},\"radialaxis\":{\"gridcolor\":\"white\",\"linecolor\":\"white\",\"ticks\":\"\"}},\"ternary\":{\"bgcolor\":\"#E5ECF6\",\"aaxis\":{\"gridcolor\":\"white\",\"linecolor\":\"white\",\"ticks\":\"\"},\"baxis\":{\"gridcolor\":\"white\",\"linecolor\":\"white\",\"ticks\":\"\"},\"caxis\":{\"gridcolor\":\"white\",\"linecolor\":\"white\",\"ticks\":\"\"}},\"coloraxis\":{\"colorbar\":{\"outlinewidth\":0,\"ticks\":\"\"}},\"colorscale\":{\"sequential\":[[0.0,\"#0d0887\"],[0.1111111111111111,\"#46039f\"],[0.2222222222222222,\"#7201a8\"],[0.3333333333333333,\"#9c179e\"],[0.4444444444444444,\"#bd3786\"],[0.5555555555555556,\"#d8576b\"],[0.6666666666666666,\"#ed7953\"],[0.7777777777777778,\"#fb9f3a\"],[0.8888888888888888,\"#fdca26\"],[1.0,\"#f0f921\"]],\"sequentialminus\":[[0.0,\"#0d0887\"],[0.1111111111111111,\"#46039f\"],[0.2222222222222222,\"#7201a8\"],[0.3333333333333333,\"#9c179e\"],[0.4444444444444444,\"#bd3786\"],[0.5555555555555556,\"#d8576b\"],[0.6666666666666666,\"#ed7953\"],[0.7777777777777778,\"#fb9f3a\"],[0.8888888888888888,\"#fdca26\"],[1.0,\"#f0f921\"]],\"diverging\":[[0,\"#8e0152\"],[0.1,\"#c51b7d\"],[0.2,\"#de77ae\"],[0.3,\"#f1b6da\"],[0.4,\"#fde0ef\"],[0.5,\"#f7f7f7\"],[0.6,\"#e6f5d0\"],[0.7,\"#b8e186\"],[0.8,\"#7fbc41\"],[0.9,\"#4d9221\"],[1,\"#276419\"]]},\"xaxis\":{\"gridcolor\":\"white\",\"linecolor\":\"white\",\"ticks\":\"\",\"title\":{\"standoff\":15},\"zerolinecolor\":\"white\",\"automargin\":true,\"zerolinewidth\":2},\"yaxis\":{\"gridcolor\":\"white\",\"linecolor\":\"white\",\"ticks\":\"\",\"title\":{\"standoff\":15},\"zerolinecolor\":\"white\",\"automargin\":true,\"zerolinewidth\":2},\"scene\":{\"xaxis\":{\"backgroundcolor\":\"#E5ECF6\",\"gridcolor\":\"white\",\"linecolor\":\"white\",\"showbackground\":true,\"ticks\":\"\",\"zerolinecolor\":\"white\",\"gridwidth\":2},\"yaxis\":{\"backgroundcolor\":\"#E5ECF6\",\"gridcolor\":\"white\",\"linecolor\":\"white\",\"showbackground\":true,\"ticks\":\"\",\"zerolinecolor\":\"white\",\"gridwidth\":2},\"zaxis\":{\"backgroundcolor\":\"#E5ECF6\",\"gridcolor\":\"white\",\"linecolor\":\"white\",\"showbackground\":true,\"ticks\":\"\",\"zerolinecolor\":\"white\",\"gridwidth\":2}},\"shapedefaults\":{\"line\":{\"color\":\"#2a3f5f\"}},\"annotationdefaults\":{\"arrowcolor\":\"#2a3f5f\",\"arrowhead\":0,\"arrowwidth\":1},\"geo\":{\"bgcolor\":\"white\",\"landcolor\":\"#E5ECF6\",\"subunitcolor\":\"white\",\"showland\":true,\"showlakes\":true,\"lakecolor\":\"white\"},\"title\":{\"x\":0.05},\"mapbox\":{\"style\":\"light\"}}},\"xaxis\":{\"anchor\":\"y\",\"domain\":[0.0,1.0],\"title\":{\"text\":\"edu\"}},\"yaxis\":{\"anchor\":\"x\",\"domain\":[0.0,1.0],\"title\":{\"text\":\"value\"}},\"legend\":{\"title\":{\"text\":\"variable\"},\"tracegroupgap\":0},\"margin\":{\"t\":60},\"barmode\":\"relative\"},                        {\"responsive\": true}                    ).then(function(){\n",
       "                            \n",
       "var gd = document.getElementById('afdef90c-d845-488f-b99d-eb88ebd18a52');\n",
       "var x = new MutationObserver(function (mutations, observer) {{\n",
       "        var display = window.getComputedStyle(gd).display;\n",
       "        if (!display || display === 'none') {{\n",
       "            console.log([gd, 'removed!']);\n",
       "            Plotly.purge(gd);\n",
       "            observer.disconnect();\n",
       "        }}\n",
       "}});\n",
       "\n",
       "// Listen for the removal of the full notebook cells\n",
       "var notebookContainer = gd.closest('#notebook-container');\n",
       "if (notebookContainer) {{\n",
       "    x.observe(notebookContainer, {childList: true});\n",
       "}}\n",
       "\n",
       "// Listen for the clearing of the current output cell\n",
       "var outputEl = gd.closest('.output');\n",
       "if (outputEl) {{\n",
       "    x.observe(outputEl, {childList: true});\n",
       "}}\n",
       "\n",
       "                        })                };                });            </script>        </div>"
      ]
     },
     "metadata": {},
     "output_type": "display_data"
    }
   ],
   "source": [
    "food = ['Total Milk','Tea', 'Coffee', 'Fruit juices',\n",
    "       'Sugar-sweetened beverages', 'Yoghurt (including fermented milk)',\n",
    "       'Cheese', 'Eggs', 'Total seafoods', 'Unprocessed red meats',\n",
    "       'Total processed meats', 'Whole grains', 'Refined grains',\n",
    "       'nuts and seeds', 'beans and legumes', 'potatoes',\n",
    "       'non-starchy vegetables', 'fruits']\n",
    "fig = px.bar(nutrition_by_education_us, x=nutrition_by_education_us['edu'], y=food)\n",
    "fig.show()"
   ]
  },
  {
   "cell_type": "code",
   "execution_count": 50,
   "id": "fe8ddcc5",
   "metadata": {},
   "outputs": [
    {
     "data": {
      "text/plain": [
       "Index(['Unnamed: 0', 'iso3', 'age', 'female', 'urban', 'edu', 'year',\n",
       "       'Vitamin B9', 'Vitamin B3', 'Vitamin B2', 'Total Milk', 'Zinc',\n",
       "       'Vitamin E', 'Vitamin D', 'Vitamin C', 'Vitamin B12', 'Vitamin B6',\n",
       "       'Vitamin A', 'Selenium', 'Potassium', 'Magnesium', 'Iron', 'Iodine',\n",
       "       'Dietary Sodium', 'Calcium', 'Added sugars', 'Dietary fiber',\n",
       "       'Dietary cholesterol', 'Plant omega-3 fat', 'Seafood omega-3 fat',\n",
       "       'Total omega-6 fat', 'Monounsaturated fatty acids', 'Saturated fat',\n",
       "       'Total protein', 'Total carbohydrates', 'Tea', 'Coffee', 'Fruit juices',\n",
       "       'Sugar-sweetened beverages', 'Yoghurt (including fermented milk)',\n",
       "       'Cheese', 'Eggs', 'Total seafoods', 'Unprocessed red meats',\n",
       "       'Total processed meats', 'Whole grains', 'Refined grains',\n",
       "       'nuts and seeds', 'beans and legumes', 'potatoes',\n",
       "       'non-starchy vegetables', 'fruits'],\n",
       "      dtype='object')"
      ]
     },
     "execution_count": 50,
     "metadata": {},
     "output_type": "execute_result"
    }
   ],
   "source": [
    "nutrition.columns"
   ]
  },
  {
   "cell_type": "code",
   "execution_count": 66,
   "id": "87774fe8",
   "metadata": {},
   "outputs": [],
   "source": [
    "col_list = ['Total Milk', 'Tea', 'Coffee', 'Fruit juices',\n",
    "       'Sugar-sweetened beverages', 'Yoghurt (including fermented milk)',\n",
    "       'Cheese', 'Eggs', 'Total seafoods', 'Unprocessed red meats',\n",
    "       'Total processed meats', 'Whole grains', 'Refined grains',\n",
    "       'nuts and seeds', 'beans and legumes', 'potatoes',\n",
    "       'non-starchy vegetables', 'fruits']"
   ]
  },
  {
   "cell_type": "code",
   "execution_count": 67,
   "id": "e2fea26e",
   "metadata": {},
   "outputs": [],
   "source": [
    "nutrition['sum_food'] = nutrition[col_list].sum(axis=1)"
   ]
  },
  {
   "cell_type": "code",
   "execution_count": 68,
   "id": "94667ab4",
   "metadata": {},
   "outputs": [],
   "source": [
    "for i in col_list:\n",
    "    nutrition[i] = nutrition[i]/nutrition['sum_food']"
   ]
  },
  {
   "cell_type": "code",
   "execution_count": 83,
   "id": "b6629b7c",
   "metadata": {},
   "outputs": [],
   "source": [
    "nutrition = nutrition.loc[(nutrition['female'] == 999) & \n",
    "                                       (nutrition['urban'] == 999) & \n",
    "                                       (nutrition['age'] == 999) & (nutrition['edu'] == 999)]"
   ]
  },
  {
   "cell_type": "code",
   "execution_count": 84,
   "id": "72ca42eb",
   "metadata": {},
   "outputs": [],
   "source": [
    "nutrition = nutrition.drop(columns = ['age', 'female', 'urban', \n",
    "                                     'edu', 'year'])"
   ]
  },
  {
   "cell_type": "code",
   "execution_count": 85,
   "id": "1a28106c",
   "metadata": {},
   "outputs": [],
   "source": [
    "nutrition.to_csv(\"/Users/irina/Downloads/nutrition_total.csv\")"
   ]
  },
  {
   "cell_type": "code",
   "execution_count": 86,
   "id": "474af481",
   "metadata": {},
   "outputs": [],
   "source": [
    "iso = pd.read_csv('https://github.com/5htplife/firstproject/raw/master/continents2%202.csv')"
   ]
  },
  {
   "cell_type": "code",
   "execution_count": 87,
   "id": "8e784460",
   "metadata": {},
   "outputs": [
    {
     "data": {
      "text/html": [
       "<div>\n",
       "<style scoped>\n",
       "    .dataframe tbody tr th:only-of-type {\n",
       "        vertical-align: middle;\n",
       "    }\n",
       "\n",
       "    .dataframe tbody tr th {\n",
       "        vertical-align: top;\n",
       "    }\n",
       "\n",
       "    .dataframe thead th {\n",
       "        text-align: right;\n",
       "    }\n",
       "</style>\n",
       "<table border=\"1\" class=\"dataframe\">\n",
       "  <thead>\n",
       "    <tr style=\"text-align: right;\">\n",
       "      <th></th>\n",
       "      <th>name</th>\n",
       "      <th>alpha-2</th>\n",
       "      <th>alpha-3</th>\n",
       "      <th>country-code</th>\n",
       "      <th>iso_3166-2</th>\n",
       "      <th>region</th>\n",
       "      <th>sub-region</th>\n",
       "      <th>intermediate-region</th>\n",
       "      <th>region-code</th>\n",
       "      <th>sub-region-code</th>\n",
       "      <th>intermediate-region-code</th>\n",
       "    </tr>\n",
       "  </thead>\n",
       "  <tbody>\n",
       "    <tr>\n",
       "      <th>0</th>\n",
       "      <td>Afghanistan</td>\n",
       "      <td>AF</td>\n",
       "      <td>AFG</td>\n",
       "      <td>4</td>\n",
       "      <td>ISO 3166-2:AF</td>\n",
       "      <td>Asia</td>\n",
       "      <td>Southern Asia</td>\n",
       "      <td>NaN</td>\n",
       "      <td>142.0</td>\n",
       "      <td>34.0</td>\n",
       "      <td>NaN</td>\n",
       "    </tr>\n",
       "    <tr>\n",
       "      <th>1</th>\n",
       "      <td>Åland Islands</td>\n",
       "      <td>AX</td>\n",
       "      <td>ALA</td>\n",
       "      <td>248</td>\n",
       "      <td>ISO 3166-2:AX</td>\n",
       "      <td>Europe</td>\n",
       "      <td>Northern Europe</td>\n",
       "      <td>NaN</td>\n",
       "      <td>150.0</td>\n",
       "      <td>154.0</td>\n",
       "      <td>NaN</td>\n",
       "    </tr>\n",
       "    <tr>\n",
       "      <th>2</th>\n",
       "      <td>Albania</td>\n",
       "      <td>AL</td>\n",
       "      <td>ALB</td>\n",
       "      <td>8</td>\n",
       "      <td>ISO 3166-2:AL</td>\n",
       "      <td>Europe</td>\n",
       "      <td>Southern Europe</td>\n",
       "      <td>NaN</td>\n",
       "      <td>150.0</td>\n",
       "      <td>39.0</td>\n",
       "      <td>NaN</td>\n",
       "    </tr>\n",
       "    <tr>\n",
       "      <th>3</th>\n",
       "      <td>Algeria</td>\n",
       "      <td>DZ</td>\n",
       "      <td>DZA</td>\n",
       "      <td>12</td>\n",
       "      <td>ISO 3166-2:DZ</td>\n",
       "      <td>Africa</td>\n",
       "      <td>Northern Africa</td>\n",
       "      <td>NaN</td>\n",
       "      <td>2.0</td>\n",
       "      <td>15.0</td>\n",
       "      <td>NaN</td>\n",
       "    </tr>\n",
       "    <tr>\n",
       "      <th>4</th>\n",
       "      <td>American Samoa</td>\n",
       "      <td>AS</td>\n",
       "      <td>ASM</td>\n",
       "      <td>16</td>\n",
       "      <td>ISO 3166-2:AS</td>\n",
       "      <td>Oceania</td>\n",
       "      <td>Polynesia</td>\n",
       "      <td>NaN</td>\n",
       "      <td>9.0</td>\n",
       "      <td>61.0</td>\n",
       "      <td>NaN</td>\n",
       "    </tr>\n",
       "    <tr>\n",
       "      <th>...</th>\n",
       "      <td>...</td>\n",
       "      <td>...</td>\n",
       "      <td>...</td>\n",
       "      <td>...</td>\n",
       "      <td>...</td>\n",
       "      <td>...</td>\n",
       "      <td>...</td>\n",
       "      <td>...</td>\n",
       "      <td>...</td>\n",
       "      <td>...</td>\n",
       "      <td>...</td>\n",
       "    </tr>\n",
       "    <tr>\n",
       "      <th>244</th>\n",
       "      <td>Wallis and Futuna</td>\n",
       "      <td>WF</td>\n",
       "      <td>WLF</td>\n",
       "      <td>876</td>\n",
       "      <td>ISO 3166-2:WF</td>\n",
       "      <td>Oceania</td>\n",
       "      <td>Polynesia</td>\n",
       "      <td>NaN</td>\n",
       "      <td>9.0</td>\n",
       "      <td>61.0</td>\n",
       "      <td>NaN</td>\n",
       "    </tr>\n",
       "    <tr>\n",
       "      <th>245</th>\n",
       "      <td>Western Sahara</td>\n",
       "      <td>EH</td>\n",
       "      <td>ESH</td>\n",
       "      <td>732</td>\n",
       "      <td>ISO 3166-2:EH</td>\n",
       "      <td>Africa</td>\n",
       "      <td>Northern Africa</td>\n",
       "      <td>NaN</td>\n",
       "      <td>2.0</td>\n",
       "      <td>15.0</td>\n",
       "      <td>NaN</td>\n",
       "    </tr>\n",
       "    <tr>\n",
       "      <th>246</th>\n",
       "      <td>Yemen</td>\n",
       "      <td>YE</td>\n",
       "      <td>YEM</td>\n",
       "      <td>887</td>\n",
       "      <td>ISO 3166-2:YE</td>\n",
       "      <td>Asia</td>\n",
       "      <td>Western Asia</td>\n",
       "      <td>NaN</td>\n",
       "      <td>142.0</td>\n",
       "      <td>145.0</td>\n",
       "      <td>NaN</td>\n",
       "    </tr>\n",
       "    <tr>\n",
       "      <th>247</th>\n",
       "      <td>Zambia</td>\n",
       "      <td>ZM</td>\n",
       "      <td>ZMB</td>\n",
       "      <td>894</td>\n",
       "      <td>ISO 3166-2:ZM</td>\n",
       "      <td>Africa</td>\n",
       "      <td>Sub-Saharan Africa</td>\n",
       "      <td>Eastern Africa</td>\n",
       "      <td>2.0</td>\n",
       "      <td>202.0</td>\n",
       "      <td>14.0</td>\n",
       "    </tr>\n",
       "    <tr>\n",
       "      <th>248</th>\n",
       "      <td>Zimbabwe</td>\n",
       "      <td>ZW</td>\n",
       "      <td>ZWE</td>\n",
       "      <td>716</td>\n",
       "      <td>ISO 3166-2:ZW</td>\n",
       "      <td>Africa</td>\n",
       "      <td>Sub-Saharan Africa</td>\n",
       "      <td>Eastern Africa</td>\n",
       "      <td>2.0</td>\n",
       "      <td>202.0</td>\n",
       "      <td>14.0</td>\n",
       "    </tr>\n",
       "  </tbody>\n",
       "</table>\n",
       "<p>249 rows × 11 columns</p>\n",
       "</div>"
      ],
      "text/plain": [
       "                  name alpha-2 alpha-3  country-code     iso_3166-2   region  \\\n",
       "0          Afghanistan      AF     AFG             4  ISO 3166-2:AF     Asia   \n",
       "1        Åland Islands      AX     ALA           248  ISO 3166-2:AX   Europe   \n",
       "2              Albania      AL     ALB             8  ISO 3166-2:AL   Europe   \n",
       "3              Algeria      DZ     DZA            12  ISO 3166-2:DZ   Africa   \n",
       "4       American Samoa      AS     ASM            16  ISO 3166-2:AS  Oceania   \n",
       "..                 ...     ...     ...           ...            ...      ...   \n",
       "244  Wallis and Futuna      WF     WLF           876  ISO 3166-2:WF  Oceania   \n",
       "245     Western Sahara      EH     ESH           732  ISO 3166-2:EH   Africa   \n",
       "246              Yemen      YE     YEM           887  ISO 3166-2:YE     Asia   \n",
       "247             Zambia      ZM     ZMB           894  ISO 3166-2:ZM   Africa   \n",
       "248           Zimbabwe      ZW     ZWE           716  ISO 3166-2:ZW   Africa   \n",
       "\n",
       "             sub-region intermediate-region  region-code  sub-region-code  \\\n",
       "0         Southern Asia                 NaN        142.0             34.0   \n",
       "1       Northern Europe                 NaN        150.0            154.0   \n",
       "2       Southern Europe                 NaN        150.0             39.0   \n",
       "3       Northern Africa                 NaN          2.0             15.0   \n",
       "4             Polynesia                 NaN          9.0             61.0   \n",
       "..                  ...                 ...          ...              ...   \n",
       "244           Polynesia                 NaN          9.0             61.0   \n",
       "245     Northern Africa                 NaN          2.0             15.0   \n",
       "246        Western Asia                 NaN        142.0            145.0   \n",
       "247  Sub-Saharan Africa      Eastern Africa          2.0            202.0   \n",
       "248  Sub-Saharan Africa      Eastern Africa          2.0            202.0   \n",
       "\n",
       "     intermediate-region-code  \n",
       "0                         NaN  \n",
       "1                         NaN  \n",
       "2                         NaN  \n",
       "3                         NaN  \n",
       "4                         NaN  \n",
       "..                        ...  \n",
       "244                       NaN  \n",
       "245                       NaN  \n",
       "246                       NaN  \n",
       "247                      14.0  \n",
       "248                      14.0  \n",
       "\n",
       "[249 rows x 11 columns]"
      ]
     },
     "execution_count": 87,
     "metadata": {},
     "output_type": "execute_result"
    }
   ],
   "source": [
    "iso"
   ]
  },
  {
   "cell_type": "code",
   "execution_count": 96,
   "id": "62f123d4",
   "metadata": {},
   "outputs": [],
   "source": [
    "excess_mortality = pd.read_csv(\"https://github.com/5htplife/dataforexamen1/raw/main/excess_mortality.csv\")"
   ]
  },
  {
   "cell_type": "code",
   "execution_count": 106,
   "id": "d868842b",
   "metadata": {},
   "outputs": [],
   "source": [
    "excess_mortality.loc[excess_mortality['Excess deaths'] < 0, 'Undercount ratio'] = 0"
   ]
  },
  {
   "cell_type": "code",
   "execution_count": 116,
   "id": "45971de6",
   "metadata": {},
   "outputs": [
    {
     "data": {
      "text/html": [
       "<div>\n",
       "<style scoped>\n",
       "    .dataframe tbody tr th:only-of-type {\n",
       "        vertical-align: middle;\n",
       "    }\n",
       "\n",
       "    .dataframe tbody tr th {\n",
       "        vertical-align: top;\n",
       "    }\n",
       "\n",
       "    .dataframe thead th {\n",
       "        text-align: right;\n",
       "    }\n",
       "</style>\n",
       "<table border=\"1\" class=\"dataframe\">\n",
       "  <thead>\n",
       "    <tr style=\"text-align: right;\">\n",
       "      <th></th>\n",
       "      <th>Unnamed: 0</th>\n",
       "      <th>Country</th>\n",
       "      <th>Data until</th>\n",
       "      <th>Data type</th>\n",
       "      <th>COVID-19 deaths</th>\n",
       "      <th>Excess deaths</th>\n",
       "      <th>Excess deaths std</th>\n",
       "      <th>t-statistic</th>\n",
       "      <th>Undercount ratio</th>\n",
       "      <th>Excess per 100k</th>\n",
       "      <th>Excess as % of annual baseline</th>\n",
       "      <th>iso3c</th>\n",
       "    </tr>\n",
       "  </thead>\n",
       "  <tbody>\n",
       "    <tr>\n",
       "      <th>36</th>\n",
       "      <td>36</td>\n",
       "      <td>Faroe Islands</td>\n",
       "      <td>Dec 31, 2022</td>\n",
       "      <td>m</td>\n",
       "      <td>28</td>\n",
       "      <td>1</td>\n",
       "      <td>76</td>\n",
       "      <td>0.0</td>\n",
       "      <td>NaN</td>\n",
       "      <td>1.9</td>\n",
       "      <td>0.2</td>\n",
       "      <td>FRO</td>\n",
       "    </tr>\n",
       "  </tbody>\n",
       "</table>\n",
       "</div>"
      ],
      "text/plain": [
       "    Unnamed: 0        Country    Data until Data type  COVID-19 deaths  \\\n",
       "36          36  Faroe Islands  Dec 31, 2022         m               28   \n",
       "\n",
       "    Excess deaths  Excess deaths std  t-statistic  Undercount ratio  \\\n",
       "36              1                 76          0.0               NaN   \n",
       "\n",
       "    Excess per 100k  Excess as % of annual baseline iso3c  \n",
       "36              1.9                             0.2   FRO  "
      ]
     },
     "execution_count": 116,
     "metadata": {},
     "output_type": "execute_result"
    }
   ],
   "source": [
    "excess_mortality.loc[excess_mortality.isnull().any(axis=1)]"
   ]
  },
  {
   "cell_type": "code",
   "execution_count": 127,
   "id": "0301d09f",
   "metadata": {},
   "outputs": [],
   "source": [
    "excess_mortality[excess_mortality['Excess deaths'] < 0]\n",
    "excess_mortality['size'] = excess_mortality['Excess per 100k']\n",
    "excess_mortality.loc[excess_mortality['size'] < 0, 'size'] = 1"
   ]
  },
  {
   "cell_type": "code",
   "execution_count": 118,
   "id": "1615a27e",
   "metadata": {},
   "outputs": [],
   "source": [
    "excess_mortality.loc[excess_mortality['Undercount ratio'].isnull()\n",
    "                     , 'Undercount ratio'] = excess_mortality['Excess deaths']/excess_mortality['COVID-19 deaths']"
   ]
  },
  {
   "cell_type": "code",
   "execution_count": 130,
   "id": "62415a91",
   "metadata": {},
   "outputs": [
    {
     "data": {
      "text/html": [
       "<div>\n",
       "<style scoped>\n",
       "    .dataframe tbody tr th:only-of-type {\n",
       "        vertical-align: middle;\n",
       "    }\n",
       "\n",
       "    .dataframe tbody tr th {\n",
       "        vertical-align: top;\n",
       "    }\n",
       "\n",
       "    .dataframe thead th {\n",
       "        text-align: right;\n",
       "    }\n",
       "</style>\n",
       "<table border=\"1\" class=\"dataframe\">\n",
       "  <thead>\n",
       "    <tr style=\"text-align: right;\">\n",
       "      <th></th>\n",
       "      <th>Unnamed: 0</th>\n",
       "      <th>Country</th>\n",
       "      <th>Data until</th>\n",
       "      <th>Data type</th>\n",
       "      <th>COVID-19 deaths</th>\n",
       "      <th>Excess deaths</th>\n",
       "      <th>Excess deaths std</th>\n",
       "      <th>t-statistic</th>\n",
       "      <th>Undercount ratio</th>\n",
       "      <th>Excess per 100k</th>\n",
       "      <th>Excess as % of annual baseline</th>\n",
       "      <th>iso3c</th>\n",
       "      <th>size</th>\n",
       "    </tr>\n",
       "  </thead>\n",
       "  <tbody>\n",
       "    <tr>\n",
       "      <th>119</th>\n",
       "      <td>119</td>\n",
       "      <td>United States</td>\n",
       "      <td>Jan 08, 2023</td>\n",
       "      <td>w</td>\n",
       "      <td>1085127</td>\n",
       "      <td>1284380</td>\n",
       "      <td>38277</td>\n",
       "      <td>33.6</td>\n",
       "      <td>1.18</td>\n",
       "      <td>388.0</td>\n",
       "      <td>43.3</td>\n",
       "      <td>USA</td>\n",
       "      <td>388.0</td>\n",
       "    </tr>\n",
       "    <tr>\n",
       "      <th>96</th>\n",
       "      <td>96</td>\n",
       "      <td>Russia</td>\n",
       "      <td>Dec 31, 2022</td>\n",
       "      <td>m</td>\n",
       "      <td>393762</td>\n",
       "      <td>1275102</td>\n",
       "      <td>60025</td>\n",
       "      <td>21.2</td>\n",
       "      <td>3.24</td>\n",
       "      <td>868.9</td>\n",
       "      <td>72.2</td>\n",
       "      <td>RUS</td>\n",
       "      <td>868.9</td>\n",
       "    </tr>\n",
       "    <tr>\n",
       "      <th>18</th>\n",
       "      <td>18</td>\n",
       "      <td>Brazil</td>\n",
       "      <td>Dec 31, 2022</td>\n",
       "      <td>m</td>\n",
       "      <td>693853</td>\n",
       "      <td>834614</td>\n",
       "      <td>34835</td>\n",
       "      <td>24.0</td>\n",
       "      <td>1.20</td>\n",
       "      <td>392.6</td>\n",
       "      <td>61.2</td>\n",
       "      <td>BRA</td>\n",
       "      <td>392.6</td>\n",
       "    </tr>\n",
       "    <tr>\n",
       "      <th>74</th>\n",
       "      <td>74</td>\n",
       "      <td>Mexico</td>\n",
       "      <td>Jan 01, 2023</td>\n",
       "      <td>w</td>\n",
       "      <td>331409</td>\n",
       "      <td>650981</td>\n",
       "      <td>15418</td>\n",
       "      <td>42.2</td>\n",
       "      <td>1.96</td>\n",
       "      <td>504.9</td>\n",
       "      <td>84.3</td>\n",
       "      <td>MEX</td>\n",
       "      <td>504.9</td>\n",
       "    </tr>\n",
       "    <tr>\n",
       "      <th>33</th>\n",
       "      <td>33</td>\n",
       "      <td>Egypt</td>\n",
       "      <td>Nov 30, 2022</td>\n",
       "      <td>m</td>\n",
       "      <td>24798</td>\n",
       "      <td>325138</td>\n",
       "      <td>43002</td>\n",
       "      <td>7.6</td>\n",
       "      <td>13.11</td>\n",
       "      <td>317.7</td>\n",
       "      <td>58.0</td>\n",
       "      <td>EGY</td>\n",
       "      <td>317.7</td>\n",
       "    </tr>\n",
       "    <tr>\n",
       "      <th>...</th>\n",
       "      <td>...</td>\n",
       "      <td>...</td>\n",
       "      <td>...</td>\n",
       "      <td>...</td>\n",
       "      <td>...</td>\n",
       "      <td>...</td>\n",
       "      <td>...</td>\n",
       "      <td>...</td>\n",
       "      <td>...</td>\n",
       "      <td>...</td>\n",
       "      <td>...</td>\n",
       "      <td>...</td>\n",
       "      <td>...</td>\n",
       "    </tr>\n",
       "    <tr>\n",
       "      <th>66</th>\n",
       "      <td>66</td>\n",
       "      <td>Luxembourg</td>\n",
       "      <td>Jan 01, 2023</td>\n",
       "      <td>w</td>\n",
       "      <td>1190</td>\n",
       "      <td>-29</td>\n",
       "      <td>326</td>\n",
       "      <td>0.1</td>\n",
       "      <td>0.00</td>\n",
       "      <td>-4.6</td>\n",
       "      <td>-0.6</td>\n",
       "      <td>LUX</td>\n",
       "      <td>1.0</td>\n",
       "    </tr>\n",
       "    <tr>\n",
       "      <th>3</th>\n",
       "      <td>3</td>\n",
       "      <td>Antigua and Barbuda</td>\n",
       "      <td>Dec 31, 2021</td>\n",
       "      <td>m</td>\n",
       "      <td>119</td>\n",
       "      <td>-55</td>\n",
       "      <td>85</td>\n",
       "      <td>0.6</td>\n",
       "      <td>0.00</td>\n",
       "      <td>-56.1</td>\n",
       "      <td>-8.7</td>\n",
       "      <td>ATG</td>\n",
       "      <td>1.0</td>\n",
       "    </tr>\n",
       "    <tr>\n",
       "      <th>45</th>\n",
       "      <td>45</td>\n",
       "      <td>Greenland</td>\n",
       "      <td>Dec 31, 2022</td>\n",
       "      <td>m</td>\n",
       "      <td>21</td>\n",
       "      <td>-98</td>\n",
       "      <td>113</td>\n",
       "      <td>0.9</td>\n",
       "      <td>0.00</td>\n",
       "      <td>-171.9</td>\n",
       "      <td>-17.9</td>\n",
       "      <td>GRL</td>\n",
       "      <td>1.0</td>\n",
       "    </tr>\n",
       "    <tr>\n",
       "      <th>102</th>\n",
       "      <td>102</td>\n",
       "      <td>Seychelles</td>\n",
       "      <td>Dec 31, 2021</td>\n",
       "      <td>m</td>\n",
       "      <td>126</td>\n",
       "      <td>-102</td>\n",
       "      <td>83</td>\n",
       "      <td>1.2</td>\n",
       "      <td>0.00</td>\n",
       "      <td>-103.9</td>\n",
       "      <td>-12.2</td>\n",
       "      <td>SYC</td>\n",
       "      <td>1.0</td>\n",
       "    </tr>\n",
       "    <tr>\n",
       "      <th>81</th>\n",
       "      <td>81</td>\n",
       "      <td>New Zealand</td>\n",
       "      <td>Jan 15, 2023</td>\n",
       "      <td>w</td>\n",
       "      <td>2393</td>\n",
       "      <td>-330</td>\n",
       "      <td>1011</td>\n",
       "      <td>0.3</td>\n",
       "      <td>0.00</td>\n",
       "      <td>-6.9</td>\n",
       "      <td>-0.9</td>\n",
       "      <td>NZL</td>\n",
       "      <td>1.0</td>\n",
       "    </tr>\n",
       "  </tbody>\n",
       "</table>\n",
       "<p>122 rows × 13 columns</p>\n",
       "</div>"
      ],
      "text/plain": [
       "     Unnamed: 0              Country    Data until Data type  COVID-19 deaths  \\\n",
       "119         119        United States  Jan 08, 2023         w          1085127   \n",
       "96           96               Russia  Dec 31, 2022         m           393762   \n",
       "18           18               Brazil  Dec 31, 2022         m           693853   \n",
       "74           74               Mexico  Jan 01, 2023         w           331409   \n",
       "33           33                Egypt  Nov 30, 2022         m            24798   \n",
       "..          ...                  ...           ...       ...              ...   \n",
       "66           66           Luxembourg  Jan 01, 2023         w             1190   \n",
       "3             3  Antigua and Barbuda  Dec 31, 2021         m              119   \n",
       "45           45            Greenland  Dec 31, 2022         m               21   \n",
       "102         102           Seychelles  Dec 31, 2021         m              126   \n",
       "81           81          New Zealand  Jan 15, 2023         w             2393   \n",
       "\n",
       "     Excess deaths  Excess deaths std  t-statistic  Undercount ratio  \\\n",
       "119        1284380              38277         33.6              1.18   \n",
       "96         1275102              60025         21.2              3.24   \n",
       "18          834614              34835         24.0              1.20   \n",
       "74          650981              15418         42.2              1.96   \n",
       "33          325138              43002          7.6             13.11   \n",
       "..             ...                ...          ...               ...   \n",
       "66             -29                326          0.1              0.00   \n",
       "3              -55                 85          0.6              0.00   \n",
       "45             -98                113          0.9              0.00   \n",
       "102           -102                 83          1.2              0.00   \n",
       "81            -330               1011          0.3              0.00   \n",
       "\n",
       "     Excess per 100k  Excess as % of annual baseline iso3c   size  \n",
       "119            388.0                            43.3   USA  388.0  \n",
       "96             868.9                            72.2   RUS  868.9  \n",
       "18             392.6                            61.2   BRA  392.6  \n",
       "74             504.9                            84.3   MEX  504.9  \n",
       "33             317.7                            58.0   EGY  317.7  \n",
       "..               ...                             ...   ...    ...  \n",
       "66              -4.6                            -0.6   LUX    1.0  \n",
       "3              -56.1                            -8.7   ATG    1.0  \n",
       "45            -171.9                           -17.9   GRL    1.0  \n",
       "102           -103.9                           -12.2   SYC    1.0  \n",
       "81              -6.9                            -0.9   NZL    1.0  \n",
       "\n",
       "[122 rows x 13 columns]"
      ]
     },
     "execution_count": 130,
     "metadata": {},
     "output_type": "execute_result"
    }
   ],
   "source": [
    "excess_mortality.sort_values(by = ['Excess deaths'], ascending = False)"
   ]
  },
  {
   "cell_type": "code",
   "execution_count": null,
   "id": "343d32e4",
   "metadata": {},
   "outputs": [],
   "source": [
    "excess_mortality['Excess']"
   ]
  },
  {
   "cell_type": "code",
   "execution_count": 128,
   "id": "ec476e5f",
   "metadata": {},
   "outputs": [
    {
     "data": {
      "application/vnd.plotly.v1+json": {
       "config": {
        "plotlyServerURL": "https://plot.ly"
       },
       "data": [
        {
         "customdata": [
          [
           "Albania",
           3589,
           16553,
           575.2
          ]
         ],
         "geo": "geo",
         "hovertemplate": "<b>%{hovertext}</b><br><br>Country=%{customdata[0]}<br>size=%{marker.size}<br>iso3c=%{location}<br>COVID-19 deaths=%{customdata[1]}<br>Excess deaths=%{customdata[2]}<br>Excess per 100k=%{customdata[3]}<extra></extra>",
         "hovertext": [
          "Albania"
         ],
         "legendgroup": "Albania",
         "locations": [
          "ALB"
         ],
         "marker": {
          "color": "#636efa",
          "size": [
           575.2
          ],
          "sizemode": "area",
          "sizeref": 2.5185,
          "symbol": "circle"
         },
         "mode": "markers",
         "name": "Albania",
         "showlegend": true,
         "type": "scattergeo"
        },
        {
         "customdata": [
          [
           "Algeria",
           2756,
           50425,
           115
          ]
         ],
         "geo": "geo",
         "hovertemplate": "<b>%{hovertext}</b><br><br>Country=%{customdata[0]}<br>size=%{marker.size}<br>iso3c=%{location}<br>COVID-19 deaths=%{customdata[1]}<br>Excess deaths=%{customdata[2]}<br>Excess per 100k=%{customdata[3]}<extra></extra>",
         "hovertext": [
          "Algeria"
         ],
         "legendgroup": "Algeria",
         "locations": [
          "DZA"
         ],
         "marker": {
          "color": "#EF553B",
          "size": [
           115
          ],
          "sizemode": "area",
          "sizeref": 2.5185,
          "symbol": "circle"
         },
         "mode": "markers",
         "name": "Algeria",
         "showlegend": true,
         "type": "scattergeo"
        },
        {
         "customdata": [
          [
           "Andorra",
           140,
           132,
           170.9
          ]
         ],
         "geo": "geo",
         "hovertemplate": "<b>%{hovertext}</b><br><br>Country=%{customdata[0]}<br>size=%{marker.size}<br>iso3c=%{location}<br>COVID-19 deaths=%{customdata[1]}<br>Excess deaths=%{customdata[2]}<br>Excess per 100k=%{customdata[3]}<extra></extra>",
         "hovertext": [
          "Andorra"
         ],
         "legendgroup": "Andorra",
         "locations": [
          "AND"
         ],
         "marker": {
          "color": "#00cc96",
          "size": [
           170.9
          ],
          "sizemode": "area",
          "sizeref": 2.5185,
          "symbol": "circle"
         },
         "mode": "markers",
         "name": "Andorra",
         "showlegend": true,
         "type": "scattergeo"
        },
        {
         "customdata": [
          [
           "Antigua and Barbuda",
           119,
           -55,
           -56.1
          ]
         ],
         "geo": "geo",
         "hovertemplate": "<b>%{hovertext}</b><br><br>Country=%{customdata[0]}<br>size=%{marker.size}<br>iso3c=%{location}<br>COVID-19 deaths=%{customdata[1]}<br>Excess deaths=%{customdata[2]}<br>Excess per 100k=%{customdata[3]}<extra></extra>",
         "hovertext": [
          "Antigua and Barbuda"
         ],
         "legendgroup": "Antigua and Barbuda",
         "locations": [
          "ATG"
         ],
         "marker": {
          "color": "#ab63fa",
          "size": [
           1
          ],
          "sizemode": "area",
          "sizeref": 2.5185,
          "symbol": "circle"
         },
         "mode": "markers",
         "name": "Antigua and Barbuda",
         "showlegend": true,
         "type": "scattergeo"
        },
        {
         "customdata": [
          [
           "Argentina",
           48337,
           34997,
           77.4
          ]
         ],
         "geo": "geo",
         "hovertemplate": "<b>%{hovertext}</b><br><br>Country=%{customdata[0]}<br>size=%{marker.size}<br>iso3c=%{location}<br>COVID-19 deaths=%{customdata[1]}<br>Excess deaths=%{customdata[2]}<br>Excess per 100k=%{customdata[3]}<extra></extra>",
         "hovertext": [
          "Argentina"
         ],
         "legendgroup": "Argentina",
         "locations": [
          "ARG"
         ],
         "marker": {
          "color": "#FFA15A",
          "size": [
           77.4
          ],
          "sizemode": "area",
          "sizeref": 2.5185,
          "symbol": "circle"
         },
         "mode": "markers",
         "name": "Argentina",
         "showlegend": true,
         "type": "scattergeo"
        },
        {
         "customdata": [
          [
           "Armenia",
           8716,
           18297,
           617.5
          ]
         ],
         "geo": "geo",
         "hovertemplate": "<b>%{hovertext}</b><br><br>Country=%{customdata[0]}<br>size=%{marker.size}<br>iso3c=%{location}<br>COVID-19 deaths=%{customdata[1]}<br>Excess deaths=%{customdata[2]}<br>Excess per 100k=%{customdata[3]}<extra></extra>",
         "hovertext": [
          "Armenia"
         ],
         "legendgroup": "Armenia",
         "locations": [
          "ARM"
         ],
         "marker": {
          "color": "#19d3f3",
          "size": [
           617.5
          ],
          "sizemode": "area",
          "sizeref": 2.5185,
          "symbol": "circle"
         },
         "mode": "markers",
         "name": "Armenia",
         "showlegend": true,
         "type": "scattergeo"
        },
        {
         "customdata": [
          [
           "Aruba",
           181,
           342,
           320.3
          ]
         ],
         "geo": "geo",
         "hovertemplate": "<b>%{hovertext}</b><br><br>Country=%{customdata[0]}<br>size=%{marker.size}<br>iso3c=%{location}<br>COVID-19 deaths=%{customdata[1]}<br>Excess deaths=%{customdata[2]}<br>Excess per 100k=%{customdata[3]}<extra></extra>",
         "hovertext": [
          "Aruba"
         ],
         "legendgroup": "Aruba",
         "locations": [
          "ABW"
         ],
         "marker": {
          "color": "#FF6692",
          "size": [
           320.3
          ],
          "sizemode": "area",
          "sizeref": 2.5185,
          "symbol": "circle"
         },
         "mode": "markers",
         "name": "Aruba",
         "showlegend": true,
         "type": "scattergeo"
        },
        {
         "customdata": [
          [
           "Australia",
           14853,
           17281,
           67.8
          ]
         ],
         "geo": "geo",
         "hovertemplate": "<b>%{hovertext}</b><br><br>Country=%{customdata[0]}<br>size=%{marker.size}<br>iso3c=%{location}<br>COVID-19 deaths=%{customdata[1]}<br>Excess deaths=%{customdata[2]}<br>Excess per 100k=%{customdata[3]}<extra></extra>",
         "hovertext": [
          "Australia"
         ],
         "legendgroup": "Australia",
         "locations": [
          "AUS"
         ],
         "marker": {
          "color": "#B6E880",
          "size": [
           67.8
          ],
          "sizemode": "area",
          "sizeref": 2.5185,
          "symbol": "circle"
         },
         "mode": "markers",
         "name": "Australia",
         "showlegend": true,
         "type": "scattergeo"
        },
        {
         "customdata": [
          [
           "Austria",
           21674,
           25003,
           277.6
          ]
         ],
         "geo": "geo",
         "hovertemplate": "<b>%{hovertext}</b><br><br>Country=%{customdata[0]}<br>size=%{marker.size}<br>iso3c=%{location}<br>COVID-19 deaths=%{customdata[1]}<br>Excess deaths=%{customdata[2]}<br>Excess per 100k=%{customdata[3]}<extra></extra>",
         "hovertext": [
          "Austria"
         ],
         "legendgroup": "Austria",
         "locations": [
          "AUT"
         ],
         "marker": {
          "color": "#FF97FF",
          "size": [
           277.6
          ],
          "sizemode": "area",
          "sizeref": 2.5185,
          "symbol": "circle"
         },
         "mode": "markers",
         "name": "Austria",
         "showlegend": true,
         "type": "scattergeo"
        },
        {
         "customdata": [
          [
           "Azerbaijan",
           9980,
           35242,
           347.6
          ]
         ],
         "geo": "geo",
         "hovertemplate": "<b>%{hovertext}</b><br><br>Country=%{customdata[0]}<br>size=%{marker.size}<br>iso3c=%{location}<br>COVID-19 deaths=%{customdata[1]}<br>Excess deaths=%{customdata[2]}<br>Excess per 100k=%{customdata[3]}<extra></extra>",
         "hovertext": [
          "Azerbaijan"
         ],
         "legendgroup": "Azerbaijan",
         "locations": [
          "AZE"
         ],
         "marker": {
          "color": "#FECB52",
          "size": [
           347.6
          ],
          "sizemode": "area",
          "sizeref": 2.5185,
          "symbol": "circle"
         },
         "mode": "markers",
         "name": "Azerbaijan",
         "showlegend": true,
         "type": "scattergeo"
        },
        {
         "customdata": [
          [
           "Bahamas",
           717,
           1092,
           277.7
          ]
         ],
         "geo": "geo",
         "hovertemplate": "<b>%{hovertext}</b><br><br>Country=%{customdata[0]}<br>size=%{marker.size}<br>iso3c=%{location}<br>COVID-19 deaths=%{customdata[1]}<br>Excess deaths=%{customdata[2]}<br>Excess per 100k=%{customdata[3]}<extra></extra>",
         "hovertext": [
          "Bahamas"
         ],
         "legendgroup": "Bahamas",
         "locations": [
          "BHS"
         ],
         "marker": {
          "color": "#636efa",
          "size": [
           277.7
          ],
          "sizemode": "area",
          "sizeref": 2.5185,
          "symbol": "circle"
         },
         "mode": "markers",
         "name": "Bahamas",
         "showlegend": true,
         "type": "scattergeo"
        },
        {
         "customdata": [
          [
           "Barbados",
           560,
           321,
           111.8
          ]
         ],
         "geo": "geo",
         "hovertemplate": "<b>%{hovertext}</b><br><br>Country=%{customdata[0]}<br>size=%{marker.size}<br>iso3c=%{location}<br>COVID-19 deaths=%{customdata[1]}<br>Excess deaths=%{customdata[2]}<br>Excess per 100k=%{customdata[3]}<extra></extra>",
         "hovertext": [
          "Barbados"
         ],
         "legendgroup": "Barbados",
         "locations": [
          "BRB"
         ],
         "marker": {
          "color": "#EF553B",
          "size": [
           111.8
          ],
          "sizemode": "area",
          "sizeref": 2.5185,
          "symbol": "circle"
         },
         "mode": "markers",
         "name": "Barbados",
         "showlegend": true,
         "type": "scattergeo"
        },
        {
         "customdata": [
          [
           "Belarus",
           2247,
           32336,
           342.2
          ]
         ],
         "geo": "geo",
         "hovertemplate": "<b>%{hovertext}</b><br><br>Country=%{customdata[0]}<br>size=%{marker.size}<br>iso3c=%{location}<br>COVID-19 deaths=%{customdata[1]}<br>Excess deaths=%{customdata[2]}<br>Excess per 100k=%{customdata[3]}<extra></extra>",
         "hovertext": [
          "Belarus"
         ],
         "legendgroup": "Belarus",
         "locations": [
          "BLR"
         ],
         "marker": {
          "color": "#00cc96",
          "size": [
           342.2
          ],
          "sizemode": "area",
          "sizeref": 2.5185,
          "symbol": "circle"
         },
         "mode": "markers",
         "name": "Belarus",
         "showlegend": true,
         "type": "scattergeo"
        },
        {
         "customdata": [
          [
           "Belgium",
           33506,
           28575,
           246.6
          ]
         ],
         "geo": "geo",
         "hovertemplate": "<b>%{hovertext}</b><br><br>Country=%{customdata[0]}<br>size=%{marker.size}<br>iso3c=%{location}<br>COVID-19 deaths=%{customdata[1]}<br>Excess deaths=%{customdata[2]}<br>Excess per 100k=%{customdata[3]}<extra></extra>",
         "hovertext": [
          "Belgium"
         ],
         "legendgroup": "Belgium",
         "locations": [
          "BEL"
         ],
         "marker": {
          "color": "#ab63fa",
          "size": [
           246.6
          ],
          "sizemode": "area",
          "sizeref": 2.5185,
          "symbol": "circle"
         },
         "mode": "markers",
         "name": "Belgium",
         "showlegend": true,
         "type": "scattergeo"
        },
        {
         "customdata": [
          [
           "Belize",
           598,
           534,
           134.4
          ]
         ],
         "geo": "geo",
         "hovertemplate": "<b>%{hovertext}</b><br><br>Country=%{customdata[0]}<br>size=%{marker.size}<br>iso3c=%{location}<br>COVID-19 deaths=%{customdata[1]}<br>Excess deaths=%{customdata[2]}<br>Excess per 100k=%{customdata[3]}<extra></extra>",
         "hovertext": [
          "Belize"
         ],
         "legendgroup": "Belize",
         "locations": [
          "BLZ"
         ],
         "marker": {
          "color": "#FFA15A",
          "size": [
           134.4
          ],
          "sizemode": "area",
          "sizeref": 2.5185,
          "symbol": "circle"
         },
         "mode": "markers",
         "name": "Belize",
         "showlegend": true,
         "type": "scattergeo"
        },
        {
         "customdata": [
          [
           "Bermuda",
           110,
           188,
           302.3
          ]
         ],
         "geo": "geo",
         "hovertemplate": "<b>%{hovertext}</b><br><br>Country=%{customdata[0]}<br>size=%{marker.size}<br>iso3c=%{location}<br>COVID-19 deaths=%{customdata[1]}<br>Excess deaths=%{customdata[2]}<br>Excess per 100k=%{customdata[3]}<extra></extra>",
         "hovertext": [
          "Bermuda"
         ],
         "legendgroup": "Bermuda",
         "locations": [
          "BMU"
         ],
         "marker": {
          "color": "#19d3f3",
          "size": [
           302.3
          ],
          "sizemode": "area",
          "sizeref": 2.5185,
          "symbol": "circle"
         },
         "mode": "markers",
         "name": "Bermuda",
         "showlegend": true,
         "type": "scattergeo"
        },
        {
         "customdata": [
          [
           "Bolivia",
           20919,
           57734,
           494.6
          ]
         ],
         "geo": "geo",
         "hovertemplate": "<b>%{hovertext}</b><br><br>Country=%{customdata[0]}<br>size=%{marker.size}<br>iso3c=%{location}<br>COVID-19 deaths=%{customdata[1]}<br>Excess deaths=%{customdata[2]}<br>Excess per 100k=%{customdata[3]}<extra></extra>",
         "hovertext": [
          "Bolivia"
         ],
         "legendgroup": "Bolivia",
         "locations": [
          "BOL"
         ],
         "marker": {
          "color": "#FF6692",
          "size": [
           494.6
          ],
          "sizemode": "area",
          "sizeref": 2.5185,
          "symbol": "circle"
         },
         "mode": "markers",
         "name": "Bolivia",
         "showlegend": true,
         "type": "scattergeo"
        },
        {
         "customdata": [
          [
           "Bosnia",
           16137,
           23681,
           721.8
          ]
         ],
         "geo": "geo",
         "hovertemplate": "<b>%{hovertext}</b><br><br>Country=%{customdata[0]}<br>size=%{marker.size}<br>iso3c=%{location}<br>COVID-19 deaths=%{customdata[1]}<br>Excess deaths=%{customdata[2]}<br>Excess per 100k=%{customdata[3]}<extra></extra>",
         "hovertext": [
          "Bosnia"
         ],
         "legendgroup": "Bosnia",
         "locations": [
          "BIH"
         ],
         "marker": {
          "color": "#B6E880",
          "size": [
           721.8
          ],
          "sizemode": "area",
          "sizeref": 2.5185,
          "symbol": "circle"
         },
         "mode": "markers",
         "name": "Bosnia",
         "showlegend": true,
         "type": "scattergeo"
        },
        {
         "customdata": [
          [
           "Brazil",
           693853,
           834614,
           392.6
          ]
         ],
         "geo": "geo",
         "hovertemplate": "<b>%{hovertext}</b><br><br>Country=%{customdata[0]}<br>size=%{marker.size}<br>iso3c=%{location}<br>COVID-19 deaths=%{customdata[1]}<br>Excess deaths=%{customdata[2]}<br>Excess per 100k=%{customdata[3]}<extra></extra>",
         "hovertext": [
          "Brazil"
         ],
         "legendgroup": "Brazil",
         "locations": [
          "BRA"
         ],
         "marker": {
          "color": "#FF97FF",
          "size": [
           392.6
          ],
          "sizemode": "area",
          "sizeref": 2.5185,
          "symbol": "circle"
         },
         "mode": "markers",
         "name": "Brazil",
         "showlegend": true,
         "type": "scattergeo"
        },
        {
         "customdata": [
          [
           "Brunei",
           61,
           -3,
           -0.8
          ]
         ],
         "geo": "geo",
         "hovertemplate": "<b>%{hovertext}</b><br><br>Country=%{customdata[0]}<br>size=%{marker.size}<br>iso3c=%{location}<br>COVID-19 deaths=%{customdata[1]}<br>Excess deaths=%{customdata[2]}<br>Excess per 100k=%{customdata[3]}<extra></extra>",
         "hovertext": [
          "Brunei"
         ],
         "legendgroup": "Brunei",
         "locations": [
          "BRN"
         ],
         "marker": {
          "color": "#FECB52",
          "size": [
           1
          ],
          "sizemode": "area",
          "sizeref": 2.5185,
          "symbol": "circle"
         },
         "mode": "markers",
         "name": "Brunei",
         "showlegend": true,
         "type": "scattergeo"
        },
        {
         "customdata": [
          [
           "Bulgaria",
           38108,
           70002,
           1007.4
          ]
         ],
         "geo": "geo",
         "hovertemplate": "<b>%{hovertext}</b><br><br>Country=%{customdata[0]}<br>size=%{marker.size}<br>iso3c=%{location}<br>COVID-19 deaths=%{customdata[1]}<br>Excess deaths=%{customdata[2]}<br>Excess per 100k=%{customdata[3]}<extra></extra>",
         "hovertext": [
          "Bulgaria"
         ],
         "legendgroup": "Bulgaria",
         "locations": [
          "BGR"
         ],
         "marker": {
          "color": "#636efa",
          "size": [
           1007.4
          ],
          "sizemode": "area",
          "sizeref": 2.5185,
          "symbol": "circle"
         },
         "mode": "markers",
         "name": "Bulgaria",
         "showlegend": true,
         "type": "scattergeo"
        },
        {
         "customdata": [
          [
           "Cabo Verde",
           113,
           192,
           34.5
          ]
         ],
         "geo": "geo",
         "hovertemplate": "<b>%{hovertext}</b><br><br>Country=%{customdata[0]}<br>size=%{marker.size}<br>iso3c=%{location}<br>COVID-19 deaths=%{customdata[1]}<br>Excess deaths=%{customdata[2]}<br>Excess per 100k=%{customdata[3]}<extra></extra>",
         "hovertext": [
          "Cabo Verde"
         ],
         "legendgroup": "Cabo Verde",
         "locations": [
          "CPV"
         ],
         "marker": {
          "color": "#EF553B",
          "size": [
           34.5
          ],
          "sizemode": "area",
          "sizeref": 2.5185,
          "symbol": "circle"
         },
         "mode": "markers",
         "name": "Cabo Verde",
         "showlegend": true,
         "type": "scattergeo"
        },
        {
         "customdata": [
          [
           "Canada",
           45372,
           36797,
           97.5
          ]
         ],
         "geo": "geo",
         "hovertemplate": "<b>%{hovertext}</b><br><br>Country=%{customdata[0]}<br>size=%{marker.size}<br>iso3c=%{location}<br>COVID-19 deaths=%{customdata[1]}<br>Excess deaths=%{customdata[2]}<br>Excess per 100k=%{customdata[3]}<extra></extra>",
         "hovertext": [
          "Canada"
         ],
         "legendgroup": "Canada",
         "locations": [
          "CAN"
         ],
         "marker": {
          "color": "#00cc96",
          "size": [
           97.5
          ],
          "sizemode": "area",
          "sizeref": 2.5185,
          "symbol": "circle"
         },
         "mode": "markers",
         "name": "Canada",
         "showlegend": true,
         "type": "scattergeo"
        },
        {
         "customdata": [
          [
           "Chile",
           63496,
           60924,
           318.7
          ]
         ],
         "geo": "geo",
         "hovertemplate": "<b>%{hovertext}</b><br><br>Country=%{customdata[0]}<br>size=%{marker.size}<br>iso3c=%{location}<br>COVID-19 deaths=%{customdata[1]}<br>Excess deaths=%{customdata[2]}<br>Excess per 100k=%{customdata[3]}<extra></extra>",
         "hovertext": [
          "Chile"
         ],
         "legendgroup": "Chile",
         "locations": [
          "CHL"
         ],
         "marker": {
          "color": "#ab63fa",
          "size": [
           318.7
          ],
          "sizemode": "area",
          "sizeref": 2.5185,
          "symbol": "circle"
         },
         "mode": "markers",
         "name": "Chile",
         "showlegend": true,
         "type": "scattergeo"
        },
        {
         "customdata": [
          [
           "Colombia",
           141862,
           188456,
           370.4
          ]
         ],
         "geo": "geo",
         "hovertemplate": "<b>%{hovertext}</b><br><br>Country=%{customdata[0]}<br>size=%{marker.size}<br>iso3c=%{location}<br>COVID-19 deaths=%{customdata[1]}<br>Excess deaths=%{customdata[2]}<br>Excess per 100k=%{customdata[3]}<extra></extra>",
         "hovertext": [
          "Colombia"
         ],
         "legendgroup": "Colombia",
         "locations": [
          "COL"
         ],
         "marker": {
          "color": "#FFA15A",
          "size": [
           370.4
          ],
          "sizemode": "area",
          "sizeref": 2.5185,
          "symbol": "circle"
         },
         "mode": "markers",
         "name": "Colombia",
         "showlegend": true,
         "type": "scattergeo"
        },
        {
         "customdata": [
          [
           "Costa Rica",
           7357,
           5964,
           117.1
          ]
         ],
         "geo": "geo",
         "hovertemplate": "<b>%{hovertext}</b><br><br>Country=%{customdata[0]}<br>size=%{marker.size}<br>iso3c=%{location}<br>COVID-19 deaths=%{customdata[1]}<br>Excess deaths=%{customdata[2]}<br>Excess per 100k=%{customdata[3]}<extra></extra>",
         "hovertext": [
          "Costa Rica"
         ],
         "legendgroup": "Costa Rica",
         "locations": [
          "CRI"
         ],
         "marker": {
          "color": "#19d3f3",
          "size": [
           117.1
          ],
          "sizemode": "area",
          "sizeref": 2.5185,
          "symbol": "circle"
         },
         "mode": "markers",
         "name": "Costa Rica",
         "showlegend": true,
         "type": "scattergeo"
        },
        {
         "customdata": [
          [
           "Croatia",
           17596,
           23947,
           583.3
          ]
         ],
         "geo": "geo",
         "hovertemplate": "<b>%{hovertext}</b><br><br>Country=%{customdata[0]}<br>size=%{marker.size}<br>iso3c=%{location}<br>COVID-19 deaths=%{customdata[1]}<br>Excess deaths=%{customdata[2]}<br>Excess per 100k=%{customdata[3]}<extra></extra>",
         "hovertext": [
          "Croatia"
         ],
         "legendgroup": "Croatia",
         "locations": [
          "HRV"
         ],
         "marker": {
          "color": "#FF6692",
          "size": [
           583.3
          ],
          "sizemode": "area",
          "sizeref": 2.5185,
          "symbol": "circle"
         },
         "mode": "markers",
         "name": "Croatia",
         "showlegend": true,
         "type": "scattergeo"
        },
        {
         "customdata": [
          [
           "Cuba",
           8322,
           53661,
           473.8
          ]
         ],
         "geo": "geo",
         "hovertemplate": "<b>%{hovertext}</b><br><br>Country=%{customdata[0]}<br>size=%{marker.size}<br>iso3c=%{location}<br>COVID-19 deaths=%{customdata[1]}<br>Excess deaths=%{customdata[2]}<br>Excess per 100k=%{customdata[3]}<extra></extra>",
         "hovertext": [
          "Cuba"
         ],
         "legendgroup": "Cuba",
         "locations": [
          "CUB"
         ],
         "marker": {
          "color": "#B6E880",
          "size": [
           473.8
          ],
          "sizemode": "area",
          "sizeref": 2.5185,
          "symbol": "circle"
         },
         "mode": "markers",
         "name": "Cuba",
         "showlegend": true,
         "type": "scattergeo"
        },
        {
         "customdata": [
          [
           "Cyprus",
           1258,
           2064,
           171
          ]
         ],
         "geo": "geo",
         "hovertemplate": "<b>%{hovertext}</b><br><br>Country=%{customdata[0]}<br>size=%{marker.size}<br>iso3c=%{location}<br>COVID-19 deaths=%{customdata[1]}<br>Excess deaths=%{customdata[2]}<br>Excess per 100k=%{customdata[3]}<extra></extra>",
         "hovertext": [
          "Cyprus"
         ],
         "legendgroup": "Cyprus",
         "locations": [
          "CYP"
         ],
         "marker": {
          "color": "#FF97FF",
          "size": [
           171
          ],
          "sizemode": "area",
          "sizeref": 2.5185,
          "symbol": "circle"
         },
         "mode": "markers",
         "name": "Cyprus",
         "showlegend": true,
         "type": "scattergeo"
        },
        {
         "customdata": [
          [
           "Czechia",
           42097,
           46917,
           438.1
          ]
         ],
         "geo": "geo",
         "hovertemplate": "<b>%{hovertext}</b><br><br>Country=%{customdata[0]}<br>size=%{marker.size}<br>iso3c=%{location}<br>COVID-19 deaths=%{customdata[1]}<br>Excess deaths=%{customdata[2]}<br>Excess per 100k=%{customdata[3]}<extra></extra>",
         "hovertext": [
          "Czechia"
         ],
         "legendgroup": "Czechia",
         "locations": [
          "CZE"
         ],
         "marker": {
          "color": "#FECB52",
          "size": [
           438.1
          ],
          "sizemode": "area",
          "sizeref": 2.5185,
          "symbol": "circle"
         },
         "mode": "markers",
         "name": "Czechia",
         "showlegend": true,
         "type": "scattergeo"
        },
        {
         "customdata": [
          [
           "Denmark",
           8128,
           5351,
           92.4
          ]
         ],
         "geo": "geo",
         "hovertemplate": "<b>%{hovertext}</b><br><br>Country=%{customdata[0]}<br>size=%{marker.size}<br>iso3c=%{location}<br>COVID-19 deaths=%{customdata[1]}<br>Excess deaths=%{customdata[2]}<br>Excess per 100k=%{customdata[3]}<extra></extra>",
         "hovertext": [
          "Denmark"
         ],
         "legendgroup": "Denmark",
         "locations": [
          "DNK"
         ],
         "marker": {
          "color": "#636efa",
          "size": [
           92.4
          ],
          "sizemode": "area",
          "sizeref": 2.5185,
          "symbol": "circle"
         },
         "mode": "markers",
         "name": "Denmark",
         "showlegend": true,
         "type": "scattergeo"
        },
        {
         "customdata": [
          [
           "Dominican Republic",
           4130,
           5018,
           46.3
          ]
         ],
         "geo": "geo",
         "hovertemplate": "<b>%{hovertext}</b><br><br>Country=%{customdata[0]}<br>size=%{marker.size}<br>iso3c=%{location}<br>COVID-19 deaths=%{customdata[1]}<br>Excess deaths=%{customdata[2]}<br>Excess per 100k=%{customdata[3]}<extra></extra>",
         "hovertext": [
          "Dominican Republic"
         ],
         "legendgroup": "Dominican Republic",
         "locations": [
          "DOM"
         ],
         "marker": {
          "color": "#EF553B",
          "size": [
           46.3
          ],
          "sizemode": "area",
          "sizeref": 2.5185,
          "symbol": "circle"
         },
         "mode": "markers",
         "name": "Dominican Republic",
         "showlegend": true,
         "type": "scattergeo"
        },
        {
         "customdata": [
          [
           "Ecuador",
           35929,
           77093,
           437
          ]
         ],
         "geo": "geo",
         "hovertemplate": "<b>%{hovertext}</b><br><br>Country=%{customdata[0]}<br>size=%{marker.size}<br>iso3c=%{location}<br>COVID-19 deaths=%{customdata[1]}<br>Excess deaths=%{customdata[2]}<br>Excess per 100k=%{customdata[3]}<extra></extra>",
         "hovertext": [
          "Ecuador"
         ],
         "legendgroup": "Ecuador",
         "locations": [
          "ECU"
         ],
         "marker": {
          "color": "#00cc96",
          "size": [
           437
          ],
          "sizemode": "area",
          "sizeref": 2.5185,
          "symbol": "circle"
         },
         "mode": "markers",
         "name": "Ecuador",
         "showlegend": true,
         "type": "scattergeo"
        },
        {
         "customdata": [
          [
           "Egypt",
           24798,
           325138,
           317.7
          ]
         ],
         "geo": "geo",
         "hovertemplate": "<b>%{hovertext}</b><br><br>Country=%{customdata[0]}<br>size=%{marker.size}<br>iso3c=%{location}<br>COVID-19 deaths=%{customdata[1]}<br>Excess deaths=%{customdata[2]}<br>Excess per 100k=%{customdata[3]}<extra></extra>",
         "hovertext": [
          "Egypt"
         ],
         "legendgroup": "Egypt",
         "locations": [
          "EGY"
         ],
         "marker": {
          "color": "#ab63fa",
          "size": [
           317.7
          ],
          "sizemode": "area",
          "sizeref": 2.5185,
          "symbol": "circle"
         },
         "mode": "markers",
         "name": "Egypt",
         "showlegend": true,
         "type": "scattergeo"
        },
        {
         "customdata": [
          [
           "El Salvador",
           717,
           4729,
           72.9
          ]
         ],
         "geo": "geo",
         "hovertemplate": "<b>%{hovertext}</b><br><br>Country=%{customdata[0]}<br>size=%{marker.size}<br>iso3c=%{location}<br>COVID-19 deaths=%{customdata[1]}<br>Excess deaths=%{customdata[2]}<br>Excess per 100k=%{customdata[3]}<extra></extra>",
         "hovertext": [
          "El Salvador"
         ],
         "legendgroup": "El Salvador",
         "locations": [
          "SLV"
         ],
         "marker": {
          "color": "#FFA15A",
          "size": [
           72.9
          ],
          "sizemode": "area",
          "sizeref": 2.5185,
          "symbol": "circle"
         },
         "mode": "markers",
         "name": "El Salvador",
         "showlegend": true,
         "type": "scattergeo"
        },
        {
         "customdata": [
          [
           "Estonia",
           2885,
           5090,
           383.7
          ]
         ],
         "geo": "geo",
         "hovertemplate": "<b>%{hovertext}</b><br><br>Country=%{customdata[0]}<br>size=%{marker.size}<br>iso3c=%{location}<br>COVID-19 deaths=%{customdata[1]}<br>Excess deaths=%{customdata[2]}<br>Excess per 100k=%{customdata[3]}<extra></extra>",
         "hovertext": [
          "Estonia"
         ],
         "legendgroup": "Estonia",
         "locations": [
          "EST"
         ],
         "marker": {
          "color": "#19d3f3",
          "size": [
           383.7
          ],
          "sizemode": "area",
          "sizeref": 2.5185,
          "symbol": "circle"
         },
         "mode": "markers",
         "name": "Estonia",
         "showlegend": true,
         "type": "scattergeo"
        },
        {
         "customdata": [
          [
           "Faroe Islands",
           28,
           1,
           1.9
          ]
         ],
         "geo": "geo",
         "hovertemplate": "<b>%{hovertext}</b><br><br>Country=%{customdata[0]}<br>size=%{marker.size}<br>iso3c=%{location}<br>COVID-19 deaths=%{customdata[1]}<br>Excess deaths=%{customdata[2]}<br>Excess per 100k=%{customdata[3]}<extra></extra>",
         "hovertext": [
          "Faroe Islands"
         ],
         "legendgroup": "Faroe Islands",
         "locations": [
          "FRO"
         ],
         "marker": {
          "color": "#FF6692",
          "size": [
           1.9
          ],
          "sizemode": "area",
          "sizeref": 2.5185,
          "symbol": "circle"
         },
         "mode": "markers",
         "name": "Faroe Islands",
         "showlegend": true,
         "type": "scattergeo"
        },
        {
         "customdata": [
          [
           "Finland",
           8700,
           11129,
           200.9
          ]
         ],
         "geo": "geo",
         "hovertemplate": "<b>%{hovertext}</b><br><br>Country=%{customdata[0]}<br>size=%{marker.size}<br>iso3c=%{location}<br>COVID-19 deaths=%{customdata[1]}<br>Excess deaths=%{customdata[2]}<br>Excess per 100k=%{customdata[3]}<extra></extra>",
         "hovertext": [
          "Finland"
         ],
         "legendgroup": "Finland",
         "locations": [
          "FIN"
         ],
         "marker": {
          "color": "#B6E880",
          "size": [
           200.9
          ],
          "sizemode": "area",
          "sizeref": 2.5185,
          "symbol": "circle"
         },
         "mode": "markers",
         "name": "Finland",
         "showlegend": true,
         "type": "scattergeo"
        },
        {
         "customdata": [
          [
           "France",
           159714,
           127214,
           194.9
          ]
         ],
         "geo": "geo",
         "hovertemplate": "<b>%{hovertext}</b><br><br>Country=%{customdata[0]}<br>size=%{marker.size}<br>iso3c=%{location}<br>COVID-19 deaths=%{customdata[1]}<br>Excess deaths=%{customdata[2]}<br>Excess per 100k=%{customdata[3]}<extra></extra>",
         "hovertext": [
          "France"
         ],
         "legendgroup": "France",
         "locations": [
          "FRA"
         ],
         "marker": {
          "color": "#FF97FF",
          "size": [
           194.9
          ],
          "sizemode": "area",
          "sizeref": 2.5185,
          "symbol": "circle"
         },
         "mode": "markers",
         "name": "France",
         "showlegend": true,
         "type": "scattergeo"
        },
        {
         "customdata": [
          [
           "French Guiana",
           413,
           288,
           96.3
          ]
         ],
         "geo": "geo",
         "hovertemplate": "<b>%{hovertext}</b><br><br>Country=%{customdata[0]}<br>size=%{marker.size}<br>iso3c=%{location}<br>COVID-19 deaths=%{customdata[1]}<br>Excess deaths=%{customdata[2]}<br>Excess per 100k=%{customdata[3]}<extra></extra>",
         "hovertext": [
          "French Guiana"
         ],
         "legendgroup": "French Guiana",
         "locations": [
          "GUF"
         ],
         "marker": {
          "color": "#FECB52",
          "size": [
           96.3
          ],
          "sizemode": "area",
          "sizeref": 2.5185,
          "symbol": "circle"
         },
         "mode": "markers",
         "name": "French Guiana",
         "showlegend": true,
         "type": "scattergeo"
        },
        {
         "customdata": [
          [
           "French Polynesia",
           636,
           565,
           201
          ]
         ],
         "geo": "geo",
         "hovertemplate": "<b>%{hovertext}</b><br><br>Country=%{customdata[0]}<br>size=%{marker.size}<br>iso3c=%{location}<br>COVID-19 deaths=%{customdata[1]}<br>Excess deaths=%{customdata[2]}<br>Excess per 100k=%{customdata[3]}<extra></extra>",
         "hovertext": [
          "French Polynesia"
         ],
         "legendgroup": "French Polynesia",
         "locations": [
          "PYF"
         ],
         "marker": {
          "color": "#636efa",
          "size": [
           201
          ],
          "sizemode": "area",
          "sizeref": 2.5185,
          "symbol": "circle"
         },
         "mode": "markers",
         "name": "French Polynesia",
         "showlegend": true,
         "type": "scattergeo"
        },
        {
         "customdata": [
          [
           "Georgia",
           16791,
           24010,
           601.9
          ]
         ],
         "geo": "geo",
         "hovertemplate": "<b>%{hovertext}</b><br><br>Country=%{customdata[0]}<br>size=%{marker.size}<br>iso3c=%{location}<br>COVID-19 deaths=%{customdata[1]}<br>Excess deaths=%{customdata[2]}<br>Excess per 100k=%{customdata[3]}<extra></extra>",
         "hovertext": [
          "Georgia"
         ],
         "legendgroup": "Georgia",
         "locations": [
          "GEO"
         ],
         "marker": {
          "color": "#EF553B",
          "size": [
           601.9
          ],
          "sizemode": "area",
          "sizeref": 2.5185,
          "symbol": "circle"
         },
         "mode": "markers",
         "name": "Georgia",
         "showlegend": true,
         "type": "scattergeo"
        },
        {
         "customdata": [
          [
           "Germany",
           166327,
           203137,
           242.5
          ]
         ],
         "geo": "geo",
         "hovertemplate": "<b>%{hovertext}</b><br><br>Country=%{customdata[0]}<br>size=%{marker.size}<br>iso3c=%{location}<br>COVID-19 deaths=%{customdata[1]}<br>Excess deaths=%{customdata[2]}<br>Excess per 100k=%{customdata[3]}<extra></extra>",
         "hovertext": [
          "Germany"
         ],
         "legendgroup": "Germany",
         "locations": [
          "DEU"
         ],
         "marker": {
          "color": "#00cc96",
          "size": [
           242.5
          ],
          "sizemode": "area",
          "sizeref": 2.5185,
          "symbol": "circle"
         },
         "mode": "markers",
         "name": "Germany",
         "showlegend": true,
         "type": "scattergeo"
        },
        {
         "customdata": [
          [
           "Gibraltar",
           75,
           21,
           62.7
          ]
         ],
         "geo": "geo",
         "hovertemplate": "<b>%{hovertext}</b><br><br>Country=%{customdata[0]}<br>size=%{marker.size}<br>iso3c=%{location}<br>COVID-19 deaths=%{customdata[1]}<br>Excess deaths=%{customdata[2]}<br>Excess per 100k=%{customdata[3]}<extra></extra>",
         "hovertext": [
          "Gibraltar"
         ],
         "legendgroup": "Gibraltar",
         "locations": [
          "GIB"
         ],
         "marker": {
          "color": "#ab63fa",
          "size": [
           62.7
          ],
          "sizemode": "area",
          "sizeref": 2.5185,
          "symbol": "circle"
         },
         "mode": "markers",
         "name": "Gibraltar",
         "showlegend": true,
         "type": "scattergeo"
        },
        {
         "customdata": [
          [
           "Greece",
           34925,
           38532,
           369.7
          ]
         ],
         "geo": "geo",
         "hovertemplate": "<b>%{hovertext}</b><br><br>Country=%{customdata[0]}<br>size=%{marker.size}<br>iso3c=%{location}<br>COVID-19 deaths=%{customdata[1]}<br>Excess deaths=%{customdata[2]}<br>Excess per 100k=%{customdata[3]}<extra></extra>",
         "hovertext": [
          "Greece"
         ],
         "legendgroup": "Greece",
         "locations": [
          "GRC"
         ],
         "marker": {
          "color": "#FFA15A",
          "size": [
           369.7
          ],
          "sizemode": "area",
          "sizeref": 2.5185,
          "symbol": "circle"
         },
         "mode": "markers",
         "name": "Greece",
         "showlegend": true,
         "type": "scattergeo"
        },
        {
         "customdata": [
          [
           "Greenland",
           21,
           -98,
           -171.9
          ]
         ],
         "geo": "geo",
         "hovertemplate": "<b>%{hovertext}</b><br><br>Country=%{customdata[0]}<br>size=%{marker.size}<br>iso3c=%{location}<br>COVID-19 deaths=%{customdata[1]}<br>Excess deaths=%{customdata[2]}<br>Excess per 100k=%{customdata[3]}<extra></extra>",
         "hovertext": [
          "Greenland"
         ],
         "legendgroup": "Greenland",
         "locations": [
          "GRL"
         ],
         "marker": {
          "color": "#19d3f3",
          "size": [
           1
          ],
          "sizemode": "area",
          "sizeref": 2.5185,
          "symbol": "circle"
         },
         "mode": "markers",
         "name": "Greenland",
         "showlegend": true,
         "type": "scattergeo"
        },
        {
         "customdata": [
          [
           "Guadeloupe",
           1006,
           1438,
           359.3
          ]
         ],
         "geo": "geo",
         "hovertemplate": "<b>%{hovertext}</b><br><br>Country=%{customdata[0]}<br>size=%{marker.size}<br>iso3c=%{location}<br>COVID-19 deaths=%{customdata[1]}<br>Excess deaths=%{customdata[2]}<br>Excess per 100k=%{customdata[3]}<extra></extra>",
         "hovertext": [
          "Guadeloupe"
         ],
         "legendgroup": "Guadeloupe",
         "locations": [
          "GLP"
         ],
         "marker": {
          "color": "#FF6692",
          "size": [
           359.3
          ],
          "sizemode": "area",
          "sizeref": 2.5185,
          "symbol": "circle"
         },
         "mode": "markers",
         "name": "Guadeloupe",
         "showlegend": true,
         "type": "scattergeo"
        },
        {
         "customdata": [
          [
           "Guatemala",
           20000,
           56243,
           313.9
          ]
         ],
         "geo": "geo",
         "hovertemplate": "<b>%{hovertext}</b><br><br>Country=%{customdata[0]}<br>size=%{marker.size}<br>iso3c=%{location}<br>COVID-19 deaths=%{customdata[1]}<br>Excess deaths=%{customdata[2]}<br>Excess per 100k=%{customdata[3]}<extra></extra>",
         "hovertext": [
          "Guatemala"
         ],
         "legendgroup": "Guatemala",
         "locations": [
          "GTM"
         ],
         "marker": {
          "color": "#B6E880",
          "size": [
           313.9
          ],
          "sizemode": "area",
          "sizeref": 2.5185,
          "symbol": "circle"
         },
         "mode": "markers",
         "name": "Guatemala",
         "showlegend": true,
         "type": "scattergeo"
        },
        {
         "customdata": [
          [
           "Hong Kong",
           10410,
           13842,
           184.6
          ]
         ],
         "geo": "geo",
         "hovertemplate": "<b>%{hovertext}</b><br><br>Country=%{customdata[0]}<br>size=%{marker.size}<br>iso3c=%{location}<br>COVID-19 deaths=%{customdata[1]}<br>Excess deaths=%{customdata[2]}<br>Excess per 100k=%{customdata[3]}<extra></extra>",
         "hovertext": [
          "Hong Kong"
         ],
         "legendgroup": "Hong Kong",
         "locations": [
          "HKG"
         ],
         "marker": {
          "color": "#FF97FF",
          "size": [
           184.6
          ],
          "sizemode": "area",
          "sizeref": 2.5185,
          "symbol": "circle"
         },
         "mode": "markers",
         "name": "Hong Kong",
         "showlegend": true,
         "type": "scattergeo"
        },
        {
         "customdata": [
          [
           "Hungary",
           48495,
           44188,
           457.4
          ]
         ],
         "geo": "geo",
         "hovertemplate": "<b>%{hovertext}</b><br><br>Country=%{customdata[0]}<br>size=%{marker.size}<br>iso3c=%{location}<br>COVID-19 deaths=%{customdata[1]}<br>Excess deaths=%{customdata[2]}<br>Excess per 100k=%{customdata[3]}<extra></extra>",
         "hovertext": [
          "Hungary"
         ],
         "legendgroup": "Hungary",
         "locations": [
          "HUN"
         ],
         "marker": {
          "color": "#FECB52",
          "size": [
           457.4
          ],
          "sizemode": "area",
          "sizeref": 2.5185,
          "symbol": "circle"
         },
         "mode": "markers",
         "name": "Hungary",
         "showlegend": true,
         "type": "scattergeo"
        },
        {
         "customdata": [
          [
           "Iceland",
           229,
           399,
           117
          ]
         ],
         "geo": "geo",
         "hovertemplate": "<b>%{hovertext}</b><br><br>Country=%{customdata[0]}<br>size=%{marker.size}<br>iso3c=%{location}<br>COVID-19 deaths=%{customdata[1]}<br>Excess deaths=%{customdata[2]}<br>Excess per 100k=%{customdata[3]}<extra></extra>",
         "hovertext": [
          "Iceland"
         ],
         "legendgroup": "Iceland",
         "locations": [
          "ISL"
         ],
         "marker": {
          "color": "#636efa",
          "size": [
           117
          ],
          "sizemode": "area",
          "sizeref": 2.5185,
          "symbol": "circle"
         },
         "mode": "markers",
         "name": "Iceland",
         "showlegend": true,
         "type": "scattergeo"
        },
        {
         "customdata": [
          [
           "Iran",
           144478,
           273733,
           325.9
          ]
         ],
         "geo": "geo",
         "hovertemplate": "<b>%{hovertext}</b><br><br>Country=%{customdata[0]}<br>size=%{marker.size}<br>iso3c=%{location}<br>COVID-19 deaths=%{customdata[1]}<br>Excess deaths=%{customdata[2]}<br>Excess per 100k=%{customdata[3]}<extra></extra>",
         "hovertext": [
          "Iran"
         ],
         "legendgroup": "Iran",
         "locations": [
          "IRN"
         ],
         "marker": {
          "color": "#EF553B",
          "size": [
           325.9
          ],
          "sizemode": "area",
          "sizeref": 2.5185,
          "symbol": "circle"
         },
         "mode": "markers",
         "name": "Iran",
         "showlegend": true,
         "type": "scattergeo"
        },
        {
         "customdata": [
          [
           "Ireland",
           8425,
           6483,
           131.3
          ]
         ],
         "geo": "geo",
         "hovertemplate": "<b>%{hovertext}</b><br><br>Country=%{customdata[0]}<br>size=%{marker.size}<br>iso3c=%{location}<br>COVID-19 deaths=%{customdata[1]}<br>Excess deaths=%{customdata[2]}<br>Excess per 100k=%{customdata[3]}<extra></extra>",
         "hovertext": [
          "Ireland"
         ],
         "legendgroup": "Ireland",
         "locations": [
          "IRL"
         ],
         "marker": {
          "color": "#00cc96",
          "size": [
           131.3
          ],
          "sizemode": "area",
          "sizeref": 2.5185,
          "symbol": "circle"
         },
         "mode": "markers",
         "name": "Ireland",
         "showlegend": true,
         "type": "scattergeo"
        },
        {
         "customdata": [
          [
           "Israel",
           12067,
           12489,
           144.3
          ]
         ],
         "geo": "geo",
         "hovertemplate": "<b>%{hovertext}</b><br><br>Country=%{customdata[0]}<br>size=%{marker.size}<br>iso3c=%{location}<br>COVID-19 deaths=%{customdata[1]}<br>Excess deaths=%{customdata[2]}<br>Excess per 100k=%{customdata[3]}<extra></extra>",
         "hovertext": [
          "Israel"
         ],
         "legendgroup": "Israel",
         "locations": [
          "ISR"
         ],
         "marker": {
          "color": "#ab63fa",
          "size": [
           144.3
          ],
          "sizemode": "area",
          "sizeref": 2.5185,
          "symbol": "circle"
         },
         "mode": "markers",
         "name": "Israel",
         "showlegend": true,
         "type": "scattergeo"
        },
        {
         "customdata": [
          [
           "Italy",
           181944,
           235796,
           390
          ]
         ],
         "geo": "geo",
         "hovertemplate": "<b>%{hovertext}</b><br><br>Country=%{customdata[0]}<br>size=%{marker.size}<br>iso3c=%{location}<br>COVID-19 deaths=%{customdata[1]}<br>Excess deaths=%{customdata[2]}<br>Excess per 100k=%{customdata[3]}<extra></extra>",
         "hovertext": [
          "Italy"
         ],
         "legendgroup": "Italy",
         "locations": [
          "ITA"
         ],
         "marker": {
          "color": "#FFA15A",
          "size": [
           390
          ],
          "sizemode": "area",
          "sizeref": 2.5185,
          "symbol": "circle"
         },
         "mode": "markers",
         "name": "Italy",
         "showlegend": true,
         "type": "scattergeo"
        },
        {
         "customdata": [
          [
           "Jamaica",
           2392,
           5408,
           182.6
          ]
         ],
         "geo": "geo",
         "hovertemplate": "<b>%{hovertext}</b><br><br>Country=%{customdata[0]}<br>size=%{marker.size}<br>iso3c=%{location}<br>COVID-19 deaths=%{customdata[1]}<br>Excess deaths=%{customdata[2]}<br>Excess per 100k=%{customdata[3]}<extra></extra>",
         "hovertext": [
          "Jamaica"
         ],
         "legendgroup": "Jamaica",
         "locations": [
          "JAM"
         ],
         "marker": {
          "color": "#19d3f3",
          "size": [
           182.6
          ],
          "sizemode": "area",
          "sizeref": 2.5185,
          "symbol": "circle"
         },
         "mode": "markers",
         "name": "Jamaica",
         "showlegend": true,
         "type": "scattergeo"
        },
        {
         "customdata": [
          [
           "Japan",
           49826,
           94841,
           75
          ]
         ],
         "geo": "geo",
         "hovertemplate": "<b>%{hovertext}</b><br><br>Country=%{customdata[0]}<br>size=%{marker.size}<br>iso3c=%{location}<br>COVID-19 deaths=%{customdata[1]}<br>Excess deaths=%{customdata[2]}<br>Excess per 100k=%{customdata[3]}<extra></extra>",
         "hovertext": [
          "Japan"
         ],
         "legendgroup": "Japan",
         "locations": [
          "JPN"
         ],
         "marker": {
          "color": "#FF6692",
          "size": [
           75
          ],
          "sizemode": "area",
          "sizeref": 2.5185,
          "symbol": "circle"
         },
         "mode": "markers",
         "name": "Japan",
         "showlegend": true,
         "type": "scattergeo"
        },
        {
         "customdata": [
          [
           "Jordan",
           12653,
           14595,
           143
          ]
         ],
         "geo": "geo",
         "hovertemplate": "<b>%{hovertext}</b><br><br>Country=%{customdata[0]}<br>size=%{marker.size}<br>iso3c=%{location}<br>COVID-19 deaths=%{customdata[1]}<br>Excess deaths=%{customdata[2]}<br>Excess per 100k=%{customdata[3]}<extra></extra>",
         "hovertext": [
          "Jordan"
         ],
         "legendgroup": "Jordan",
         "locations": [
          "JOR"
         ],
         "marker": {
          "color": "#B6E880",
          "size": [
           143
          ],
          "sizemode": "area",
          "sizeref": 2.5185,
          "symbol": "circle"
         },
         "mode": "markers",
         "name": "Jordan",
         "showlegend": true,
         "type": "scattergeo"
        },
        {
         "customdata": [
          [
           "Kazakhstan",
           19053,
           81467,
           433.9
          ]
         ],
         "geo": "geo",
         "hovertemplate": "<b>%{hovertext}</b><br><br>Country=%{customdata[0]}<br>size=%{marker.size}<br>iso3c=%{location}<br>COVID-19 deaths=%{customdata[1]}<br>Excess deaths=%{customdata[2]}<br>Excess per 100k=%{customdata[3]}<extra></extra>",
         "hovertext": [
          "Kazakhstan"
         ],
         "legendgroup": "Kazakhstan",
         "locations": [
          "KAZ"
         ],
         "marker": {
          "color": "#FF97FF",
          "size": [
           433.9
          ],
          "sizemode": "area",
          "sizeref": 2.5185,
          "symbol": "circle"
         },
         "mode": "markers",
         "name": "Kazakhstan",
         "showlegend": true,
         "type": "scattergeo"
        },
        {
         "customdata": [
          [
           "Kosovo",
           3192,
           5447,
           295.2
          ]
         ],
         "geo": "geo",
         "hovertemplate": "<b>%{hovertext}</b><br><br>Country=%{customdata[0]}<br>size=%{marker.size}<br>iso3c=%{location}<br>COVID-19 deaths=%{customdata[1]}<br>Excess deaths=%{customdata[2]}<br>Excess per 100k=%{customdata[3]}<extra></extra>",
         "hovertext": [
          "Kosovo"
         ],
         "legendgroup": "Kosovo",
         "locations": [
          "KOS"
         ],
         "marker": {
          "color": "#FECB52",
          "size": [
           295.2
          ],
          "sizemode": "area",
          "sizeref": 2.5185,
          "symbol": "circle"
         },
         "mode": "markers",
         "name": "Kosovo",
         "showlegend": true,
         "type": "scattergeo"
        },
        {
         "customdata": [
          [
           "Kuwait",
           2468,
           6693,
           156.7
          ]
         ],
         "geo": "geo",
         "hovertemplate": "<b>%{hovertext}</b><br><br>Country=%{customdata[0]}<br>size=%{marker.size}<br>iso3c=%{location}<br>COVID-19 deaths=%{customdata[1]}<br>Excess deaths=%{customdata[2]}<br>Excess per 100k=%{customdata[3]}<extra></extra>",
         "hovertext": [
          "Kuwait"
         ],
         "legendgroup": "Kuwait",
         "locations": [
          "KWT"
         ],
         "marker": {
          "color": "#636efa",
          "size": [
           156.7
          ],
          "sizemode": "area",
          "sizeref": 2.5185,
          "symbol": "circle"
         },
         "mode": "markers",
         "name": "Kuwait",
         "showlegend": true,
         "type": "scattergeo"
        },
        {
         "customdata": [
          [
           "Kyrgyzstan",
           2991,
           13449,
           206.1
          ]
         ],
         "geo": "geo",
         "hovertemplate": "<b>%{hovertext}</b><br><br>Country=%{customdata[0]}<br>size=%{marker.size}<br>iso3c=%{location}<br>COVID-19 deaths=%{customdata[1]}<br>Excess deaths=%{customdata[2]}<br>Excess per 100k=%{customdata[3]}<extra></extra>",
         "hovertext": [
          "Kyrgyzstan"
         ],
         "legendgroup": "Kyrgyzstan",
         "locations": [
          "KGZ"
         ],
         "marker": {
          "color": "#EF553B",
          "size": [
           206.1
          ],
          "sizemode": "area",
          "sizeref": 2.5185,
          "symbol": "circle"
         },
         "mode": "markers",
         "name": "Kyrgyzstan",
         "showlegend": true,
         "type": "scattergeo"
        },
        {
         "customdata": [
          [
           "Latvia",
           6197,
           10536,
           558.6
          ]
         ],
         "geo": "geo",
         "hovertemplate": "<b>%{hovertext}</b><br><br>Country=%{customdata[0]}<br>size=%{marker.size}<br>iso3c=%{location}<br>COVID-19 deaths=%{customdata[1]}<br>Excess deaths=%{customdata[2]}<br>Excess per 100k=%{customdata[3]}<extra></extra>",
         "hovertext": [
          "Latvia"
         ],
         "legendgroup": "Latvia",
         "locations": [
          "LVA"
         ],
         "marker": {
          "color": "#00cc96",
          "size": [
           558.6
          ],
          "sizemode": "area",
          "sizeref": 2.5185,
          "symbol": "circle"
         },
         "mode": "markers",
         "name": "Latvia",
         "showlegend": true,
         "type": "scattergeo"
        },
        {
         "customdata": [
          [
           "Lebanon",
           9119,
           14630,
           214.3
          ]
         ],
         "geo": "geo",
         "hovertemplate": "<b>%{hovertext}</b><br><br>Country=%{customdata[0]}<br>size=%{marker.size}<br>iso3c=%{location}<br>COVID-19 deaths=%{customdata[1]}<br>Excess deaths=%{customdata[2]}<br>Excess per 100k=%{customdata[3]}<extra></extra>",
         "hovertext": [
          "Lebanon"
         ],
         "legendgroup": "Lebanon",
         "locations": [
          "LBN"
         ],
         "marker": {
          "color": "#ab63fa",
          "size": [
           214.3
          ],
          "sizemode": "area",
          "sizeref": 2.5185,
          "symbol": "circle"
         },
         "mode": "markers",
         "name": "Lebanon",
         "showlegend": true,
         "type": "scattergeo"
        },
        {
         "customdata": [
          [
           "Liechtenstein",
           83,
           54,
           141.4
          ]
         ],
         "geo": "geo",
         "hovertemplate": "<b>%{hovertext}</b><br><br>Country=%{customdata[0]}<br>size=%{marker.size}<br>iso3c=%{location}<br>COVID-19 deaths=%{customdata[1]}<br>Excess deaths=%{customdata[2]}<br>Excess per 100k=%{customdata[3]}<extra></extra>",
         "hovertext": [
          "Liechtenstein"
         ],
         "legendgroup": "Liechtenstein",
         "locations": [
          "LIE"
         ],
         "marker": {
          "color": "#FFA15A",
          "size": [
           141.4
          ],
          "sizemode": "area",
          "sizeref": 2.5185,
          "symbol": "circle"
         },
         "mode": "markers",
         "name": "Liechtenstein",
         "showlegend": true,
         "type": "scattergeo"
        },
        {
         "customdata": [
          [
           "Lithuania",
           9484,
           23832,
           875.4
          ]
         ],
         "geo": "geo",
         "hovertemplate": "<b>%{hovertext}</b><br><br>Country=%{customdata[0]}<br>size=%{marker.size}<br>iso3c=%{location}<br>COVID-19 deaths=%{customdata[1]}<br>Excess deaths=%{customdata[2]}<br>Excess per 100k=%{customdata[3]}<extra></extra>",
         "hovertext": [
          "Lithuania"
         ],
         "legendgroup": "Lithuania",
         "locations": [
          "LTU"
         ],
         "marker": {
          "color": "#19d3f3",
          "size": [
           875.4
          ],
          "sizemode": "area",
          "sizeref": 2.5185,
          "symbol": "circle"
         },
         "mode": "markers",
         "name": "Lithuania",
         "showlegend": true,
         "type": "scattergeo"
        },
        {
         "customdata": [
          [
           "Luxembourg",
           1190,
           -29,
           -4.6
          ]
         ],
         "geo": "geo",
         "hovertemplate": "<b>%{hovertext}</b><br><br>Country=%{customdata[0]}<br>size=%{marker.size}<br>iso3c=%{location}<br>COVID-19 deaths=%{customdata[1]}<br>Excess deaths=%{customdata[2]}<br>Excess per 100k=%{customdata[3]}<extra></extra>",
         "hovertext": [
          "Luxembourg"
         ],
         "legendgroup": "Luxembourg",
         "locations": [
          "LUX"
         ],
         "marker": {
          "color": "#FF6692",
          "size": [
           1
          ],
          "sizemode": "area",
          "sizeref": 2.5185,
          "symbol": "circle"
         },
         "mode": "markers",
         "name": "Luxembourg",
         "showlegend": true,
         "type": "scattergeo"
        },
        {
         "customdata": [
          [
           "Macao",
           47,
           1217,
           187.4
          ]
         ],
         "geo": "geo",
         "hovertemplate": "<b>%{hovertext}</b><br><br>Country=%{customdata[0]}<br>size=%{marker.size}<br>iso3c=%{location}<br>COVID-19 deaths=%{customdata[1]}<br>Excess deaths=%{customdata[2]}<br>Excess per 100k=%{customdata[3]}<extra></extra>",
         "hovertext": [
          "Macao"
         ],
         "legendgroup": "Macao",
         "locations": [
          "MAC"
         ],
         "marker": {
          "color": "#B6E880",
          "size": [
           187.4
          ],
          "sizemode": "area",
          "sizeref": 2.5185,
          "symbol": "circle"
         },
         "mode": "markers",
         "name": "Macao",
         "showlegend": true,
         "type": "scattergeo"
        },
        {
         "customdata": [
          [
           "Malaysia",
           36369,
           34657,
           107.1
          ]
         ],
         "geo": "geo",
         "hovertemplate": "<b>%{hovertext}</b><br><br>Country=%{customdata[0]}<br>size=%{marker.size}<br>iso3c=%{location}<br>COVID-19 deaths=%{customdata[1]}<br>Excess deaths=%{customdata[2]}<br>Excess per 100k=%{customdata[3]}<extra></extra>",
         "hovertext": [
          "Malaysia"
         ],
         "legendgroup": "Malaysia",
         "locations": [
          "MYS"
         ],
         "marker": {
          "color": "#FF97FF",
          "size": [
           107.1
          ],
          "sizemode": "area",
          "sizeref": 2.5185,
          "symbol": "circle"
         },
         "mode": "markers",
         "name": "Malaysia",
         "showlegend": true,
         "type": "scattergeo"
        },
        {
         "customdata": [
          [
           "Maldives",
           262,
           603,
           111.6
          ]
         ],
         "geo": "geo",
         "hovertemplate": "<b>%{hovertext}</b><br><br>Country=%{customdata[0]}<br>size=%{marker.size}<br>iso3c=%{location}<br>COVID-19 deaths=%{customdata[1]}<br>Excess deaths=%{customdata[2]}<br>Excess per 100k=%{customdata[3]}<extra></extra>",
         "hovertext": [
          "Maldives"
         ],
         "legendgroup": "Maldives",
         "locations": [
          "MDV"
         ],
         "marker": {
          "color": "#FECB52",
          "size": [
           111.6
          ],
          "sizemode": "area",
          "sizeref": 2.5185,
          "symbol": "circle"
         },
         "mode": "markers",
         "name": "Maldives",
         "showlegend": true,
         "type": "scattergeo"
        },
        {
         "customdata": [
          [
           "Malta",
           821,
           820,
           185.8
          ]
         ],
         "geo": "geo",
         "hovertemplate": "<b>%{hovertext}</b><br><br>Country=%{customdata[0]}<br>size=%{marker.size}<br>iso3c=%{location}<br>COVID-19 deaths=%{customdata[1]}<br>Excess deaths=%{customdata[2]}<br>Excess per 100k=%{customdata[3]}<extra></extra>",
         "hovertext": [
          "Malta"
         ],
         "legendgroup": "Malta",
         "locations": [
          "MLT"
         ],
         "marker": {
          "color": "#636efa",
          "size": [
           185.8
          ],
          "sizemode": "area",
          "sizeref": 2.5185,
          "symbol": "circle"
         },
         "mode": "markers",
         "name": "Malta",
         "showlegend": true,
         "type": "scattergeo"
        },
        {
         "customdata": [
          [
           "Martinique",
           1086,
           1353,
           360.6
          ]
         ],
         "geo": "geo",
         "hovertemplate": "<b>%{hovertext}</b><br><br>Country=%{customdata[0]}<br>size=%{marker.size}<br>iso3c=%{location}<br>COVID-19 deaths=%{customdata[1]}<br>Excess deaths=%{customdata[2]}<br>Excess per 100k=%{customdata[3]}<extra></extra>",
         "hovertext": [
          "Martinique"
         ],
         "legendgroup": "Martinique",
         "locations": [
          "MTQ"
         ],
         "marker": {
          "color": "#EF553B",
          "size": [
           360.6
          ],
          "sizemode": "area",
          "sizeref": 2.5185,
          "symbol": "circle"
         },
         "mode": "markers",
         "name": "Martinique",
         "showlegend": true,
         "type": "scattergeo"
        },
        {
         "customdata": [
          [
           "Mauritius",
           1004,
           1768,
           139
          ]
         ],
         "geo": "geo",
         "hovertemplate": "<b>%{hovertext}</b><br><br>Country=%{customdata[0]}<br>size=%{marker.size}<br>iso3c=%{location}<br>COVID-19 deaths=%{customdata[1]}<br>Excess deaths=%{customdata[2]}<br>Excess per 100k=%{customdata[3]}<extra></extra>",
         "hovertext": [
          "Mauritius"
         ],
         "legendgroup": "Mauritius",
         "locations": [
          "MUS"
         ],
         "marker": {
          "color": "#00cc96",
          "size": [
           139
          ],
          "sizemode": "area",
          "sizeref": 2.5185,
          "symbol": "circle"
         },
         "mode": "markers",
         "name": "Mauritius",
         "showlegend": true,
         "type": "scattergeo"
        },
        {
         "customdata": [
          [
           "Mayotte",
           187,
           478,
           175.4
          ]
         ],
         "geo": "geo",
         "hovertemplate": "<b>%{hovertext}</b><br><br>Country=%{customdata[0]}<br>size=%{marker.size}<br>iso3c=%{location}<br>COVID-19 deaths=%{customdata[1]}<br>Excess deaths=%{customdata[2]}<br>Excess per 100k=%{customdata[3]}<extra></extra>",
         "hovertext": [
          "Mayotte"
         ],
         "legendgroup": "Mayotte",
         "locations": [
          "MYT"
         ],
         "marker": {
          "color": "#ab63fa",
          "size": [
           175.4
          ],
          "sizemode": "area",
          "sizeref": 2.5185,
          "symbol": "circle"
         },
         "mode": "markers",
         "name": "Mayotte",
         "showlegend": true,
         "type": "scattergeo"
        },
        {
         "customdata": [
          [
           "Mexico",
           331409,
           650981,
           504.9
          ]
         ],
         "geo": "geo",
         "hovertemplate": "<b>%{hovertext}</b><br><br>Country=%{customdata[0]}<br>size=%{marker.size}<br>iso3c=%{location}<br>COVID-19 deaths=%{customdata[1]}<br>Excess deaths=%{customdata[2]}<br>Excess per 100k=%{customdata[3]}<extra></extra>",
         "hovertext": [
          "Mexico"
         ],
         "legendgroup": "Mexico",
         "locations": [
          "MEX"
         ],
         "marker": {
          "color": "#FFA15A",
          "size": [
           504.9
          ],
          "sizemode": "area",
          "sizeref": 2.5185,
          "symbol": "circle"
         },
         "mode": "markers",
         "name": "Mexico",
         "showlegend": true,
         "type": "scattergeo"
        },
        {
         "customdata": [
          [
           "Moldova",
           11844,
           18415,
           456.5
          ]
         ],
         "geo": "geo",
         "hovertemplate": "<b>%{hovertext}</b><br><br>Country=%{customdata[0]}<br>size=%{marker.size}<br>iso3c=%{location}<br>COVID-19 deaths=%{customdata[1]}<br>Excess deaths=%{customdata[2]}<br>Excess per 100k=%{customdata[3]}<extra></extra>",
         "hovertext": [
          "Moldova"
         ],
         "legendgroup": "Moldova",
         "locations": [
          "MDA"
         ],
         "marker": {
          "color": "#19d3f3",
          "size": [
           456.5
          ],
          "sizemode": "area",
          "sizeref": 2.5185,
          "symbol": "circle"
         },
         "mode": "markers",
         "name": "Moldova",
         "showlegend": true,
         "type": "scattergeo"
        },
        {
         "customdata": [
          [
           "Monaco",
           63,
           184,
           468.2
          ]
         ],
         "geo": "geo",
         "hovertemplate": "<b>%{hovertext}</b><br><br>Country=%{customdata[0]}<br>size=%{marker.size}<br>iso3c=%{location}<br>COVID-19 deaths=%{customdata[1]}<br>Excess deaths=%{customdata[2]}<br>Excess per 100k=%{customdata[3]}<extra></extra>",
         "hovertext": [
          "Monaco"
         ],
         "legendgroup": "Monaco",
         "locations": [
          "MCO"
         ],
         "marker": {
          "color": "#FF6692",
          "size": [
           468.2
          ],
          "sizemode": "area",
          "sizeref": 2.5185,
          "symbol": "circle"
         },
         "mode": "markers",
         "name": "Monaco",
         "showlegend": true,
         "type": "scattergeo"
        },
        {
         "customdata": [
          [
           "Mongolia",
           2136,
           785,
           23.9
          ]
         ],
         "geo": "geo",
         "hovertemplate": "<b>%{hovertext}</b><br><br>Country=%{customdata[0]}<br>size=%{marker.size}<br>iso3c=%{location}<br>COVID-19 deaths=%{customdata[1]}<br>Excess deaths=%{customdata[2]}<br>Excess per 100k=%{customdata[3]}<extra></extra>",
         "hovertext": [
          "Mongolia"
         ],
         "legendgroup": "Mongolia",
         "locations": [
          "MNG"
         ],
         "marker": {
          "color": "#B6E880",
          "size": [
           23.9
          ],
          "sizemode": "area",
          "sizeref": 2.5185,
          "symbol": "circle"
         },
         "mode": "markers",
         "name": "Mongolia",
         "showlegend": true,
         "type": "scattergeo"
        },
        {
         "customdata": [
          [
           "Montenegro",
           2770,
           3617,
           575.9
          ]
         ],
         "geo": "geo",
         "hovertemplate": "<b>%{hovertext}</b><br><br>Country=%{customdata[0]}<br>size=%{marker.size}<br>iso3c=%{location}<br>COVID-19 deaths=%{customdata[1]}<br>Excess deaths=%{customdata[2]}<br>Excess per 100k=%{customdata[3]}<extra></extra>",
         "hovertext": [
          "Montenegro"
         ],
         "legendgroup": "Montenegro",
         "locations": [
          "MNE"
         ],
         "marker": {
          "color": "#FF97FF",
          "size": [
           575.9
          ],
          "sizemode": "area",
          "sizeref": 2.5185,
          "symbol": "circle"
         },
         "mode": "markers",
         "name": "Montenegro",
         "showlegend": true,
         "type": "scattergeo"
        },
        {
         "customdata": [
          [
           "Netherlands",
           22992,
           43402,
           253.3
          ]
         ],
         "geo": "geo",
         "hovertemplate": "<b>%{hovertext}</b><br><br>Country=%{customdata[0]}<br>size=%{marker.size}<br>iso3c=%{location}<br>COVID-19 deaths=%{customdata[1]}<br>Excess deaths=%{customdata[2]}<br>Excess per 100k=%{customdata[3]}<extra></extra>",
         "hovertext": [
          "Netherlands"
         ],
         "legendgroup": "Netherlands",
         "locations": [
          "NLD"
         ],
         "marker": {
          "color": "#FECB52",
          "size": [
           253.3
          ],
          "sizemode": "area",
          "sizeref": 2.5185,
          "symbol": "circle"
         },
         "mode": "markers",
         "name": "Netherlands",
         "showlegend": true,
         "type": "scattergeo"
        },
        {
         "customdata": [
          [
           "New Caledonia",
           281,
           201,
           70.5
          ]
         ],
         "geo": "geo",
         "hovertemplate": "<b>%{hovertext}</b><br><br>Country=%{customdata[0]}<br>size=%{marker.size}<br>iso3c=%{location}<br>COVID-19 deaths=%{customdata[1]}<br>Excess deaths=%{customdata[2]}<br>Excess per 100k=%{customdata[3]}<extra></extra>",
         "hovertext": [
          "New Caledonia"
         ],
         "legendgroup": "New Caledonia",
         "locations": [
          "NCL"
         ],
         "marker": {
          "color": "#636efa",
          "size": [
           70.5
          ],
          "sizemode": "area",
          "sizeref": 2.5185,
          "symbol": "circle"
         },
         "mode": "markers",
         "name": "New Caledonia",
         "showlegend": true,
         "type": "scattergeo"
        },
        {
         "customdata": [
          [
           "New Zealand",
           2393,
           -330,
           -6.9
          ]
         ],
         "geo": "geo",
         "hovertemplate": "<b>%{hovertext}</b><br><br>Country=%{customdata[0]}<br>size=%{marker.size}<br>iso3c=%{location}<br>COVID-19 deaths=%{customdata[1]}<br>Excess deaths=%{customdata[2]}<br>Excess per 100k=%{customdata[3]}<extra></extra>",
         "hovertext": [
          "New Zealand"
         ],
         "legendgroup": "New Zealand",
         "locations": [
          "NZL"
         ],
         "marker": {
          "color": "#EF553B",
          "size": [
           1
          ],
          "sizemode": "area",
          "sizeref": 2.5185,
          "symbol": "circle"
         },
         "mode": "markers",
         "name": "New Zealand",
         "showlegend": true,
         "type": "scattergeo"
        },
        {
         "customdata": [
          [
           "Nicaragua",
           217,
           17235,
           260.2
          ]
         ],
         "geo": "geo",
         "hovertemplate": "<b>%{hovertext}</b><br><br>Country=%{customdata[0]}<br>size=%{marker.size}<br>iso3c=%{location}<br>COVID-19 deaths=%{customdata[1]}<br>Excess deaths=%{customdata[2]}<br>Excess per 100k=%{customdata[3]}<extra></extra>",
         "hovertext": [
          "Nicaragua"
         ],
         "legendgroup": "Nicaragua",
         "locations": [
          "NIC"
         ],
         "marker": {
          "color": "#00cc96",
          "size": [
           260.2
          ],
          "sizemode": "area",
          "sizeref": 2.5185,
          "symbol": "circle"
         },
         "mode": "markers",
         "name": "Nicaragua",
         "showlegend": true,
         "type": "scattergeo"
        },
        {
         "customdata": [
          [
           "North Macedonia",
           9591,
           16869,
           809.7
          ]
         ],
         "geo": "geo",
         "hovertemplate": "<b>%{hovertext}</b><br><br>Country=%{customdata[0]}<br>size=%{marker.size}<br>iso3c=%{location}<br>COVID-19 deaths=%{customdata[1]}<br>Excess deaths=%{customdata[2]}<br>Excess per 100k=%{customdata[3]}<extra></extra>",
         "hovertext": [
          "North Macedonia"
         ],
         "legendgroup": "North Macedonia",
         "locations": [
          "MKD"
         ],
         "marker": {
          "color": "#ab63fa",
          "size": [
           809.7
          ],
          "sizemode": "area",
          "sizeref": 2.5185,
          "symbol": "circle"
         },
         "mode": "markers",
         "name": "North Macedonia",
         "showlegend": true,
         "type": "scattergeo"
        },
        {
         "customdata": [
          [
           "Norway",
           5113,
           6800,
           125.4
          ]
         ],
         "geo": "geo",
         "hovertemplate": "<b>%{hovertext}</b><br><br>Country=%{customdata[0]}<br>size=%{marker.size}<br>iso3c=%{location}<br>COVID-19 deaths=%{customdata[1]}<br>Excess deaths=%{customdata[2]}<br>Excess per 100k=%{customdata[3]}<extra></extra>",
         "hovertext": [
          "Norway"
         ],
         "legendgroup": "Norway",
         "locations": [
          "NOR"
         ],
         "marker": {
          "color": "#FFA15A",
          "size": [
           125.4
          ],
          "sizemode": "area",
          "sizeref": 2.5185,
          "symbol": "circle"
         },
         "mode": "markers",
         "name": "Norway",
         "showlegend": true,
         "type": "scattergeo"
        },
        {
         "customdata": [
          [
           "Oman",
           4628,
           4243,
           83.1
          ]
         ],
         "geo": "geo",
         "hovertemplate": "<b>%{hovertext}</b><br><br>Country=%{customdata[0]}<br>size=%{marker.size}<br>iso3c=%{location}<br>COVID-19 deaths=%{customdata[1]}<br>Excess deaths=%{customdata[2]}<br>Excess per 100k=%{customdata[3]}<extra></extra>",
         "hovertext": [
          "Oman"
         ],
         "legendgroup": "Oman",
         "locations": [
          "OMN"
         ],
         "marker": {
          "color": "#19d3f3",
          "size": [
           83.1
          ],
          "sizemode": "area",
          "sizeref": 2.5185,
          "symbol": "circle"
         },
         "mode": "markers",
         "name": "Oman",
         "showlegend": true,
         "type": "scattergeo"
        },
        {
         "customdata": [
          [
           "Palestine",
           4934,
           4714,
           92.4
          ]
         ],
         "geo": "geo",
         "hovertemplate": "<b>%{hovertext}</b><br><br>Country=%{customdata[0]}<br>size=%{marker.size}<br>iso3c=%{location}<br>COVID-19 deaths=%{customdata[1]}<br>Excess deaths=%{customdata[2]}<br>Excess per 100k=%{customdata[3]}<extra></extra>",
         "hovertext": [
          "Palestine"
         ],
         "legendgroup": "Palestine",
         "locations": [
          "PSE"
         ],
         "marker": {
          "color": "#FF6692",
          "size": [
           92.4
          ],
          "sizemode": "area",
          "sizeref": 2.5185,
          "symbol": "circle"
         },
         "mode": "markers",
         "name": "Palestine",
         "showlegend": true,
         "type": "scattergeo"
        },
        {
         "customdata": [
          [
           "Panama",
           7315,
           7312,
           169.5
          ]
         ],
         "geo": "geo",
         "hovertemplate": "<b>%{hovertext}</b><br><br>Country=%{customdata[0]}<br>size=%{marker.size}<br>iso3c=%{location}<br>COVID-19 deaths=%{customdata[1]}<br>Excess deaths=%{customdata[2]}<br>Excess per 100k=%{customdata[3]}<extra></extra>",
         "hovertext": [
          "Panama"
         ],
         "legendgroup": "Panama",
         "locations": [
          "PAN"
         ],
         "marker": {
          "color": "#B6E880",
          "size": [
           169.5
          ],
          "sizemode": "area",
          "sizeref": 2.5185,
          "symbol": "circle"
         },
         "mode": "markers",
         "name": "Panama",
         "showlegend": true,
         "type": "scattergeo"
        },
        {
         "customdata": [
          [
           "Paraguay",
           19688,
           24850,
           348.4
          ]
         ],
         "geo": "geo",
         "hovertemplate": "<b>%{hovertext}</b><br><br>Country=%{customdata[0]}<br>size=%{marker.size}<br>iso3c=%{location}<br>COVID-19 deaths=%{customdata[1]}<br>Excess deaths=%{customdata[2]}<br>Excess per 100k=%{customdata[3]}<extra></extra>",
         "hovertext": [
          "Paraguay"
         ],
         "legendgroup": "Paraguay",
         "locations": [
          "PRY"
         ],
         "marker": {
          "color": "#FF97FF",
          "size": [
           348.4
          ],
          "sizemode": "area",
          "sizeref": 2.5185,
          "symbol": "circle"
         },
         "mode": "markers",
         "name": "Paraguay",
         "showlegend": true,
         "type": "scattergeo"
        },
        {
         "customdata": [
          [
           "Peru",
           216727,
           188297,
           571.1
          ]
         ],
         "geo": "geo",
         "hovertemplate": "<b>%{hovertext}</b><br><br>Country=%{customdata[0]}<br>size=%{marker.size}<br>iso3c=%{location}<br>COVID-19 deaths=%{customdata[1]}<br>Excess deaths=%{customdata[2]}<br>Excess per 100k=%{customdata[3]}<extra></extra>",
         "hovertext": [
          "Peru"
         ],
         "legendgroup": "Peru",
         "locations": [
          "PER"
         ],
         "marker": {
          "color": "#FECB52",
          "size": [
           571.1
          ],
          "sizemode": "area",
          "sizeref": 2.5185,
          "symbol": "circle"
         },
         "mode": "markers",
         "name": "Peru",
         "showlegend": true,
         "type": "scattergeo"
        },
        {
         "customdata": [
          [
           "Philippines",
           60727,
           239431,
           218.5
          ]
         ],
         "geo": "geo",
         "hovertemplate": "<b>%{hovertext}</b><br><br>Country=%{customdata[0]}<br>size=%{marker.size}<br>iso3c=%{location}<br>COVID-19 deaths=%{customdata[1]}<br>Excess deaths=%{customdata[2]}<br>Excess per 100k=%{customdata[3]}<extra></extra>",
         "hovertext": [
          "Philippines"
         ],
         "legendgroup": "Philippines",
         "locations": [
          "PHL"
         ],
         "marker": {
          "color": "#636efa",
          "size": [
           218.5
          ],
          "sizemode": "area",
          "sizeref": 2.5185,
          "symbol": "circle"
         },
         "mode": "markers",
         "name": "Philippines",
         "showlegend": true,
         "type": "scattergeo"
        },
        {
         "customdata": [
          [
           "Poland",
           118715,
           181610,
           479.9
          ]
         ],
         "geo": "geo",
         "hovertemplate": "<b>%{hovertext}</b><br><br>Country=%{customdata[0]}<br>size=%{marker.size}<br>iso3c=%{location}<br>COVID-19 deaths=%{customdata[1]}<br>Excess deaths=%{customdata[2]}<br>Excess per 100k=%{customdata[3]}<extra></extra>",
         "hovertext": [
          "Poland"
         ],
         "legendgroup": "Poland",
         "locations": [
          "POL"
         ],
         "marker": {
          "color": "#EF553B",
          "size": [
           479.9
          ],
          "sizemode": "area",
          "sizeref": 2.5185,
          "symbol": "circle"
         },
         "mode": "markers",
         "name": "Poland",
         "showlegend": true,
         "type": "scattergeo"
        },
        {
         "customdata": [
          [
           "Portugal",
           25797,
           32280,
           316.6
          ]
         ],
         "geo": "geo",
         "hovertemplate": "<b>%{hovertext}</b><br><br>Country=%{customdata[0]}<br>size=%{marker.size}<br>iso3c=%{location}<br>COVID-19 deaths=%{customdata[1]}<br>Excess deaths=%{customdata[2]}<br>Excess per 100k=%{customdata[3]}<extra></extra>",
         "hovertext": [
          "Portugal"
         ],
         "legendgroup": "Portugal",
         "locations": [
          "PRT"
         ],
         "marker": {
          "color": "#00cc96",
          "size": [
           316.6
          ],
          "sizemode": "area",
          "sizeref": 2.5185,
          "symbol": "circle"
         },
         "mode": "markers",
         "name": "Portugal",
         "showlegend": true,
         "type": "scattergeo"
        },
        {
         "customdata": [
          [
           "Puerto Rico",
           5575,
           9936,
           347.3
          ]
         ],
         "geo": "geo",
         "hovertemplate": "<b>%{hovertext}</b><br><br>Country=%{customdata[0]}<br>size=%{marker.size}<br>iso3c=%{location}<br>COVID-19 deaths=%{customdata[1]}<br>Excess deaths=%{customdata[2]}<br>Excess per 100k=%{customdata[3]}<extra></extra>",
         "hovertext": [
          "Puerto Rico"
         ],
         "legendgroup": "Puerto Rico",
         "locations": [
          "PRI"
         ],
         "marker": {
          "color": "#ab63fa",
          "size": [
           347.3
          ],
          "sizemode": "area",
          "sizeref": 2.5185,
          "symbol": "circle"
         },
         "mode": "markers",
         "name": "Puerto Rico",
         "showlegend": true,
         "type": "scattergeo"
        },
        {
         "customdata": [
          [
           "Qatar",
           685,
           1386,
           48.1
          ]
         ],
         "geo": "geo",
         "hovertemplate": "<b>%{hovertext}</b><br><br>Country=%{customdata[0]}<br>size=%{marker.size}<br>iso3c=%{location}<br>COVID-19 deaths=%{customdata[1]}<br>Excess deaths=%{customdata[2]}<br>Excess per 100k=%{customdata[3]}<extra></extra>",
         "hovertext": [
          "Qatar"
         ],
         "legendgroup": "Qatar",
         "locations": [
          "QAT"
         ],
         "marker": {
          "color": "#FFA15A",
          "size": [
           48.1
          ],
          "sizemode": "area",
          "sizeref": 2.5185,
          "symbol": "circle"
         },
         "mode": "markers",
         "name": "Qatar",
         "showlegend": true,
         "type": "scattergeo"
        },
        {
         "customdata": [
          [
           "Romania",
           67341,
           122920,
           639
          ]
         ],
         "geo": "geo",
         "hovertemplate": "<b>%{hovertext}</b><br><br>Country=%{customdata[0]}<br>size=%{marker.size}<br>iso3c=%{location}<br>COVID-19 deaths=%{customdata[1]}<br>Excess deaths=%{customdata[2]}<br>Excess per 100k=%{customdata[3]}<extra></extra>",
         "hovertext": [
          "Romania"
         ],
         "legendgroup": "Romania",
         "locations": [
          "ROU"
         ],
         "marker": {
          "color": "#19d3f3",
          "size": [
           639
          ],
          "sizemode": "area",
          "sizeref": 2.5185,
          "symbol": "circle"
         },
         "mode": "markers",
         "name": "Romania",
         "showlegend": true,
         "type": "scattergeo"
        },
        {
         "customdata": [
          [
           "Russia",
           393762,
           1275102,
           868.9
          ]
         ],
         "geo": "geo",
         "hovertemplate": "<b>%{hovertext}</b><br><br>Country=%{customdata[0]}<br>size=%{marker.size}<br>iso3c=%{location}<br>COVID-19 deaths=%{customdata[1]}<br>Excess deaths=%{customdata[2]}<br>Excess per 100k=%{customdata[3]}<extra></extra>",
         "hovertext": [
          "Russia"
         ],
         "legendgroup": "Russia",
         "locations": [
          "RUS"
         ],
         "marker": {
          "color": "#FF6692",
          "size": [
           868.9
          ],
          "sizemode": "area",
          "sizeref": 2.5185,
          "symbol": "circle"
         },
         "mode": "markers",
         "name": "Russia",
         "showlegend": true,
         "type": "scattergeo"
        },
        {
         "customdata": [
          [
           "Réunion",
           915,
           1188,
           132.7
          ]
         ],
         "geo": "geo",
         "hovertemplate": "<b>%{hovertext}</b><br><br>Country=%{customdata[0]}<br>size=%{marker.size}<br>iso3c=%{location}<br>COVID-19 deaths=%{customdata[1]}<br>Excess deaths=%{customdata[2]}<br>Excess per 100k=%{customdata[3]}<extra></extra>",
         "hovertext": [
          "Réunion"
         ],
         "legendgroup": "Réunion",
         "locations": [
          "REU"
         ],
         "marker": {
          "color": "#B6E880",
          "size": [
           132.7
          ],
          "sizemode": "area",
          "sizeref": 2.5185,
          "symbol": "circle"
         },
         "mode": "markers",
         "name": "Réunion",
         "showlegend": true,
         "type": "scattergeo"
        },
        {
         "customdata": [
          [
           "Saint Kitts and Nevis",
           46,
           190,
           357.5
          ]
         ],
         "geo": "geo",
         "hovertemplate": "<b>%{hovertext}</b><br><br>Country=%{customdata[0]}<br>size=%{marker.size}<br>iso3c=%{location}<br>COVID-19 deaths=%{customdata[1]}<br>Excess deaths=%{customdata[2]}<br>Excess per 100k=%{customdata[3]}<extra></extra>",
         "hovertext": [
          "Saint Kitts and Nevis"
         ],
         "legendgroup": "Saint Kitts and Nevis",
         "locations": [
          "KNA"
         ],
         "marker": {
          "color": "#FF97FF",
          "size": [
           357.5
          ],
          "sizemode": "area",
          "sizeref": 2.5185,
          "symbol": "circle"
         },
         "mode": "markers",
         "name": "Saint Kitts and Nevis",
         "showlegend": true,
         "type": "scattergeo"
        },
        {
         "customdata": [
          [
           "Saint Vincent and the Grenadines",
           83,
           123,
           110.5
          ]
         ],
         "geo": "geo",
         "hovertemplate": "<b>%{hovertext}</b><br><br>Country=%{customdata[0]}<br>size=%{marker.size}<br>iso3c=%{location}<br>COVID-19 deaths=%{customdata[1]}<br>Excess deaths=%{customdata[2]}<br>Excess per 100k=%{customdata[3]}<extra></extra>",
         "hovertext": [
          "Saint Vincent and the Grenadines"
         ],
         "legendgroup": "Saint Vincent and the Grenadines",
         "locations": [
          "VCT"
         ],
         "marker": {
          "color": "#FECB52",
          "size": [
           110.5
          ],
          "sizemode": "area",
          "sizeref": 2.5185,
          "symbol": "circle"
         },
         "mode": "markers",
         "name": "Saint Vincent and the Grenadines",
         "showlegend": true,
         "type": "scattergeo"
        },
        {
         "customdata": [
          [
           "San Marino",
           121,
           132,
           388.8
          ]
         ],
         "geo": "geo",
         "hovertemplate": "<b>%{hovertext}</b><br><br>Country=%{customdata[0]}<br>size=%{marker.size}<br>iso3c=%{location}<br>COVID-19 deaths=%{customdata[1]}<br>Excess deaths=%{customdata[2]}<br>Excess per 100k=%{customdata[3]}<extra></extra>",
         "hovertext": [
          "San Marino"
         ],
         "legendgroup": "San Marino",
         "locations": [
          "SMR"
         ],
         "marker": {
          "color": "#636efa",
          "size": [
           388.8
          ],
          "sizemode": "area",
          "sizeref": 2.5185,
          "symbol": "circle"
         },
         "mode": "markers",
         "name": "San Marino",
         "showlegend": true,
         "type": "scattergeo"
        },
        {
         "customdata": [
          [
           "Serbia",
           17521,
           61551,
           893.1
          ]
         ],
         "geo": "geo",
         "hovertemplate": "<b>%{hovertext}</b><br><br>Country=%{customdata[0]}<br>size=%{marker.size}<br>iso3c=%{location}<br>COVID-19 deaths=%{customdata[1]}<br>Excess deaths=%{customdata[2]}<br>Excess per 100k=%{customdata[3]}<extra></extra>",
         "hovertext": [
          "Serbia"
         ],
         "legendgroup": "Serbia",
         "locations": [
          "SRB"
         ],
         "marker": {
          "color": "#EF553B",
          "size": [
           893.1
          ],
          "sizemode": "area",
          "sizeref": 2.5185,
          "symbol": "circle"
         },
         "mode": "markers",
         "name": "Serbia",
         "showlegend": true,
         "type": "scattergeo"
        },
        {
         "customdata": [
          [
           "Seychelles",
           126,
           -102,
           -103.9
          ]
         ],
         "geo": "geo",
         "hovertemplate": "<b>%{hovertext}</b><br><br>Country=%{customdata[0]}<br>size=%{marker.size}<br>iso3c=%{location}<br>COVID-19 deaths=%{customdata[1]}<br>Excess deaths=%{customdata[2]}<br>Excess per 100k=%{customdata[3]}<extra></extra>",
         "hovertext": [
          "Seychelles"
         ],
         "legendgroup": "Seychelles",
         "locations": [
          "SYC"
         ],
         "marker": {
          "color": "#00cc96",
          "size": [
           1
          ],
          "sizemode": "area",
          "sizeref": 2.5185,
          "symbol": "circle"
         },
         "mode": "markers",
         "name": "Seychelles",
         "showlegend": true,
         "type": "scattergeo"
        },
        {
         "customdata": [
          [
           "Singapore",
           1617,
           4410,
           75.4
          ]
         ],
         "geo": "geo",
         "hovertemplate": "<b>%{hovertext}</b><br><br>Country=%{customdata[0]}<br>size=%{marker.size}<br>iso3c=%{location}<br>COVID-19 deaths=%{customdata[1]}<br>Excess deaths=%{customdata[2]}<br>Excess per 100k=%{customdata[3]}<extra></extra>",
         "hovertext": [
          "Singapore"
         ],
         "legendgroup": "Singapore",
         "locations": [
          "SGP"
         ],
         "marker": {
          "color": "#ab63fa",
          "size": [
           75.4
          ],
          "sizemode": "area",
          "sizeref": 2.5185,
          "symbol": "circle"
         },
         "mode": "markers",
         "name": "Singapore",
         "showlegend": true,
         "type": "scattergeo"
        },
        {
         "customdata": [
          [
           "Slovakia",
           20783,
           29830,
           546.4
          ]
         ],
         "geo": "geo",
         "hovertemplate": "<b>%{hovertext}</b><br><br>Country=%{customdata[0]}<br>size=%{marker.size}<br>iso3c=%{location}<br>COVID-19 deaths=%{customdata[1]}<br>Excess deaths=%{customdata[2]}<br>Excess per 100k=%{customdata[3]}<extra></extra>",
         "hovertext": [
          "Slovakia"
         ],
         "legendgroup": "Slovakia",
         "locations": [
          "SVK"
         ],
         "marker": {
          "color": "#FFA15A",
          "size": [
           546.4
          ],
          "sizemode": "area",
          "sizeref": 2.5185,
          "symbol": "circle"
         },
         "mode": "markers",
         "name": "Slovakia",
         "showlegend": true,
         "type": "scattergeo"
        },
        {
         "customdata": [
          [
           "Slovenia",
           9035,
           6394,
           307.6
          ]
         ],
         "geo": "geo",
         "hovertemplate": "<b>%{hovertext}</b><br><br>Country=%{customdata[0]}<br>size=%{marker.size}<br>iso3c=%{location}<br>COVID-19 deaths=%{customdata[1]}<br>Excess deaths=%{customdata[2]}<br>Excess per 100k=%{customdata[3]}<extra></extra>",
         "hovertext": [
          "Slovenia"
         ],
         "legendgroup": "Slovenia",
         "locations": [
          "SVN"
         ],
         "marker": {
          "color": "#19d3f3",
          "size": [
           307.6
          ],
          "sizemode": "area",
          "sizeref": 2.5185,
          "symbol": "circle"
         },
         "mode": "markers",
         "name": "Slovenia",
         "showlegend": true,
         "type": "scattergeo"
        },
        {
         "customdata": [
          [
           "South Africa",
           102550,
           284509,
           479.7
          ]
         ],
         "geo": "geo",
         "hovertemplate": "<b>%{hovertext}</b><br><br>Country=%{customdata[0]}<br>size=%{marker.size}<br>iso3c=%{location}<br>COVID-19 deaths=%{customdata[1]}<br>Excess deaths=%{customdata[2]}<br>Excess per 100k=%{customdata[3]}<extra></extra>",
         "hovertext": [
          "South Africa"
         ],
         "legendgroup": "South Africa",
         "locations": [
          "ZAF"
         ],
         "marker": {
          "color": "#FF6692",
          "size": [
           479.7
          ],
          "sizemode": "area",
          "sizeref": 2.5185,
          "symbol": "circle"
         },
         "mode": "markers",
         "name": "South Africa",
         "showlegend": true,
         "type": "scattergeo"
        },
        {
         "customdata": [
          [
           "South Korea",
           25047,
           42976,
           83.8
          ]
         ],
         "geo": "geo",
         "hovertemplate": "<b>%{hovertext}</b><br><br>Country=%{customdata[0]}<br>size=%{marker.size}<br>iso3c=%{location}<br>COVID-19 deaths=%{customdata[1]}<br>Excess deaths=%{customdata[2]}<br>Excess per 100k=%{customdata[3]}<extra></extra>",
         "hovertext": [
          "South Korea"
         ],
         "legendgroup": "South Korea",
         "locations": [
          "KOR"
         ],
         "marker": {
          "color": "#B6E880",
          "size": [
           83.8
          ],
          "sizemode": "area",
          "sizeref": 2.5185,
          "symbol": "circle"
         },
         "mode": "markers",
         "name": "South Korea",
         "showlegend": true,
         "type": "scattergeo"
        },
        {
         "customdata": [
          [
           "Spain",
           117702,
           143826,
           307.6
          ]
         ],
         "geo": "geo",
         "hovertemplate": "<b>%{hovertext}</b><br><br>Country=%{customdata[0]}<br>size=%{marker.size}<br>iso3c=%{location}<br>COVID-19 deaths=%{customdata[1]}<br>Excess deaths=%{customdata[2]}<br>Excess per 100k=%{customdata[3]}<extra></extra>",
         "hovertext": [
          "Spain"
         ],
         "legendgroup": "Spain",
         "locations": [
          "ESP"
         ],
         "marker": {
          "color": "#FF97FF",
          "size": [
           307.6
          ],
          "sizemode": "area",
          "sizeref": 2.5185,
          "symbol": "circle"
         },
         "mode": "markers",
         "name": "Spain",
         "showlegend": true,
         "type": "scattergeo"
        },
        {
         "customdata": [
          [
           "Suriname",
           121,
           43,
           7.3
          ]
         ],
         "geo": "geo",
         "hovertemplate": "<b>%{hovertext}</b><br><br>Country=%{customdata[0]}<br>size=%{marker.size}<br>iso3c=%{location}<br>COVID-19 deaths=%{customdata[1]}<br>Excess deaths=%{customdata[2]}<br>Excess per 100k=%{customdata[3]}<extra></extra>",
         "hovertext": [
          "Suriname"
         ],
         "legendgroup": "Suriname",
         "locations": [
          "SUR"
         ],
         "marker": {
          "color": "#FECB52",
          "size": [
           7.3
          ],
          "sizemode": "area",
          "sizeref": 2.5185,
          "symbol": "circle"
         },
         "mode": "markers",
         "name": "Suriname",
         "showlegend": true,
         "type": "scattergeo"
        },
        {
         "customdata": [
          [
           "Sweden",
           21623,
           14863,
           147.2
          ]
         ],
         "geo": "geo",
         "hovertemplate": "<b>%{hovertext}</b><br><br>Country=%{customdata[0]}<br>size=%{marker.size}<br>iso3c=%{location}<br>COVID-19 deaths=%{customdata[1]}<br>Excess deaths=%{customdata[2]}<br>Excess per 100k=%{customdata[3]}<extra></extra>",
         "hovertext": [
          "Sweden"
         ],
         "legendgroup": "Sweden",
         "locations": [
          "SWE"
         ],
         "marker": {
          "color": "#636efa",
          "size": [
           147.2
          ],
          "sizemode": "area",
          "sizeref": 2.5185,
          "symbol": "circle"
         },
         "mode": "markers",
         "name": "Sweden",
         "showlegend": true,
         "type": "scattergeo"
        },
        {
         "customdata": [
          [
           "Switzerland",
           13903,
           18268,
           211.1
          ]
         ],
         "geo": "geo",
         "hovertemplate": "<b>%{hovertext}</b><br><br>Country=%{customdata[0]}<br>size=%{marker.size}<br>iso3c=%{location}<br>COVID-19 deaths=%{customdata[1]}<br>Excess deaths=%{customdata[2]}<br>Excess per 100k=%{customdata[3]}<extra></extra>",
         "hovertext": [
          "Switzerland"
         ],
         "legendgroup": "Switzerland",
         "locations": [
          "CHE"
         ],
         "marker": {
          "color": "#EF553B",
          "size": [
           211.1
          ],
          "sizemode": "area",
          "sizeref": 2.5185,
          "symbol": "circle"
         },
         "mode": "markers",
         "name": "Switzerland",
         "showlegend": true,
         "type": "scattergeo"
        },
        {
         "customdata": [
          [
           "Taiwan",
           16356,
           20802,
           87.3
          ]
         ],
         "geo": "geo",
         "hovertemplate": "<b>%{hovertext}</b><br><br>Country=%{customdata[0]}<br>size=%{marker.size}<br>iso3c=%{location}<br>COVID-19 deaths=%{customdata[1]}<br>Excess deaths=%{customdata[2]}<br>Excess per 100k=%{customdata[3]}<extra></extra>",
         "hovertext": [
          "Taiwan"
         ],
         "legendgroup": "Taiwan",
         "locations": [
          "TWN"
         ],
         "marker": {
          "color": "#00cc96",
          "size": [
           87.3
          ],
          "sizemode": "area",
          "sizeref": 2.5185,
          "symbol": "circle"
         },
         "mode": "markers",
         "name": "Taiwan",
         "showlegend": true,
         "type": "scattergeo"
        },
        {
         "customdata": [
          [
           "Tajikistan",
           90,
           9415,
           98.7
          ]
         ],
         "geo": "geo",
         "hovertemplate": "<b>%{hovertext}</b><br><br>Country=%{customdata[0]}<br>size=%{marker.size}<br>iso3c=%{location}<br>COVID-19 deaths=%{customdata[1]}<br>Excess deaths=%{customdata[2]}<br>Excess per 100k=%{customdata[3]}<extra></extra>",
         "hovertext": [
          "Tajikistan"
         ],
         "legendgroup": "Tajikistan",
         "locations": [
          "TJK"
         ],
         "marker": {
          "color": "#ab63fa",
          "size": [
           98.7
          ],
          "sizemode": "area",
          "sizeref": 2.5185,
          "symbol": "circle"
         },
         "mode": "markers",
         "name": "Tajikistan",
         "showlegend": true,
         "type": "scattergeo"
        },
        {
         "customdata": [
          [
           "Thailand",
           33865,
           154652,
           221.6
          ]
         ],
         "geo": "geo",
         "hovertemplate": "<b>%{hovertext}</b><br><br>Country=%{customdata[0]}<br>size=%{marker.size}<br>iso3c=%{location}<br>COVID-19 deaths=%{customdata[1]}<br>Excess deaths=%{customdata[2]}<br>Excess per 100k=%{customdata[3]}<extra></extra>",
         "hovertext": [
          "Thailand"
         ],
         "legendgroup": "Thailand",
         "locations": [
          "THA"
         ],
         "marker": {
          "color": "#FFA15A",
          "size": [
           221.6
          ],
          "sizemode": "area",
          "sizeref": 2.5185,
          "symbol": "circle"
         },
         "mode": "markers",
         "name": "Thailand",
         "showlegend": true,
         "type": "scattergeo"
        },
        {
         "customdata": [
          [
           "Transnistria",
           2274,
           2611,
           561.3
          ]
         ],
         "geo": "geo",
         "hovertemplate": "<b>%{hovertext}</b><br><br>Country=%{customdata[0]}<br>size=%{marker.size}<br>iso3c=%{location}<br>COVID-19 deaths=%{customdata[1]}<br>Excess deaths=%{customdata[2]}<br>Excess per 100k=%{customdata[3]}<extra></extra>",
         "hovertext": [
          "Transnistria"
         ],
         "legendgroup": "Transnistria",
         "locations": [
          "TRA"
         ],
         "marker": {
          "color": "#19d3f3",
          "size": [
           561.3
          ],
          "sizemode": "area",
          "sizeref": 2.5185,
          "symbol": "circle"
         },
         "mode": "markers",
         "name": "Transnistria",
         "showlegend": true,
         "type": "scattergeo"
        },
        {
         "customdata": [
          [
           "Tunisia",
           27784,
           30835,
           260.9
          ]
         ],
         "geo": "geo",
         "hovertemplate": "<b>%{hovertext}</b><br><br>Country=%{customdata[0]}<br>size=%{marker.size}<br>iso3c=%{location}<br>COVID-19 deaths=%{customdata[1]}<br>Excess deaths=%{customdata[2]}<br>Excess per 100k=%{customdata[3]}<extra></extra>",
         "hovertext": [
          "Tunisia"
         ],
         "legendgroup": "Tunisia",
         "locations": [
          "TUN"
         ],
         "marker": {
          "color": "#FF6692",
          "size": [
           260.9
          ],
          "sizemode": "area",
          "sizeref": 2.5185,
          "symbol": "circle"
         },
         "mode": "markers",
         "name": "Tunisia",
         "showlegend": true,
         "type": "scattergeo"
        },
        {
         "customdata": [
          [
           "Ukraine",
           100395,
           183524,
           483.4
          ]
         ],
         "geo": "geo",
         "hovertemplate": "<b>%{hovertext}</b><br><br>Country=%{customdata[0]}<br>size=%{marker.size}<br>iso3c=%{location}<br>COVID-19 deaths=%{customdata[1]}<br>Excess deaths=%{customdata[2]}<br>Excess per 100k=%{customdata[3]}<extra></extra>",
         "hovertext": [
          "Ukraine"
         ],
         "legendgroup": "Ukraine",
         "locations": [
          "UKR"
         ],
         "marker": {
          "color": "#B6E880",
          "size": [
           483.4
          ],
          "sizemode": "area",
          "sizeref": 2.5185,
          "symbol": "circle"
         },
         "mode": "markers",
         "name": "Ukraine",
         "showlegend": true,
         "type": "scattergeo"
        },
        {
         "customdata": [
          [
           "United Kingdom",
           204177,
           199419,
           293.8
          ]
         ],
         "geo": "geo",
         "hovertemplate": "<b>%{hovertext}</b><br><br>Country=%{customdata[0]}<br>size=%{marker.size}<br>iso3c=%{location}<br>COVID-19 deaths=%{customdata[1]}<br>Excess deaths=%{customdata[2]}<br>Excess per 100k=%{customdata[3]}<extra></extra>",
         "hovertext": [
          "United Kingdom"
         ],
         "legendgroup": "United Kingdom",
         "locations": [
          "GBR"
         ],
         "marker": {
          "color": "#FF97FF",
          "size": [
           293.8
          ],
          "sizemode": "area",
          "sizeref": 2.5185,
          "symbol": "circle"
         },
         "mode": "markers",
         "name": "United Kingdom",
         "showlegend": true,
         "type": "scattergeo"
        },
        {
         "customdata": [
          [
           "United States",
           1085127,
           1284380,
           388
          ]
         ],
         "geo": "geo",
         "hovertemplate": "<b>%{hovertext}</b><br><br>Country=%{customdata[0]}<br>size=%{marker.size}<br>iso3c=%{location}<br>COVID-19 deaths=%{customdata[1]}<br>Excess deaths=%{customdata[2]}<br>Excess per 100k=%{customdata[3]}<extra></extra>",
         "hovertext": [
          "United States"
         ],
         "legendgroup": "United States",
         "locations": [
          "USA"
         ],
         "marker": {
          "color": "#FECB52",
          "size": [
           388
          ],
          "sizemode": "area",
          "sizeref": 2.5185,
          "symbol": "circle"
         },
         "mode": "markers",
         "name": "United States",
         "showlegend": true,
         "type": "scattergeo"
        },
        {
         "customdata": [
          [
           "Uruguay",
           7537,
           7250,
           208.7
          ]
         ],
         "geo": "geo",
         "hovertemplate": "<b>%{hovertext}</b><br><br>Country=%{customdata[0]}<br>size=%{marker.size}<br>iso3c=%{location}<br>COVID-19 deaths=%{customdata[1]}<br>Excess deaths=%{customdata[2]}<br>Excess per 100k=%{customdata[3]}<extra></extra>",
         "hovertext": [
          "Uruguay"
         ],
         "legendgroup": "Uruguay",
         "locations": [
          "URY"
         ],
         "marker": {
          "color": "#636efa",
          "size": [
           208.7
          ],
          "sizemode": "area",
          "sizeref": 2.5185,
          "symbol": "circle"
         },
         "mode": "markers",
         "name": "Uruguay",
         "showlegend": true,
         "type": "scattergeo"
        },
        {
         "customdata": [
          [
           "Uzbekistan",
           1637,
           48778,
           145.7
          ]
         ],
         "geo": "geo",
         "hovertemplate": "<b>%{hovertext}</b><br><br>Country=%{customdata[0]}<br>size=%{marker.size}<br>iso3c=%{location}<br>COVID-19 deaths=%{customdata[1]}<br>Excess deaths=%{customdata[2]}<br>Excess per 100k=%{customdata[3]}<extra></extra>",
         "hovertext": [
          "Uzbekistan"
         ],
         "legendgroup": "Uzbekistan",
         "locations": [
          "UZB"
         ],
         "marker": {
          "color": "#EF553B",
          "size": [
           145.7
          ],
          "sizemode": "area",
          "sizeref": 2.5185,
          "symbol": "circle"
         },
         "mode": "markers",
         "name": "Uzbekistan",
         "showlegend": true,
         "type": "scattergeo"
        }
       ],
       "layout": {
        "geo": {
         "center": {},
         "domain": {
          "x": [
           0,
           1
          ],
          "y": [
           0,
           1
          ]
         },
         "projection": {
          "type": "natural earth"
         }
        },
        "legend": {
         "itemsizing": "constant",
         "title": {
          "text": "Country"
         },
         "tracegroupgap": 0
        },
        "template": {
         "data": {
          "bar": [
           {
            "error_x": {
             "color": "#2a3f5f"
            },
            "error_y": {
             "color": "#2a3f5f"
            },
            "marker": {
             "line": {
              "color": "#E5ECF6",
              "width": 0.5
             },
             "pattern": {
              "fillmode": "overlay",
              "size": 10,
              "solidity": 0.2
             }
            },
            "type": "bar"
           }
          ],
          "barpolar": [
           {
            "marker": {
             "line": {
              "color": "#E5ECF6",
              "width": 0.5
             },
             "pattern": {
              "fillmode": "overlay",
              "size": 10,
              "solidity": 0.2
             }
            },
            "type": "barpolar"
           }
          ],
          "carpet": [
           {
            "aaxis": {
             "endlinecolor": "#2a3f5f",
             "gridcolor": "white",
             "linecolor": "white",
             "minorgridcolor": "white",
             "startlinecolor": "#2a3f5f"
            },
            "baxis": {
             "endlinecolor": "#2a3f5f",
             "gridcolor": "white",
             "linecolor": "white",
             "minorgridcolor": "white",
             "startlinecolor": "#2a3f5f"
            },
            "type": "carpet"
           }
          ],
          "choropleth": [
           {
            "colorbar": {
             "outlinewidth": 0,
             "ticks": ""
            },
            "type": "choropleth"
           }
          ],
          "contour": [
           {
            "colorbar": {
             "outlinewidth": 0,
             "ticks": ""
            },
            "colorscale": [
             [
              0,
              "#0d0887"
             ],
             [
              0.1111111111111111,
              "#46039f"
             ],
             [
              0.2222222222222222,
              "#7201a8"
             ],
             [
              0.3333333333333333,
              "#9c179e"
             ],
             [
              0.4444444444444444,
              "#bd3786"
             ],
             [
              0.5555555555555556,
              "#d8576b"
             ],
             [
              0.6666666666666666,
              "#ed7953"
             ],
             [
              0.7777777777777778,
              "#fb9f3a"
             ],
             [
              0.8888888888888888,
              "#fdca26"
             ],
             [
              1,
              "#f0f921"
             ]
            ],
            "type": "contour"
           }
          ],
          "contourcarpet": [
           {
            "colorbar": {
             "outlinewidth": 0,
             "ticks": ""
            },
            "type": "contourcarpet"
           }
          ],
          "heatmap": [
           {
            "colorbar": {
             "outlinewidth": 0,
             "ticks": ""
            },
            "colorscale": [
             [
              0,
              "#0d0887"
             ],
             [
              0.1111111111111111,
              "#46039f"
             ],
             [
              0.2222222222222222,
              "#7201a8"
             ],
             [
              0.3333333333333333,
              "#9c179e"
             ],
             [
              0.4444444444444444,
              "#bd3786"
             ],
             [
              0.5555555555555556,
              "#d8576b"
             ],
             [
              0.6666666666666666,
              "#ed7953"
             ],
             [
              0.7777777777777778,
              "#fb9f3a"
             ],
             [
              0.8888888888888888,
              "#fdca26"
             ],
             [
              1,
              "#f0f921"
             ]
            ],
            "type": "heatmap"
           }
          ],
          "heatmapgl": [
           {
            "colorbar": {
             "outlinewidth": 0,
             "ticks": ""
            },
            "colorscale": [
             [
              0,
              "#0d0887"
             ],
             [
              0.1111111111111111,
              "#46039f"
             ],
             [
              0.2222222222222222,
              "#7201a8"
             ],
             [
              0.3333333333333333,
              "#9c179e"
             ],
             [
              0.4444444444444444,
              "#bd3786"
             ],
             [
              0.5555555555555556,
              "#d8576b"
             ],
             [
              0.6666666666666666,
              "#ed7953"
             ],
             [
              0.7777777777777778,
              "#fb9f3a"
             ],
             [
              0.8888888888888888,
              "#fdca26"
             ],
             [
              1,
              "#f0f921"
             ]
            ],
            "type": "heatmapgl"
           }
          ],
          "histogram": [
           {
            "marker": {
             "pattern": {
              "fillmode": "overlay",
              "size": 10,
              "solidity": 0.2
             }
            },
            "type": "histogram"
           }
          ],
          "histogram2d": [
           {
            "colorbar": {
             "outlinewidth": 0,
             "ticks": ""
            },
            "colorscale": [
             [
              0,
              "#0d0887"
             ],
             [
              0.1111111111111111,
              "#46039f"
             ],
             [
              0.2222222222222222,
              "#7201a8"
             ],
             [
              0.3333333333333333,
              "#9c179e"
             ],
             [
              0.4444444444444444,
              "#bd3786"
             ],
             [
              0.5555555555555556,
              "#d8576b"
             ],
             [
              0.6666666666666666,
              "#ed7953"
             ],
             [
              0.7777777777777778,
              "#fb9f3a"
             ],
             [
              0.8888888888888888,
              "#fdca26"
             ],
             [
              1,
              "#f0f921"
             ]
            ],
            "type": "histogram2d"
           }
          ],
          "histogram2dcontour": [
           {
            "colorbar": {
             "outlinewidth": 0,
             "ticks": ""
            },
            "colorscale": [
             [
              0,
              "#0d0887"
             ],
             [
              0.1111111111111111,
              "#46039f"
             ],
             [
              0.2222222222222222,
              "#7201a8"
             ],
             [
              0.3333333333333333,
              "#9c179e"
             ],
             [
              0.4444444444444444,
              "#bd3786"
             ],
             [
              0.5555555555555556,
              "#d8576b"
             ],
             [
              0.6666666666666666,
              "#ed7953"
             ],
             [
              0.7777777777777778,
              "#fb9f3a"
             ],
             [
              0.8888888888888888,
              "#fdca26"
             ],
             [
              1,
              "#f0f921"
             ]
            ],
            "type": "histogram2dcontour"
           }
          ],
          "mesh3d": [
           {
            "colorbar": {
             "outlinewidth": 0,
             "ticks": ""
            },
            "type": "mesh3d"
           }
          ],
          "parcoords": [
           {
            "line": {
             "colorbar": {
              "outlinewidth": 0,
              "ticks": ""
             }
            },
            "type": "parcoords"
           }
          ],
          "pie": [
           {
            "automargin": true,
            "type": "pie"
           }
          ],
          "scatter": [
           {
            "fillpattern": {
             "fillmode": "overlay",
             "size": 10,
             "solidity": 0.2
            },
            "type": "scatter"
           }
          ],
          "scatter3d": [
           {
            "line": {
             "colorbar": {
              "outlinewidth": 0,
              "ticks": ""
             }
            },
            "marker": {
             "colorbar": {
              "outlinewidth": 0,
              "ticks": ""
             }
            },
            "type": "scatter3d"
           }
          ],
          "scattercarpet": [
           {
            "marker": {
             "colorbar": {
              "outlinewidth": 0,
              "ticks": ""
             }
            },
            "type": "scattercarpet"
           }
          ],
          "scattergeo": [
           {
            "marker": {
             "colorbar": {
              "outlinewidth": 0,
              "ticks": ""
             }
            },
            "type": "scattergeo"
           }
          ],
          "scattergl": [
           {
            "marker": {
             "colorbar": {
              "outlinewidth": 0,
              "ticks": ""
             }
            },
            "type": "scattergl"
           }
          ],
          "scattermapbox": [
           {
            "marker": {
             "colorbar": {
              "outlinewidth": 0,
              "ticks": ""
             }
            },
            "type": "scattermapbox"
           }
          ],
          "scatterpolar": [
           {
            "marker": {
             "colorbar": {
              "outlinewidth": 0,
              "ticks": ""
             }
            },
            "type": "scatterpolar"
           }
          ],
          "scatterpolargl": [
           {
            "marker": {
             "colorbar": {
              "outlinewidth": 0,
              "ticks": ""
             }
            },
            "type": "scatterpolargl"
           }
          ],
          "scatterternary": [
           {
            "marker": {
             "colorbar": {
              "outlinewidth": 0,
              "ticks": ""
             }
            },
            "type": "scatterternary"
           }
          ],
          "surface": [
           {
            "colorbar": {
             "outlinewidth": 0,
             "ticks": ""
            },
            "colorscale": [
             [
              0,
              "#0d0887"
             ],
             [
              0.1111111111111111,
              "#46039f"
             ],
             [
              0.2222222222222222,
              "#7201a8"
             ],
             [
              0.3333333333333333,
              "#9c179e"
             ],
             [
              0.4444444444444444,
              "#bd3786"
             ],
             [
              0.5555555555555556,
              "#d8576b"
             ],
             [
              0.6666666666666666,
              "#ed7953"
             ],
             [
              0.7777777777777778,
              "#fb9f3a"
             ],
             [
              0.8888888888888888,
              "#fdca26"
             ],
             [
              1,
              "#f0f921"
             ]
            ],
            "type": "surface"
           }
          ],
          "table": [
           {
            "cells": {
             "fill": {
              "color": "#EBF0F8"
             },
             "line": {
              "color": "white"
             }
            },
            "header": {
             "fill": {
              "color": "#C8D4E3"
             },
             "line": {
              "color": "white"
             }
            },
            "type": "table"
           }
          ]
         },
         "layout": {
          "annotationdefaults": {
           "arrowcolor": "#2a3f5f",
           "arrowhead": 0,
           "arrowwidth": 1
          },
          "autotypenumbers": "strict",
          "coloraxis": {
           "colorbar": {
            "outlinewidth": 0,
            "ticks": ""
           }
          },
          "colorscale": {
           "diverging": [
            [
             0,
             "#8e0152"
            ],
            [
             0.1,
             "#c51b7d"
            ],
            [
             0.2,
             "#de77ae"
            ],
            [
             0.3,
             "#f1b6da"
            ],
            [
             0.4,
             "#fde0ef"
            ],
            [
             0.5,
             "#f7f7f7"
            ],
            [
             0.6,
             "#e6f5d0"
            ],
            [
             0.7,
             "#b8e186"
            ],
            [
             0.8,
             "#7fbc41"
            ],
            [
             0.9,
             "#4d9221"
            ],
            [
             1,
             "#276419"
            ]
           ],
           "sequential": [
            [
             0,
             "#0d0887"
            ],
            [
             0.1111111111111111,
             "#46039f"
            ],
            [
             0.2222222222222222,
             "#7201a8"
            ],
            [
             0.3333333333333333,
             "#9c179e"
            ],
            [
             0.4444444444444444,
             "#bd3786"
            ],
            [
             0.5555555555555556,
             "#d8576b"
            ],
            [
             0.6666666666666666,
             "#ed7953"
            ],
            [
             0.7777777777777778,
             "#fb9f3a"
            ],
            [
             0.8888888888888888,
             "#fdca26"
            ],
            [
             1,
             "#f0f921"
            ]
           ],
           "sequentialminus": [
            [
             0,
             "#0d0887"
            ],
            [
             0.1111111111111111,
             "#46039f"
            ],
            [
             0.2222222222222222,
             "#7201a8"
            ],
            [
             0.3333333333333333,
             "#9c179e"
            ],
            [
             0.4444444444444444,
             "#bd3786"
            ],
            [
             0.5555555555555556,
             "#d8576b"
            ],
            [
             0.6666666666666666,
             "#ed7953"
            ],
            [
             0.7777777777777778,
             "#fb9f3a"
            ],
            [
             0.8888888888888888,
             "#fdca26"
            ],
            [
             1,
             "#f0f921"
            ]
           ]
          },
          "colorway": [
           "#636efa",
           "#EF553B",
           "#00cc96",
           "#ab63fa",
           "#FFA15A",
           "#19d3f3",
           "#FF6692",
           "#B6E880",
           "#FF97FF",
           "#FECB52"
          ],
          "font": {
           "color": "#2a3f5f"
          },
          "geo": {
           "bgcolor": "white",
           "lakecolor": "white",
           "landcolor": "#E5ECF6",
           "showlakes": true,
           "showland": true,
           "subunitcolor": "white"
          },
          "hoverlabel": {
           "align": "left"
          },
          "hovermode": "closest",
          "mapbox": {
           "style": "light"
          },
          "paper_bgcolor": "white",
          "plot_bgcolor": "#E5ECF6",
          "polar": {
           "angularaxis": {
            "gridcolor": "white",
            "linecolor": "white",
            "ticks": ""
           },
           "bgcolor": "#E5ECF6",
           "radialaxis": {
            "gridcolor": "white",
            "linecolor": "white",
            "ticks": ""
           }
          },
          "scene": {
           "xaxis": {
            "backgroundcolor": "#E5ECF6",
            "gridcolor": "white",
            "gridwidth": 2,
            "linecolor": "white",
            "showbackground": true,
            "ticks": "",
            "zerolinecolor": "white"
           },
           "yaxis": {
            "backgroundcolor": "#E5ECF6",
            "gridcolor": "white",
            "gridwidth": 2,
            "linecolor": "white",
            "showbackground": true,
            "ticks": "",
            "zerolinecolor": "white"
           },
           "zaxis": {
            "backgroundcolor": "#E5ECF6",
            "gridcolor": "white",
            "gridwidth": 2,
            "linecolor": "white",
            "showbackground": true,
            "ticks": "",
            "zerolinecolor": "white"
           }
          },
          "shapedefaults": {
           "line": {
            "color": "#2a3f5f"
           }
          },
          "ternary": {
           "aaxis": {
            "gridcolor": "white",
            "linecolor": "white",
            "ticks": ""
           },
           "baxis": {
            "gridcolor": "white",
            "linecolor": "white",
            "ticks": ""
           },
           "bgcolor": "#E5ECF6",
           "caxis": {
            "gridcolor": "white",
            "linecolor": "white",
            "ticks": ""
           }
          },
          "title": {
           "x": 0.05
          },
          "xaxis": {
           "automargin": true,
           "gridcolor": "white",
           "linecolor": "white",
           "ticks": "",
           "title": {
            "standoff": 15
           },
           "zerolinecolor": "white",
           "zerolinewidth": 2
          },
          "yaxis": {
           "automargin": true,
           "gridcolor": "white",
           "linecolor": "white",
           "ticks": "",
           "title": {
            "standoff": 15
           },
           "zerolinecolor": "white",
           "zerolinewidth": 2
          }
         }
        },
        "title": {
         "text": "COVID-19"
        }
       }
      },
      "text/html": [
       "<div>                            <div id=\"da109d11-62fb-4029-a2ad-389944088400\" class=\"plotly-graph-div\" style=\"height:525px; width:100%;\"></div>            <script type=\"text/javascript\">                require([\"plotly\"], function(Plotly) {                    window.PLOTLYENV=window.PLOTLYENV || {};                                    if (document.getElementById(\"da109d11-62fb-4029-a2ad-389944088400\")) {                    Plotly.newPlot(                        \"da109d11-62fb-4029-a2ad-389944088400\",                        [{\"customdata\":[[\"Albania\",3589,16553,575.2]],\"geo\":\"geo\",\"hovertemplate\":\"<b>%{hovertext}</b><br><br>Country=%{customdata[0]}<br>size=%{marker.size}<br>iso3c=%{location}<br>COVID-19 deaths=%{customdata[1]}<br>Excess deaths=%{customdata[2]}<br>Excess per 100k=%{customdata[3]}<extra></extra>\",\"hovertext\":[\"Albania\"],\"legendgroup\":\"Albania\",\"locations\":[\"ALB\"],\"marker\":{\"color\":\"#636efa\",\"size\":[575.2],\"sizemode\":\"area\",\"sizeref\":2.5185,\"symbol\":\"circle\"},\"mode\":\"markers\",\"name\":\"Albania\",\"showlegend\":true,\"type\":\"scattergeo\"},{\"customdata\":[[\"Algeria\",2756,50425,115.0]],\"geo\":\"geo\",\"hovertemplate\":\"<b>%{hovertext}</b><br><br>Country=%{customdata[0]}<br>size=%{marker.size}<br>iso3c=%{location}<br>COVID-19 deaths=%{customdata[1]}<br>Excess deaths=%{customdata[2]}<br>Excess per 100k=%{customdata[3]}<extra></extra>\",\"hovertext\":[\"Algeria\"],\"legendgroup\":\"Algeria\",\"locations\":[\"DZA\"],\"marker\":{\"color\":\"#EF553B\",\"size\":[115.0],\"sizemode\":\"area\",\"sizeref\":2.5185,\"symbol\":\"circle\"},\"mode\":\"markers\",\"name\":\"Algeria\",\"showlegend\":true,\"type\":\"scattergeo\"},{\"customdata\":[[\"Andorra\",140,132,170.9]],\"geo\":\"geo\",\"hovertemplate\":\"<b>%{hovertext}</b><br><br>Country=%{customdata[0]}<br>size=%{marker.size}<br>iso3c=%{location}<br>COVID-19 deaths=%{customdata[1]}<br>Excess deaths=%{customdata[2]}<br>Excess per 100k=%{customdata[3]}<extra></extra>\",\"hovertext\":[\"Andorra\"],\"legendgroup\":\"Andorra\",\"locations\":[\"AND\"],\"marker\":{\"color\":\"#00cc96\",\"size\":[170.9],\"sizemode\":\"area\",\"sizeref\":2.5185,\"symbol\":\"circle\"},\"mode\":\"markers\",\"name\":\"Andorra\",\"showlegend\":true,\"type\":\"scattergeo\"},{\"customdata\":[[\"Antigua and Barbuda\",119,-55,-56.1]],\"geo\":\"geo\",\"hovertemplate\":\"<b>%{hovertext}</b><br><br>Country=%{customdata[0]}<br>size=%{marker.size}<br>iso3c=%{location}<br>COVID-19 deaths=%{customdata[1]}<br>Excess deaths=%{customdata[2]}<br>Excess per 100k=%{customdata[3]}<extra></extra>\",\"hovertext\":[\"Antigua and Barbuda\"],\"legendgroup\":\"Antigua and Barbuda\",\"locations\":[\"ATG\"],\"marker\":{\"color\":\"#ab63fa\",\"size\":[1.0],\"sizemode\":\"area\",\"sizeref\":2.5185,\"symbol\":\"circle\"},\"mode\":\"markers\",\"name\":\"Antigua and Barbuda\",\"showlegend\":true,\"type\":\"scattergeo\"},{\"customdata\":[[\"Argentina\",48337,34997,77.4]],\"geo\":\"geo\",\"hovertemplate\":\"<b>%{hovertext}</b><br><br>Country=%{customdata[0]}<br>size=%{marker.size}<br>iso3c=%{location}<br>COVID-19 deaths=%{customdata[1]}<br>Excess deaths=%{customdata[2]}<br>Excess per 100k=%{customdata[3]}<extra></extra>\",\"hovertext\":[\"Argentina\"],\"legendgroup\":\"Argentina\",\"locations\":[\"ARG\"],\"marker\":{\"color\":\"#FFA15A\",\"size\":[77.4],\"sizemode\":\"area\",\"sizeref\":2.5185,\"symbol\":\"circle\"},\"mode\":\"markers\",\"name\":\"Argentina\",\"showlegend\":true,\"type\":\"scattergeo\"},{\"customdata\":[[\"Armenia\",8716,18297,617.5]],\"geo\":\"geo\",\"hovertemplate\":\"<b>%{hovertext}</b><br><br>Country=%{customdata[0]}<br>size=%{marker.size}<br>iso3c=%{location}<br>COVID-19 deaths=%{customdata[1]}<br>Excess deaths=%{customdata[2]}<br>Excess per 100k=%{customdata[3]}<extra></extra>\",\"hovertext\":[\"Armenia\"],\"legendgroup\":\"Armenia\",\"locations\":[\"ARM\"],\"marker\":{\"color\":\"#19d3f3\",\"size\":[617.5],\"sizemode\":\"area\",\"sizeref\":2.5185,\"symbol\":\"circle\"},\"mode\":\"markers\",\"name\":\"Armenia\",\"showlegend\":true,\"type\":\"scattergeo\"},{\"customdata\":[[\"Aruba\",181,342,320.3]],\"geo\":\"geo\",\"hovertemplate\":\"<b>%{hovertext}</b><br><br>Country=%{customdata[0]}<br>size=%{marker.size}<br>iso3c=%{location}<br>COVID-19 deaths=%{customdata[1]}<br>Excess deaths=%{customdata[2]}<br>Excess per 100k=%{customdata[3]}<extra></extra>\",\"hovertext\":[\"Aruba\"],\"legendgroup\":\"Aruba\",\"locations\":[\"ABW\"],\"marker\":{\"color\":\"#FF6692\",\"size\":[320.3],\"sizemode\":\"area\",\"sizeref\":2.5185,\"symbol\":\"circle\"},\"mode\":\"markers\",\"name\":\"Aruba\",\"showlegend\":true,\"type\":\"scattergeo\"},{\"customdata\":[[\"Australia\",14853,17281,67.8]],\"geo\":\"geo\",\"hovertemplate\":\"<b>%{hovertext}</b><br><br>Country=%{customdata[0]}<br>size=%{marker.size}<br>iso3c=%{location}<br>COVID-19 deaths=%{customdata[1]}<br>Excess deaths=%{customdata[2]}<br>Excess per 100k=%{customdata[3]}<extra></extra>\",\"hovertext\":[\"Australia\"],\"legendgroup\":\"Australia\",\"locations\":[\"AUS\"],\"marker\":{\"color\":\"#B6E880\",\"size\":[67.8],\"sizemode\":\"area\",\"sizeref\":2.5185,\"symbol\":\"circle\"},\"mode\":\"markers\",\"name\":\"Australia\",\"showlegend\":true,\"type\":\"scattergeo\"},{\"customdata\":[[\"Austria\",21674,25003,277.6]],\"geo\":\"geo\",\"hovertemplate\":\"<b>%{hovertext}</b><br><br>Country=%{customdata[0]}<br>size=%{marker.size}<br>iso3c=%{location}<br>COVID-19 deaths=%{customdata[1]}<br>Excess deaths=%{customdata[2]}<br>Excess per 100k=%{customdata[3]}<extra></extra>\",\"hovertext\":[\"Austria\"],\"legendgroup\":\"Austria\",\"locations\":[\"AUT\"],\"marker\":{\"color\":\"#FF97FF\",\"size\":[277.6],\"sizemode\":\"area\",\"sizeref\":2.5185,\"symbol\":\"circle\"},\"mode\":\"markers\",\"name\":\"Austria\",\"showlegend\":true,\"type\":\"scattergeo\"},{\"customdata\":[[\"Azerbaijan\",9980,35242,347.6]],\"geo\":\"geo\",\"hovertemplate\":\"<b>%{hovertext}</b><br><br>Country=%{customdata[0]}<br>size=%{marker.size}<br>iso3c=%{location}<br>COVID-19 deaths=%{customdata[1]}<br>Excess deaths=%{customdata[2]}<br>Excess per 100k=%{customdata[3]}<extra></extra>\",\"hovertext\":[\"Azerbaijan\"],\"legendgroup\":\"Azerbaijan\",\"locations\":[\"AZE\"],\"marker\":{\"color\":\"#FECB52\",\"size\":[347.6],\"sizemode\":\"area\",\"sizeref\":2.5185,\"symbol\":\"circle\"},\"mode\":\"markers\",\"name\":\"Azerbaijan\",\"showlegend\":true,\"type\":\"scattergeo\"},{\"customdata\":[[\"Bahamas\",717,1092,277.7]],\"geo\":\"geo\",\"hovertemplate\":\"<b>%{hovertext}</b><br><br>Country=%{customdata[0]}<br>size=%{marker.size}<br>iso3c=%{location}<br>COVID-19 deaths=%{customdata[1]}<br>Excess deaths=%{customdata[2]}<br>Excess per 100k=%{customdata[3]}<extra></extra>\",\"hovertext\":[\"Bahamas\"],\"legendgroup\":\"Bahamas\",\"locations\":[\"BHS\"],\"marker\":{\"color\":\"#636efa\",\"size\":[277.7],\"sizemode\":\"area\",\"sizeref\":2.5185,\"symbol\":\"circle\"},\"mode\":\"markers\",\"name\":\"Bahamas\",\"showlegend\":true,\"type\":\"scattergeo\"},{\"customdata\":[[\"Barbados\",560,321,111.8]],\"geo\":\"geo\",\"hovertemplate\":\"<b>%{hovertext}</b><br><br>Country=%{customdata[0]}<br>size=%{marker.size}<br>iso3c=%{location}<br>COVID-19 deaths=%{customdata[1]}<br>Excess deaths=%{customdata[2]}<br>Excess per 100k=%{customdata[3]}<extra></extra>\",\"hovertext\":[\"Barbados\"],\"legendgroup\":\"Barbados\",\"locations\":[\"BRB\"],\"marker\":{\"color\":\"#EF553B\",\"size\":[111.8],\"sizemode\":\"area\",\"sizeref\":2.5185,\"symbol\":\"circle\"},\"mode\":\"markers\",\"name\":\"Barbados\",\"showlegend\":true,\"type\":\"scattergeo\"},{\"customdata\":[[\"Belarus\",2247,32336,342.2]],\"geo\":\"geo\",\"hovertemplate\":\"<b>%{hovertext}</b><br><br>Country=%{customdata[0]}<br>size=%{marker.size}<br>iso3c=%{location}<br>COVID-19 deaths=%{customdata[1]}<br>Excess deaths=%{customdata[2]}<br>Excess per 100k=%{customdata[3]}<extra></extra>\",\"hovertext\":[\"Belarus\"],\"legendgroup\":\"Belarus\",\"locations\":[\"BLR\"],\"marker\":{\"color\":\"#00cc96\",\"size\":[342.2],\"sizemode\":\"area\",\"sizeref\":2.5185,\"symbol\":\"circle\"},\"mode\":\"markers\",\"name\":\"Belarus\",\"showlegend\":true,\"type\":\"scattergeo\"},{\"customdata\":[[\"Belgium\",33506,28575,246.6]],\"geo\":\"geo\",\"hovertemplate\":\"<b>%{hovertext}</b><br><br>Country=%{customdata[0]}<br>size=%{marker.size}<br>iso3c=%{location}<br>COVID-19 deaths=%{customdata[1]}<br>Excess deaths=%{customdata[2]}<br>Excess per 100k=%{customdata[3]}<extra></extra>\",\"hovertext\":[\"Belgium\"],\"legendgroup\":\"Belgium\",\"locations\":[\"BEL\"],\"marker\":{\"color\":\"#ab63fa\",\"size\":[246.6],\"sizemode\":\"area\",\"sizeref\":2.5185,\"symbol\":\"circle\"},\"mode\":\"markers\",\"name\":\"Belgium\",\"showlegend\":true,\"type\":\"scattergeo\"},{\"customdata\":[[\"Belize\",598,534,134.4]],\"geo\":\"geo\",\"hovertemplate\":\"<b>%{hovertext}</b><br><br>Country=%{customdata[0]}<br>size=%{marker.size}<br>iso3c=%{location}<br>COVID-19 deaths=%{customdata[1]}<br>Excess deaths=%{customdata[2]}<br>Excess per 100k=%{customdata[3]}<extra></extra>\",\"hovertext\":[\"Belize\"],\"legendgroup\":\"Belize\",\"locations\":[\"BLZ\"],\"marker\":{\"color\":\"#FFA15A\",\"size\":[134.4],\"sizemode\":\"area\",\"sizeref\":2.5185,\"symbol\":\"circle\"},\"mode\":\"markers\",\"name\":\"Belize\",\"showlegend\":true,\"type\":\"scattergeo\"},{\"customdata\":[[\"Bermuda\",110,188,302.3]],\"geo\":\"geo\",\"hovertemplate\":\"<b>%{hovertext}</b><br><br>Country=%{customdata[0]}<br>size=%{marker.size}<br>iso3c=%{location}<br>COVID-19 deaths=%{customdata[1]}<br>Excess deaths=%{customdata[2]}<br>Excess per 100k=%{customdata[3]}<extra></extra>\",\"hovertext\":[\"Bermuda\"],\"legendgroup\":\"Bermuda\",\"locations\":[\"BMU\"],\"marker\":{\"color\":\"#19d3f3\",\"size\":[302.3],\"sizemode\":\"area\",\"sizeref\":2.5185,\"symbol\":\"circle\"},\"mode\":\"markers\",\"name\":\"Bermuda\",\"showlegend\":true,\"type\":\"scattergeo\"},{\"customdata\":[[\"Bolivia\",20919,57734,494.6]],\"geo\":\"geo\",\"hovertemplate\":\"<b>%{hovertext}</b><br><br>Country=%{customdata[0]}<br>size=%{marker.size}<br>iso3c=%{location}<br>COVID-19 deaths=%{customdata[1]}<br>Excess deaths=%{customdata[2]}<br>Excess per 100k=%{customdata[3]}<extra></extra>\",\"hovertext\":[\"Bolivia\"],\"legendgroup\":\"Bolivia\",\"locations\":[\"BOL\"],\"marker\":{\"color\":\"#FF6692\",\"size\":[494.6],\"sizemode\":\"area\",\"sizeref\":2.5185,\"symbol\":\"circle\"},\"mode\":\"markers\",\"name\":\"Bolivia\",\"showlegend\":true,\"type\":\"scattergeo\"},{\"customdata\":[[\"Bosnia\",16137,23681,721.8]],\"geo\":\"geo\",\"hovertemplate\":\"<b>%{hovertext}</b><br><br>Country=%{customdata[0]}<br>size=%{marker.size}<br>iso3c=%{location}<br>COVID-19 deaths=%{customdata[1]}<br>Excess deaths=%{customdata[2]}<br>Excess per 100k=%{customdata[3]}<extra></extra>\",\"hovertext\":[\"Bosnia\"],\"legendgroup\":\"Bosnia\",\"locations\":[\"BIH\"],\"marker\":{\"color\":\"#B6E880\",\"size\":[721.8],\"sizemode\":\"area\",\"sizeref\":2.5185,\"symbol\":\"circle\"},\"mode\":\"markers\",\"name\":\"Bosnia\",\"showlegend\":true,\"type\":\"scattergeo\"},{\"customdata\":[[\"Brazil\",693853,834614,392.6]],\"geo\":\"geo\",\"hovertemplate\":\"<b>%{hovertext}</b><br><br>Country=%{customdata[0]}<br>size=%{marker.size}<br>iso3c=%{location}<br>COVID-19 deaths=%{customdata[1]}<br>Excess deaths=%{customdata[2]}<br>Excess per 100k=%{customdata[3]}<extra></extra>\",\"hovertext\":[\"Brazil\"],\"legendgroup\":\"Brazil\",\"locations\":[\"BRA\"],\"marker\":{\"color\":\"#FF97FF\",\"size\":[392.6],\"sizemode\":\"area\",\"sizeref\":2.5185,\"symbol\":\"circle\"},\"mode\":\"markers\",\"name\":\"Brazil\",\"showlegend\":true,\"type\":\"scattergeo\"},{\"customdata\":[[\"Brunei\",61,-3,-0.8]],\"geo\":\"geo\",\"hovertemplate\":\"<b>%{hovertext}</b><br><br>Country=%{customdata[0]}<br>size=%{marker.size}<br>iso3c=%{location}<br>COVID-19 deaths=%{customdata[1]}<br>Excess deaths=%{customdata[2]}<br>Excess per 100k=%{customdata[3]}<extra></extra>\",\"hovertext\":[\"Brunei\"],\"legendgroup\":\"Brunei\",\"locations\":[\"BRN\"],\"marker\":{\"color\":\"#FECB52\",\"size\":[1.0],\"sizemode\":\"area\",\"sizeref\":2.5185,\"symbol\":\"circle\"},\"mode\":\"markers\",\"name\":\"Brunei\",\"showlegend\":true,\"type\":\"scattergeo\"},{\"customdata\":[[\"Bulgaria\",38108,70002,1007.4]],\"geo\":\"geo\",\"hovertemplate\":\"<b>%{hovertext}</b><br><br>Country=%{customdata[0]}<br>size=%{marker.size}<br>iso3c=%{location}<br>COVID-19 deaths=%{customdata[1]}<br>Excess deaths=%{customdata[2]}<br>Excess per 100k=%{customdata[3]}<extra></extra>\",\"hovertext\":[\"Bulgaria\"],\"legendgroup\":\"Bulgaria\",\"locations\":[\"BGR\"],\"marker\":{\"color\":\"#636efa\",\"size\":[1007.4],\"sizemode\":\"area\",\"sizeref\":2.5185,\"symbol\":\"circle\"},\"mode\":\"markers\",\"name\":\"Bulgaria\",\"showlegend\":true,\"type\":\"scattergeo\"},{\"customdata\":[[\"Cabo Verde\",113,192,34.5]],\"geo\":\"geo\",\"hovertemplate\":\"<b>%{hovertext}</b><br><br>Country=%{customdata[0]}<br>size=%{marker.size}<br>iso3c=%{location}<br>COVID-19 deaths=%{customdata[1]}<br>Excess deaths=%{customdata[2]}<br>Excess per 100k=%{customdata[3]}<extra></extra>\",\"hovertext\":[\"Cabo Verde\"],\"legendgroup\":\"Cabo Verde\",\"locations\":[\"CPV\"],\"marker\":{\"color\":\"#EF553B\",\"size\":[34.5],\"sizemode\":\"area\",\"sizeref\":2.5185,\"symbol\":\"circle\"},\"mode\":\"markers\",\"name\":\"Cabo Verde\",\"showlegend\":true,\"type\":\"scattergeo\"},{\"customdata\":[[\"Canada\",45372,36797,97.5]],\"geo\":\"geo\",\"hovertemplate\":\"<b>%{hovertext}</b><br><br>Country=%{customdata[0]}<br>size=%{marker.size}<br>iso3c=%{location}<br>COVID-19 deaths=%{customdata[1]}<br>Excess deaths=%{customdata[2]}<br>Excess per 100k=%{customdata[3]}<extra></extra>\",\"hovertext\":[\"Canada\"],\"legendgroup\":\"Canada\",\"locations\":[\"CAN\"],\"marker\":{\"color\":\"#00cc96\",\"size\":[97.5],\"sizemode\":\"area\",\"sizeref\":2.5185,\"symbol\":\"circle\"},\"mode\":\"markers\",\"name\":\"Canada\",\"showlegend\":true,\"type\":\"scattergeo\"},{\"customdata\":[[\"Chile\",63496,60924,318.7]],\"geo\":\"geo\",\"hovertemplate\":\"<b>%{hovertext}</b><br><br>Country=%{customdata[0]}<br>size=%{marker.size}<br>iso3c=%{location}<br>COVID-19 deaths=%{customdata[1]}<br>Excess deaths=%{customdata[2]}<br>Excess per 100k=%{customdata[3]}<extra></extra>\",\"hovertext\":[\"Chile\"],\"legendgroup\":\"Chile\",\"locations\":[\"CHL\"],\"marker\":{\"color\":\"#ab63fa\",\"size\":[318.7],\"sizemode\":\"area\",\"sizeref\":2.5185,\"symbol\":\"circle\"},\"mode\":\"markers\",\"name\":\"Chile\",\"showlegend\":true,\"type\":\"scattergeo\"},{\"customdata\":[[\"Colombia\",141862,188456,370.4]],\"geo\":\"geo\",\"hovertemplate\":\"<b>%{hovertext}</b><br><br>Country=%{customdata[0]}<br>size=%{marker.size}<br>iso3c=%{location}<br>COVID-19 deaths=%{customdata[1]}<br>Excess deaths=%{customdata[2]}<br>Excess per 100k=%{customdata[3]}<extra></extra>\",\"hovertext\":[\"Colombia\"],\"legendgroup\":\"Colombia\",\"locations\":[\"COL\"],\"marker\":{\"color\":\"#FFA15A\",\"size\":[370.4],\"sizemode\":\"area\",\"sizeref\":2.5185,\"symbol\":\"circle\"},\"mode\":\"markers\",\"name\":\"Colombia\",\"showlegend\":true,\"type\":\"scattergeo\"},{\"customdata\":[[\"Costa Rica\",7357,5964,117.1]],\"geo\":\"geo\",\"hovertemplate\":\"<b>%{hovertext}</b><br><br>Country=%{customdata[0]}<br>size=%{marker.size}<br>iso3c=%{location}<br>COVID-19 deaths=%{customdata[1]}<br>Excess deaths=%{customdata[2]}<br>Excess per 100k=%{customdata[3]}<extra></extra>\",\"hovertext\":[\"Costa Rica\"],\"legendgroup\":\"Costa Rica\",\"locations\":[\"CRI\"],\"marker\":{\"color\":\"#19d3f3\",\"size\":[117.1],\"sizemode\":\"area\",\"sizeref\":2.5185,\"symbol\":\"circle\"},\"mode\":\"markers\",\"name\":\"Costa Rica\",\"showlegend\":true,\"type\":\"scattergeo\"},{\"customdata\":[[\"Croatia\",17596,23947,583.3]],\"geo\":\"geo\",\"hovertemplate\":\"<b>%{hovertext}</b><br><br>Country=%{customdata[0]}<br>size=%{marker.size}<br>iso3c=%{location}<br>COVID-19 deaths=%{customdata[1]}<br>Excess deaths=%{customdata[2]}<br>Excess per 100k=%{customdata[3]}<extra></extra>\",\"hovertext\":[\"Croatia\"],\"legendgroup\":\"Croatia\",\"locations\":[\"HRV\"],\"marker\":{\"color\":\"#FF6692\",\"size\":[583.3],\"sizemode\":\"area\",\"sizeref\":2.5185,\"symbol\":\"circle\"},\"mode\":\"markers\",\"name\":\"Croatia\",\"showlegend\":true,\"type\":\"scattergeo\"},{\"customdata\":[[\"Cuba\",8322,53661,473.8]],\"geo\":\"geo\",\"hovertemplate\":\"<b>%{hovertext}</b><br><br>Country=%{customdata[0]}<br>size=%{marker.size}<br>iso3c=%{location}<br>COVID-19 deaths=%{customdata[1]}<br>Excess deaths=%{customdata[2]}<br>Excess per 100k=%{customdata[3]}<extra></extra>\",\"hovertext\":[\"Cuba\"],\"legendgroup\":\"Cuba\",\"locations\":[\"CUB\"],\"marker\":{\"color\":\"#B6E880\",\"size\":[473.8],\"sizemode\":\"area\",\"sizeref\":2.5185,\"symbol\":\"circle\"},\"mode\":\"markers\",\"name\":\"Cuba\",\"showlegend\":true,\"type\":\"scattergeo\"},{\"customdata\":[[\"Cyprus\",1258,2064,171.0]],\"geo\":\"geo\",\"hovertemplate\":\"<b>%{hovertext}</b><br><br>Country=%{customdata[0]}<br>size=%{marker.size}<br>iso3c=%{location}<br>COVID-19 deaths=%{customdata[1]}<br>Excess deaths=%{customdata[2]}<br>Excess per 100k=%{customdata[3]}<extra></extra>\",\"hovertext\":[\"Cyprus\"],\"legendgroup\":\"Cyprus\",\"locations\":[\"CYP\"],\"marker\":{\"color\":\"#FF97FF\",\"size\":[171.0],\"sizemode\":\"area\",\"sizeref\":2.5185,\"symbol\":\"circle\"},\"mode\":\"markers\",\"name\":\"Cyprus\",\"showlegend\":true,\"type\":\"scattergeo\"},{\"customdata\":[[\"Czechia\",42097,46917,438.1]],\"geo\":\"geo\",\"hovertemplate\":\"<b>%{hovertext}</b><br><br>Country=%{customdata[0]}<br>size=%{marker.size}<br>iso3c=%{location}<br>COVID-19 deaths=%{customdata[1]}<br>Excess deaths=%{customdata[2]}<br>Excess per 100k=%{customdata[3]}<extra></extra>\",\"hovertext\":[\"Czechia\"],\"legendgroup\":\"Czechia\",\"locations\":[\"CZE\"],\"marker\":{\"color\":\"#FECB52\",\"size\":[438.1],\"sizemode\":\"area\",\"sizeref\":2.5185,\"symbol\":\"circle\"},\"mode\":\"markers\",\"name\":\"Czechia\",\"showlegend\":true,\"type\":\"scattergeo\"},{\"customdata\":[[\"Denmark\",8128,5351,92.4]],\"geo\":\"geo\",\"hovertemplate\":\"<b>%{hovertext}</b><br><br>Country=%{customdata[0]}<br>size=%{marker.size}<br>iso3c=%{location}<br>COVID-19 deaths=%{customdata[1]}<br>Excess deaths=%{customdata[2]}<br>Excess per 100k=%{customdata[3]}<extra></extra>\",\"hovertext\":[\"Denmark\"],\"legendgroup\":\"Denmark\",\"locations\":[\"DNK\"],\"marker\":{\"color\":\"#636efa\",\"size\":[92.4],\"sizemode\":\"area\",\"sizeref\":2.5185,\"symbol\":\"circle\"},\"mode\":\"markers\",\"name\":\"Denmark\",\"showlegend\":true,\"type\":\"scattergeo\"},{\"customdata\":[[\"Dominican Republic\",4130,5018,46.3]],\"geo\":\"geo\",\"hovertemplate\":\"<b>%{hovertext}</b><br><br>Country=%{customdata[0]}<br>size=%{marker.size}<br>iso3c=%{location}<br>COVID-19 deaths=%{customdata[1]}<br>Excess deaths=%{customdata[2]}<br>Excess per 100k=%{customdata[3]}<extra></extra>\",\"hovertext\":[\"Dominican Republic\"],\"legendgroup\":\"Dominican Republic\",\"locations\":[\"DOM\"],\"marker\":{\"color\":\"#EF553B\",\"size\":[46.3],\"sizemode\":\"area\",\"sizeref\":2.5185,\"symbol\":\"circle\"},\"mode\":\"markers\",\"name\":\"Dominican Republic\",\"showlegend\":true,\"type\":\"scattergeo\"},{\"customdata\":[[\"Ecuador\",35929,77093,437.0]],\"geo\":\"geo\",\"hovertemplate\":\"<b>%{hovertext}</b><br><br>Country=%{customdata[0]}<br>size=%{marker.size}<br>iso3c=%{location}<br>COVID-19 deaths=%{customdata[1]}<br>Excess deaths=%{customdata[2]}<br>Excess per 100k=%{customdata[3]}<extra></extra>\",\"hovertext\":[\"Ecuador\"],\"legendgroup\":\"Ecuador\",\"locations\":[\"ECU\"],\"marker\":{\"color\":\"#00cc96\",\"size\":[437.0],\"sizemode\":\"area\",\"sizeref\":2.5185,\"symbol\":\"circle\"},\"mode\":\"markers\",\"name\":\"Ecuador\",\"showlegend\":true,\"type\":\"scattergeo\"},{\"customdata\":[[\"Egypt\",24798,325138,317.7]],\"geo\":\"geo\",\"hovertemplate\":\"<b>%{hovertext}</b><br><br>Country=%{customdata[0]}<br>size=%{marker.size}<br>iso3c=%{location}<br>COVID-19 deaths=%{customdata[1]}<br>Excess deaths=%{customdata[2]}<br>Excess per 100k=%{customdata[3]}<extra></extra>\",\"hovertext\":[\"Egypt\"],\"legendgroup\":\"Egypt\",\"locations\":[\"EGY\"],\"marker\":{\"color\":\"#ab63fa\",\"size\":[317.7],\"sizemode\":\"area\",\"sizeref\":2.5185,\"symbol\":\"circle\"},\"mode\":\"markers\",\"name\":\"Egypt\",\"showlegend\":true,\"type\":\"scattergeo\"},{\"customdata\":[[\"El Salvador\",717,4729,72.9]],\"geo\":\"geo\",\"hovertemplate\":\"<b>%{hovertext}</b><br><br>Country=%{customdata[0]}<br>size=%{marker.size}<br>iso3c=%{location}<br>COVID-19 deaths=%{customdata[1]}<br>Excess deaths=%{customdata[2]}<br>Excess per 100k=%{customdata[3]}<extra></extra>\",\"hovertext\":[\"El Salvador\"],\"legendgroup\":\"El Salvador\",\"locations\":[\"SLV\"],\"marker\":{\"color\":\"#FFA15A\",\"size\":[72.9],\"sizemode\":\"area\",\"sizeref\":2.5185,\"symbol\":\"circle\"},\"mode\":\"markers\",\"name\":\"El Salvador\",\"showlegend\":true,\"type\":\"scattergeo\"},{\"customdata\":[[\"Estonia\",2885,5090,383.7]],\"geo\":\"geo\",\"hovertemplate\":\"<b>%{hovertext}</b><br><br>Country=%{customdata[0]}<br>size=%{marker.size}<br>iso3c=%{location}<br>COVID-19 deaths=%{customdata[1]}<br>Excess deaths=%{customdata[2]}<br>Excess per 100k=%{customdata[3]}<extra></extra>\",\"hovertext\":[\"Estonia\"],\"legendgroup\":\"Estonia\",\"locations\":[\"EST\"],\"marker\":{\"color\":\"#19d3f3\",\"size\":[383.7],\"sizemode\":\"area\",\"sizeref\":2.5185,\"symbol\":\"circle\"},\"mode\":\"markers\",\"name\":\"Estonia\",\"showlegend\":true,\"type\":\"scattergeo\"},{\"customdata\":[[\"Faroe Islands\",28,1,1.9]],\"geo\":\"geo\",\"hovertemplate\":\"<b>%{hovertext}</b><br><br>Country=%{customdata[0]}<br>size=%{marker.size}<br>iso3c=%{location}<br>COVID-19 deaths=%{customdata[1]}<br>Excess deaths=%{customdata[2]}<br>Excess per 100k=%{customdata[3]}<extra></extra>\",\"hovertext\":[\"Faroe Islands\"],\"legendgroup\":\"Faroe Islands\",\"locations\":[\"FRO\"],\"marker\":{\"color\":\"#FF6692\",\"size\":[1.9],\"sizemode\":\"area\",\"sizeref\":2.5185,\"symbol\":\"circle\"},\"mode\":\"markers\",\"name\":\"Faroe Islands\",\"showlegend\":true,\"type\":\"scattergeo\"},{\"customdata\":[[\"Finland\",8700,11129,200.9]],\"geo\":\"geo\",\"hovertemplate\":\"<b>%{hovertext}</b><br><br>Country=%{customdata[0]}<br>size=%{marker.size}<br>iso3c=%{location}<br>COVID-19 deaths=%{customdata[1]}<br>Excess deaths=%{customdata[2]}<br>Excess per 100k=%{customdata[3]}<extra></extra>\",\"hovertext\":[\"Finland\"],\"legendgroup\":\"Finland\",\"locations\":[\"FIN\"],\"marker\":{\"color\":\"#B6E880\",\"size\":[200.9],\"sizemode\":\"area\",\"sizeref\":2.5185,\"symbol\":\"circle\"},\"mode\":\"markers\",\"name\":\"Finland\",\"showlegend\":true,\"type\":\"scattergeo\"},{\"customdata\":[[\"France\",159714,127214,194.9]],\"geo\":\"geo\",\"hovertemplate\":\"<b>%{hovertext}</b><br><br>Country=%{customdata[0]}<br>size=%{marker.size}<br>iso3c=%{location}<br>COVID-19 deaths=%{customdata[1]}<br>Excess deaths=%{customdata[2]}<br>Excess per 100k=%{customdata[3]}<extra></extra>\",\"hovertext\":[\"France\"],\"legendgroup\":\"France\",\"locations\":[\"FRA\"],\"marker\":{\"color\":\"#FF97FF\",\"size\":[194.9],\"sizemode\":\"area\",\"sizeref\":2.5185,\"symbol\":\"circle\"},\"mode\":\"markers\",\"name\":\"France\",\"showlegend\":true,\"type\":\"scattergeo\"},{\"customdata\":[[\"French Guiana\",413,288,96.3]],\"geo\":\"geo\",\"hovertemplate\":\"<b>%{hovertext}</b><br><br>Country=%{customdata[0]}<br>size=%{marker.size}<br>iso3c=%{location}<br>COVID-19 deaths=%{customdata[1]}<br>Excess deaths=%{customdata[2]}<br>Excess per 100k=%{customdata[3]}<extra></extra>\",\"hovertext\":[\"French Guiana\"],\"legendgroup\":\"French Guiana\",\"locations\":[\"GUF\"],\"marker\":{\"color\":\"#FECB52\",\"size\":[96.3],\"sizemode\":\"area\",\"sizeref\":2.5185,\"symbol\":\"circle\"},\"mode\":\"markers\",\"name\":\"French Guiana\",\"showlegend\":true,\"type\":\"scattergeo\"},{\"customdata\":[[\"French Polynesia\",636,565,201.0]],\"geo\":\"geo\",\"hovertemplate\":\"<b>%{hovertext}</b><br><br>Country=%{customdata[0]}<br>size=%{marker.size}<br>iso3c=%{location}<br>COVID-19 deaths=%{customdata[1]}<br>Excess deaths=%{customdata[2]}<br>Excess per 100k=%{customdata[3]}<extra></extra>\",\"hovertext\":[\"French Polynesia\"],\"legendgroup\":\"French Polynesia\",\"locations\":[\"PYF\"],\"marker\":{\"color\":\"#636efa\",\"size\":[201.0],\"sizemode\":\"area\",\"sizeref\":2.5185,\"symbol\":\"circle\"},\"mode\":\"markers\",\"name\":\"French Polynesia\",\"showlegend\":true,\"type\":\"scattergeo\"},{\"customdata\":[[\"Georgia\",16791,24010,601.9]],\"geo\":\"geo\",\"hovertemplate\":\"<b>%{hovertext}</b><br><br>Country=%{customdata[0]}<br>size=%{marker.size}<br>iso3c=%{location}<br>COVID-19 deaths=%{customdata[1]}<br>Excess deaths=%{customdata[2]}<br>Excess per 100k=%{customdata[3]}<extra></extra>\",\"hovertext\":[\"Georgia\"],\"legendgroup\":\"Georgia\",\"locations\":[\"GEO\"],\"marker\":{\"color\":\"#EF553B\",\"size\":[601.9],\"sizemode\":\"area\",\"sizeref\":2.5185,\"symbol\":\"circle\"},\"mode\":\"markers\",\"name\":\"Georgia\",\"showlegend\":true,\"type\":\"scattergeo\"},{\"customdata\":[[\"Germany\",166327,203137,242.5]],\"geo\":\"geo\",\"hovertemplate\":\"<b>%{hovertext}</b><br><br>Country=%{customdata[0]}<br>size=%{marker.size}<br>iso3c=%{location}<br>COVID-19 deaths=%{customdata[1]}<br>Excess deaths=%{customdata[2]}<br>Excess per 100k=%{customdata[3]}<extra></extra>\",\"hovertext\":[\"Germany\"],\"legendgroup\":\"Germany\",\"locations\":[\"DEU\"],\"marker\":{\"color\":\"#00cc96\",\"size\":[242.5],\"sizemode\":\"area\",\"sizeref\":2.5185,\"symbol\":\"circle\"},\"mode\":\"markers\",\"name\":\"Germany\",\"showlegend\":true,\"type\":\"scattergeo\"},{\"customdata\":[[\"Gibraltar\",75,21,62.7]],\"geo\":\"geo\",\"hovertemplate\":\"<b>%{hovertext}</b><br><br>Country=%{customdata[0]}<br>size=%{marker.size}<br>iso3c=%{location}<br>COVID-19 deaths=%{customdata[1]}<br>Excess deaths=%{customdata[2]}<br>Excess per 100k=%{customdata[3]}<extra></extra>\",\"hovertext\":[\"Gibraltar\"],\"legendgroup\":\"Gibraltar\",\"locations\":[\"GIB\"],\"marker\":{\"color\":\"#ab63fa\",\"size\":[62.7],\"sizemode\":\"area\",\"sizeref\":2.5185,\"symbol\":\"circle\"},\"mode\":\"markers\",\"name\":\"Gibraltar\",\"showlegend\":true,\"type\":\"scattergeo\"},{\"customdata\":[[\"Greece\",34925,38532,369.7]],\"geo\":\"geo\",\"hovertemplate\":\"<b>%{hovertext}</b><br><br>Country=%{customdata[0]}<br>size=%{marker.size}<br>iso3c=%{location}<br>COVID-19 deaths=%{customdata[1]}<br>Excess deaths=%{customdata[2]}<br>Excess per 100k=%{customdata[3]}<extra></extra>\",\"hovertext\":[\"Greece\"],\"legendgroup\":\"Greece\",\"locations\":[\"GRC\"],\"marker\":{\"color\":\"#FFA15A\",\"size\":[369.7],\"sizemode\":\"area\",\"sizeref\":2.5185,\"symbol\":\"circle\"},\"mode\":\"markers\",\"name\":\"Greece\",\"showlegend\":true,\"type\":\"scattergeo\"},{\"customdata\":[[\"Greenland\",21,-98,-171.9]],\"geo\":\"geo\",\"hovertemplate\":\"<b>%{hovertext}</b><br><br>Country=%{customdata[0]}<br>size=%{marker.size}<br>iso3c=%{location}<br>COVID-19 deaths=%{customdata[1]}<br>Excess deaths=%{customdata[2]}<br>Excess per 100k=%{customdata[3]}<extra></extra>\",\"hovertext\":[\"Greenland\"],\"legendgroup\":\"Greenland\",\"locations\":[\"GRL\"],\"marker\":{\"color\":\"#19d3f3\",\"size\":[1.0],\"sizemode\":\"area\",\"sizeref\":2.5185,\"symbol\":\"circle\"},\"mode\":\"markers\",\"name\":\"Greenland\",\"showlegend\":true,\"type\":\"scattergeo\"},{\"customdata\":[[\"Guadeloupe\",1006,1438,359.3]],\"geo\":\"geo\",\"hovertemplate\":\"<b>%{hovertext}</b><br><br>Country=%{customdata[0]}<br>size=%{marker.size}<br>iso3c=%{location}<br>COVID-19 deaths=%{customdata[1]}<br>Excess deaths=%{customdata[2]}<br>Excess per 100k=%{customdata[3]}<extra></extra>\",\"hovertext\":[\"Guadeloupe\"],\"legendgroup\":\"Guadeloupe\",\"locations\":[\"GLP\"],\"marker\":{\"color\":\"#FF6692\",\"size\":[359.3],\"sizemode\":\"area\",\"sizeref\":2.5185,\"symbol\":\"circle\"},\"mode\":\"markers\",\"name\":\"Guadeloupe\",\"showlegend\":true,\"type\":\"scattergeo\"},{\"customdata\":[[\"Guatemala\",20000,56243,313.9]],\"geo\":\"geo\",\"hovertemplate\":\"<b>%{hovertext}</b><br><br>Country=%{customdata[0]}<br>size=%{marker.size}<br>iso3c=%{location}<br>COVID-19 deaths=%{customdata[1]}<br>Excess deaths=%{customdata[2]}<br>Excess per 100k=%{customdata[3]}<extra></extra>\",\"hovertext\":[\"Guatemala\"],\"legendgroup\":\"Guatemala\",\"locations\":[\"GTM\"],\"marker\":{\"color\":\"#B6E880\",\"size\":[313.9],\"sizemode\":\"area\",\"sizeref\":2.5185,\"symbol\":\"circle\"},\"mode\":\"markers\",\"name\":\"Guatemala\",\"showlegend\":true,\"type\":\"scattergeo\"},{\"customdata\":[[\"Hong Kong\",10410,13842,184.6]],\"geo\":\"geo\",\"hovertemplate\":\"<b>%{hovertext}</b><br><br>Country=%{customdata[0]}<br>size=%{marker.size}<br>iso3c=%{location}<br>COVID-19 deaths=%{customdata[1]}<br>Excess deaths=%{customdata[2]}<br>Excess per 100k=%{customdata[3]}<extra></extra>\",\"hovertext\":[\"Hong Kong\"],\"legendgroup\":\"Hong Kong\",\"locations\":[\"HKG\"],\"marker\":{\"color\":\"#FF97FF\",\"size\":[184.6],\"sizemode\":\"area\",\"sizeref\":2.5185,\"symbol\":\"circle\"},\"mode\":\"markers\",\"name\":\"Hong Kong\",\"showlegend\":true,\"type\":\"scattergeo\"},{\"customdata\":[[\"Hungary\",48495,44188,457.4]],\"geo\":\"geo\",\"hovertemplate\":\"<b>%{hovertext}</b><br><br>Country=%{customdata[0]}<br>size=%{marker.size}<br>iso3c=%{location}<br>COVID-19 deaths=%{customdata[1]}<br>Excess deaths=%{customdata[2]}<br>Excess per 100k=%{customdata[3]}<extra></extra>\",\"hovertext\":[\"Hungary\"],\"legendgroup\":\"Hungary\",\"locations\":[\"HUN\"],\"marker\":{\"color\":\"#FECB52\",\"size\":[457.4],\"sizemode\":\"area\",\"sizeref\":2.5185,\"symbol\":\"circle\"},\"mode\":\"markers\",\"name\":\"Hungary\",\"showlegend\":true,\"type\":\"scattergeo\"},{\"customdata\":[[\"Iceland\",229,399,117.0]],\"geo\":\"geo\",\"hovertemplate\":\"<b>%{hovertext}</b><br><br>Country=%{customdata[0]}<br>size=%{marker.size}<br>iso3c=%{location}<br>COVID-19 deaths=%{customdata[1]}<br>Excess deaths=%{customdata[2]}<br>Excess per 100k=%{customdata[3]}<extra></extra>\",\"hovertext\":[\"Iceland\"],\"legendgroup\":\"Iceland\",\"locations\":[\"ISL\"],\"marker\":{\"color\":\"#636efa\",\"size\":[117.0],\"sizemode\":\"area\",\"sizeref\":2.5185,\"symbol\":\"circle\"},\"mode\":\"markers\",\"name\":\"Iceland\",\"showlegend\":true,\"type\":\"scattergeo\"},{\"customdata\":[[\"Iran\",144478,273733,325.9]],\"geo\":\"geo\",\"hovertemplate\":\"<b>%{hovertext}</b><br><br>Country=%{customdata[0]}<br>size=%{marker.size}<br>iso3c=%{location}<br>COVID-19 deaths=%{customdata[1]}<br>Excess deaths=%{customdata[2]}<br>Excess per 100k=%{customdata[3]}<extra></extra>\",\"hovertext\":[\"Iran\"],\"legendgroup\":\"Iran\",\"locations\":[\"IRN\"],\"marker\":{\"color\":\"#EF553B\",\"size\":[325.9],\"sizemode\":\"area\",\"sizeref\":2.5185,\"symbol\":\"circle\"},\"mode\":\"markers\",\"name\":\"Iran\",\"showlegend\":true,\"type\":\"scattergeo\"},{\"customdata\":[[\"Ireland\",8425,6483,131.3]],\"geo\":\"geo\",\"hovertemplate\":\"<b>%{hovertext}</b><br><br>Country=%{customdata[0]}<br>size=%{marker.size}<br>iso3c=%{location}<br>COVID-19 deaths=%{customdata[1]}<br>Excess deaths=%{customdata[2]}<br>Excess per 100k=%{customdata[3]}<extra></extra>\",\"hovertext\":[\"Ireland\"],\"legendgroup\":\"Ireland\",\"locations\":[\"IRL\"],\"marker\":{\"color\":\"#00cc96\",\"size\":[131.3],\"sizemode\":\"area\",\"sizeref\":2.5185,\"symbol\":\"circle\"},\"mode\":\"markers\",\"name\":\"Ireland\",\"showlegend\":true,\"type\":\"scattergeo\"},{\"customdata\":[[\"Israel\",12067,12489,144.3]],\"geo\":\"geo\",\"hovertemplate\":\"<b>%{hovertext}</b><br><br>Country=%{customdata[0]}<br>size=%{marker.size}<br>iso3c=%{location}<br>COVID-19 deaths=%{customdata[1]}<br>Excess deaths=%{customdata[2]}<br>Excess per 100k=%{customdata[3]}<extra></extra>\",\"hovertext\":[\"Israel\"],\"legendgroup\":\"Israel\",\"locations\":[\"ISR\"],\"marker\":{\"color\":\"#ab63fa\",\"size\":[144.3],\"sizemode\":\"area\",\"sizeref\":2.5185,\"symbol\":\"circle\"},\"mode\":\"markers\",\"name\":\"Israel\",\"showlegend\":true,\"type\":\"scattergeo\"},{\"customdata\":[[\"Italy\",181944,235796,390.0]],\"geo\":\"geo\",\"hovertemplate\":\"<b>%{hovertext}</b><br><br>Country=%{customdata[0]}<br>size=%{marker.size}<br>iso3c=%{location}<br>COVID-19 deaths=%{customdata[1]}<br>Excess deaths=%{customdata[2]}<br>Excess per 100k=%{customdata[3]}<extra></extra>\",\"hovertext\":[\"Italy\"],\"legendgroup\":\"Italy\",\"locations\":[\"ITA\"],\"marker\":{\"color\":\"#FFA15A\",\"size\":[390.0],\"sizemode\":\"area\",\"sizeref\":2.5185,\"symbol\":\"circle\"},\"mode\":\"markers\",\"name\":\"Italy\",\"showlegend\":true,\"type\":\"scattergeo\"},{\"customdata\":[[\"Jamaica\",2392,5408,182.6]],\"geo\":\"geo\",\"hovertemplate\":\"<b>%{hovertext}</b><br><br>Country=%{customdata[0]}<br>size=%{marker.size}<br>iso3c=%{location}<br>COVID-19 deaths=%{customdata[1]}<br>Excess deaths=%{customdata[2]}<br>Excess per 100k=%{customdata[3]}<extra></extra>\",\"hovertext\":[\"Jamaica\"],\"legendgroup\":\"Jamaica\",\"locations\":[\"JAM\"],\"marker\":{\"color\":\"#19d3f3\",\"size\":[182.6],\"sizemode\":\"area\",\"sizeref\":2.5185,\"symbol\":\"circle\"},\"mode\":\"markers\",\"name\":\"Jamaica\",\"showlegend\":true,\"type\":\"scattergeo\"},{\"customdata\":[[\"Japan\",49826,94841,75.0]],\"geo\":\"geo\",\"hovertemplate\":\"<b>%{hovertext}</b><br><br>Country=%{customdata[0]}<br>size=%{marker.size}<br>iso3c=%{location}<br>COVID-19 deaths=%{customdata[1]}<br>Excess deaths=%{customdata[2]}<br>Excess per 100k=%{customdata[3]}<extra></extra>\",\"hovertext\":[\"Japan\"],\"legendgroup\":\"Japan\",\"locations\":[\"JPN\"],\"marker\":{\"color\":\"#FF6692\",\"size\":[75.0],\"sizemode\":\"area\",\"sizeref\":2.5185,\"symbol\":\"circle\"},\"mode\":\"markers\",\"name\":\"Japan\",\"showlegend\":true,\"type\":\"scattergeo\"},{\"customdata\":[[\"Jordan\",12653,14595,143.0]],\"geo\":\"geo\",\"hovertemplate\":\"<b>%{hovertext}</b><br><br>Country=%{customdata[0]}<br>size=%{marker.size}<br>iso3c=%{location}<br>COVID-19 deaths=%{customdata[1]}<br>Excess deaths=%{customdata[2]}<br>Excess per 100k=%{customdata[3]}<extra></extra>\",\"hovertext\":[\"Jordan\"],\"legendgroup\":\"Jordan\",\"locations\":[\"JOR\"],\"marker\":{\"color\":\"#B6E880\",\"size\":[143.0],\"sizemode\":\"area\",\"sizeref\":2.5185,\"symbol\":\"circle\"},\"mode\":\"markers\",\"name\":\"Jordan\",\"showlegend\":true,\"type\":\"scattergeo\"},{\"customdata\":[[\"Kazakhstan\",19053,81467,433.9]],\"geo\":\"geo\",\"hovertemplate\":\"<b>%{hovertext}</b><br><br>Country=%{customdata[0]}<br>size=%{marker.size}<br>iso3c=%{location}<br>COVID-19 deaths=%{customdata[1]}<br>Excess deaths=%{customdata[2]}<br>Excess per 100k=%{customdata[3]}<extra></extra>\",\"hovertext\":[\"Kazakhstan\"],\"legendgroup\":\"Kazakhstan\",\"locations\":[\"KAZ\"],\"marker\":{\"color\":\"#FF97FF\",\"size\":[433.9],\"sizemode\":\"area\",\"sizeref\":2.5185,\"symbol\":\"circle\"},\"mode\":\"markers\",\"name\":\"Kazakhstan\",\"showlegend\":true,\"type\":\"scattergeo\"},{\"customdata\":[[\"Kosovo\",3192,5447,295.2]],\"geo\":\"geo\",\"hovertemplate\":\"<b>%{hovertext}</b><br><br>Country=%{customdata[0]}<br>size=%{marker.size}<br>iso3c=%{location}<br>COVID-19 deaths=%{customdata[1]}<br>Excess deaths=%{customdata[2]}<br>Excess per 100k=%{customdata[3]}<extra></extra>\",\"hovertext\":[\"Kosovo\"],\"legendgroup\":\"Kosovo\",\"locations\":[\"KOS\"],\"marker\":{\"color\":\"#FECB52\",\"size\":[295.2],\"sizemode\":\"area\",\"sizeref\":2.5185,\"symbol\":\"circle\"},\"mode\":\"markers\",\"name\":\"Kosovo\",\"showlegend\":true,\"type\":\"scattergeo\"},{\"customdata\":[[\"Kuwait\",2468,6693,156.7]],\"geo\":\"geo\",\"hovertemplate\":\"<b>%{hovertext}</b><br><br>Country=%{customdata[0]}<br>size=%{marker.size}<br>iso3c=%{location}<br>COVID-19 deaths=%{customdata[1]}<br>Excess deaths=%{customdata[2]}<br>Excess per 100k=%{customdata[3]}<extra></extra>\",\"hovertext\":[\"Kuwait\"],\"legendgroup\":\"Kuwait\",\"locations\":[\"KWT\"],\"marker\":{\"color\":\"#636efa\",\"size\":[156.7],\"sizemode\":\"area\",\"sizeref\":2.5185,\"symbol\":\"circle\"},\"mode\":\"markers\",\"name\":\"Kuwait\",\"showlegend\":true,\"type\":\"scattergeo\"},{\"customdata\":[[\"Kyrgyzstan\",2991,13449,206.1]],\"geo\":\"geo\",\"hovertemplate\":\"<b>%{hovertext}</b><br><br>Country=%{customdata[0]}<br>size=%{marker.size}<br>iso3c=%{location}<br>COVID-19 deaths=%{customdata[1]}<br>Excess deaths=%{customdata[2]}<br>Excess per 100k=%{customdata[3]}<extra></extra>\",\"hovertext\":[\"Kyrgyzstan\"],\"legendgroup\":\"Kyrgyzstan\",\"locations\":[\"KGZ\"],\"marker\":{\"color\":\"#EF553B\",\"size\":[206.1],\"sizemode\":\"area\",\"sizeref\":2.5185,\"symbol\":\"circle\"},\"mode\":\"markers\",\"name\":\"Kyrgyzstan\",\"showlegend\":true,\"type\":\"scattergeo\"},{\"customdata\":[[\"Latvia\",6197,10536,558.6]],\"geo\":\"geo\",\"hovertemplate\":\"<b>%{hovertext}</b><br><br>Country=%{customdata[0]}<br>size=%{marker.size}<br>iso3c=%{location}<br>COVID-19 deaths=%{customdata[1]}<br>Excess deaths=%{customdata[2]}<br>Excess per 100k=%{customdata[3]}<extra></extra>\",\"hovertext\":[\"Latvia\"],\"legendgroup\":\"Latvia\",\"locations\":[\"LVA\"],\"marker\":{\"color\":\"#00cc96\",\"size\":[558.6],\"sizemode\":\"area\",\"sizeref\":2.5185,\"symbol\":\"circle\"},\"mode\":\"markers\",\"name\":\"Latvia\",\"showlegend\":true,\"type\":\"scattergeo\"},{\"customdata\":[[\"Lebanon\",9119,14630,214.3]],\"geo\":\"geo\",\"hovertemplate\":\"<b>%{hovertext}</b><br><br>Country=%{customdata[0]}<br>size=%{marker.size}<br>iso3c=%{location}<br>COVID-19 deaths=%{customdata[1]}<br>Excess deaths=%{customdata[2]}<br>Excess per 100k=%{customdata[3]}<extra></extra>\",\"hovertext\":[\"Lebanon\"],\"legendgroup\":\"Lebanon\",\"locations\":[\"LBN\"],\"marker\":{\"color\":\"#ab63fa\",\"size\":[214.3],\"sizemode\":\"area\",\"sizeref\":2.5185,\"symbol\":\"circle\"},\"mode\":\"markers\",\"name\":\"Lebanon\",\"showlegend\":true,\"type\":\"scattergeo\"},{\"customdata\":[[\"Liechtenstein\",83,54,141.4]],\"geo\":\"geo\",\"hovertemplate\":\"<b>%{hovertext}</b><br><br>Country=%{customdata[0]}<br>size=%{marker.size}<br>iso3c=%{location}<br>COVID-19 deaths=%{customdata[1]}<br>Excess deaths=%{customdata[2]}<br>Excess per 100k=%{customdata[3]}<extra></extra>\",\"hovertext\":[\"Liechtenstein\"],\"legendgroup\":\"Liechtenstein\",\"locations\":[\"LIE\"],\"marker\":{\"color\":\"#FFA15A\",\"size\":[141.4],\"sizemode\":\"area\",\"sizeref\":2.5185,\"symbol\":\"circle\"},\"mode\":\"markers\",\"name\":\"Liechtenstein\",\"showlegend\":true,\"type\":\"scattergeo\"},{\"customdata\":[[\"Lithuania\",9484,23832,875.4]],\"geo\":\"geo\",\"hovertemplate\":\"<b>%{hovertext}</b><br><br>Country=%{customdata[0]}<br>size=%{marker.size}<br>iso3c=%{location}<br>COVID-19 deaths=%{customdata[1]}<br>Excess deaths=%{customdata[2]}<br>Excess per 100k=%{customdata[3]}<extra></extra>\",\"hovertext\":[\"Lithuania\"],\"legendgroup\":\"Lithuania\",\"locations\":[\"LTU\"],\"marker\":{\"color\":\"#19d3f3\",\"size\":[875.4],\"sizemode\":\"area\",\"sizeref\":2.5185,\"symbol\":\"circle\"},\"mode\":\"markers\",\"name\":\"Lithuania\",\"showlegend\":true,\"type\":\"scattergeo\"},{\"customdata\":[[\"Luxembourg\",1190,-29,-4.6]],\"geo\":\"geo\",\"hovertemplate\":\"<b>%{hovertext}</b><br><br>Country=%{customdata[0]}<br>size=%{marker.size}<br>iso3c=%{location}<br>COVID-19 deaths=%{customdata[1]}<br>Excess deaths=%{customdata[2]}<br>Excess per 100k=%{customdata[3]}<extra></extra>\",\"hovertext\":[\"Luxembourg\"],\"legendgroup\":\"Luxembourg\",\"locations\":[\"LUX\"],\"marker\":{\"color\":\"#FF6692\",\"size\":[1.0],\"sizemode\":\"area\",\"sizeref\":2.5185,\"symbol\":\"circle\"},\"mode\":\"markers\",\"name\":\"Luxembourg\",\"showlegend\":true,\"type\":\"scattergeo\"},{\"customdata\":[[\"Macao\",47,1217,187.4]],\"geo\":\"geo\",\"hovertemplate\":\"<b>%{hovertext}</b><br><br>Country=%{customdata[0]}<br>size=%{marker.size}<br>iso3c=%{location}<br>COVID-19 deaths=%{customdata[1]}<br>Excess deaths=%{customdata[2]}<br>Excess per 100k=%{customdata[3]}<extra></extra>\",\"hovertext\":[\"Macao\"],\"legendgroup\":\"Macao\",\"locations\":[\"MAC\"],\"marker\":{\"color\":\"#B6E880\",\"size\":[187.4],\"sizemode\":\"area\",\"sizeref\":2.5185,\"symbol\":\"circle\"},\"mode\":\"markers\",\"name\":\"Macao\",\"showlegend\":true,\"type\":\"scattergeo\"},{\"customdata\":[[\"Malaysia\",36369,34657,107.1]],\"geo\":\"geo\",\"hovertemplate\":\"<b>%{hovertext}</b><br><br>Country=%{customdata[0]}<br>size=%{marker.size}<br>iso3c=%{location}<br>COVID-19 deaths=%{customdata[1]}<br>Excess deaths=%{customdata[2]}<br>Excess per 100k=%{customdata[3]}<extra></extra>\",\"hovertext\":[\"Malaysia\"],\"legendgroup\":\"Malaysia\",\"locations\":[\"MYS\"],\"marker\":{\"color\":\"#FF97FF\",\"size\":[107.1],\"sizemode\":\"area\",\"sizeref\":2.5185,\"symbol\":\"circle\"},\"mode\":\"markers\",\"name\":\"Malaysia\",\"showlegend\":true,\"type\":\"scattergeo\"},{\"customdata\":[[\"Maldives\",262,603,111.6]],\"geo\":\"geo\",\"hovertemplate\":\"<b>%{hovertext}</b><br><br>Country=%{customdata[0]}<br>size=%{marker.size}<br>iso3c=%{location}<br>COVID-19 deaths=%{customdata[1]}<br>Excess deaths=%{customdata[2]}<br>Excess per 100k=%{customdata[3]}<extra></extra>\",\"hovertext\":[\"Maldives\"],\"legendgroup\":\"Maldives\",\"locations\":[\"MDV\"],\"marker\":{\"color\":\"#FECB52\",\"size\":[111.6],\"sizemode\":\"area\",\"sizeref\":2.5185,\"symbol\":\"circle\"},\"mode\":\"markers\",\"name\":\"Maldives\",\"showlegend\":true,\"type\":\"scattergeo\"},{\"customdata\":[[\"Malta\",821,820,185.8]],\"geo\":\"geo\",\"hovertemplate\":\"<b>%{hovertext}</b><br><br>Country=%{customdata[0]}<br>size=%{marker.size}<br>iso3c=%{location}<br>COVID-19 deaths=%{customdata[1]}<br>Excess deaths=%{customdata[2]}<br>Excess per 100k=%{customdata[3]}<extra></extra>\",\"hovertext\":[\"Malta\"],\"legendgroup\":\"Malta\",\"locations\":[\"MLT\"],\"marker\":{\"color\":\"#636efa\",\"size\":[185.8],\"sizemode\":\"area\",\"sizeref\":2.5185,\"symbol\":\"circle\"},\"mode\":\"markers\",\"name\":\"Malta\",\"showlegend\":true,\"type\":\"scattergeo\"},{\"customdata\":[[\"Martinique\",1086,1353,360.6]],\"geo\":\"geo\",\"hovertemplate\":\"<b>%{hovertext}</b><br><br>Country=%{customdata[0]}<br>size=%{marker.size}<br>iso3c=%{location}<br>COVID-19 deaths=%{customdata[1]}<br>Excess deaths=%{customdata[2]}<br>Excess per 100k=%{customdata[3]}<extra></extra>\",\"hovertext\":[\"Martinique\"],\"legendgroup\":\"Martinique\",\"locations\":[\"MTQ\"],\"marker\":{\"color\":\"#EF553B\",\"size\":[360.6],\"sizemode\":\"area\",\"sizeref\":2.5185,\"symbol\":\"circle\"},\"mode\":\"markers\",\"name\":\"Martinique\",\"showlegend\":true,\"type\":\"scattergeo\"},{\"customdata\":[[\"Mauritius\",1004,1768,139.0]],\"geo\":\"geo\",\"hovertemplate\":\"<b>%{hovertext}</b><br><br>Country=%{customdata[0]}<br>size=%{marker.size}<br>iso3c=%{location}<br>COVID-19 deaths=%{customdata[1]}<br>Excess deaths=%{customdata[2]}<br>Excess per 100k=%{customdata[3]}<extra></extra>\",\"hovertext\":[\"Mauritius\"],\"legendgroup\":\"Mauritius\",\"locations\":[\"MUS\"],\"marker\":{\"color\":\"#00cc96\",\"size\":[139.0],\"sizemode\":\"area\",\"sizeref\":2.5185,\"symbol\":\"circle\"},\"mode\":\"markers\",\"name\":\"Mauritius\",\"showlegend\":true,\"type\":\"scattergeo\"},{\"customdata\":[[\"Mayotte\",187,478,175.4]],\"geo\":\"geo\",\"hovertemplate\":\"<b>%{hovertext}</b><br><br>Country=%{customdata[0]}<br>size=%{marker.size}<br>iso3c=%{location}<br>COVID-19 deaths=%{customdata[1]}<br>Excess deaths=%{customdata[2]}<br>Excess per 100k=%{customdata[3]}<extra></extra>\",\"hovertext\":[\"Mayotte\"],\"legendgroup\":\"Mayotte\",\"locations\":[\"MYT\"],\"marker\":{\"color\":\"#ab63fa\",\"size\":[175.4],\"sizemode\":\"area\",\"sizeref\":2.5185,\"symbol\":\"circle\"},\"mode\":\"markers\",\"name\":\"Mayotte\",\"showlegend\":true,\"type\":\"scattergeo\"},{\"customdata\":[[\"Mexico\",331409,650981,504.9]],\"geo\":\"geo\",\"hovertemplate\":\"<b>%{hovertext}</b><br><br>Country=%{customdata[0]}<br>size=%{marker.size}<br>iso3c=%{location}<br>COVID-19 deaths=%{customdata[1]}<br>Excess deaths=%{customdata[2]}<br>Excess per 100k=%{customdata[3]}<extra></extra>\",\"hovertext\":[\"Mexico\"],\"legendgroup\":\"Mexico\",\"locations\":[\"MEX\"],\"marker\":{\"color\":\"#FFA15A\",\"size\":[504.9],\"sizemode\":\"area\",\"sizeref\":2.5185,\"symbol\":\"circle\"},\"mode\":\"markers\",\"name\":\"Mexico\",\"showlegend\":true,\"type\":\"scattergeo\"},{\"customdata\":[[\"Moldova\",11844,18415,456.5]],\"geo\":\"geo\",\"hovertemplate\":\"<b>%{hovertext}</b><br><br>Country=%{customdata[0]}<br>size=%{marker.size}<br>iso3c=%{location}<br>COVID-19 deaths=%{customdata[1]}<br>Excess deaths=%{customdata[2]}<br>Excess per 100k=%{customdata[3]}<extra></extra>\",\"hovertext\":[\"Moldova\"],\"legendgroup\":\"Moldova\",\"locations\":[\"MDA\"],\"marker\":{\"color\":\"#19d3f3\",\"size\":[456.5],\"sizemode\":\"area\",\"sizeref\":2.5185,\"symbol\":\"circle\"},\"mode\":\"markers\",\"name\":\"Moldova\",\"showlegend\":true,\"type\":\"scattergeo\"},{\"customdata\":[[\"Monaco\",63,184,468.2]],\"geo\":\"geo\",\"hovertemplate\":\"<b>%{hovertext}</b><br><br>Country=%{customdata[0]}<br>size=%{marker.size}<br>iso3c=%{location}<br>COVID-19 deaths=%{customdata[1]}<br>Excess deaths=%{customdata[2]}<br>Excess per 100k=%{customdata[3]}<extra></extra>\",\"hovertext\":[\"Monaco\"],\"legendgroup\":\"Monaco\",\"locations\":[\"MCO\"],\"marker\":{\"color\":\"#FF6692\",\"size\":[468.2],\"sizemode\":\"area\",\"sizeref\":2.5185,\"symbol\":\"circle\"},\"mode\":\"markers\",\"name\":\"Monaco\",\"showlegend\":true,\"type\":\"scattergeo\"},{\"customdata\":[[\"Mongolia\",2136,785,23.9]],\"geo\":\"geo\",\"hovertemplate\":\"<b>%{hovertext}</b><br><br>Country=%{customdata[0]}<br>size=%{marker.size}<br>iso3c=%{location}<br>COVID-19 deaths=%{customdata[1]}<br>Excess deaths=%{customdata[2]}<br>Excess per 100k=%{customdata[3]}<extra></extra>\",\"hovertext\":[\"Mongolia\"],\"legendgroup\":\"Mongolia\",\"locations\":[\"MNG\"],\"marker\":{\"color\":\"#B6E880\",\"size\":[23.9],\"sizemode\":\"area\",\"sizeref\":2.5185,\"symbol\":\"circle\"},\"mode\":\"markers\",\"name\":\"Mongolia\",\"showlegend\":true,\"type\":\"scattergeo\"},{\"customdata\":[[\"Montenegro\",2770,3617,575.9]],\"geo\":\"geo\",\"hovertemplate\":\"<b>%{hovertext}</b><br><br>Country=%{customdata[0]}<br>size=%{marker.size}<br>iso3c=%{location}<br>COVID-19 deaths=%{customdata[1]}<br>Excess deaths=%{customdata[2]}<br>Excess per 100k=%{customdata[3]}<extra></extra>\",\"hovertext\":[\"Montenegro\"],\"legendgroup\":\"Montenegro\",\"locations\":[\"MNE\"],\"marker\":{\"color\":\"#FF97FF\",\"size\":[575.9],\"sizemode\":\"area\",\"sizeref\":2.5185,\"symbol\":\"circle\"},\"mode\":\"markers\",\"name\":\"Montenegro\",\"showlegend\":true,\"type\":\"scattergeo\"},{\"customdata\":[[\"Netherlands\",22992,43402,253.3]],\"geo\":\"geo\",\"hovertemplate\":\"<b>%{hovertext}</b><br><br>Country=%{customdata[0]}<br>size=%{marker.size}<br>iso3c=%{location}<br>COVID-19 deaths=%{customdata[1]}<br>Excess deaths=%{customdata[2]}<br>Excess per 100k=%{customdata[3]}<extra></extra>\",\"hovertext\":[\"Netherlands\"],\"legendgroup\":\"Netherlands\",\"locations\":[\"NLD\"],\"marker\":{\"color\":\"#FECB52\",\"size\":[253.3],\"sizemode\":\"area\",\"sizeref\":2.5185,\"symbol\":\"circle\"},\"mode\":\"markers\",\"name\":\"Netherlands\",\"showlegend\":true,\"type\":\"scattergeo\"},{\"customdata\":[[\"New Caledonia\",281,201,70.5]],\"geo\":\"geo\",\"hovertemplate\":\"<b>%{hovertext}</b><br><br>Country=%{customdata[0]}<br>size=%{marker.size}<br>iso3c=%{location}<br>COVID-19 deaths=%{customdata[1]}<br>Excess deaths=%{customdata[2]}<br>Excess per 100k=%{customdata[3]}<extra></extra>\",\"hovertext\":[\"New Caledonia\"],\"legendgroup\":\"New Caledonia\",\"locations\":[\"NCL\"],\"marker\":{\"color\":\"#636efa\",\"size\":[70.5],\"sizemode\":\"area\",\"sizeref\":2.5185,\"symbol\":\"circle\"},\"mode\":\"markers\",\"name\":\"New Caledonia\",\"showlegend\":true,\"type\":\"scattergeo\"},{\"customdata\":[[\"New Zealand\",2393,-330,-6.9]],\"geo\":\"geo\",\"hovertemplate\":\"<b>%{hovertext}</b><br><br>Country=%{customdata[0]}<br>size=%{marker.size}<br>iso3c=%{location}<br>COVID-19 deaths=%{customdata[1]}<br>Excess deaths=%{customdata[2]}<br>Excess per 100k=%{customdata[3]}<extra></extra>\",\"hovertext\":[\"New Zealand\"],\"legendgroup\":\"New Zealand\",\"locations\":[\"NZL\"],\"marker\":{\"color\":\"#EF553B\",\"size\":[1.0],\"sizemode\":\"area\",\"sizeref\":2.5185,\"symbol\":\"circle\"},\"mode\":\"markers\",\"name\":\"New Zealand\",\"showlegend\":true,\"type\":\"scattergeo\"},{\"customdata\":[[\"Nicaragua\",217,17235,260.2]],\"geo\":\"geo\",\"hovertemplate\":\"<b>%{hovertext}</b><br><br>Country=%{customdata[0]}<br>size=%{marker.size}<br>iso3c=%{location}<br>COVID-19 deaths=%{customdata[1]}<br>Excess deaths=%{customdata[2]}<br>Excess per 100k=%{customdata[3]}<extra></extra>\",\"hovertext\":[\"Nicaragua\"],\"legendgroup\":\"Nicaragua\",\"locations\":[\"NIC\"],\"marker\":{\"color\":\"#00cc96\",\"size\":[260.2],\"sizemode\":\"area\",\"sizeref\":2.5185,\"symbol\":\"circle\"},\"mode\":\"markers\",\"name\":\"Nicaragua\",\"showlegend\":true,\"type\":\"scattergeo\"},{\"customdata\":[[\"North Macedonia\",9591,16869,809.7]],\"geo\":\"geo\",\"hovertemplate\":\"<b>%{hovertext}</b><br><br>Country=%{customdata[0]}<br>size=%{marker.size}<br>iso3c=%{location}<br>COVID-19 deaths=%{customdata[1]}<br>Excess deaths=%{customdata[2]}<br>Excess per 100k=%{customdata[3]}<extra></extra>\",\"hovertext\":[\"North Macedonia\"],\"legendgroup\":\"North Macedonia\",\"locations\":[\"MKD\"],\"marker\":{\"color\":\"#ab63fa\",\"size\":[809.7],\"sizemode\":\"area\",\"sizeref\":2.5185,\"symbol\":\"circle\"},\"mode\":\"markers\",\"name\":\"North Macedonia\",\"showlegend\":true,\"type\":\"scattergeo\"},{\"customdata\":[[\"Norway\",5113,6800,125.4]],\"geo\":\"geo\",\"hovertemplate\":\"<b>%{hovertext}</b><br><br>Country=%{customdata[0]}<br>size=%{marker.size}<br>iso3c=%{location}<br>COVID-19 deaths=%{customdata[1]}<br>Excess deaths=%{customdata[2]}<br>Excess per 100k=%{customdata[3]}<extra></extra>\",\"hovertext\":[\"Norway\"],\"legendgroup\":\"Norway\",\"locations\":[\"NOR\"],\"marker\":{\"color\":\"#FFA15A\",\"size\":[125.4],\"sizemode\":\"area\",\"sizeref\":2.5185,\"symbol\":\"circle\"},\"mode\":\"markers\",\"name\":\"Norway\",\"showlegend\":true,\"type\":\"scattergeo\"},{\"customdata\":[[\"Oman\",4628,4243,83.1]],\"geo\":\"geo\",\"hovertemplate\":\"<b>%{hovertext}</b><br><br>Country=%{customdata[0]}<br>size=%{marker.size}<br>iso3c=%{location}<br>COVID-19 deaths=%{customdata[1]}<br>Excess deaths=%{customdata[2]}<br>Excess per 100k=%{customdata[3]}<extra></extra>\",\"hovertext\":[\"Oman\"],\"legendgroup\":\"Oman\",\"locations\":[\"OMN\"],\"marker\":{\"color\":\"#19d3f3\",\"size\":[83.1],\"sizemode\":\"area\",\"sizeref\":2.5185,\"symbol\":\"circle\"},\"mode\":\"markers\",\"name\":\"Oman\",\"showlegend\":true,\"type\":\"scattergeo\"},{\"customdata\":[[\"Palestine\",4934,4714,92.4]],\"geo\":\"geo\",\"hovertemplate\":\"<b>%{hovertext}</b><br><br>Country=%{customdata[0]}<br>size=%{marker.size}<br>iso3c=%{location}<br>COVID-19 deaths=%{customdata[1]}<br>Excess deaths=%{customdata[2]}<br>Excess per 100k=%{customdata[3]}<extra></extra>\",\"hovertext\":[\"Palestine\"],\"legendgroup\":\"Palestine\",\"locations\":[\"PSE\"],\"marker\":{\"color\":\"#FF6692\",\"size\":[92.4],\"sizemode\":\"area\",\"sizeref\":2.5185,\"symbol\":\"circle\"},\"mode\":\"markers\",\"name\":\"Palestine\",\"showlegend\":true,\"type\":\"scattergeo\"},{\"customdata\":[[\"Panama\",7315,7312,169.5]],\"geo\":\"geo\",\"hovertemplate\":\"<b>%{hovertext}</b><br><br>Country=%{customdata[0]}<br>size=%{marker.size}<br>iso3c=%{location}<br>COVID-19 deaths=%{customdata[1]}<br>Excess deaths=%{customdata[2]}<br>Excess per 100k=%{customdata[3]}<extra></extra>\",\"hovertext\":[\"Panama\"],\"legendgroup\":\"Panama\",\"locations\":[\"PAN\"],\"marker\":{\"color\":\"#B6E880\",\"size\":[169.5],\"sizemode\":\"area\",\"sizeref\":2.5185,\"symbol\":\"circle\"},\"mode\":\"markers\",\"name\":\"Panama\",\"showlegend\":true,\"type\":\"scattergeo\"},{\"customdata\":[[\"Paraguay\",19688,24850,348.4]],\"geo\":\"geo\",\"hovertemplate\":\"<b>%{hovertext}</b><br><br>Country=%{customdata[0]}<br>size=%{marker.size}<br>iso3c=%{location}<br>COVID-19 deaths=%{customdata[1]}<br>Excess deaths=%{customdata[2]}<br>Excess per 100k=%{customdata[3]}<extra></extra>\",\"hovertext\":[\"Paraguay\"],\"legendgroup\":\"Paraguay\",\"locations\":[\"PRY\"],\"marker\":{\"color\":\"#FF97FF\",\"size\":[348.4],\"sizemode\":\"area\",\"sizeref\":2.5185,\"symbol\":\"circle\"},\"mode\":\"markers\",\"name\":\"Paraguay\",\"showlegend\":true,\"type\":\"scattergeo\"},{\"customdata\":[[\"Peru\",216727,188297,571.1]],\"geo\":\"geo\",\"hovertemplate\":\"<b>%{hovertext}</b><br><br>Country=%{customdata[0]}<br>size=%{marker.size}<br>iso3c=%{location}<br>COVID-19 deaths=%{customdata[1]}<br>Excess deaths=%{customdata[2]}<br>Excess per 100k=%{customdata[3]}<extra></extra>\",\"hovertext\":[\"Peru\"],\"legendgroup\":\"Peru\",\"locations\":[\"PER\"],\"marker\":{\"color\":\"#FECB52\",\"size\":[571.1],\"sizemode\":\"area\",\"sizeref\":2.5185,\"symbol\":\"circle\"},\"mode\":\"markers\",\"name\":\"Peru\",\"showlegend\":true,\"type\":\"scattergeo\"},{\"customdata\":[[\"Philippines\",60727,239431,218.5]],\"geo\":\"geo\",\"hovertemplate\":\"<b>%{hovertext}</b><br><br>Country=%{customdata[0]}<br>size=%{marker.size}<br>iso3c=%{location}<br>COVID-19 deaths=%{customdata[1]}<br>Excess deaths=%{customdata[2]}<br>Excess per 100k=%{customdata[3]}<extra></extra>\",\"hovertext\":[\"Philippines\"],\"legendgroup\":\"Philippines\",\"locations\":[\"PHL\"],\"marker\":{\"color\":\"#636efa\",\"size\":[218.5],\"sizemode\":\"area\",\"sizeref\":2.5185,\"symbol\":\"circle\"},\"mode\":\"markers\",\"name\":\"Philippines\",\"showlegend\":true,\"type\":\"scattergeo\"},{\"customdata\":[[\"Poland\",118715,181610,479.9]],\"geo\":\"geo\",\"hovertemplate\":\"<b>%{hovertext}</b><br><br>Country=%{customdata[0]}<br>size=%{marker.size}<br>iso3c=%{location}<br>COVID-19 deaths=%{customdata[1]}<br>Excess deaths=%{customdata[2]}<br>Excess per 100k=%{customdata[3]}<extra></extra>\",\"hovertext\":[\"Poland\"],\"legendgroup\":\"Poland\",\"locations\":[\"POL\"],\"marker\":{\"color\":\"#EF553B\",\"size\":[479.9],\"sizemode\":\"area\",\"sizeref\":2.5185,\"symbol\":\"circle\"},\"mode\":\"markers\",\"name\":\"Poland\",\"showlegend\":true,\"type\":\"scattergeo\"},{\"customdata\":[[\"Portugal\",25797,32280,316.6]],\"geo\":\"geo\",\"hovertemplate\":\"<b>%{hovertext}</b><br><br>Country=%{customdata[0]}<br>size=%{marker.size}<br>iso3c=%{location}<br>COVID-19 deaths=%{customdata[1]}<br>Excess deaths=%{customdata[2]}<br>Excess per 100k=%{customdata[3]}<extra></extra>\",\"hovertext\":[\"Portugal\"],\"legendgroup\":\"Portugal\",\"locations\":[\"PRT\"],\"marker\":{\"color\":\"#00cc96\",\"size\":[316.6],\"sizemode\":\"area\",\"sizeref\":2.5185,\"symbol\":\"circle\"},\"mode\":\"markers\",\"name\":\"Portugal\",\"showlegend\":true,\"type\":\"scattergeo\"},{\"customdata\":[[\"Puerto Rico\",5575,9936,347.3]],\"geo\":\"geo\",\"hovertemplate\":\"<b>%{hovertext}</b><br><br>Country=%{customdata[0]}<br>size=%{marker.size}<br>iso3c=%{location}<br>COVID-19 deaths=%{customdata[1]}<br>Excess deaths=%{customdata[2]}<br>Excess per 100k=%{customdata[3]}<extra></extra>\",\"hovertext\":[\"Puerto Rico\"],\"legendgroup\":\"Puerto Rico\",\"locations\":[\"PRI\"],\"marker\":{\"color\":\"#ab63fa\",\"size\":[347.3],\"sizemode\":\"area\",\"sizeref\":2.5185,\"symbol\":\"circle\"},\"mode\":\"markers\",\"name\":\"Puerto Rico\",\"showlegend\":true,\"type\":\"scattergeo\"},{\"customdata\":[[\"Qatar\",685,1386,48.1]],\"geo\":\"geo\",\"hovertemplate\":\"<b>%{hovertext}</b><br><br>Country=%{customdata[0]}<br>size=%{marker.size}<br>iso3c=%{location}<br>COVID-19 deaths=%{customdata[1]}<br>Excess deaths=%{customdata[2]}<br>Excess per 100k=%{customdata[3]}<extra></extra>\",\"hovertext\":[\"Qatar\"],\"legendgroup\":\"Qatar\",\"locations\":[\"QAT\"],\"marker\":{\"color\":\"#FFA15A\",\"size\":[48.1],\"sizemode\":\"area\",\"sizeref\":2.5185,\"symbol\":\"circle\"},\"mode\":\"markers\",\"name\":\"Qatar\",\"showlegend\":true,\"type\":\"scattergeo\"},{\"customdata\":[[\"Romania\",67341,122920,639.0]],\"geo\":\"geo\",\"hovertemplate\":\"<b>%{hovertext}</b><br><br>Country=%{customdata[0]}<br>size=%{marker.size}<br>iso3c=%{location}<br>COVID-19 deaths=%{customdata[1]}<br>Excess deaths=%{customdata[2]}<br>Excess per 100k=%{customdata[3]}<extra></extra>\",\"hovertext\":[\"Romania\"],\"legendgroup\":\"Romania\",\"locations\":[\"ROU\"],\"marker\":{\"color\":\"#19d3f3\",\"size\":[639.0],\"sizemode\":\"area\",\"sizeref\":2.5185,\"symbol\":\"circle\"},\"mode\":\"markers\",\"name\":\"Romania\",\"showlegend\":true,\"type\":\"scattergeo\"},{\"customdata\":[[\"Russia\",393762,1275102,868.9]],\"geo\":\"geo\",\"hovertemplate\":\"<b>%{hovertext}</b><br><br>Country=%{customdata[0]}<br>size=%{marker.size}<br>iso3c=%{location}<br>COVID-19 deaths=%{customdata[1]}<br>Excess deaths=%{customdata[2]}<br>Excess per 100k=%{customdata[3]}<extra></extra>\",\"hovertext\":[\"Russia\"],\"legendgroup\":\"Russia\",\"locations\":[\"RUS\"],\"marker\":{\"color\":\"#FF6692\",\"size\":[868.9],\"sizemode\":\"area\",\"sizeref\":2.5185,\"symbol\":\"circle\"},\"mode\":\"markers\",\"name\":\"Russia\",\"showlegend\":true,\"type\":\"scattergeo\"},{\"customdata\":[[\"R\\u00e9union\",915,1188,132.7]],\"geo\":\"geo\",\"hovertemplate\":\"<b>%{hovertext}</b><br><br>Country=%{customdata[0]}<br>size=%{marker.size}<br>iso3c=%{location}<br>COVID-19 deaths=%{customdata[1]}<br>Excess deaths=%{customdata[2]}<br>Excess per 100k=%{customdata[3]}<extra></extra>\",\"hovertext\":[\"R\\u00e9union\"],\"legendgroup\":\"R\\u00e9union\",\"locations\":[\"REU\"],\"marker\":{\"color\":\"#B6E880\",\"size\":[132.7],\"sizemode\":\"area\",\"sizeref\":2.5185,\"symbol\":\"circle\"},\"mode\":\"markers\",\"name\":\"R\\u00e9union\",\"showlegend\":true,\"type\":\"scattergeo\"},{\"customdata\":[[\"Saint Kitts and Nevis\",46,190,357.5]],\"geo\":\"geo\",\"hovertemplate\":\"<b>%{hovertext}</b><br><br>Country=%{customdata[0]}<br>size=%{marker.size}<br>iso3c=%{location}<br>COVID-19 deaths=%{customdata[1]}<br>Excess deaths=%{customdata[2]}<br>Excess per 100k=%{customdata[3]}<extra></extra>\",\"hovertext\":[\"Saint Kitts and Nevis\"],\"legendgroup\":\"Saint Kitts and Nevis\",\"locations\":[\"KNA\"],\"marker\":{\"color\":\"#FF97FF\",\"size\":[357.5],\"sizemode\":\"area\",\"sizeref\":2.5185,\"symbol\":\"circle\"},\"mode\":\"markers\",\"name\":\"Saint Kitts and Nevis\",\"showlegend\":true,\"type\":\"scattergeo\"},{\"customdata\":[[\"Saint Vincent and the Grenadines\",83,123,110.5]],\"geo\":\"geo\",\"hovertemplate\":\"<b>%{hovertext}</b><br><br>Country=%{customdata[0]}<br>size=%{marker.size}<br>iso3c=%{location}<br>COVID-19 deaths=%{customdata[1]}<br>Excess deaths=%{customdata[2]}<br>Excess per 100k=%{customdata[3]}<extra></extra>\",\"hovertext\":[\"Saint Vincent and the Grenadines\"],\"legendgroup\":\"Saint Vincent and the Grenadines\",\"locations\":[\"VCT\"],\"marker\":{\"color\":\"#FECB52\",\"size\":[110.5],\"sizemode\":\"area\",\"sizeref\":2.5185,\"symbol\":\"circle\"},\"mode\":\"markers\",\"name\":\"Saint Vincent and the Grenadines\",\"showlegend\":true,\"type\":\"scattergeo\"},{\"customdata\":[[\"San Marino\",121,132,388.8]],\"geo\":\"geo\",\"hovertemplate\":\"<b>%{hovertext}</b><br><br>Country=%{customdata[0]}<br>size=%{marker.size}<br>iso3c=%{location}<br>COVID-19 deaths=%{customdata[1]}<br>Excess deaths=%{customdata[2]}<br>Excess per 100k=%{customdata[3]}<extra></extra>\",\"hovertext\":[\"San Marino\"],\"legendgroup\":\"San Marino\",\"locations\":[\"SMR\"],\"marker\":{\"color\":\"#636efa\",\"size\":[388.8],\"sizemode\":\"area\",\"sizeref\":2.5185,\"symbol\":\"circle\"},\"mode\":\"markers\",\"name\":\"San Marino\",\"showlegend\":true,\"type\":\"scattergeo\"},{\"customdata\":[[\"Serbia\",17521,61551,893.1]],\"geo\":\"geo\",\"hovertemplate\":\"<b>%{hovertext}</b><br><br>Country=%{customdata[0]}<br>size=%{marker.size}<br>iso3c=%{location}<br>COVID-19 deaths=%{customdata[1]}<br>Excess deaths=%{customdata[2]}<br>Excess per 100k=%{customdata[3]}<extra></extra>\",\"hovertext\":[\"Serbia\"],\"legendgroup\":\"Serbia\",\"locations\":[\"SRB\"],\"marker\":{\"color\":\"#EF553B\",\"size\":[893.1],\"sizemode\":\"area\",\"sizeref\":2.5185,\"symbol\":\"circle\"},\"mode\":\"markers\",\"name\":\"Serbia\",\"showlegend\":true,\"type\":\"scattergeo\"},{\"customdata\":[[\"Seychelles\",126,-102,-103.9]],\"geo\":\"geo\",\"hovertemplate\":\"<b>%{hovertext}</b><br><br>Country=%{customdata[0]}<br>size=%{marker.size}<br>iso3c=%{location}<br>COVID-19 deaths=%{customdata[1]}<br>Excess deaths=%{customdata[2]}<br>Excess per 100k=%{customdata[3]}<extra></extra>\",\"hovertext\":[\"Seychelles\"],\"legendgroup\":\"Seychelles\",\"locations\":[\"SYC\"],\"marker\":{\"color\":\"#00cc96\",\"size\":[1.0],\"sizemode\":\"area\",\"sizeref\":2.5185,\"symbol\":\"circle\"},\"mode\":\"markers\",\"name\":\"Seychelles\",\"showlegend\":true,\"type\":\"scattergeo\"},{\"customdata\":[[\"Singapore\",1617,4410,75.4]],\"geo\":\"geo\",\"hovertemplate\":\"<b>%{hovertext}</b><br><br>Country=%{customdata[0]}<br>size=%{marker.size}<br>iso3c=%{location}<br>COVID-19 deaths=%{customdata[1]}<br>Excess deaths=%{customdata[2]}<br>Excess per 100k=%{customdata[3]}<extra></extra>\",\"hovertext\":[\"Singapore\"],\"legendgroup\":\"Singapore\",\"locations\":[\"SGP\"],\"marker\":{\"color\":\"#ab63fa\",\"size\":[75.4],\"sizemode\":\"area\",\"sizeref\":2.5185,\"symbol\":\"circle\"},\"mode\":\"markers\",\"name\":\"Singapore\",\"showlegend\":true,\"type\":\"scattergeo\"},{\"customdata\":[[\"Slovakia\",20783,29830,546.4]],\"geo\":\"geo\",\"hovertemplate\":\"<b>%{hovertext}</b><br><br>Country=%{customdata[0]}<br>size=%{marker.size}<br>iso3c=%{location}<br>COVID-19 deaths=%{customdata[1]}<br>Excess deaths=%{customdata[2]}<br>Excess per 100k=%{customdata[3]}<extra></extra>\",\"hovertext\":[\"Slovakia\"],\"legendgroup\":\"Slovakia\",\"locations\":[\"SVK\"],\"marker\":{\"color\":\"#FFA15A\",\"size\":[546.4],\"sizemode\":\"area\",\"sizeref\":2.5185,\"symbol\":\"circle\"},\"mode\":\"markers\",\"name\":\"Slovakia\",\"showlegend\":true,\"type\":\"scattergeo\"},{\"customdata\":[[\"Slovenia\",9035,6394,307.6]],\"geo\":\"geo\",\"hovertemplate\":\"<b>%{hovertext}</b><br><br>Country=%{customdata[0]}<br>size=%{marker.size}<br>iso3c=%{location}<br>COVID-19 deaths=%{customdata[1]}<br>Excess deaths=%{customdata[2]}<br>Excess per 100k=%{customdata[3]}<extra></extra>\",\"hovertext\":[\"Slovenia\"],\"legendgroup\":\"Slovenia\",\"locations\":[\"SVN\"],\"marker\":{\"color\":\"#19d3f3\",\"size\":[307.6],\"sizemode\":\"area\",\"sizeref\":2.5185,\"symbol\":\"circle\"},\"mode\":\"markers\",\"name\":\"Slovenia\",\"showlegend\":true,\"type\":\"scattergeo\"},{\"customdata\":[[\"South Africa\",102550,284509,479.7]],\"geo\":\"geo\",\"hovertemplate\":\"<b>%{hovertext}</b><br><br>Country=%{customdata[0]}<br>size=%{marker.size}<br>iso3c=%{location}<br>COVID-19 deaths=%{customdata[1]}<br>Excess deaths=%{customdata[2]}<br>Excess per 100k=%{customdata[3]}<extra></extra>\",\"hovertext\":[\"South Africa\"],\"legendgroup\":\"South Africa\",\"locations\":[\"ZAF\"],\"marker\":{\"color\":\"#FF6692\",\"size\":[479.7],\"sizemode\":\"area\",\"sizeref\":2.5185,\"symbol\":\"circle\"},\"mode\":\"markers\",\"name\":\"South Africa\",\"showlegend\":true,\"type\":\"scattergeo\"},{\"customdata\":[[\"South Korea\",25047,42976,83.8]],\"geo\":\"geo\",\"hovertemplate\":\"<b>%{hovertext}</b><br><br>Country=%{customdata[0]}<br>size=%{marker.size}<br>iso3c=%{location}<br>COVID-19 deaths=%{customdata[1]}<br>Excess deaths=%{customdata[2]}<br>Excess per 100k=%{customdata[3]}<extra></extra>\",\"hovertext\":[\"South Korea\"],\"legendgroup\":\"South Korea\",\"locations\":[\"KOR\"],\"marker\":{\"color\":\"#B6E880\",\"size\":[83.8],\"sizemode\":\"area\",\"sizeref\":2.5185,\"symbol\":\"circle\"},\"mode\":\"markers\",\"name\":\"South Korea\",\"showlegend\":true,\"type\":\"scattergeo\"},{\"customdata\":[[\"Spain\",117702,143826,307.6]],\"geo\":\"geo\",\"hovertemplate\":\"<b>%{hovertext}</b><br><br>Country=%{customdata[0]}<br>size=%{marker.size}<br>iso3c=%{location}<br>COVID-19 deaths=%{customdata[1]}<br>Excess deaths=%{customdata[2]}<br>Excess per 100k=%{customdata[3]}<extra></extra>\",\"hovertext\":[\"Spain\"],\"legendgroup\":\"Spain\",\"locations\":[\"ESP\"],\"marker\":{\"color\":\"#FF97FF\",\"size\":[307.6],\"sizemode\":\"area\",\"sizeref\":2.5185,\"symbol\":\"circle\"},\"mode\":\"markers\",\"name\":\"Spain\",\"showlegend\":true,\"type\":\"scattergeo\"},{\"customdata\":[[\"Suriname\",121,43,7.3]],\"geo\":\"geo\",\"hovertemplate\":\"<b>%{hovertext}</b><br><br>Country=%{customdata[0]}<br>size=%{marker.size}<br>iso3c=%{location}<br>COVID-19 deaths=%{customdata[1]}<br>Excess deaths=%{customdata[2]}<br>Excess per 100k=%{customdata[3]}<extra></extra>\",\"hovertext\":[\"Suriname\"],\"legendgroup\":\"Suriname\",\"locations\":[\"SUR\"],\"marker\":{\"color\":\"#FECB52\",\"size\":[7.3],\"sizemode\":\"area\",\"sizeref\":2.5185,\"symbol\":\"circle\"},\"mode\":\"markers\",\"name\":\"Suriname\",\"showlegend\":true,\"type\":\"scattergeo\"},{\"customdata\":[[\"Sweden\",21623,14863,147.2]],\"geo\":\"geo\",\"hovertemplate\":\"<b>%{hovertext}</b><br><br>Country=%{customdata[0]}<br>size=%{marker.size}<br>iso3c=%{location}<br>COVID-19 deaths=%{customdata[1]}<br>Excess deaths=%{customdata[2]}<br>Excess per 100k=%{customdata[3]}<extra></extra>\",\"hovertext\":[\"Sweden\"],\"legendgroup\":\"Sweden\",\"locations\":[\"SWE\"],\"marker\":{\"color\":\"#636efa\",\"size\":[147.2],\"sizemode\":\"area\",\"sizeref\":2.5185,\"symbol\":\"circle\"},\"mode\":\"markers\",\"name\":\"Sweden\",\"showlegend\":true,\"type\":\"scattergeo\"},{\"customdata\":[[\"Switzerland\",13903,18268,211.1]],\"geo\":\"geo\",\"hovertemplate\":\"<b>%{hovertext}</b><br><br>Country=%{customdata[0]}<br>size=%{marker.size}<br>iso3c=%{location}<br>COVID-19 deaths=%{customdata[1]}<br>Excess deaths=%{customdata[2]}<br>Excess per 100k=%{customdata[3]}<extra></extra>\",\"hovertext\":[\"Switzerland\"],\"legendgroup\":\"Switzerland\",\"locations\":[\"CHE\"],\"marker\":{\"color\":\"#EF553B\",\"size\":[211.1],\"sizemode\":\"area\",\"sizeref\":2.5185,\"symbol\":\"circle\"},\"mode\":\"markers\",\"name\":\"Switzerland\",\"showlegend\":true,\"type\":\"scattergeo\"},{\"customdata\":[[\"Taiwan\",16356,20802,87.3]],\"geo\":\"geo\",\"hovertemplate\":\"<b>%{hovertext}</b><br><br>Country=%{customdata[0]}<br>size=%{marker.size}<br>iso3c=%{location}<br>COVID-19 deaths=%{customdata[1]}<br>Excess deaths=%{customdata[2]}<br>Excess per 100k=%{customdata[3]}<extra></extra>\",\"hovertext\":[\"Taiwan\"],\"legendgroup\":\"Taiwan\",\"locations\":[\"TWN\"],\"marker\":{\"color\":\"#00cc96\",\"size\":[87.3],\"sizemode\":\"area\",\"sizeref\":2.5185,\"symbol\":\"circle\"},\"mode\":\"markers\",\"name\":\"Taiwan\",\"showlegend\":true,\"type\":\"scattergeo\"},{\"customdata\":[[\"Tajikistan\",90,9415,98.7]],\"geo\":\"geo\",\"hovertemplate\":\"<b>%{hovertext}</b><br><br>Country=%{customdata[0]}<br>size=%{marker.size}<br>iso3c=%{location}<br>COVID-19 deaths=%{customdata[1]}<br>Excess deaths=%{customdata[2]}<br>Excess per 100k=%{customdata[3]}<extra></extra>\",\"hovertext\":[\"Tajikistan\"],\"legendgroup\":\"Tajikistan\",\"locations\":[\"TJK\"],\"marker\":{\"color\":\"#ab63fa\",\"size\":[98.7],\"sizemode\":\"area\",\"sizeref\":2.5185,\"symbol\":\"circle\"},\"mode\":\"markers\",\"name\":\"Tajikistan\",\"showlegend\":true,\"type\":\"scattergeo\"},{\"customdata\":[[\"Thailand\",33865,154652,221.6]],\"geo\":\"geo\",\"hovertemplate\":\"<b>%{hovertext}</b><br><br>Country=%{customdata[0]}<br>size=%{marker.size}<br>iso3c=%{location}<br>COVID-19 deaths=%{customdata[1]}<br>Excess deaths=%{customdata[2]}<br>Excess per 100k=%{customdata[3]}<extra></extra>\",\"hovertext\":[\"Thailand\"],\"legendgroup\":\"Thailand\",\"locations\":[\"THA\"],\"marker\":{\"color\":\"#FFA15A\",\"size\":[221.6],\"sizemode\":\"area\",\"sizeref\":2.5185,\"symbol\":\"circle\"},\"mode\":\"markers\",\"name\":\"Thailand\",\"showlegend\":true,\"type\":\"scattergeo\"},{\"customdata\":[[\"Transnistria\",2274,2611,561.3]],\"geo\":\"geo\",\"hovertemplate\":\"<b>%{hovertext}</b><br><br>Country=%{customdata[0]}<br>size=%{marker.size}<br>iso3c=%{location}<br>COVID-19 deaths=%{customdata[1]}<br>Excess deaths=%{customdata[2]}<br>Excess per 100k=%{customdata[3]}<extra></extra>\",\"hovertext\":[\"Transnistria\"],\"legendgroup\":\"Transnistria\",\"locations\":[\"TRA\"],\"marker\":{\"color\":\"#19d3f3\",\"size\":[561.3],\"sizemode\":\"area\",\"sizeref\":2.5185,\"symbol\":\"circle\"},\"mode\":\"markers\",\"name\":\"Transnistria\",\"showlegend\":true,\"type\":\"scattergeo\"},{\"customdata\":[[\"Tunisia\",27784,30835,260.9]],\"geo\":\"geo\",\"hovertemplate\":\"<b>%{hovertext}</b><br><br>Country=%{customdata[0]}<br>size=%{marker.size}<br>iso3c=%{location}<br>COVID-19 deaths=%{customdata[1]}<br>Excess deaths=%{customdata[2]}<br>Excess per 100k=%{customdata[3]}<extra></extra>\",\"hovertext\":[\"Tunisia\"],\"legendgroup\":\"Tunisia\",\"locations\":[\"TUN\"],\"marker\":{\"color\":\"#FF6692\",\"size\":[260.9],\"sizemode\":\"area\",\"sizeref\":2.5185,\"symbol\":\"circle\"},\"mode\":\"markers\",\"name\":\"Tunisia\",\"showlegend\":true,\"type\":\"scattergeo\"},{\"customdata\":[[\"Ukraine\",100395,183524,483.4]],\"geo\":\"geo\",\"hovertemplate\":\"<b>%{hovertext}</b><br><br>Country=%{customdata[0]}<br>size=%{marker.size}<br>iso3c=%{location}<br>COVID-19 deaths=%{customdata[1]}<br>Excess deaths=%{customdata[2]}<br>Excess per 100k=%{customdata[3]}<extra></extra>\",\"hovertext\":[\"Ukraine\"],\"legendgroup\":\"Ukraine\",\"locations\":[\"UKR\"],\"marker\":{\"color\":\"#B6E880\",\"size\":[483.4],\"sizemode\":\"area\",\"sizeref\":2.5185,\"symbol\":\"circle\"},\"mode\":\"markers\",\"name\":\"Ukraine\",\"showlegend\":true,\"type\":\"scattergeo\"},{\"customdata\":[[\"United Kingdom\",204177,199419,293.8]],\"geo\":\"geo\",\"hovertemplate\":\"<b>%{hovertext}</b><br><br>Country=%{customdata[0]}<br>size=%{marker.size}<br>iso3c=%{location}<br>COVID-19 deaths=%{customdata[1]}<br>Excess deaths=%{customdata[2]}<br>Excess per 100k=%{customdata[3]}<extra></extra>\",\"hovertext\":[\"United Kingdom\"],\"legendgroup\":\"United Kingdom\",\"locations\":[\"GBR\"],\"marker\":{\"color\":\"#FF97FF\",\"size\":[293.8],\"sizemode\":\"area\",\"sizeref\":2.5185,\"symbol\":\"circle\"},\"mode\":\"markers\",\"name\":\"United Kingdom\",\"showlegend\":true,\"type\":\"scattergeo\"},{\"customdata\":[[\"United States\",1085127,1284380,388.0]],\"geo\":\"geo\",\"hovertemplate\":\"<b>%{hovertext}</b><br><br>Country=%{customdata[0]}<br>size=%{marker.size}<br>iso3c=%{location}<br>COVID-19 deaths=%{customdata[1]}<br>Excess deaths=%{customdata[2]}<br>Excess per 100k=%{customdata[3]}<extra></extra>\",\"hovertext\":[\"United States\"],\"legendgroup\":\"United States\",\"locations\":[\"USA\"],\"marker\":{\"color\":\"#FECB52\",\"size\":[388.0],\"sizemode\":\"area\",\"sizeref\":2.5185,\"symbol\":\"circle\"},\"mode\":\"markers\",\"name\":\"United States\",\"showlegend\":true,\"type\":\"scattergeo\"},{\"customdata\":[[\"Uruguay\",7537,7250,208.7]],\"geo\":\"geo\",\"hovertemplate\":\"<b>%{hovertext}</b><br><br>Country=%{customdata[0]}<br>size=%{marker.size}<br>iso3c=%{location}<br>COVID-19 deaths=%{customdata[1]}<br>Excess deaths=%{customdata[2]}<br>Excess per 100k=%{customdata[3]}<extra></extra>\",\"hovertext\":[\"Uruguay\"],\"legendgroup\":\"Uruguay\",\"locations\":[\"URY\"],\"marker\":{\"color\":\"#636efa\",\"size\":[208.7],\"sizemode\":\"area\",\"sizeref\":2.5185,\"symbol\":\"circle\"},\"mode\":\"markers\",\"name\":\"Uruguay\",\"showlegend\":true,\"type\":\"scattergeo\"},{\"customdata\":[[\"Uzbekistan\",1637,48778,145.7]],\"geo\":\"geo\",\"hovertemplate\":\"<b>%{hovertext}</b><br><br>Country=%{customdata[0]}<br>size=%{marker.size}<br>iso3c=%{location}<br>COVID-19 deaths=%{customdata[1]}<br>Excess deaths=%{customdata[2]}<br>Excess per 100k=%{customdata[3]}<extra></extra>\",\"hovertext\":[\"Uzbekistan\"],\"legendgroup\":\"Uzbekistan\",\"locations\":[\"UZB\"],\"marker\":{\"color\":\"#EF553B\",\"size\":[145.7],\"sizemode\":\"area\",\"sizeref\":2.5185,\"symbol\":\"circle\"},\"mode\":\"markers\",\"name\":\"Uzbekistan\",\"showlegend\":true,\"type\":\"scattergeo\"}],                        {\"template\":{\"data\":{\"histogram2dcontour\":[{\"type\":\"histogram2dcontour\",\"colorbar\":{\"outlinewidth\":0,\"ticks\":\"\"},\"colorscale\":[[0.0,\"#0d0887\"],[0.1111111111111111,\"#46039f\"],[0.2222222222222222,\"#7201a8\"],[0.3333333333333333,\"#9c179e\"],[0.4444444444444444,\"#bd3786\"],[0.5555555555555556,\"#d8576b\"],[0.6666666666666666,\"#ed7953\"],[0.7777777777777778,\"#fb9f3a\"],[0.8888888888888888,\"#fdca26\"],[1.0,\"#f0f921\"]]}],\"choropleth\":[{\"type\":\"choropleth\",\"colorbar\":{\"outlinewidth\":0,\"ticks\":\"\"}}],\"histogram2d\":[{\"type\":\"histogram2d\",\"colorbar\":{\"outlinewidth\":0,\"ticks\":\"\"},\"colorscale\":[[0.0,\"#0d0887\"],[0.1111111111111111,\"#46039f\"],[0.2222222222222222,\"#7201a8\"],[0.3333333333333333,\"#9c179e\"],[0.4444444444444444,\"#bd3786\"],[0.5555555555555556,\"#d8576b\"],[0.6666666666666666,\"#ed7953\"],[0.7777777777777778,\"#fb9f3a\"],[0.8888888888888888,\"#fdca26\"],[1.0,\"#f0f921\"]]}],\"heatmap\":[{\"type\":\"heatmap\",\"colorbar\":{\"outlinewidth\":0,\"ticks\":\"\"},\"colorscale\":[[0.0,\"#0d0887\"],[0.1111111111111111,\"#46039f\"],[0.2222222222222222,\"#7201a8\"],[0.3333333333333333,\"#9c179e\"],[0.4444444444444444,\"#bd3786\"],[0.5555555555555556,\"#d8576b\"],[0.6666666666666666,\"#ed7953\"],[0.7777777777777778,\"#fb9f3a\"],[0.8888888888888888,\"#fdca26\"],[1.0,\"#f0f921\"]]}],\"heatmapgl\":[{\"type\":\"heatmapgl\",\"colorbar\":{\"outlinewidth\":0,\"ticks\":\"\"},\"colorscale\":[[0.0,\"#0d0887\"],[0.1111111111111111,\"#46039f\"],[0.2222222222222222,\"#7201a8\"],[0.3333333333333333,\"#9c179e\"],[0.4444444444444444,\"#bd3786\"],[0.5555555555555556,\"#d8576b\"],[0.6666666666666666,\"#ed7953\"],[0.7777777777777778,\"#fb9f3a\"],[0.8888888888888888,\"#fdca26\"],[1.0,\"#f0f921\"]]}],\"contourcarpet\":[{\"type\":\"contourcarpet\",\"colorbar\":{\"outlinewidth\":0,\"ticks\":\"\"}}],\"contour\":[{\"type\":\"contour\",\"colorbar\":{\"outlinewidth\":0,\"ticks\":\"\"},\"colorscale\":[[0.0,\"#0d0887\"],[0.1111111111111111,\"#46039f\"],[0.2222222222222222,\"#7201a8\"],[0.3333333333333333,\"#9c179e\"],[0.4444444444444444,\"#bd3786\"],[0.5555555555555556,\"#d8576b\"],[0.6666666666666666,\"#ed7953\"],[0.7777777777777778,\"#fb9f3a\"],[0.8888888888888888,\"#fdca26\"],[1.0,\"#f0f921\"]]}],\"surface\":[{\"type\":\"surface\",\"colorbar\":{\"outlinewidth\":0,\"ticks\":\"\"},\"colorscale\":[[0.0,\"#0d0887\"],[0.1111111111111111,\"#46039f\"],[0.2222222222222222,\"#7201a8\"],[0.3333333333333333,\"#9c179e\"],[0.4444444444444444,\"#bd3786\"],[0.5555555555555556,\"#d8576b\"],[0.6666666666666666,\"#ed7953\"],[0.7777777777777778,\"#fb9f3a\"],[0.8888888888888888,\"#fdca26\"],[1.0,\"#f0f921\"]]}],\"mesh3d\":[{\"type\":\"mesh3d\",\"colorbar\":{\"outlinewidth\":0,\"ticks\":\"\"}}],\"scatter\":[{\"fillpattern\":{\"fillmode\":\"overlay\",\"size\":10,\"solidity\":0.2},\"type\":\"scatter\"}],\"parcoords\":[{\"type\":\"parcoords\",\"line\":{\"colorbar\":{\"outlinewidth\":0,\"ticks\":\"\"}}}],\"scatterpolargl\":[{\"type\":\"scatterpolargl\",\"marker\":{\"colorbar\":{\"outlinewidth\":0,\"ticks\":\"\"}}}],\"bar\":[{\"error_x\":{\"color\":\"#2a3f5f\"},\"error_y\":{\"color\":\"#2a3f5f\"},\"marker\":{\"line\":{\"color\":\"#E5ECF6\",\"width\":0.5},\"pattern\":{\"fillmode\":\"overlay\",\"size\":10,\"solidity\":0.2}},\"type\":\"bar\"}],\"scattergeo\":[{\"type\":\"scattergeo\",\"marker\":{\"colorbar\":{\"outlinewidth\":0,\"ticks\":\"\"}}}],\"scatterpolar\":[{\"type\":\"scatterpolar\",\"marker\":{\"colorbar\":{\"outlinewidth\":0,\"ticks\":\"\"}}}],\"histogram\":[{\"marker\":{\"pattern\":{\"fillmode\":\"overlay\",\"size\":10,\"solidity\":0.2}},\"type\":\"histogram\"}],\"scattergl\":[{\"type\":\"scattergl\",\"marker\":{\"colorbar\":{\"outlinewidth\":0,\"ticks\":\"\"}}}],\"scatter3d\":[{\"type\":\"scatter3d\",\"line\":{\"colorbar\":{\"outlinewidth\":0,\"ticks\":\"\"}},\"marker\":{\"colorbar\":{\"outlinewidth\":0,\"ticks\":\"\"}}}],\"scattermapbox\":[{\"type\":\"scattermapbox\",\"marker\":{\"colorbar\":{\"outlinewidth\":0,\"ticks\":\"\"}}}],\"scatterternary\":[{\"type\":\"scatterternary\",\"marker\":{\"colorbar\":{\"outlinewidth\":0,\"ticks\":\"\"}}}],\"scattercarpet\":[{\"type\":\"scattercarpet\",\"marker\":{\"colorbar\":{\"outlinewidth\":0,\"ticks\":\"\"}}}],\"carpet\":[{\"aaxis\":{\"endlinecolor\":\"#2a3f5f\",\"gridcolor\":\"white\",\"linecolor\":\"white\",\"minorgridcolor\":\"white\",\"startlinecolor\":\"#2a3f5f\"},\"baxis\":{\"endlinecolor\":\"#2a3f5f\",\"gridcolor\":\"white\",\"linecolor\":\"white\",\"minorgridcolor\":\"white\",\"startlinecolor\":\"#2a3f5f\"},\"type\":\"carpet\"}],\"table\":[{\"cells\":{\"fill\":{\"color\":\"#EBF0F8\"},\"line\":{\"color\":\"white\"}},\"header\":{\"fill\":{\"color\":\"#C8D4E3\"},\"line\":{\"color\":\"white\"}},\"type\":\"table\"}],\"barpolar\":[{\"marker\":{\"line\":{\"color\":\"#E5ECF6\",\"width\":0.5},\"pattern\":{\"fillmode\":\"overlay\",\"size\":10,\"solidity\":0.2}},\"type\":\"barpolar\"}],\"pie\":[{\"automargin\":true,\"type\":\"pie\"}]},\"layout\":{\"autotypenumbers\":\"strict\",\"colorway\":[\"#636efa\",\"#EF553B\",\"#00cc96\",\"#ab63fa\",\"#FFA15A\",\"#19d3f3\",\"#FF6692\",\"#B6E880\",\"#FF97FF\",\"#FECB52\"],\"font\":{\"color\":\"#2a3f5f\"},\"hovermode\":\"closest\",\"hoverlabel\":{\"align\":\"left\"},\"paper_bgcolor\":\"white\",\"plot_bgcolor\":\"#E5ECF6\",\"polar\":{\"bgcolor\":\"#E5ECF6\",\"angularaxis\":{\"gridcolor\":\"white\",\"linecolor\":\"white\",\"ticks\":\"\"},\"radialaxis\":{\"gridcolor\":\"white\",\"linecolor\":\"white\",\"ticks\":\"\"}},\"ternary\":{\"bgcolor\":\"#E5ECF6\",\"aaxis\":{\"gridcolor\":\"white\",\"linecolor\":\"white\",\"ticks\":\"\"},\"baxis\":{\"gridcolor\":\"white\",\"linecolor\":\"white\",\"ticks\":\"\"},\"caxis\":{\"gridcolor\":\"white\",\"linecolor\":\"white\",\"ticks\":\"\"}},\"coloraxis\":{\"colorbar\":{\"outlinewidth\":0,\"ticks\":\"\"}},\"colorscale\":{\"sequential\":[[0.0,\"#0d0887\"],[0.1111111111111111,\"#46039f\"],[0.2222222222222222,\"#7201a8\"],[0.3333333333333333,\"#9c179e\"],[0.4444444444444444,\"#bd3786\"],[0.5555555555555556,\"#d8576b\"],[0.6666666666666666,\"#ed7953\"],[0.7777777777777778,\"#fb9f3a\"],[0.8888888888888888,\"#fdca26\"],[1.0,\"#f0f921\"]],\"sequentialminus\":[[0.0,\"#0d0887\"],[0.1111111111111111,\"#46039f\"],[0.2222222222222222,\"#7201a8\"],[0.3333333333333333,\"#9c179e\"],[0.4444444444444444,\"#bd3786\"],[0.5555555555555556,\"#d8576b\"],[0.6666666666666666,\"#ed7953\"],[0.7777777777777778,\"#fb9f3a\"],[0.8888888888888888,\"#fdca26\"],[1.0,\"#f0f921\"]],\"diverging\":[[0,\"#8e0152\"],[0.1,\"#c51b7d\"],[0.2,\"#de77ae\"],[0.3,\"#f1b6da\"],[0.4,\"#fde0ef\"],[0.5,\"#f7f7f7\"],[0.6,\"#e6f5d0\"],[0.7,\"#b8e186\"],[0.8,\"#7fbc41\"],[0.9,\"#4d9221\"],[1,\"#276419\"]]},\"xaxis\":{\"gridcolor\":\"white\",\"linecolor\":\"white\",\"ticks\":\"\",\"title\":{\"standoff\":15},\"zerolinecolor\":\"white\",\"automargin\":true,\"zerolinewidth\":2},\"yaxis\":{\"gridcolor\":\"white\",\"linecolor\":\"white\",\"ticks\":\"\",\"title\":{\"standoff\":15},\"zerolinecolor\":\"white\",\"automargin\":true,\"zerolinewidth\":2},\"scene\":{\"xaxis\":{\"backgroundcolor\":\"#E5ECF6\",\"gridcolor\":\"white\",\"linecolor\":\"white\",\"showbackground\":true,\"ticks\":\"\",\"zerolinecolor\":\"white\",\"gridwidth\":2},\"yaxis\":{\"backgroundcolor\":\"#E5ECF6\",\"gridcolor\":\"white\",\"linecolor\":\"white\",\"showbackground\":true,\"ticks\":\"\",\"zerolinecolor\":\"white\",\"gridwidth\":2},\"zaxis\":{\"backgroundcolor\":\"#E5ECF6\",\"gridcolor\":\"white\",\"linecolor\":\"white\",\"showbackground\":true,\"ticks\":\"\",\"zerolinecolor\":\"white\",\"gridwidth\":2}},\"shapedefaults\":{\"line\":{\"color\":\"#2a3f5f\"}},\"annotationdefaults\":{\"arrowcolor\":\"#2a3f5f\",\"arrowhead\":0,\"arrowwidth\":1},\"geo\":{\"bgcolor\":\"white\",\"landcolor\":\"#E5ECF6\",\"subunitcolor\":\"white\",\"showland\":true,\"showlakes\":true,\"lakecolor\":\"white\"},\"title\":{\"x\":0.05},\"mapbox\":{\"style\":\"light\"}}},\"geo\":{\"domain\":{\"x\":[0.0,1.0],\"y\":[0.0,1.0]},\"projection\":{\"type\":\"natural earth\"},\"center\":{}},\"legend\":{\"title\":{\"text\":\"Country\"},\"tracegroupgap\":0,\"itemsizing\":\"constant\"},\"title\":{\"text\":\"COVID-19\"}},                        {\"responsive\": true}                    ).then(function(){\n",
       "                            \n",
       "var gd = document.getElementById('da109d11-62fb-4029-a2ad-389944088400');\n",
       "var x = new MutationObserver(function (mutations, observer) {{\n",
       "        var display = window.getComputedStyle(gd).display;\n",
       "        if (!display || display === 'none') {{\n",
       "            console.log([gd, 'removed!']);\n",
       "            Plotly.purge(gd);\n",
       "            observer.disconnect();\n",
       "        }}\n",
       "}});\n",
       "\n",
       "// Listen for the removal of the full notebook cells\n",
       "var notebookContainer = gd.closest('#notebook-container');\n",
       "if (notebookContainer) {{\n",
       "    x.observe(notebookContainer, {childList: true});\n",
       "}}\n",
       "\n",
       "// Listen for the clearing of the current output cell\n",
       "var outputEl = gd.closest('.output');\n",
       "if (outputEl) {{\n",
       "    x.observe(outputEl, {childList: true});\n",
       "}}\n",
       "\n",
       "                        })                };                });            </script>        </div>"
      ]
     },
     "metadata": {},
     "output_type": "display_data"
    }
   ],
   "source": [
    "fig=px.scatter_geo(excess_mortality, locations='iso3c', color='Country',\n",
    "                         hover_name='Country', hover_data = ['Country', 'COVID-19 deaths', 'Excess deaths', 'Excess per 100k'], size='size', \n",
    "                         projection='natural earth', title='COVID-19')\n",
    "fig.show()"
   ]
  },
  {
   "cell_type": "code",
   "execution_count": 133,
   "id": "2a7fb6a1",
   "metadata": {},
   "outputs": [],
   "source": [
    "nutrition_percent = pd.read_csv(\"https://github.com/5htplife/dataforexamen1/raw/main/nutrition_percent.csv\")"
   ]
  },
  {
   "cell_type": "code",
   "execution_count": 134,
   "id": "00fb1022",
   "metadata": {},
   "outputs": [
    {
     "data": {
      "text/html": [
       "<div>\n",
       "<style scoped>\n",
       "    .dataframe tbody tr th:only-of-type {\n",
       "        vertical-align: middle;\n",
       "    }\n",
       "\n",
       "    .dataframe tbody tr th {\n",
       "        vertical-align: top;\n",
       "    }\n",
       "\n",
       "    .dataframe thead th {\n",
       "        text-align: right;\n",
       "    }\n",
       "</style>\n",
       "<table border=\"1\" class=\"dataframe\">\n",
       "  <thead>\n",
       "    <tr style=\"text-align: right;\">\n",
       "      <th></th>\n",
       "      <th>Unnamed: 0.1</th>\n",
       "      <th>Unnamed: 0</th>\n",
       "      <th>iso3</th>\n",
       "      <th>age</th>\n",
       "      <th>female</th>\n",
       "      <th>urban</th>\n",
       "      <th>edu</th>\n",
       "      <th>year</th>\n",
       "      <th>Vitamin B9</th>\n",
       "      <th>Vitamin B3</th>\n",
       "      <th>...</th>\n",
       "      <th>Unprocessed red meats</th>\n",
       "      <th>Total processed meats</th>\n",
       "      <th>Whole grains</th>\n",
       "      <th>Refined grains</th>\n",
       "      <th>nuts and seeds</th>\n",
       "      <th>beans and legumes</th>\n",
       "      <th>potatoes</th>\n",
       "      <th>non-starchy vegetables</th>\n",
       "      <th>fruits</th>\n",
       "      <th>sum_food</th>\n",
       "    </tr>\n",
       "  </thead>\n",
       "  <tbody>\n",
       "    <tr>\n",
       "      <th>0</th>\n",
       "      <td>563</td>\n",
       "      <td>563</td>\n",
       "      <td>AFG</td>\n",
       "      <td>999.0</td>\n",
       "      <td>999</td>\n",
       "      <td>999</td>\n",
       "      <td>999</td>\n",
       "      <td>2018</td>\n",
       "      <td>1.104237</td>\n",
       "      <td>13.506114</td>\n",
       "      <td>...</td>\n",
       "      <td>0.011099</td>\n",
       "      <td>0.002860</td>\n",
       "      <td>0.053065</td>\n",
       "      <td>0.285162</td>\n",
       "      <td>0.039874</td>\n",
       "      <td>0.132673</td>\n",
       "      <td>0.027084</td>\n",
       "      <td>0.125325</td>\n",
       "      <td>0.083947</td>\n",
       "      <td>782.603676</td>\n",
       "    </tr>\n",
       "    <tr>\n",
       "      <th>1</th>\n",
       "      <td>1127</td>\n",
       "      <td>1127</td>\n",
       "      <td>AGO</td>\n",
       "      <td>999.0</td>\n",
       "      <td>999</td>\n",
       "      <td>999</td>\n",
       "      <td>999</td>\n",
       "      <td>2018</td>\n",
       "      <td>1.674145</td>\n",
       "      <td>13.458252</td>\n",
       "      <td>...</td>\n",
       "      <td>0.012470</td>\n",
       "      <td>0.001274</td>\n",
       "      <td>0.039993</td>\n",
       "      <td>0.155437</td>\n",
       "      <td>0.008064</td>\n",
       "      <td>0.026249</td>\n",
       "      <td>0.240530</td>\n",
       "      <td>0.214461</td>\n",
       "      <td>0.083154</td>\n",
       "      <td>1440.060007</td>\n",
       "    </tr>\n",
       "    <tr>\n",
       "      <th>2</th>\n",
       "      <td>1691</td>\n",
       "      <td>1691</td>\n",
       "      <td>ALB</td>\n",
       "      <td>999.0</td>\n",
       "      <td>999</td>\n",
       "      <td>999</td>\n",
       "      <td>999</td>\n",
       "      <td>2018</td>\n",
       "      <td>2.299154</td>\n",
       "      <td>29.577227</td>\n",
       "      <td>...</td>\n",
       "      <td>0.030839</td>\n",
       "      <td>0.033331</td>\n",
       "      <td>0.014167</td>\n",
       "      <td>0.114744</td>\n",
       "      <td>0.005570</td>\n",
       "      <td>0.018237</td>\n",
       "      <td>0.084321</td>\n",
       "      <td>0.058587</td>\n",
       "      <td>0.063030</td>\n",
       "      <td>2203.290918</td>\n",
       "    </tr>\n",
       "    <tr>\n",
       "      <th>3</th>\n",
       "      <td>2255</td>\n",
       "      <td>2255</td>\n",
       "      <td>ARE</td>\n",
       "      <td>999.0</td>\n",
       "      <td>999</td>\n",
       "      <td>999</td>\n",
       "      <td>999</td>\n",
       "      <td>2018</td>\n",
       "      <td>1.363786</td>\n",
       "      <td>23.532757</td>\n",
       "      <td>...</td>\n",
       "      <td>0.021440</td>\n",
       "      <td>0.027963</td>\n",
       "      <td>0.027093</td>\n",
       "      <td>0.246066</td>\n",
       "      <td>0.023124</td>\n",
       "      <td>0.029562</td>\n",
       "      <td>0.133346</td>\n",
       "      <td>0.089847</td>\n",
       "      <td>0.078400</td>\n",
       "      <td>1372.162094</td>\n",
       "    </tr>\n",
       "    <tr>\n",
       "      <th>4</th>\n",
       "      <td>2819</td>\n",
       "      <td>2819</td>\n",
       "      <td>ARG</td>\n",
       "      <td>999.0</td>\n",
       "      <td>999</td>\n",
       "      <td>999</td>\n",
       "      <td>999</td>\n",
       "      <td>2018</td>\n",
       "      <td>1.225320</td>\n",
       "      <td>18.262302</td>\n",
       "      <td>...</td>\n",
       "      <td>0.084880</td>\n",
       "      <td>0.023344</td>\n",
       "      <td>0.010438</td>\n",
       "      <td>0.168286</td>\n",
       "      <td>0.001511</td>\n",
       "      <td>0.003451</td>\n",
       "      <td>0.049557</td>\n",
       "      <td>0.119512</td>\n",
       "      <td>0.090738</td>\n",
       "      <td>1035.903086</td>\n",
       "    </tr>\n",
       "    <tr>\n",
       "      <th>...</th>\n",
       "      <td>...</td>\n",
       "      <td>...</td>\n",
       "      <td>...</td>\n",
       "      <td>...</td>\n",
       "      <td>...</td>\n",
       "      <td>...</td>\n",
       "      <td>...</td>\n",
       "      <td>...</td>\n",
       "      <td>...</td>\n",
       "      <td>...</td>\n",
       "      <td>...</td>\n",
       "      <td>...</td>\n",
       "      <td>...</td>\n",
       "      <td>...</td>\n",
       "      <td>...</td>\n",
       "      <td>...</td>\n",
       "      <td>...</td>\n",
       "      <td>...</td>\n",
       "      <td>...</td>\n",
       "      <td>...</td>\n",
       "      <td>...</td>\n",
       "    </tr>\n",
       "    <tr>\n",
       "      <th>180</th>\n",
       "      <td>102083</td>\n",
       "      <td>102083</td>\n",
       "      <td>WSM</td>\n",
       "      <td>999.0</td>\n",
       "      <td>999</td>\n",
       "      <td>999</td>\n",
       "      <td>999</td>\n",
       "      <td>2018</td>\n",
       "      <td>1.211559</td>\n",
       "      <td>14.991218</td>\n",
       "      <td>...</td>\n",
       "      <td>0.019954</td>\n",
       "      <td>0.016309</td>\n",
       "      <td>0.007107</td>\n",
       "      <td>0.112163</td>\n",
       "      <td>0.017441</td>\n",
       "      <td>0.154550</td>\n",
       "      <td>0.008802</td>\n",
       "      <td>0.225001</td>\n",
       "      <td>0.093844</td>\n",
       "      <td>1495.019612</td>\n",
       "    </tr>\n",
       "    <tr>\n",
       "      <th>181</th>\n",
       "      <td>102647</td>\n",
       "      <td>102647</td>\n",
       "      <td>YEM</td>\n",
       "      <td>999.0</td>\n",
       "      <td>999</td>\n",
       "      <td>999</td>\n",
       "      <td>999</td>\n",
       "      <td>2018</td>\n",
       "      <td>1.756198</td>\n",
       "      <td>21.005360</td>\n",
       "      <td>...</td>\n",
       "      <td>0.016906</td>\n",
       "      <td>0.015372</td>\n",
       "      <td>0.015864</td>\n",
       "      <td>0.188620</td>\n",
       "      <td>0.002645</td>\n",
       "      <td>0.022525</td>\n",
       "      <td>0.062806</td>\n",
       "      <td>0.045636</td>\n",
       "      <td>0.030671</td>\n",
       "      <td>1282.551337</td>\n",
       "    </tr>\n",
       "    <tr>\n",
       "      <th>182</th>\n",
       "      <td>103211</td>\n",
       "      <td>103211</td>\n",
       "      <td>ZAF</td>\n",
       "      <td>999.0</td>\n",
       "      <td>999</td>\n",
       "      <td>999</td>\n",
       "      <td>999</td>\n",
       "      <td>2018</td>\n",
       "      <td>1.246154</td>\n",
       "      <td>17.290615</td>\n",
       "      <td>...</td>\n",
       "      <td>0.129088</td>\n",
       "      <td>0.015328</td>\n",
       "      <td>0.060142</td>\n",
       "      <td>0.198939</td>\n",
       "      <td>0.000199</td>\n",
       "      <td>0.028298</td>\n",
       "      <td>0.048126</td>\n",
       "      <td>0.115622</td>\n",
       "      <td>0.028658</td>\n",
       "      <td>1139.932830</td>\n",
       "    </tr>\n",
       "    <tr>\n",
       "      <th>183</th>\n",
       "      <td>103775</td>\n",
       "      <td>103775</td>\n",
       "      <td>ZMB</td>\n",
       "      <td>999.0</td>\n",
       "      <td>999</td>\n",
       "      <td>999</td>\n",
       "      <td>999</td>\n",
       "      <td>2018</td>\n",
       "      <td>1.419700</td>\n",
       "      <td>13.387016</td>\n",
       "      <td>...</td>\n",
       "      <td>0.048889</td>\n",
       "      <td>0.014573</td>\n",
       "      <td>0.062427</td>\n",
       "      <td>0.267260</td>\n",
       "      <td>0.022042</td>\n",
       "      <td>0.023073</td>\n",
       "      <td>0.025829</td>\n",
       "      <td>0.219404</td>\n",
       "      <td>0.057368</td>\n",
       "      <td>892.228103</td>\n",
       "    </tr>\n",
       "    <tr>\n",
       "      <th>184</th>\n",
       "      <td>104339</td>\n",
       "      <td>104339</td>\n",
       "      <td>ZWE</td>\n",
       "      <td>999.0</td>\n",
       "      <td>999</td>\n",
       "      <td>999</td>\n",
       "      <td>999</td>\n",
       "      <td>2018</td>\n",
       "      <td>1.510986</td>\n",
       "      <td>15.817289</td>\n",
       "      <td>...</td>\n",
       "      <td>0.025285</td>\n",
       "      <td>0.007183</td>\n",
       "      <td>0.135683</td>\n",
       "      <td>0.173694</td>\n",
       "      <td>0.002784</td>\n",
       "      <td>0.016842</td>\n",
       "      <td>0.039984</td>\n",
       "      <td>0.125740</td>\n",
       "      <td>0.074226</td>\n",
       "      <td>1123.229518</td>\n",
       "    </tr>\n",
       "  </tbody>\n",
       "</table>\n",
       "<p>185 rows × 54 columns</p>\n",
       "</div>"
      ],
      "text/plain": [
       "     Unnamed: 0.1  Unnamed: 0 iso3    age  female  urban  edu  year  \\\n",
       "0             563         563  AFG  999.0     999    999  999  2018   \n",
       "1            1127        1127  AGO  999.0     999    999  999  2018   \n",
       "2            1691        1691  ALB  999.0     999    999  999  2018   \n",
       "3            2255        2255  ARE  999.0     999    999  999  2018   \n",
       "4            2819        2819  ARG  999.0     999    999  999  2018   \n",
       "..            ...         ...  ...    ...     ...    ...  ...   ...   \n",
       "180        102083      102083  WSM  999.0     999    999  999  2018   \n",
       "181        102647      102647  YEM  999.0     999    999  999  2018   \n",
       "182        103211      103211  ZAF  999.0     999    999  999  2018   \n",
       "183        103775      103775  ZMB  999.0     999    999  999  2018   \n",
       "184        104339      104339  ZWE  999.0     999    999  999  2018   \n",
       "\n",
       "     Vitamin B9  Vitamin B3  ...  Unprocessed red meats  \\\n",
       "0      1.104237   13.506114  ...               0.011099   \n",
       "1      1.674145   13.458252  ...               0.012470   \n",
       "2      2.299154   29.577227  ...               0.030839   \n",
       "3      1.363786   23.532757  ...               0.021440   \n",
       "4      1.225320   18.262302  ...               0.084880   \n",
       "..          ...         ...  ...                    ...   \n",
       "180    1.211559   14.991218  ...               0.019954   \n",
       "181    1.756198   21.005360  ...               0.016906   \n",
       "182    1.246154   17.290615  ...               0.129088   \n",
       "183    1.419700   13.387016  ...               0.048889   \n",
       "184    1.510986   15.817289  ...               0.025285   \n",
       "\n",
       "     Total processed meats  Whole grains  Refined grains  nuts and seeds  \\\n",
       "0                 0.002860      0.053065        0.285162        0.039874   \n",
       "1                 0.001274      0.039993        0.155437        0.008064   \n",
       "2                 0.033331      0.014167        0.114744        0.005570   \n",
       "3                 0.027963      0.027093        0.246066        0.023124   \n",
       "4                 0.023344      0.010438        0.168286        0.001511   \n",
       "..                     ...           ...             ...             ...   \n",
       "180               0.016309      0.007107        0.112163        0.017441   \n",
       "181               0.015372      0.015864        0.188620        0.002645   \n",
       "182               0.015328      0.060142        0.198939        0.000199   \n",
       "183               0.014573      0.062427        0.267260        0.022042   \n",
       "184               0.007183      0.135683        0.173694        0.002784   \n",
       "\n",
       "     beans and legumes  potatoes  non-starchy vegetables    fruits  \\\n",
       "0             0.132673  0.027084                0.125325  0.083947   \n",
       "1             0.026249  0.240530                0.214461  0.083154   \n",
       "2             0.018237  0.084321                0.058587  0.063030   \n",
       "3             0.029562  0.133346                0.089847  0.078400   \n",
       "4             0.003451  0.049557                0.119512  0.090738   \n",
       "..                 ...       ...                     ...       ...   \n",
       "180           0.154550  0.008802                0.225001  0.093844   \n",
       "181           0.022525  0.062806                0.045636  0.030671   \n",
       "182           0.028298  0.048126                0.115622  0.028658   \n",
       "183           0.023073  0.025829                0.219404  0.057368   \n",
       "184           0.016842  0.039984                0.125740  0.074226   \n",
       "\n",
       "        sum_food  \n",
       "0     782.603676  \n",
       "1    1440.060007  \n",
       "2    2203.290918  \n",
       "3    1372.162094  \n",
       "4    1035.903086  \n",
       "..           ...  \n",
       "180  1495.019612  \n",
       "181  1282.551337  \n",
       "182  1139.932830  \n",
       "183   892.228103  \n",
       "184  1123.229518  \n",
       "\n",
       "[185 rows x 54 columns]"
      ]
     },
     "execution_count": 134,
     "metadata": {},
     "output_type": "execute_result"
    }
   ],
   "source": [
    "nutrition_percent = nutrition_percent.merge()"
   ]
  },
  {
   "cell_type": "code",
   "execution_count": 139,
   "id": "faedda02",
   "metadata": {},
   "outputs": [],
   "source": [
    "iso3 = pd.read_excel(\"/Users/irina/Downloads/iso3.xlsx\")"
   ]
  },
  {
   "cell_type": "code",
   "execution_count": 141,
   "id": "9da1a945",
   "metadata": {},
   "outputs": [],
   "source": [
    "nutrition_percent = nutrition_percent.merge(iso3, on = 'iso3')"
   ]
  },
  {
   "cell_type": "code",
   "execution_count": 146,
   "id": "d0f4bcc5",
   "metadata": {},
   "outputs": [],
   "source": [
    "nutrition_percent = nutrition_percent.drop(columns = ['Unnamed: 0.1', 'Unnamed: 0'])"
   ]
  },
  {
   "cell_type": "code",
   "execution_count": 148,
   "id": "be07aba4",
   "metadata": {},
   "outputs": [],
   "source": [
    "nutrition_percent.to_csv(\"/Users/irina/Downloads/nutrition_percent.csv\")"
   ]
  },
  {
   "cell_type": "code",
   "execution_count": 150,
   "id": "4e8c131e",
   "metadata": {},
   "outputs": [
    {
     "data": {
      "text/html": [
       "<div>\n",
       "<style scoped>\n",
       "    .dataframe tbody tr th:only-of-type {\n",
       "        vertical-align: middle;\n",
       "    }\n",
       "\n",
       "    .dataframe tbody tr th {\n",
       "        vertical-align: top;\n",
       "    }\n",
       "\n",
       "    .dataframe thead th {\n",
       "        text-align: right;\n",
       "    }\n",
       "</style>\n",
       "<table border=\"1\" class=\"dataframe\">\n",
       "  <thead>\n",
       "    <tr style=\"text-align: right;\">\n",
       "      <th></th>\n",
       "      <th>country</th>\n",
       "    </tr>\n",
       "  </thead>\n",
       "  <tbody>\n",
       "    <tr>\n",
       "      <th>0</th>\n",
       "      <td>Afghanistan</td>\n",
       "    </tr>\n",
       "    <tr>\n",
       "      <th>1</th>\n",
       "      <td>Angola</td>\n",
       "    </tr>\n",
       "    <tr>\n",
       "      <th>2</th>\n",
       "      <td>Albania</td>\n",
       "    </tr>\n",
       "    <tr>\n",
       "      <th>3</th>\n",
       "      <td>United Arab Emirates</td>\n",
       "    </tr>\n",
       "    <tr>\n",
       "      <th>4</th>\n",
       "      <td>Argentina</td>\n",
       "    </tr>\n",
       "    <tr>\n",
       "      <th>...</th>\n",
       "      <td>...</td>\n",
       "    </tr>\n",
       "    <tr>\n",
       "      <th>179</th>\n",
       "      <td>Samoa</td>\n",
       "    </tr>\n",
       "    <tr>\n",
       "      <th>180</th>\n",
       "      <td>Yemen</td>\n",
       "    </tr>\n",
       "    <tr>\n",
       "      <th>181</th>\n",
       "      <td>South Africa</td>\n",
       "    </tr>\n",
       "    <tr>\n",
       "      <th>182</th>\n",
       "      <td>Zambia</td>\n",
       "    </tr>\n",
       "    <tr>\n",
       "      <th>183</th>\n",
       "      <td>Zimbabwe</td>\n",
       "    </tr>\n",
       "  </tbody>\n",
       "</table>\n",
       "<p>184 rows × 1 columns</p>\n",
       "</div>"
      ],
      "text/plain": [
       "                  country\n",
       "0             Afghanistan\n",
       "1                  Angola\n",
       "2                 Albania\n",
       "3    United Arab Emirates\n",
       "4               Argentina\n",
       "..                    ...\n",
       "179                 Samoa\n",
       "180                 Yemen\n",
       "181          South Africa\n",
       "182                Zambia\n",
       "183              Zimbabwe\n",
       "\n",
       "[184 rows x 1 columns]"
      ]
     },
     "execution_count": 150,
     "metadata": {},
     "output_type": "execute_result"
    }
   ],
   "source": [
    "nutrition_percent[['country']]"
   ]
  },
  {
   "cell_type": "code",
   "execution_count": 153,
   "id": "6f995491",
   "metadata": {},
   "outputs": [
    {
     "data": {
      "text/plain": [
       "0               Afghanistan\n",
       "1                    Angola\n",
       "2                   Albania\n",
       "3      United Arab Emirates\n",
       "4                 Argentina\n",
       "               ...         \n",
       "179                   Samoa\n",
       "180                   Yemen\n",
       "181            South Africa\n",
       "182                  Zambia\n",
       "183                Zimbabwe\n",
       "Name: country, Length: 184, dtype: object"
      ]
     },
     "execution_count": 153,
     "metadata": {},
     "output_type": "execute_result"
    }
   ],
   "source": [
    "nutrition_percent['country'].astype(str)"
   ]
  },
  {
   "cell_type": "code",
   "execution_count": null,
   "id": "bb7823c0",
   "metadata": {},
   "outputs": [],
   "source": []
  }
 ],
 "metadata": {
  "kernelspec": {
   "display_name": "Python 3 (ipykernel)",
   "language": "python",
   "name": "python3"
  },
  "language_info": {
   "codemirror_mode": {
    "name": "ipython",
    "version": 3
   },
   "file_extension": ".py",
   "mimetype": "text/x-python",
   "name": "python",
   "nbconvert_exporter": "python",
   "pygments_lexer": "ipython3",
   "version": "3.9.7"
  }
 },
 "nbformat": 4,
 "nbformat_minor": 5
}
